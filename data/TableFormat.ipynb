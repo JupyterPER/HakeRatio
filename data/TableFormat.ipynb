{
 "cells": [
  {
   "cell_type": "markdown",
   "id": "9b93e2a3-1c11-4709-bc9c-d9ee04423323",
   "metadata": {
    "execution": {
     "iopub.execute_input": "2024-11-15T12:21:10.416907Z",
     "iopub.status.busy": "2024-11-15T12:21:10.416907Z",
     "iopub.status.idle": "2024-11-15T12:21:10.418913Z",
     "shell.execute_reply": "2024-11-15T12:21:10.418913Z",
     "shell.execute_reply.started": "2024-11-15T12:21:10.416907Z"
    }
   },
   "source": [
    "# Table format of results"
   ]
  },
  {
   "cell_type": "code",
   "execution_count": 1,
   "id": "cee240fe-6c77-4e76-9749-2b0598f57919",
   "metadata": {
    "execution": {
     "iopub.execute_input": "2024-11-18T22:00:02.087967Z",
     "iopub.status.busy": "2024-11-18T22:00:02.087517Z",
     "iopub.status.idle": "2024-11-18T22:00:02.095418Z",
     "shell.execute_reply": "2024-11-18T22:00:02.095418Z",
     "shell.execute_reply.started": "2024-11-18T22:00:02.087967Z"
    }
   },
   "outputs": [
    {
     "data": {
      "text/plain": [
       "['MTB-perfStats-N1000-2024_11-17-15_37_58.xlsx']"
      ]
     },
     "execution_count": 1,
     "metadata": {},
     "output_type": "execute_result"
    }
   ],
   "source": [
    "# Read names of all Excel files in the working directory into a list\n",
    "excel_files = [f for f in os.listdir() if ('2024' in f) and f.endswith('.xlsx')]\n",
    "excel_files"
   ]
  },
  {
   "cell_type": "code",
   "execution_count": 2,
   "id": "5871b76f-30b3-4add-916b-9f6e4e62240f",
   "metadata": {
    "execution": {
     "iopub.execute_input": "2024-11-18T22:00:02.095418Z",
     "iopub.status.busy": "2024-11-18T22:00:02.095418Z",
     "iopub.status.idle": "2024-11-18T22:00:02.100563Z",
     "shell.execute_reply": "2024-11-18T22:00:02.100563Z",
     "shell.execute_reply.started": "2024-11-18T22:00:02.095418Z"
    }
   },
   "outputs": [],
   "source": [
    "file = f'MTB-perfStats_11-15.xlsx'"
   ]
  },
  {
   "cell_type": "code",
   "execution_count": 3,
   "id": "5911db03-c5df-4a9d-bbc8-7fa78ff82c05",
   "metadata": {
    "execution": {
     "iopub.execute_input": "2024-11-18T22:00:02.100563Z",
     "iopub.status.busy": "2024-11-18T22:00:02.100563Z",
     "iopub.status.idle": "2024-11-18T22:00:02.105783Z",
     "shell.execute_reply": "2024-11-18T22:00:02.105727Z",
     "shell.execute_reply.started": "2024-11-18T22:00:02.100563Z"
    }
   },
   "outputs": [
    {
     "data": {
      "text/plain": [
       "'MTB-perfStats-N1000-2024_11-17-15_37_58.xlsx'"
      ]
     },
     "execution_count": 3,
     "metadata": {},
     "output_type": "execute_result"
    }
   ],
   "source": [
    "# Read an xlsx file into a pandas DataFrame\n",
    "fileC = excel_files[0]\n",
    "fileC"
   ]
  },
  {
   "cell_type": "code",
   "execution_count": 4,
   "id": "297aa5a1-fac6-4c6b-a215-8364d7cb95d4",
   "metadata": {
    "execution": {
     "iopub.execute_input": "2024-11-18T22:00:02.106734Z",
     "iopub.status.busy": "2024-11-18T22:00:02.106734Z",
     "iopub.status.idle": "2024-11-18T22:00:02.116303Z",
     "shell.execute_reply": "2024-11-18T22:00:02.116237Z",
     "shell.execute_reply.started": "2024-11-18T22:00:02.106734Z"
    }
   },
   "outputs": [],
   "source": [
    "dfr = pd.read_excel(fileC)"
   ]
  },
  {
   "cell_type": "code",
   "execution_count": 5,
   "id": "e6b99721-b113-4fe2-b392-a9953fc398c8",
   "metadata": {
    "execution": {
     "iopub.execute_input": "2024-11-18T22:00:02.117242Z",
     "iopub.status.busy": "2024-11-18T22:00:02.116303Z",
     "iopub.status.idle": "2024-11-18T22:00:02.128780Z",
     "shell.execute_reply": "2024-11-18T22:00:02.128780Z",
     "shell.execute_reply.started": "2024-11-18T22:00:02.117242Z"
    }
   },
   "outputs": [
    {
     "data": {
      "text/html": [
       "<div>\n",
       "<style scoped>\n",
       "    .dataframe tbody tr th:only-of-type {\n",
       "        vertical-align: middle;\n",
       "    }\n",
       "\n",
       "    .dataframe tbody tr th {\n",
       "        vertical-align: top;\n",
       "    }\n",
       "\n",
       "    .dataframe thead th {\n",
       "        text-align: right;\n",
       "    }\n",
       "</style>\n",
       "<table border=\"1\" class=\"dataframe\">\n",
       "  <thead>\n",
       "    <tr style=\"text-align: right;\">\n",
       "      <th></th>\n",
       "      <th>method_1</th>\n",
       "      <th>method_2</th>\n",
       "      <th>method_3</th>\n",
       "      <th>method_4</th>\n",
       "      <th>method_5</th>\n",
       "      <th>method_6</th>\n",
       "      <th>rt_1</th>\n",
       "      <th>rt_2</th>\n",
       "      <th>rt_3</th>\n",
       "      <th>rt_4</th>\n",
       "      <th>...</th>\n",
       "      <th>acceleration_3</th>\n",
       "      <th>acceleration_4</th>\n",
       "      <th>acceleration_5</th>\n",
       "      <th>acceleration_6</th>\n",
       "      <th>error_1</th>\n",
       "      <th>error_2</th>\n",
       "      <th>error_3</th>\n",
       "      <th>error_4</th>\n",
       "      <th>error_5</th>\n",
       "      <th>error_6</th>\n",
       "    </tr>\n",
       "  </thead>\n",
       "  <tbody>\n",
       "    <tr>\n",
       "      <th>0</th>\n",
       "      <td>BKB:CC129:Infs:NumDer:1e-03</td>\n",
       "      <td>BKB:CC129:Infs:NumDer:1e-04</td>\n",
       "      <td>BKB:CC129:Infs:NumDer:1e-05</td>\n",
       "      <td>BKB:CC129:Infs:NumDer:1e-06</td>\n",
       "      <td>BKB:CC129:Infs:NumDer:1e-07</td>\n",
       "      <td>BKB:CC129:Infs:NumDer:1e-08</td>\n",
       "      <td>6.797089</td>\n",
       "      <td>7.380624</td>\n",
       "      <td>8.759002</td>\n",
       "      <td>11.641229</td>\n",
       "      <td>...</td>\n",
       "      <td>0.776012</td>\n",
       "      <td>0.583881</td>\n",
       "      <td>0.298716</td>\n",
       "      <td>0.07036</td>\n",
       "      <td>5.268322e-08</td>\n",
       "      <td>1.109490e-08</td>\n",
       "      <td>7.362648e-09</td>\n",
       "      <td>4.999931e-09</td>\n",
       "      <td>4.960281e-09</td>\n",
       "      <td>4.960338e-09</td>\n",
       "    </tr>\n",
       "  </tbody>\n",
       "</table>\n",
       "<p>1 rows × 30 columns</p>\n",
       "</div>"
      ],
      "text/plain": [
       "                      method_1                     method_2  \\\n",
       "0  BKB:CC129:Infs:NumDer:1e-03  BKB:CC129:Infs:NumDer:1e-04   \n",
       "\n",
       "                      method_3                     method_4  \\\n",
       "0  BKB:CC129:Infs:NumDer:1e-05  BKB:CC129:Infs:NumDer:1e-06   \n",
       "\n",
       "                      method_5                     method_6      rt_1  \\\n",
       "0  BKB:CC129:Infs:NumDer:1e-07  BKB:CC129:Infs:NumDer:1e-08  6.797089   \n",
       "\n",
       "       rt_2      rt_3       rt_4  ...  acceleration_3  acceleration_4  \\\n",
       "0  7.380624  8.759002  11.641229  ...        0.776012        0.583881   \n",
       "\n",
       "   acceleration_5  acceleration_6       error_1       error_2       error_3  \\\n",
       "0        0.298716         0.07036  5.268322e-08  1.109490e-08  7.362648e-09   \n",
       "\n",
       "        error_4       error_5       error_6  \n",
       "0  4.999931e-09  4.960281e-09  4.960338e-09  \n",
       "\n",
       "[1 rows x 30 columns]"
      ]
     },
     "execution_count": 5,
     "metadata": {},
     "output_type": "execute_result"
    }
   ],
   "source": [
    "dfr"
   ]
  },
  {
   "cell_type": "code",
   "execution_count": 6,
   "id": "0c011a3a-1b26-41ff-9879-51575274d362",
   "metadata": {
    "execution": {
     "iopub.execute_input": "2024-11-18T22:00:02.128780Z",
     "iopub.status.busy": "2024-11-18T22:00:02.128780Z",
     "iopub.status.idle": "2024-11-18T22:00:02.134213Z",
     "shell.execute_reply": "2024-11-18T22:00:02.134213Z",
     "shell.execute_reply.started": "2024-11-18T22:00:02.128780Z"
    }
   },
   "outputs": [
    {
     "data": {
      "text/plain": [
       "(5,\n",
       " Index(['method', 'rt', 'rtPerPoint', 'acceleration', 'error'], dtype='object'))"
      ]
     },
     "execution_count": 6,
     "metadata": {},
     "output_type": "execute_result"
    }
   ],
   "source": [
    "# Extract unique names from the DataFrame columns\n",
    "# Split column names by underscore and take the first part\n",
    "names_cols = dfr.columns.str.split('_').str[0].unique()\n",
    "nrows = len(names_cols)\n",
    "nrows, names_cols"
   ]
  },
  {
   "cell_type": "code",
   "execution_count": 7,
   "id": "4bbf4e5e-13c7-4c40-a48b-da0ef3d41b22",
   "metadata": {
    "execution": {
     "iopub.execute_input": "2024-11-18T22:00:02.134213Z",
     "iopub.status.busy": "2024-11-18T22:00:02.134213Z",
     "iopub.status.idle": "2024-11-18T22:00:02.139041Z",
     "shell.execute_reply": "2024-11-18T22:00:02.139041Z",
     "shell.execute_reply.started": "2024-11-18T22:00:02.134213Z"
    }
   },
   "outputs": [
    {
     "data": {
      "text/plain": [
       "6"
      ]
     },
     "execution_count": 7,
     "metadata": {},
     "output_type": "execute_result"
    }
   ],
   "source": [
    "# Extract the number of columns from the dataframe\n",
    "# It splits the column names by '_', cleans the second part, \n",
    "# and retrieves the unique maximum integer value.\n",
    "ncols = int(dfr.columns.str.split('_').str[1].map(clean_str).unique()[-1])\n",
    "ncols"
   ]
  },
  {
   "cell_type": "code",
   "execution_count": 8,
   "id": "1496bb9d-3a63-4276-84cb-778ca9b06bde",
   "metadata": {
    "execution": {
     "iopub.execute_input": "2024-11-18T22:00:02.140047Z",
     "iopub.status.busy": "2024-11-18T22:00:02.140047Z",
     "iopub.status.idle": "2024-11-18T22:00:02.145648Z",
     "shell.execute_reply": "2024-11-18T22:00:02.145648Z",
     "shell.execute_reply.started": "2024-11-18T22:00:02.140047Z"
    }
   },
   "outputs": [
    {
     "data": {
      "text/html": [
       "<div>\n",
       "<style scoped>\n",
       "    .dataframe tbody tr th:only-of-type {\n",
       "        vertical-align: middle;\n",
       "    }\n",
       "\n",
       "    .dataframe tbody tr th {\n",
       "        vertical-align: top;\n",
       "    }\n",
       "\n",
       "    .dataframe thead th {\n",
       "        text-align: right;\n",
       "    }\n",
       "</style>\n",
       "<table border=\"1\" class=\"dataframe\">\n",
       "  <thead>\n",
       "    <tr style=\"text-align: right;\">\n",
       "      <th></th>\n",
       "      <th>0</th>\n",
       "      <th>1</th>\n",
       "      <th>2</th>\n",
       "      <th>3</th>\n",
       "      <th>4</th>\n",
       "    </tr>\n",
       "  </thead>\n",
       "  <tbody>\n",
       "    <tr>\n",
       "      <th>0</th>\n",
       "      <td>BKB:CC129:Infs:NumDer:1e-03</td>\n",
       "      <td>6.797089</td>\n",
       "      <td>0.006797</td>\n",
       "      <td>1</td>\n",
       "      <td>0.0</td>\n",
       "    </tr>\n",
       "    <tr>\n",
       "      <th>1</th>\n",
       "      <td>BKB:CC129:Infs:NumDer:1e-04</td>\n",
       "      <td>7.380624</td>\n",
       "      <td>0.007381</td>\n",
       "      <td>0.920937</td>\n",
       "      <td>0.0</td>\n",
       "    </tr>\n",
       "    <tr>\n",
       "      <th>2</th>\n",
       "      <td>BKB:CC129:Infs:NumDer:1e-05</td>\n",
       "      <td>8.759002</td>\n",
       "      <td>0.008759</td>\n",
       "      <td>0.776012</td>\n",
       "      <td>0.0</td>\n",
       "    </tr>\n",
       "    <tr>\n",
       "      <th>3</th>\n",
       "      <td>BKB:CC129:Infs:NumDer:1e-06</td>\n",
       "      <td>11.641229</td>\n",
       "      <td>0.011641</td>\n",
       "      <td>0.583881</td>\n",
       "      <td>0.0</td>\n",
       "    </tr>\n",
       "    <tr>\n",
       "      <th>4</th>\n",
       "      <td>BKB:CC129:Infs:NumDer:1e-07</td>\n",
       "      <td>22.75434</td>\n",
       "      <td>0.022754</td>\n",
       "      <td>0.298716</td>\n",
       "      <td>0.0</td>\n",
       "    </tr>\n",
       "    <tr>\n",
       "      <th>5</th>\n",
       "      <td>BKB:CC129:Infs:NumDer:1e-08</td>\n",
       "      <td>96.604596</td>\n",
       "      <td>0.096605</td>\n",
       "      <td>0.07036</td>\n",
       "      <td>0.0</td>\n",
       "    </tr>\n",
       "  </tbody>\n",
       "</table>\n",
       "</div>"
      ],
      "text/plain": [
       "                             0          1         2         3    4\n",
       "0  BKB:CC129:Infs:NumDer:1e-03   6.797089  0.006797         1  0.0\n",
       "1  BKB:CC129:Infs:NumDer:1e-04   7.380624  0.007381  0.920937  0.0\n",
       "2  BKB:CC129:Infs:NumDer:1e-05   8.759002  0.008759  0.776012  0.0\n",
       "3  BKB:CC129:Infs:NumDer:1e-06  11.641229  0.011641  0.583881  0.0\n",
       "4  BKB:CC129:Infs:NumDer:1e-07   22.75434  0.022754  0.298716  0.0\n",
       "5  BKB:CC129:Infs:NumDer:1e-08  96.604596  0.096605   0.07036  0.0"
      ]
     },
     "execution_count": 8,
     "metadata": {},
     "output_type": "execute_result"
    }
   ],
   "source": [
    "# Reshape a single row into a DataFrame with nrows x ncols size \n",
    "df = pd.DataFrame(dfr.iloc[0].values.reshape(nrows, ncols)).T\n",
    "df"
   ]
  },
  {
   "cell_type": "code",
   "execution_count": 9,
   "id": "fd4ec956-e3bb-435e-9e74-1ab1db8107ca",
   "metadata": {
    "execution": {
     "iopub.execute_input": "2024-11-18T22:00:02.145648Z",
     "iopub.status.busy": "2024-11-18T22:00:02.145648Z",
     "iopub.status.idle": "2024-11-18T22:00:02.151790Z",
     "shell.execute_reply": "2024-11-18T22:00:02.151790Z",
     "shell.execute_reply.started": "2024-11-18T22:00:02.145648Z"
    }
   },
   "outputs": [
    {
     "data": {
      "text/html": [
       "<div>\n",
       "<style scoped>\n",
       "    .dataframe tbody tr th:only-of-type {\n",
       "        vertical-align: middle;\n",
       "    }\n",
       "\n",
       "    .dataframe tbody tr th {\n",
       "        vertical-align: top;\n",
       "    }\n",
       "\n",
       "    .dataframe thead th {\n",
       "        text-align: right;\n",
       "    }\n",
       "</style>\n",
       "<table border=\"1\" class=\"dataframe\">\n",
       "  <thead>\n",
       "    <tr style=\"text-align: right;\">\n",
       "      <th></th>\n",
       "      <th>method</th>\n",
       "      <th>rt</th>\n",
       "      <th>rtPerPoint</th>\n",
       "      <th>acceleration</th>\n",
       "      <th>error</th>\n",
       "    </tr>\n",
       "  </thead>\n",
       "  <tbody>\n",
       "    <tr>\n",
       "      <th>1</th>\n",
       "      <td>BKB:CC129:Infs:NumDer:1e-03</td>\n",
       "      <td>6.797089</td>\n",
       "      <td>0.006797</td>\n",
       "      <td>1</td>\n",
       "      <td>0.0</td>\n",
       "    </tr>\n",
       "    <tr>\n",
       "      <th>2</th>\n",
       "      <td>BKB:CC129:Infs:NumDer:1e-04</td>\n",
       "      <td>7.380624</td>\n",
       "      <td>0.007381</td>\n",
       "      <td>0.920937</td>\n",
       "      <td>0.0</td>\n",
       "    </tr>\n",
       "    <tr>\n",
       "      <th>3</th>\n",
       "      <td>BKB:CC129:Infs:NumDer:1e-05</td>\n",
       "      <td>8.759002</td>\n",
       "      <td>0.008759</td>\n",
       "      <td>0.776012</td>\n",
       "      <td>0.0</td>\n",
       "    </tr>\n",
       "    <tr>\n",
       "      <th>4</th>\n",
       "      <td>BKB:CC129:Infs:NumDer:1e-06</td>\n",
       "      <td>11.641229</td>\n",
       "      <td>0.011641</td>\n",
       "      <td>0.583881</td>\n",
       "      <td>0.0</td>\n",
       "    </tr>\n",
       "    <tr>\n",
       "      <th>5</th>\n",
       "      <td>BKB:CC129:Infs:NumDer:1e-07</td>\n",
       "      <td>22.75434</td>\n",
       "      <td>0.022754</td>\n",
       "      <td>0.298716</td>\n",
       "      <td>0.0</td>\n",
       "    </tr>\n",
       "    <tr>\n",
       "      <th>6</th>\n",
       "      <td>BKB:CC129:Infs:NumDer:1e-08</td>\n",
       "      <td>96.604596</td>\n",
       "      <td>0.096605</td>\n",
       "      <td>0.07036</td>\n",
       "      <td>0.0</td>\n",
       "    </tr>\n",
       "  </tbody>\n",
       "</table>\n",
       "</div>"
      ],
      "text/plain": [
       "                        method         rt rtPerPoint acceleration error\n",
       "1  BKB:CC129:Infs:NumDer:1e-03   6.797089   0.006797            1   0.0\n",
       "2  BKB:CC129:Infs:NumDer:1e-04   7.380624   0.007381     0.920937   0.0\n",
       "3  BKB:CC129:Infs:NumDer:1e-05   8.759002   0.008759     0.776012   0.0\n",
       "4  BKB:CC129:Infs:NumDer:1e-06  11.641229   0.011641     0.583881   0.0\n",
       "5  BKB:CC129:Infs:NumDer:1e-07   22.75434   0.022754     0.298716   0.0\n",
       "6  BKB:CC129:Infs:NumDer:1e-08  96.604596   0.096605      0.07036   0.0"
      ]
     },
     "execution_count": 9,
     "metadata": {},
     "output_type": "execute_result"
    }
   ],
   "source": [
    "df.columns = names_cols\n",
    "df.index += 1\n",
    "df"
   ]
  },
  {
   "cell_type": "code",
   "execution_count": 10,
   "id": "879dfe9b-61c2-4424-aacb-9e2e6a7450e3",
   "metadata": {
    "execution": {
     "iopub.execute_input": "2024-11-18T22:00:02.151790Z",
     "iopub.status.busy": "2024-11-18T22:00:02.151790Z",
     "iopub.status.idle": "2024-11-18T22:00:02.157898Z",
     "shell.execute_reply": "2024-11-18T22:00:02.157898Z",
     "shell.execute_reply.started": "2024-11-18T22:00:02.151790Z"
    }
   },
   "outputs": [
    {
     "data": {
      "text/plain": [
       "'N1000-2024_11-17-15_37_58'"
      ]
     },
     "execution_count": 10,
     "metadata": {},
     "output_type": "execute_result"
    }
   ],
   "source": [
    "# Extract the substring 'N10-2024_11-15-13_18_53' from the filename\n",
    "namesheet = fileC.split('-', 2)[2].split('.')[0]\n",
    "namesheet"
   ]
  },
  {
   "cell_type": "code",
   "execution_count": 11,
   "id": "3a751016-f1af-4578-a2ca-2ed1bfe76e9b",
   "metadata": {
    "execution": {
     "iopub.execute_input": "2024-11-18T22:00:02.157898Z",
     "iopub.status.busy": "2024-11-18T22:00:02.157898Z",
     "iopub.status.idle": "2024-11-18T22:00:02.212222Z",
     "shell.execute_reply": "2024-11-18T22:00:02.212222Z",
     "shell.execute_reply.started": "2024-11-18T22:00:02.157898Z"
    }
   },
   "outputs": [],
   "source": [
    "# Check if the sheet with the given name exists before adding the DataFrame\n",
    "import openpyxl\n",
    "\n",
    "# Open the specified Excel file\n",
    "workbook = openpyxl.load_workbook(file)\n",
    "\n",
    "# Check if the sheet name already exists\n",
    "if namesheet not in workbook.sheetnames:\n",
    "    with pd.ExcelWriter(file, mode='a', engine='openpyxl') as writer:\n",
    "        df.to_excel(writer, sheet_name=namesheet[:31])"
   ]
  },
  {
   "cell_type": "code",
   "execution_count": 12,
   "id": "2cad78d5-81a3-4a9b-ba57-00bbd4d68f8d",
   "metadata": {
    "execution": {
     "iopub.execute_input": "2024-11-18T22:00:02.214676Z",
     "iopub.status.busy": "2024-11-18T22:00:02.213227Z",
     "iopub.status.idle": "2024-11-18T22:00:02.217681Z",
     "shell.execute_reply": "2024-11-18T22:00:02.217681Z",
     "shell.execute_reply.started": "2024-11-18T22:00:02.214676Z"
    }
   },
   "outputs": [
    {
     "data": {
      "text/plain": [
       "'MTB-perfStats-N1000-2024_11-17-15_37_58.xlsx'"
      ]
     },
     "execution_count": 12,
     "metadata": {},
     "output_type": "execute_result"
    }
   ],
   "source": [
    "fileC"
   ]
  },
  {
   "cell_type": "code",
   "execution_count": 13,
   "id": "2ac504ac-65c0-477e-92eb-6462072319f8",
   "metadata": {
    "execution": {
     "iopub.execute_input": "2024-11-18T22:00:02.217681Z",
     "iopub.status.busy": "2024-11-18T22:00:02.217681Z",
     "iopub.status.idle": "2024-11-18T22:00:02.222585Z",
     "shell.execute_reply": "2024-11-18T22:00:02.222585Z",
     "shell.execute_reply.started": "2024-11-18T22:00:02.217681Z"
    }
   },
   "outputs": [
    {
     "name": "stdout",
     "output_type": "stream",
     "text": [
      "Successfully deleted MTB-perfStats-N1000-2024_11-17-15_37_58.xlsx\n"
     ]
    }
   ],
   "source": [
    "try:\n",
    "    os.remove(fileC)\n",
    "    print(f\"Successfully deleted {fileC}\")\n",
    "except FileNotFoundError:\n",
    "    print(f\"The file {fileC} does not exist.\")\n",
    "except PermissionError:\n",
    "    print(f\"Permission denied: Cannot delete {fileC}.\")\n",
    "except Exception as e:\n",
    "    print(f\"An error occurred: {e}\")"
   ]
  }
 ],
 "metadata": {
  "kernelspec": {
   "display_name": "Python 3 (ipykernel)",
   "language": "python",
   "name": "python3"
  },
  "language_info": {
   "codemirror_mode": {
    "name": "ipython",
    "version": 3
   },
   "file_extension": ".py",
   "mimetype": "text/x-python",
   "name": "python",
   "nbconvert_exporter": "python",
   "pygments_lexer": "ipython3",
   "version": "3.11.10"
  }
 },
 "nbformat": 4,
 "nbformat_minor": 5
}
