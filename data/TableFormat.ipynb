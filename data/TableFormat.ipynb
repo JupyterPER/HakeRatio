{
 "cells": [
  {
   "cell_type": "markdown",
   "id": "9b93e2a3-1c11-4709-bc9c-d9ee04423323",
   "metadata": {
    "execution": {
     "iopub.execute_input": "2024-11-15T12:21:10.416907Z",
     "iopub.status.busy": "2024-11-15T12:21:10.416907Z",
     "iopub.status.idle": "2024-11-15T12:21:10.418913Z",
     "shell.execute_reply": "2024-11-15T12:21:10.418913Z",
     "shell.execute_reply.started": "2024-11-15T12:21:10.416907Z"
    }
   },
   "source": [
    "# Table format of results"
   ]
  },
  {
   "cell_type": "code",
   "execution_count": 11,
   "id": "cee240fe-6c77-4e76-9749-2b0598f57919",
   "metadata": {
    "execution": {
     "iopub.execute_input": "2024-11-17T16:44:01.599826Z",
     "iopub.status.busy": "2024-11-17T16:44:01.597826Z",
     "iopub.status.idle": "2024-11-17T16:44:01.621472Z",
     "shell.execute_reply": "2024-11-17T16:44:01.621472Z",
     "shell.execute_reply.started": "2024-11-17T16:44:01.599826Z"
    }
   },
   "outputs": [
    {
     "data": {
      "text/plain": [
       "['MTB-perfStats-2024_11-15.xlsx',\n",
       " 'MTB-perfStats-2024_11-16.xlsx',\n",
       " 'MTB-perfStats-BKB-CC-N1000-2024_11-17-16_03_17.xlsx',\n",
       " 'MTB-perfStats-BKB-CC-N1000-2024_11-17-17_20_16.xlsx',\n",
       " 'MTB-perfStats-BKB-CC-N1000-2024_11-17-17_43_38.xlsx',\n",
       " 'MTB-perfStats-N10-2024_11-16-19_00_17.xlsx',\n",
       " 'MTB-perfStats-N100-2024_11-16-19_05_32.xlsx',\n",
       " 'MTB-perfStats-N1000-2024_11-16-19_08_29.xlsx',\n",
       " 'MTB-perfStats-N1000-2024_11-17-02_39_17.xlsx',\n",
       " 'MTB-perfStats-N1000-2024_11-17-02_48_32.xlsx',\n",
       " 'MTB-perfStats-N1000-2024_11-17-02_53_21.xlsx',\n",
       " 'MTB-perfStats-N1000-2024_11-17-03_08_14.xlsx',\n",
       " 'MTB-perfStats-N1000-2024_11-17-03_24_00.xlsx',\n",
       " 'MTB-perfStats-N1000-2024_11-17-15_37_58.xlsx']"
      ]
     },
     "execution_count": 11,
     "metadata": {},
     "output_type": "execute_result"
    }
   ],
   "source": [
    "# Read names of all Excel files in the working directory into a list\n",
    "excel_files = [f for f in os.listdir() if f.endswith('.xlsx')]\n",
    "excel_files"
   ]
  },
  {
   "cell_type": "code",
   "execution_count": 12,
   "id": "5911db03-c5df-4a9d-bbc8-7fa78ff82c05",
   "metadata": {
    "execution": {
     "iopub.execute_input": "2024-11-17T16:44:29.222366Z",
     "iopub.status.busy": "2024-11-17T16:44:29.222366Z",
     "iopub.status.idle": "2024-11-17T16:44:29.226958Z",
     "shell.execute_reply": "2024-11-17T16:44:29.226958Z",
     "shell.execute_reply.started": "2024-11-17T16:44:29.222366Z"
    }
   },
   "outputs": [
    {
     "data": {
      "text/plain": [
       "'MTB-perfStats-BKB-CC-N1000-2024_11-17-17_43_38.xlsx'"
      ]
     },
     "execution_count": 12,
     "metadata": {},
     "output_type": "execute_result"
    }
   ],
   "source": [
    "# Read an xlsx file into a pandas DataFrame\n",
    "fileC = excel_files[4]\n",
    "fileC"
   ]
  },
  {
   "cell_type": "code",
   "execution_count": 13,
   "id": "297aa5a1-fac6-4c6b-a215-8364d7cb95d4",
   "metadata": {
    "execution": {
     "iopub.execute_input": "2024-11-17T16:44:46.953029Z",
     "iopub.status.busy": "2024-11-17T16:44:46.953029Z",
     "iopub.status.idle": "2024-11-17T16:44:47.009361Z",
     "shell.execute_reply": "2024-11-17T16:44:47.009361Z",
     "shell.execute_reply.started": "2024-11-17T16:44:46.953029Z"
    }
   },
   "outputs": [],
   "source": [
    "dfr = pd.read_excel(fileC)"
   ]
  },
  {
   "cell_type": "code",
   "execution_count": 14,
   "id": "e6b99721-b113-4fe2-b392-a9953fc398c8",
   "metadata": {
    "execution": {
     "iopub.execute_input": "2024-11-17T16:44:47.010371Z",
     "iopub.status.busy": "2024-11-17T16:44:47.010371Z",
     "iopub.status.idle": "2024-11-17T16:44:47.026663Z",
     "shell.execute_reply": "2024-11-17T16:44:47.026663Z",
     "shell.execute_reply.started": "2024-11-17T16:44:47.010371Z"
    }
   },
   "outputs": [
    {
     "data": {
      "text/html": [
       "<div>\n",
       "<style scoped>\n",
       "    .dataframe tbody tr th:only-of-type {\n",
       "        vertical-align: middle;\n",
       "    }\n",
       "\n",
       "    .dataframe tbody tr th {\n",
       "        vertical-align: top;\n",
       "    }\n",
       "\n",
       "    .dataframe thead th {\n",
       "        text-align: right;\n",
       "    }\n",
       "</style>\n",
       "<table border=\"1\" class=\"dataframe\">\n",
       "  <thead>\n",
       "    <tr style=\"text-align: right;\">\n",
       "      <th></th>\n",
       "      <th>method_ 1</th>\n",
       "      <th>method_ 2</th>\n",
       "      <th>method_ 3</th>\n",
       "      <th>method_ 4</th>\n",
       "      <th>method_ 5</th>\n",
       "      <th>method_ 6</th>\n",
       "      <th>method_ 7</th>\n",
       "      <th>method_ 8</th>\n",
       "      <th>method_ 9</th>\n",
       "      <th>method_10</th>\n",
       "      <th>...</th>\n",
       "      <th>error_ 8</th>\n",
       "      <th>error_ 9</th>\n",
       "      <th>error_10</th>\n",
       "      <th>error_11</th>\n",
       "      <th>error_12</th>\n",
       "      <th>error_13</th>\n",
       "      <th>error_14</th>\n",
       "      <th>error_15</th>\n",
       "      <th>error_16</th>\n",
       "      <th>error_17</th>\n",
       "    </tr>\n",
       "  </thead>\n",
       "  <tbody>\n",
       "    <tr>\n",
       "      <th>0</th>\n",
       "      <td>BKB:CC9:Infs:NumDer:parCPU:1e-03</td>\n",
       "      <td>BKB:CC17:Infs:NumDer:parCPU:1e-03</td>\n",
       "      <td>BKB:CC33:Infs:NumDer:parCPU:1e-03</td>\n",
       "      <td>BKB:CC65:Infs:NumDer:parCPU:1e-03</td>\n",
       "      <td>BKB:CC129:Infs:NumDer:parCPU:1e-03</td>\n",
       "      <td>BKB:CC257:Infs:NumDer:parCPU:1e-03</td>\n",
       "      <td>BKB:CC513:Infs:NumDer:parCPU:1e-03</td>\n",
       "      <td>BKB:CC1025:Infs:NumDer:parCPU:1e-03</td>\n",
       "      <td>BKB:CC2049:Infs:NumDer:parCPU:1e-03</td>\n",
       "      <td>BKB:CC4097:Infs:NumDer:parCPU:1e-03</td>\n",
       "      <td>...</td>\n",
       "      <td>6.251425e-08</td>\n",
       "      <td>6.374330e-08</td>\n",
       "      <td>5.853769e-08</td>\n",
       "      <td>6.366578e-08</td>\n",
       "      <td>5.923564e-08</td>\n",
       "      <td>6.082632e-08</td>\n",
       "      <td>1.109490e-08</td>\n",
       "      <td>6.771729e-09</td>\n",
       "      <td>1.243275e-08</td>\n",
       "      <td>1.189920e-08</td>\n",
       "    </tr>\n",
       "  </tbody>\n",
       "</table>\n",
       "<p>1 rows × 85 columns</p>\n",
       "</div>"
      ],
      "text/plain": [
       "                          method_ 1                          method_ 2  \\\n",
       "0  BKB:CC9:Infs:NumDer:parCPU:1e-03  BKB:CC17:Infs:NumDer:parCPU:1e-03   \n",
       "\n",
       "                           method_ 3                          method_ 4  \\\n",
       "0  BKB:CC33:Infs:NumDer:parCPU:1e-03  BKB:CC65:Infs:NumDer:parCPU:1e-03   \n",
       "\n",
       "                            method_ 5                           method_ 6  \\\n",
       "0  BKB:CC129:Infs:NumDer:parCPU:1e-03  BKB:CC257:Infs:NumDer:parCPU:1e-03   \n",
       "\n",
       "                            method_ 7                            method_ 8  \\\n",
       "0  BKB:CC513:Infs:NumDer:parCPU:1e-03  BKB:CC1025:Infs:NumDer:parCPU:1e-03   \n",
       "\n",
       "                             method_ 9                            method_10  \\\n",
       "0  BKB:CC2049:Infs:NumDer:parCPU:1e-03  BKB:CC4097:Infs:NumDer:parCPU:1e-03   \n",
       "\n",
       "   ...      error_ 8      error_ 9      error_10      error_11      error_12  \\\n",
       "0  ...  6.251425e-08  6.374330e-08  5.853769e-08  6.366578e-08  5.923564e-08   \n",
       "\n",
       "       error_13      error_14      error_15      error_16      error_17  \n",
       "0  6.082632e-08  1.109490e-08  6.771729e-09  1.243275e-08  1.189920e-08  \n",
       "\n",
       "[1 rows x 85 columns]"
      ]
     },
     "execution_count": 14,
     "metadata": {},
     "output_type": "execute_result"
    }
   ],
   "source": [
    "dfr"
   ]
  },
  {
   "cell_type": "code",
   "execution_count": 15,
   "id": "0c011a3a-1b26-41ff-9879-51575274d362",
   "metadata": {
    "execution": {
     "iopub.execute_input": "2024-11-17T16:44:47.027255Z",
     "iopub.status.busy": "2024-11-17T16:44:47.027255Z",
     "iopub.status.idle": "2024-11-17T16:44:47.033851Z",
     "shell.execute_reply": "2024-11-17T16:44:47.033283Z",
     "shell.execute_reply.started": "2024-11-17T16:44:47.027255Z"
    }
   },
   "outputs": [
    {
     "data": {
      "text/plain": [
       "(5,\n",
       " Index(['method', 'rt', 'rtPerPoint', 'acceleration', 'error'], dtype='object'))"
      ]
     },
     "execution_count": 15,
     "metadata": {},
     "output_type": "execute_result"
    }
   ],
   "source": [
    "# Extract unique names from the DataFrame columns\n",
    "# Split column names by underscore and take the first part\n",
    "names_cols = dfr.columns.str.split('_').str[0].unique()\n",
    "nrows = len(names_cols)\n",
    "nrows, names_cols"
   ]
  },
  {
   "cell_type": "code",
   "execution_count": 16,
   "id": "4bbf4e5e-13c7-4c40-a48b-da0ef3d41b22",
   "metadata": {
    "execution": {
     "iopub.execute_input": "2024-11-17T16:44:47.034514Z",
     "iopub.status.busy": "2024-11-17T16:44:47.034514Z",
     "iopub.status.idle": "2024-11-17T16:44:47.039682Z",
     "shell.execute_reply": "2024-11-17T16:44:47.039682Z",
     "shell.execute_reply.started": "2024-11-17T16:44:47.034514Z"
    }
   },
   "outputs": [
    {
     "data": {
      "text/plain": [
       "17"
      ]
     },
     "execution_count": 16,
     "metadata": {},
     "output_type": "execute_result"
    }
   ],
   "source": [
    "# Extract the number of columns from the dataframe\n",
    "# It splits the column names by '_', cleans the second part, \n",
    "# and retrieves the unique maximum integer value.\n",
    "ncols = int(dfr.columns.str.split('_').str[1].map(clean_str).unique()[-1])\n",
    "ncols"
   ]
  },
  {
   "cell_type": "code",
   "execution_count": 17,
   "id": "1496bb9d-3a63-4276-84cb-778ca9b06bde",
   "metadata": {
    "execution": {
     "iopub.execute_input": "2024-11-17T16:44:47.040690Z",
     "iopub.status.busy": "2024-11-17T16:44:47.040690Z",
     "iopub.status.idle": "2024-11-17T16:44:47.048647Z",
     "shell.execute_reply": "2024-11-17T16:44:47.048647Z",
     "shell.execute_reply.started": "2024-11-17T16:44:47.040690Z"
    }
   },
   "outputs": [
    {
     "data": {
      "text/html": [
       "<div>\n",
       "<style scoped>\n",
       "    .dataframe tbody tr th:only-of-type {\n",
       "        vertical-align: middle;\n",
       "    }\n",
       "\n",
       "    .dataframe tbody tr th {\n",
       "        vertical-align: top;\n",
       "    }\n",
       "\n",
       "    .dataframe thead th {\n",
       "        text-align: right;\n",
       "    }\n",
       "</style>\n",
       "<table border=\"1\" class=\"dataframe\">\n",
       "  <thead>\n",
       "    <tr style=\"text-align: right;\">\n",
       "      <th></th>\n",
       "      <th>0</th>\n",
       "      <th>1</th>\n",
       "      <th>2</th>\n",
       "      <th>3</th>\n",
       "      <th>4</th>\n",
       "    </tr>\n",
       "  </thead>\n",
       "  <tbody>\n",
       "    <tr>\n",
       "      <th>0</th>\n",
       "      <td>BKB:CC9:Infs:NumDer:parCPU:1e-03</td>\n",
       "      <td>0.159387</td>\n",
       "      <td>0.000159</td>\n",
       "      <td>1</td>\n",
       "      <td>0.182312</td>\n",
       "    </tr>\n",
       "    <tr>\n",
       "      <th>1</th>\n",
       "      <td>BKB:CC17:Infs:NumDer:parCPU:1e-03</td>\n",
       "      <td>0.217538</td>\n",
       "      <td>0.000218</td>\n",
       "      <td>0.732684</td>\n",
       "      <td>0.082362</td>\n",
       "    </tr>\n",
       "    <tr>\n",
       "      <th>2</th>\n",
       "      <td>BKB:CC33:Infs:NumDer:parCPU:1e-03</td>\n",
       "      <td>0.343963</td>\n",
       "      <td>0.000344</td>\n",
       "      <td>0.463384</td>\n",
       "      <td>0.010968</td>\n",
       "    </tr>\n",
       "    <tr>\n",
       "      <th>3</th>\n",
       "      <td>BKB:CC65:Infs:NumDer:parCPU:1e-03</td>\n",
       "      <td>0.610371</td>\n",
       "      <td>0.00061</td>\n",
       "      <td>0.261131</td>\n",
       "      <td>0.000104</td>\n",
       "    </tr>\n",
       "    <tr>\n",
       "      <th>4</th>\n",
       "      <td>BKB:CC129:Infs:NumDer:parCPU:1e-03</td>\n",
       "      <td>1.150598</td>\n",
       "      <td>0.001151</td>\n",
       "      <td>0.138525</td>\n",
       "      <td>0.0</td>\n",
       "    </tr>\n",
       "    <tr>\n",
       "      <th>5</th>\n",
       "      <td>BKB:CC257:Infs:NumDer:parCPU:1e-03</td>\n",
       "      <td>2.186882</td>\n",
       "      <td>0.002187</td>\n",
       "      <td>0.072883</td>\n",
       "      <td>0.0</td>\n",
       "    </tr>\n",
       "    <tr>\n",
       "      <th>6</th>\n",
       "      <td>BKB:CC513:Infs:NumDer:parCPU:1e-03</td>\n",
       "      <td>4.240319</td>\n",
       "      <td>0.00424</td>\n",
       "      <td>0.037588</td>\n",
       "      <td>0.0</td>\n",
       "    </tr>\n",
       "    <tr>\n",
       "      <th>7</th>\n",
       "      <td>BKB:CC1025:Infs:NumDer:parCPU:1e-03</td>\n",
       "      <td>8.572155</td>\n",
       "      <td>0.008572</td>\n",
       "      <td>0.018594</td>\n",
       "      <td>0.0</td>\n",
       "    </tr>\n",
       "    <tr>\n",
       "      <th>8</th>\n",
       "      <td>BKB:CC2049:Infs:NumDer:parCPU:1e-03</td>\n",
       "      <td>17.346609</td>\n",
       "      <td>0.017347</td>\n",
       "      <td>0.009188</td>\n",
       "      <td>0.0</td>\n",
       "    </tr>\n",
       "    <tr>\n",
       "      <th>9</th>\n",
       "      <td>BKB:CC4097:Infs:NumDer:parCPU:1e-03</td>\n",
       "      <td>33.421713</td>\n",
       "      <td>0.033422</td>\n",
       "      <td>0.004769</td>\n",
       "      <td>0.0</td>\n",
       "    </tr>\n",
       "    <tr>\n",
       "      <th>10</th>\n",
       "      <td>BKB:CC8193:Infs:NumDer:parCPU:1e-03</td>\n",
       "      <td>66.870437</td>\n",
       "      <td>0.06687</td>\n",
       "      <td>0.002384</td>\n",
       "      <td>0.0</td>\n",
       "    </tr>\n",
       "    <tr>\n",
       "      <th>11</th>\n",
       "      <td>BKB:CC16385:Infs:NumDer:parCPU:1e-03</td>\n",
       "      <td>135.417081</td>\n",
       "      <td>0.135417</td>\n",
       "      <td>0.001177</td>\n",
       "      <td>0.0</td>\n",
       "    </tr>\n",
       "    <tr>\n",
       "      <th>12</th>\n",
       "      <td>BKB:CC32769:Infs:NumDer:parCPU:1e-03</td>\n",
       "      <td>273.534572</td>\n",
       "      <td>0.273535</td>\n",
       "      <td>0.000583</td>\n",
       "      <td>0.0</td>\n",
       "    </tr>\n",
       "    <tr>\n",
       "      <th>13</th>\n",
       "      <td>BKB:CC129:Infs:NumDer:parCPU:1e-04</td>\n",
       "      <td>1.271497</td>\n",
       "      <td>0.001271</td>\n",
       "      <td>0.125354</td>\n",
       "      <td>0.0</td>\n",
       "    </tr>\n",
       "    <tr>\n",
       "      <th>14</th>\n",
       "      <td>BKB:CC257:Infs:NumDer:parCPU:1e-04</td>\n",
       "      <td>2.453039</td>\n",
       "      <td>0.002453</td>\n",
       "      <td>0.064975</td>\n",
       "      <td>0.0</td>\n",
       "    </tr>\n",
       "    <tr>\n",
       "      <th>15</th>\n",
       "      <td>BKB:CC513:Infs:NumDer:parCPU:1e-04</td>\n",
       "      <td>4.768564</td>\n",
       "      <td>0.004769</td>\n",
       "      <td>0.033424</td>\n",
       "      <td>0.0</td>\n",
       "    </tr>\n",
       "    <tr>\n",
       "      <th>16</th>\n",
       "      <td>BKB:CC1025:Infs:NumDer:parCPU:1e-04</td>\n",
       "      <td>9.316096</td>\n",
       "      <td>0.009316</td>\n",
       "      <td>0.017109</td>\n",
       "      <td>0.0</td>\n",
       "    </tr>\n",
       "  </tbody>\n",
       "</table>\n",
       "</div>"
      ],
      "text/plain": [
       "                                       0           1         2         3  \\\n",
       "0       BKB:CC9:Infs:NumDer:parCPU:1e-03    0.159387  0.000159         1   \n",
       "1      BKB:CC17:Infs:NumDer:parCPU:1e-03    0.217538  0.000218  0.732684   \n",
       "2      BKB:CC33:Infs:NumDer:parCPU:1e-03    0.343963  0.000344  0.463384   \n",
       "3      BKB:CC65:Infs:NumDer:parCPU:1e-03    0.610371   0.00061  0.261131   \n",
       "4     BKB:CC129:Infs:NumDer:parCPU:1e-03    1.150598  0.001151  0.138525   \n",
       "5     BKB:CC257:Infs:NumDer:parCPU:1e-03    2.186882  0.002187  0.072883   \n",
       "6     BKB:CC513:Infs:NumDer:parCPU:1e-03    4.240319   0.00424  0.037588   \n",
       "7    BKB:CC1025:Infs:NumDer:parCPU:1e-03    8.572155  0.008572  0.018594   \n",
       "8    BKB:CC2049:Infs:NumDer:parCPU:1e-03   17.346609  0.017347  0.009188   \n",
       "9    BKB:CC4097:Infs:NumDer:parCPU:1e-03   33.421713  0.033422  0.004769   \n",
       "10   BKB:CC8193:Infs:NumDer:parCPU:1e-03   66.870437   0.06687  0.002384   \n",
       "11  BKB:CC16385:Infs:NumDer:parCPU:1e-03  135.417081  0.135417  0.001177   \n",
       "12  BKB:CC32769:Infs:NumDer:parCPU:1e-03  273.534572  0.273535  0.000583   \n",
       "13    BKB:CC129:Infs:NumDer:parCPU:1e-04    1.271497  0.001271  0.125354   \n",
       "14    BKB:CC257:Infs:NumDer:parCPU:1e-04    2.453039  0.002453  0.064975   \n",
       "15    BKB:CC513:Infs:NumDer:parCPU:1e-04    4.768564  0.004769  0.033424   \n",
       "16   BKB:CC1025:Infs:NumDer:parCPU:1e-04    9.316096  0.009316  0.017109   \n",
       "\n",
       "           4  \n",
       "0   0.182312  \n",
       "1   0.082362  \n",
       "2   0.010968  \n",
       "3   0.000104  \n",
       "4        0.0  \n",
       "5        0.0  \n",
       "6        0.0  \n",
       "7        0.0  \n",
       "8        0.0  \n",
       "9        0.0  \n",
       "10       0.0  \n",
       "11       0.0  \n",
       "12       0.0  \n",
       "13       0.0  \n",
       "14       0.0  \n",
       "15       0.0  \n",
       "16       0.0  "
      ]
     },
     "execution_count": 17,
     "metadata": {},
     "output_type": "execute_result"
    }
   ],
   "source": [
    "# Reshape a single row into a DataFrame with nrows x ncols size \n",
    "df = pd.DataFrame(dfr.iloc[0].values.reshape(nrows, ncols)).T\n",
    "df"
   ]
  },
  {
   "cell_type": "code",
   "execution_count": 18,
   "id": "fd4ec956-e3bb-435e-9e74-1ab1db8107ca",
   "metadata": {
    "execution": {
     "iopub.execute_input": "2024-11-17T16:44:47.049651Z",
     "iopub.status.busy": "2024-11-17T16:44:47.049651Z",
     "iopub.status.idle": "2024-11-17T16:44:47.058120Z",
     "shell.execute_reply": "2024-11-17T16:44:47.058120Z",
     "shell.execute_reply.started": "2024-11-17T16:44:47.049651Z"
    }
   },
   "outputs": [
    {
     "data": {
      "text/html": [
       "<div>\n",
       "<style scoped>\n",
       "    .dataframe tbody tr th:only-of-type {\n",
       "        vertical-align: middle;\n",
       "    }\n",
       "\n",
       "    .dataframe tbody tr th {\n",
       "        vertical-align: top;\n",
       "    }\n",
       "\n",
       "    .dataframe thead th {\n",
       "        text-align: right;\n",
       "    }\n",
       "</style>\n",
       "<table border=\"1\" class=\"dataframe\">\n",
       "  <thead>\n",
       "    <tr style=\"text-align: right;\">\n",
       "      <th></th>\n",
       "      <th>method</th>\n",
       "      <th>rt</th>\n",
       "      <th>rtPerPoint</th>\n",
       "      <th>acceleration</th>\n",
       "      <th>error</th>\n",
       "    </tr>\n",
       "  </thead>\n",
       "  <tbody>\n",
       "    <tr>\n",
       "      <th>1</th>\n",
       "      <td>BKB:CC9:Infs:NumDer:parCPU:1e-03</td>\n",
       "      <td>0.159387</td>\n",
       "      <td>0.000159</td>\n",
       "      <td>1</td>\n",
       "      <td>0.182312</td>\n",
       "    </tr>\n",
       "    <tr>\n",
       "      <th>2</th>\n",
       "      <td>BKB:CC17:Infs:NumDer:parCPU:1e-03</td>\n",
       "      <td>0.217538</td>\n",
       "      <td>0.000218</td>\n",
       "      <td>0.732684</td>\n",
       "      <td>0.082362</td>\n",
       "    </tr>\n",
       "    <tr>\n",
       "      <th>3</th>\n",
       "      <td>BKB:CC33:Infs:NumDer:parCPU:1e-03</td>\n",
       "      <td>0.343963</td>\n",
       "      <td>0.000344</td>\n",
       "      <td>0.463384</td>\n",
       "      <td>0.010968</td>\n",
       "    </tr>\n",
       "    <tr>\n",
       "      <th>4</th>\n",
       "      <td>BKB:CC65:Infs:NumDer:parCPU:1e-03</td>\n",
       "      <td>0.610371</td>\n",
       "      <td>0.00061</td>\n",
       "      <td>0.261131</td>\n",
       "      <td>0.000104</td>\n",
       "    </tr>\n",
       "    <tr>\n",
       "      <th>5</th>\n",
       "      <td>BKB:CC129:Infs:NumDer:parCPU:1e-03</td>\n",
       "      <td>1.150598</td>\n",
       "      <td>0.001151</td>\n",
       "      <td>0.138525</td>\n",
       "      <td>0.0</td>\n",
       "    </tr>\n",
       "    <tr>\n",
       "      <th>6</th>\n",
       "      <td>BKB:CC257:Infs:NumDer:parCPU:1e-03</td>\n",
       "      <td>2.186882</td>\n",
       "      <td>0.002187</td>\n",
       "      <td>0.072883</td>\n",
       "      <td>0.0</td>\n",
       "    </tr>\n",
       "    <tr>\n",
       "      <th>7</th>\n",
       "      <td>BKB:CC513:Infs:NumDer:parCPU:1e-03</td>\n",
       "      <td>4.240319</td>\n",
       "      <td>0.00424</td>\n",
       "      <td>0.037588</td>\n",
       "      <td>0.0</td>\n",
       "    </tr>\n",
       "    <tr>\n",
       "      <th>8</th>\n",
       "      <td>BKB:CC1025:Infs:NumDer:parCPU:1e-03</td>\n",
       "      <td>8.572155</td>\n",
       "      <td>0.008572</td>\n",
       "      <td>0.018594</td>\n",
       "      <td>0.0</td>\n",
       "    </tr>\n",
       "    <tr>\n",
       "      <th>9</th>\n",
       "      <td>BKB:CC2049:Infs:NumDer:parCPU:1e-03</td>\n",
       "      <td>17.346609</td>\n",
       "      <td>0.017347</td>\n",
       "      <td>0.009188</td>\n",
       "      <td>0.0</td>\n",
       "    </tr>\n",
       "    <tr>\n",
       "      <th>10</th>\n",
       "      <td>BKB:CC4097:Infs:NumDer:parCPU:1e-03</td>\n",
       "      <td>33.421713</td>\n",
       "      <td>0.033422</td>\n",
       "      <td>0.004769</td>\n",
       "      <td>0.0</td>\n",
       "    </tr>\n",
       "    <tr>\n",
       "      <th>11</th>\n",
       "      <td>BKB:CC8193:Infs:NumDer:parCPU:1e-03</td>\n",
       "      <td>66.870437</td>\n",
       "      <td>0.06687</td>\n",
       "      <td>0.002384</td>\n",
       "      <td>0.0</td>\n",
       "    </tr>\n",
       "    <tr>\n",
       "      <th>12</th>\n",
       "      <td>BKB:CC16385:Infs:NumDer:parCPU:1e-03</td>\n",
       "      <td>135.417081</td>\n",
       "      <td>0.135417</td>\n",
       "      <td>0.001177</td>\n",
       "      <td>0.0</td>\n",
       "    </tr>\n",
       "    <tr>\n",
       "      <th>13</th>\n",
       "      <td>BKB:CC32769:Infs:NumDer:parCPU:1e-03</td>\n",
       "      <td>273.534572</td>\n",
       "      <td>0.273535</td>\n",
       "      <td>0.000583</td>\n",
       "      <td>0.0</td>\n",
       "    </tr>\n",
       "    <tr>\n",
       "      <th>14</th>\n",
       "      <td>BKB:CC129:Infs:NumDer:parCPU:1e-04</td>\n",
       "      <td>1.271497</td>\n",
       "      <td>0.001271</td>\n",
       "      <td>0.125354</td>\n",
       "      <td>0.0</td>\n",
       "    </tr>\n",
       "    <tr>\n",
       "      <th>15</th>\n",
       "      <td>BKB:CC257:Infs:NumDer:parCPU:1e-04</td>\n",
       "      <td>2.453039</td>\n",
       "      <td>0.002453</td>\n",
       "      <td>0.064975</td>\n",
       "      <td>0.0</td>\n",
       "    </tr>\n",
       "    <tr>\n",
       "      <th>16</th>\n",
       "      <td>BKB:CC513:Infs:NumDer:parCPU:1e-04</td>\n",
       "      <td>4.768564</td>\n",
       "      <td>0.004769</td>\n",
       "      <td>0.033424</td>\n",
       "      <td>0.0</td>\n",
       "    </tr>\n",
       "    <tr>\n",
       "      <th>17</th>\n",
       "      <td>BKB:CC1025:Infs:NumDer:parCPU:1e-04</td>\n",
       "      <td>9.316096</td>\n",
       "      <td>0.009316</td>\n",
       "      <td>0.017109</td>\n",
       "      <td>0.0</td>\n",
       "    </tr>\n",
       "  </tbody>\n",
       "</table>\n",
       "</div>"
      ],
      "text/plain": [
       "                                  method          rt rtPerPoint acceleration  \\\n",
       "1       BKB:CC9:Infs:NumDer:parCPU:1e-03    0.159387   0.000159            1   \n",
       "2      BKB:CC17:Infs:NumDer:parCPU:1e-03    0.217538   0.000218     0.732684   \n",
       "3      BKB:CC33:Infs:NumDer:parCPU:1e-03    0.343963   0.000344     0.463384   \n",
       "4      BKB:CC65:Infs:NumDer:parCPU:1e-03    0.610371    0.00061     0.261131   \n",
       "5     BKB:CC129:Infs:NumDer:parCPU:1e-03    1.150598   0.001151     0.138525   \n",
       "6     BKB:CC257:Infs:NumDer:parCPU:1e-03    2.186882   0.002187     0.072883   \n",
       "7     BKB:CC513:Infs:NumDer:parCPU:1e-03    4.240319    0.00424     0.037588   \n",
       "8    BKB:CC1025:Infs:NumDer:parCPU:1e-03    8.572155   0.008572     0.018594   \n",
       "9    BKB:CC2049:Infs:NumDer:parCPU:1e-03   17.346609   0.017347     0.009188   \n",
       "10   BKB:CC4097:Infs:NumDer:parCPU:1e-03   33.421713   0.033422     0.004769   \n",
       "11   BKB:CC8193:Infs:NumDer:parCPU:1e-03   66.870437    0.06687     0.002384   \n",
       "12  BKB:CC16385:Infs:NumDer:parCPU:1e-03  135.417081   0.135417     0.001177   \n",
       "13  BKB:CC32769:Infs:NumDer:parCPU:1e-03  273.534572   0.273535     0.000583   \n",
       "14    BKB:CC129:Infs:NumDer:parCPU:1e-04    1.271497   0.001271     0.125354   \n",
       "15    BKB:CC257:Infs:NumDer:parCPU:1e-04    2.453039   0.002453     0.064975   \n",
       "16    BKB:CC513:Infs:NumDer:parCPU:1e-04    4.768564   0.004769     0.033424   \n",
       "17   BKB:CC1025:Infs:NumDer:parCPU:1e-04    9.316096   0.009316     0.017109   \n",
       "\n",
       "       error  \n",
       "1   0.182312  \n",
       "2   0.082362  \n",
       "3   0.010968  \n",
       "4   0.000104  \n",
       "5        0.0  \n",
       "6        0.0  \n",
       "7        0.0  \n",
       "8        0.0  \n",
       "9        0.0  \n",
       "10       0.0  \n",
       "11       0.0  \n",
       "12       0.0  \n",
       "13       0.0  \n",
       "14       0.0  \n",
       "15       0.0  \n",
       "16       0.0  \n",
       "17       0.0  "
      ]
     },
     "execution_count": 18,
     "metadata": {},
     "output_type": "execute_result"
    }
   ],
   "source": [
    "df.columns = names_cols\n",
    "df.index += 1\n",
    "df"
   ]
  },
  {
   "cell_type": "code",
   "execution_count": 19,
   "id": "3bf78504-838d-4a74-8edd-6368feae2501",
   "metadata": {
    "execution": {
     "iopub.execute_input": "2024-11-17T16:44:47.059127Z",
     "iopub.status.busy": "2024-11-17T16:44:47.059127Z",
     "iopub.status.idle": "2024-11-17T16:44:47.064883Z",
     "shell.execute_reply": "2024-11-17T16:44:47.064883Z",
     "shell.execute_reply.started": "2024-11-17T16:44:47.059127Z"
    }
   },
   "outputs": [
    {
     "data": {
      "text/plain": [
       "'MTB-perfStats-2024_11-16.xlsx'"
      ]
     },
     "execution_count": 19,
     "metadata": {},
     "output_type": "execute_result"
    }
   ],
   "source": [
    "# Get the current date and assign it to a variable\n",
    "from datetime import datetime\n",
    "current_date = datetime.now().date().strftime('%Y_%m-%d')\n",
    "file = f'MTB-perfStats-2024_11-16.xlsx' #{current_date}.xlsx'\n",
    "file"
   ]
  },
  {
   "cell_type": "code",
   "execution_count": 20,
   "id": "879dfe9b-61c2-4424-aacb-9e2e6a7450e3",
   "metadata": {
    "execution": {
     "iopub.execute_input": "2024-11-17T16:44:47.065889Z",
     "iopub.status.busy": "2024-11-17T16:44:47.065889Z",
     "iopub.status.idle": "2024-11-17T16:44:47.070296Z",
     "shell.execute_reply": "2024-11-17T16:44:47.070296Z",
     "shell.execute_reply.started": "2024-11-17T16:44:47.065889Z"
    }
   },
   "outputs": [
    {
     "data": {
      "text/plain": [
       "'BKB-CC-N1000-2024_11-17-17_43_38'"
      ]
     },
     "execution_count": 20,
     "metadata": {},
     "output_type": "execute_result"
    }
   ],
   "source": [
    "# Extract the substring 'N10-2024_11-15-13_18_53' from the filename\n",
    "namesheet = fileC.split('-', 2)[2].split('.')[0]\n",
    "namesheet"
   ]
  },
  {
   "cell_type": "code",
   "execution_count": 21,
   "id": "3a751016-f1af-4578-a2ca-2ed1bfe76e9b",
   "metadata": {
    "execution": {
     "iopub.execute_input": "2024-11-17T16:44:47.071766Z",
     "iopub.status.busy": "2024-11-17T16:44:47.071766Z",
     "iopub.status.idle": "2024-11-17T16:44:47.125734Z",
     "shell.execute_reply": "2024-11-17T16:44:47.125734Z",
     "shell.execute_reply.started": "2024-11-17T16:44:47.071766Z"
    }
   },
   "outputs": [
    {
     "name": "stderr",
     "output_type": "stream",
     "text": [
      "C:\\Users\\pf-odf-HP-pc\\mambaforge\\envs\\py311ai\\Lib\\site-packages\\openpyxl\\workbook\\child.py:99: UserWarning: Title is more than 31 characters. Some applications may not be able to read the file\n",
      "  warnings.warn(\"Title is more than 31 characters. Some applications may not be able to read the file\")\n"
     ]
    }
   ],
   "source": [
    "# Check if the sheet with the given name exists before adding the DataFrame\n",
    "import openpyxl\n",
    "\n",
    "# Open the specified Excel file\n",
    "workbook = openpyxl.load_workbook(file)\n",
    "\n",
    "# Check if the sheet name already exists\n",
    "if namesheet not in workbook.sheetnames:\n",
    "    with pd.ExcelWriter(file, mode='a', engine='openpyxl') as writer:\n",
    "        df.to_excel(writer, sheet_name=namesheet)"
   ]
  }
 ],
 "metadata": {
  "kernelspec": {
   "display_name": "Python 3 (ipykernel)",
   "language": "python",
   "name": "python3"
  },
  "language_info": {
   "codemirror_mode": {
    "name": "ipython",
    "version": 3
   },
   "file_extension": ".py",
   "mimetype": "text/x-python",
   "name": "python",
   "nbconvert_exporter": "python",
   "pygments_lexer": "ipython3",
   "version": "3.11.10"
  }
 },
 "nbformat": 4,
 "nbformat_minor": 5
}
