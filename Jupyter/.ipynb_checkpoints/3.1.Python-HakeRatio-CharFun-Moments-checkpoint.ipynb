{
 "cells": [
  {
   "attachments": {},
   "cell_type": "markdown",
   "id": "5ad26903-f4d7-4c0e-968b-95a42c672053",
   "metadata": {
    "execution": {
     "iopub.execute_input": "2024-11-06T12:15:00.677339Z",
     "iopub.status.busy": "2024-11-06T12:15:00.677131Z",
     "iopub.status.idle": "2024-11-06T12:15:01.598938Z",
     "shell.execute_reply": "2024-11-06T12:15:01.597731Z",
     "shell.execute_reply.started": "2024-11-06T12:15:00.677302Z"
    }
   },
   "source": [
    "**Authors:** Jozef Hanč, Martina Hančová  <br> *[Faculty of Science](https://www.upjs.sk/en/faculty-of-science/?prefferedLang=EN), P. J. Šafárik University in Košice, Slovakia* <br> emails: [jozef.hanc@upjs.sk](mailto:jozef.hanc@upjs.sk)\n",
    "***\n",
    "\n",
    "# <font color = brown, size=6> Hake ratio moments via characteristic functions \n",
    "</font>\n",
    "\n",
    "<font size=5> Computational tools: </font>  **<font size=5>Python (Numpy)</font>**  \n",
    "\n",
    "---"
   ]
  },
  {
   "attachments": {},
   "cell_type": "markdown",
   "id": "f75586a6-30c7-4798-9447-85a742ad2a3f",
   "metadata": {},
   "source": [
    "# Hake ratio as an example\n",
    "\n",
    "For ratio of independent normal variables:  $T = X_1/X_2$\n",
    "\n",
    "Numerator $ X_1 \\sim N(a, 1), a = 1.5 $:\n",
    "- PDF: $f_1(x)=(1 / \\sqrt{2 \\pi}) \\exp \\left(-\\frac{(x-a)^2}{2}\\right)$\n",
    "- CF: $ \\varphi_{X_1}(t) = e^{i a t - \\frac{t^2}{2}}$\n",
    "\n",
    "Denominator $ X_2 \\sim N(b, 1) $, $ b = 1 $\\:\n",
    "- PDF: $f_2(x)=(1 / \\sqrt{2 \\pi}) \\exp \\left(-\\frac{(x-b)^2}{2}\\right)$\n",
    "- CF: $ \\varphi_{X_2}(t) = e^{i b t - \\frac{t^2}{2}}$"
   ]
  },
  {
   "cell_type": "markdown",
   "id": "7bd74cb4-1821-483a-aacb-0d037d785d2e",
   "metadata": {
    "execution": {
     "iopub.execute_input": "2024-11-06T13:20:43.652720Z",
     "iopub.status.busy": "2024-11-06T13:20:43.652383Z",
     "iopub.status.idle": "2024-11-06T13:20:43.784050Z",
     "shell.execute_reply": "2024-11-06T13:20:43.783577Z",
     "shell.execute_reply.started": "2024-11-06T13:20:43.652683Z"
    }
   },
   "source": [
    "## First and second moments"
   ]
  },
  {
   "cell_type": "markdown",
   "id": "df0bd8b7-c534-4973-88c9-326fadd58b59",
   "metadata": {
    "execution": {
     "iopub.execute_input": "2024-11-06T13:21:38.148479Z",
     "iopub.status.busy": "2024-11-06T13:21:38.148301Z",
     "iopub.status.idle": "2024-11-06T13:21:38.284932Z",
     "shell.execute_reply": "2024-11-06T13:21:38.282897Z",
     "shell.execute_reply.started": "2024-11-06T13:21:38.148465Z"
    }
   },
   "source": [
    "The mean and standard deviation of the random vector $X=\\left(X_1, X_2\\right)$ from the given marginal CFs using the higher-order methods for approximating the derivatives. In particular, we use the following estimates as Mijanović et al, 2023:\n",
    "\n",
    "$$\n",
    "\\begin{aligned}\n",
    "& \\operatorname{mean}\\left(X_1\\right)=\\left(\\frac{8 \\Im(\\mathrm{cf} 1(\\delta))}{5 \\delta}-\\frac{2 \\Im(\\mathrm{cf} 1(2 \\delta))}{5 \\delta}+\\frac{8 \\Im(\\mathrm{cf} 1(3 \\delta))}{105 \\delta}-\\frac{2 \\Im(\\mathrm{cf} 1(4 \\delta))}{280 \\delta}\\right), \\\\\n",
    "& \\operatorname{mo}_2\\left(X_1\\right)=\\left(\\frac{205}{72 \\delta^2}-\\frac{16 \\Re(\\mathrm{cf} 1(\\delta))}{5 \\delta^2}+\\frac{2 \\Re(\\mathrm{cf} 1(2 \\delta))}{5 \\delta^2}-\\frac{16 \\Re(\\mathrm{cf} 1(3 \\delta))}{315 \\delta^2}+\\frac{2 \\Re(\\mathrm{cf} 1(4 \\delta))}{560 \\delta^2}\\right), \\\\\n",
    "& \\operatorname{std}\\left(X_1\\right)=\\sqrt{\\operatorname{mo}_2\\left(X_1\\right)-\\text { mean }^2\\left(X_1\\right)}\n",
    "\\end{aligned}\n",
    "$$\n",
    "\n",
    "where $\\delta$ is chosen tolerance for numerical differentiation (as a default value we use $\\delta=10^{-4}$ ) and $\\mathrm{mo}_2$ denotes the estimate of the second moment. Similarly, calculate mean $\\left(X_2\\right)$ and $\\operatorname{std}\\left(X_1\\right)$ so that then mean $(X)=$ $\\left[\\operatorname{mean}\\left(X_1\\right)\\right.$, mean $\\left.\\left(X_2\\right)\\right]$ and $\\operatorname{std}(X)=\\left[\\operatorname{std}\\left(X_1\\right), \\operatorname{std}\\left(X_2\\right)\\right]$."
   ]
  },
  {
   "cell_type": "code",
   "execution_count": 1,
   "id": "69048b28-c417-425c-aa28-9ba9169f6ff5",
   "metadata": {
    "execution": {
     "iopub.execute_input": "2025-03-10T22:16:14.397226Z",
     "iopub.status.busy": "2025-03-10T22:16:14.397052Z",
     "iopub.status.idle": "2025-03-10T22:16:14.546046Z",
     "shell.execute_reply": "2025-03-10T22:16:14.508187Z",
     "shell.execute_reply.started": "2025-03-10T22:16:14.397212Z"
    }
   },
   "outputs": [],
   "source": [
    "# characteristic function of X1 ~ N(a,1)\n",
    "a = 1.5\n",
    "cf1 = lambda t1: np.exp(1j * a * t1 - t1**2 / 2)"
   ]
  },
  {
   "cell_type": "code",
   "execution_count": 2,
   "id": "66d108a8-5b28-47d4-b91f-4b3f5e810071",
   "metadata": {
    "execution": {
     "iopub.execute_input": "2025-03-10T22:16:14.577360Z",
     "iopub.status.busy": "2025-03-10T22:16:14.577196Z",
     "iopub.status.idle": "2025-03-10T22:16:14.729429Z",
     "shell.execute_reply": "2025-03-10T22:16:14.688947Z",
     "shell.execute_reply.started": "2025-03-10T22:16:14.577347Z"
    }
   },
   "outputs": [],
   "source": [
    "# characteristic function of X2\n",
    "b = 1\n",
    "cf2 = lambda t2: np.exp(1j * b * t2 - t2**2 / 2)"
   ]
  },
  {
   "cell_type": "code",
   "execution_count": 3,
   "id": "c902e3a6-e47f-4321-9855-2c9820bce7ba",
   "metadata": {
    "execution": {
     "iopub.execute_input": "2025-03-10T22:16:14.757998Z",
     "iopub.status.busy": "2025-03-10T22:16:14.741940Z",
     "iopub.status.idle": "2025-03-10T22:16:14.921743Z",
     "shell.execute_reply": "2025-03-10T22:16:14.886578Z",
     "shell.execute_reply.started": "2025-03-10T22:16:14.757968Z"
    }
   },
   "outputs": [],
   "source": [
    "# Numpy auxiliary functions\n",
    "s = lambda v1, v2: np.arange(v1, v2 + 1)\n",
    "from numpy import array as v, pi as pi"
   ]
  },
  {
   "cell_type": "code",
   "execution_count": 4,
   "id": "96d55b72",
   "metadata": {
    "execution": {
     "iopub.execute_input": "2025-03-10T22:16:14.926145Z",
     "iopub.status.busy": "2025-03-10T22:16:14.925966Z",
     "iopub.status.idle": "2025-03-10T22:16:15.233426Z",
     "shell.execute_reply": "2025-03-10T22:16:15.222169Z",
     "shell.execute_reply.started": "2025-03-10T22:16:14.926132Z"
    }
   },
   "outputs": [],
   "source": [
    "# parameters for boundaries\n",
    "SixSigmaRule = 6\n",
    "tolDiff = 1e-6\n",
    "# accuracy for cf functions\n",
    "cftTol = 1e-14\n",
    "# tunnig constant for more exact results\n",
    "k = 3"
   ]
  },
  {
   "cell_type": "code",
   "execution_count": 5,
   "id": "a27d0172-ee0f-4cdf-92c9-3bcd2e725ff5",
   "metadata": {
    "execution": {
     "iopub.execute_input": "2025-03-10T22:16:15.237400Z",
     "iopub.status.busy": "2025-03-10T22:16:15.237162Z",
     "iopub.status.idle": "2025-03-10T22:16:15.447810Z",
     "shell.execute_reply": "2025-03-10T22:16:15.402513Z",
     "shell.execute_reply.started": "2025-03-10T22:16:15.237384Z"
    }
   },
   "outputs": [],
   "source": [
    "# auxiliary functions for estimates of moments\n",
    "cft1 = cf1(tolDiff*s(1,4))\n",
    "cftRe1 = np.real(cft1)\n",
    "cftIm1 = np.imag(cft1)\n",
    "cft2 = cf2(tolDiff*s(1,4))\n",
    "cftRe2 = np.real(cft2)\n",
    "cftIm2 = np.imag(cft2)"
   ]
  },
  {
   "cell_type": "code",
   "execution_count": 6,
   "id": "7d6bc016",
   "metadata": {
    "execution": {
     "iopub.execute_input": "2025-03-10T22:16:15.462311Z",
     "iopub.status.busy": "2025-03-10T22:16:15.462154Z",
     "iopub.status.idle": "2025-03-10T22:16:15.553319Z",
     "shell.execute_reply": "2025-03-10T22:16:15.523213Z",
     "shell.execute_reply.started": "2025-03-10T22:16:15.462298Z"
    }
   },
   "outputs": [],
   "source": [
    "# first moments \n",
    "xMean = np.zeros(2)\n",
    "xMean[0] = (8*cftIm1[0]/5 - 2*cftIm1[1]/5 + 8*cftIm1[2]/105 - 2*cftIm1[3]/280) / tolDiff\n",
    "xMean[1] = (8*cftIm2[0]/5 - 2*cftIm2[1]/5 + 8*cftIm2[2]/105 - 2*cftIm2[3]/280) / tolDiff\n",
    "\n",
    "xM2 = np.zeros(2)\n",
    "xM2[0] = (205/72 - 16*cftRe1[0]/5 + 2*cftRe1[1]/5 - 16*cftRe1[2]/315 + 2*cftRe1[3]/560) / tolDiff**2\n",
    "xStd = np.zeros(2)\n",
    "xStd[0] = np.sqrt(xM2[0] - xMean[0]**2)\n",
    "xM2[1] = (205/72 - 16*cftRe2[0]/5 + 2*cftRe2[1]/5 - 16*cftRe2[2]/315 + 2*cftRe2[3]/560) / tolDiff**2\n",
    "xStd[1] = np.sqrt(xM2[1] - xMean[1]**2)"
   ]
  },
  {
   "cell_type": "code",
   "execution_count": 7,
   "id": "9b077329",
   "metadata": {
    "execution": {
     "iopub.execute_input": "2025-03-10T22:16:15.595254Z",
     "iopub.status.busy": "2025-03-10T22:16:15.572062Z",
     "iopub.status.idle": "2025-03-10T22:16:15.912671Z",
     "shell.execute_reply": "2025-03-10T22:16:15.888891Z",
     "shell.execute_reply.started": "2025-03-10T22:16:15.595226Z"
    }
   },
   "outputs": [
    {
     "data": {
      "text/plain": [
       "(array([-4.50075614, -5.00148298]),\n",
       " array([7.50075614, 7.00148298]),\n",
       " array([12.00151229, 12.00296596]))"
      ]
     },
     "execution_count": 7,
     "metadata": {},
     "output_type": "execute_result"
    }
   ],
   "source": [
    "# boundaries and range\n",
    "xMin = xMean - SixSigmaRule * xStd\n",
    "xMax = xMean + SixSigmaRule * xStd\n",
    "Range = xMax - xMin\n",
    "data = xMin, xMax, Range\n",
    "data"
   ]
  },
  {
   "cell_type": "code",
   "execution_count": 8,
   "id": "60fdd383-eaed-4cab-9621-96da18339039",
   "metadata": {
    "execution": {
     "iopub.execute_input": "2025-03-10T22:16:15.913374Z",
     "iopub.status.busy": "2025-03-10T22:16:15.913202Z",
     "iopub.status.idle": "2025-03-10T22:16:16.225829Z",
     "shell.execute_reply": "2025-03-10T22:16:16.217117Z",
     "shell.execute_reply.started": "2025-03-10T22:16:15.913359Z"
    }
   },
   "outputs": [
    {
     "data": {
      "text/html": [
       "<div>\n",
       "<style scoped>\n",
       "    .dataframe tbody tr th:only-of-type {\n",
       "        vertical-align: middle;\n",
       "    }\n",
       "\n",
       "    .dataframe tbody tr th {\n",
       "        vertical-align: top;\n",
       "    }\n",
       "\n",
       "    .dataframe thead th {\n",
       "        text-align: right;\n",
       "    }\n",
       "</style>\n",
       "<table border=\"1\" class=\"dataframe\">\n",
       "  <thead>\n",
       "    <tr style=\"text-align: right;\">\n",
       "      <th></th>\n",
       "      <th>xMin</th>\n",
       "      <th>xMax</th>\n",
       "      <th>Range</th>\n",
       "    </tr>\n",
       "  </thead>\n",
       "  <tbody>\n",
       "    <tr>\n",
       "      <th>0</th>\n",
       "      <td>-4.500756</td>\n",
       "      <td>7.500756</td>\n",
       "      <td>12.001512</td>\n",
       "    </tr>\n",
       "    <tr>\n",
       "      <th>1</th>\n",
       "      <td>-5.001483</td>\n",
       "      <td>7.001483</td>\n",
       "      <td>12.002966</td>\n",
       "    </tr>\n",
       "  </tbody>\n",
       "</table>\n",
       "</div>"
      ],
      "text/plain": [
       "       xMin      xMax      Range\n",
       "0 -4.500756  7.500756  12.001512\n",
       "1 -5.001483  7.001483  12.002966"
      ]
     },
     "execution_count": 8,
     "metadata": {},
     "output_type": "execute_result"
    }
   ],
   "source": [
    "# table of moments\n",
    "cols = ['xMin', 'xMax', 'Range']\n",
    "data_dict = {cols[i]: row for i, row in enumerate(data)}\n",
    "dm = pd.DataFrame(data_dict, columns=cols)\n",
    "dm"
   ]
  }
 ],
 "metadata": {
  "kernelspec": {
   "display_name": "Python 3 (ipykernel)",
   "language": "python",
   "name": "python3"
  },
  "language_info": {
   "codemirror_mode": {
    "name": "ipython",
    "version": 3
   },
   "file_extension": ".py",
   "mimetype": "text/x-python",
   "name": "python",
   "nbconvert_exporter": "python",
   "pygments_lexer": "ipython3",
   "version": "3.12.6"
  }
 },
 "nbformat": 4,
 "nbformat_minor": 5
}
