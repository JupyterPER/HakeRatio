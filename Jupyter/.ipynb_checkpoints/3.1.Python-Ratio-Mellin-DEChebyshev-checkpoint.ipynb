{
 "cells": [
  {
   "attachments": {},
   "cell_type": "markdown",
   "id": "c27c3c15-cea7-4981-a4cf-f65297e7b737",
   "metadata": {
    "execution": {
     "iopub.execute_input": "2024-11-06T12:15:00.677339Z",
     "iopub.status.busy": "2024-11-06T12:15:00.677131Z",
     "iopub.status.idle": "2024-11-06T12:15:01.598938Z",
     "shell.execute_reply": "2024-11-06T12:15:01.597731Z",
     "shell.execute_reply.started": "2024-11-06T12:15:00.677302Z"
    }
   },
   "source": [
    "**Authors:** Jozef Hanč, Martina Hančová  <br> *[Faculty of Science](https://www.upjs.sk/en/faculty-of-science/?prefferedLang=EN), P. J. Šafárik University in Košice, Slovakia* <br> emails: [jozef.hanc@upjs.sk](mailto:jozef.hanc@upjs.sk)\n",
    "***\n",
    "\n",
    "# <font color = brown, size=6> DE quadrature with Chebyshev interpolation: <br> Mellin convolution for ratio of i.r.v.'s\n",
    "</font>\n",
    "\n",
    "<font size=5> Computational tools: </font>  **<font size=5>Python (Numba)</font>**  \n",
    "\n",
    "---"
   ]
  },
  {
   "cell_type": "markdown",
   "id": "0071d1ef-7b7d-4c23-8db9-07493b656fdb",
   "metadata": {},
   "source": [
    "**Section 3.1: preprint**   \n",
    "**Theorem 3** (Mellin convolution for product and ratio (Springer, 1979)).\n",
    "Let $X_1$ and $X_2$ be independent continuous RVs with PDFs $f_1(x)$ and $f_2(x)$. Then, the PDFs of the product and ratio $X_1 X_2$ and $X_1 / X_2$ are given by:\n",
    "\n",
    "$$\n",
    "\\left(f_1 \\odot f_2\\right)(t)=\\int_{-\\infty}^{+\\infty} f_1(x) f_2\\left(\\frac{t}{x}\\right) \\frac{1}{|x|} d x,\\left(f_1 \\oslash f_2\\right)(t)=\\int_{-\\infty}^{+\\infty} f_1(x t) f_2(x)|x| d x\n",
    "$$\n",
    "\n",
    "\n",
    "For the ratio $T=X_1 / X_2$ of independent random variables $X_1 \\sim \\mathcal{N}(a, 1)$ and $X_2 \\sim$ $\\mathcal{N}(b, 1)$, substituting the PDFs of $X_1$ and $X_2$,\n",
    "\n",
    "$$\n",
    "f_1(x)=(1 / \\sqrt{2 \\pi}) \\exp \\left(-\\frac{(x-a)^2}{2}\\right), f_2(x)=(1 / \\sqrt{2 \\pi}) \\exp \\left(-\\frac{(x-b)^2}{2}\\right)\n",
    "$$\n",
    "\n",
    "into the Mellin convolution (3.9) gives us the PDF of the ratio distribution\n",
    "\n",
    "$$\n",
    "f_T(t) \\equiv\\left(f_1 \\oslash f_2\\right)(t)=\\frac{1}{2 \\pi} \\int_{-\\infty}^{\\infty} \\exp \\left(-\\frac{(x t-a)^2+(x-b)^2}{2}\\right)|x| d x\n",
    "$$\n",
    "\n",
    "**Ref.** Hanč J., Hančová M., Borovský D., Probability distributions and calculations for Hake’s ratio statistics in measuring effect size, \n",
    "*preprint submitted to Statistical Papers*"
   ]
  },
  {
   "attachments": {},
   "cell_type": "markdown",
   "id": "47c44a95-6dae-48b6-96b2-ac5af4b608f2",
   "metadata": {},
   "source": [
    "# Hake ratio as an example\n",
    "\n",
    "**Hake ratio** - For ratio of indepedent normal variables in $T = X_1/X_2$\n",
    "\n",
    "Numerator $ X_1 \\sim N(a, 1), a = 1.5 $:\n",
    "- PDF: $f_1(x)=(1 / \\sqrt{2 \\pi}) \\exp \\left(-\\frac{(x-a)^2}{2}\\right)$\n",
    "\n",
    "Denominator $ X_2 \\sim N(b, 1) $, $ b = 1 $\\:\n",
    "- PDF: $f_2(x)=(1 / \\sqrt{2 \\pi}) \\exp \\left(-\\frac{(x-b)^2}{2}\\right)$"
   ]
  },
  {
   "cell_type": "code",
   "execution_count": 1,
   "id": "60fdd383-eaed-4cab-9621-96da18339039",
   "metadata": {
    "execution": {
     "iopub.execute_input": "2024-11-17T22:56:17.838767Z",
     "iopub.status.busy": "2024-11-17T22:56:17.838767Z",
     "iopub.status.idle": "2024-11-17T22:56:17.882412Z",
     "shell.execute_reply": "2024-11-17T22:56:17.881936Z",
     "shell.execute_reply.started": "2024-11-17T22:56:17.838767Z"
    }
   },
   "outputs": [],
   "source": [
    "%%capture\n",
    "%run Python-HakeRatio-CharFun-Moments.ipynb"
   ]
  },
  {
   "cell_type": "markdown",
   "id": "c73589f6-49e9-4a4c-b95c-2f7fe1a5f90d",
   "metadata": {},
   "source": [
    "## Mellin Pdf convolution via DE with Chebyshev interpolation\n",
    "\n",
    "`Chebyshev.py` - Python package provides tools for interpolating probability density functions This Python package provides tools for interpolating probability density functions (PDFs) using barycentric interpolation based on Chebyshev polynomials. It includes several key functions: \n",
    "\n",
    "- **`chebyshev_points`**: Generates Chebyshev nodes over a given interval.  \n",
    "- **`chebyshev_interpolant`**: Creates a Chebyshev interpolant for smooth function approximation.  \n",
    "- **`InterpPDF`**: Evaluates interpolated PDFs at specified points using barycentric interpolation.  \n",
    "- **`DE_CC_pdf`**: Computes interpolated PDFs directly from evaluations at Chebyshev nodes (primarily the function value at node can be from DE quadrature)\n",
    "\n",
    "Leveraging both NumPy and Numba for efficient computations, it facilitates high-performance tasks such as generating interpolated PDFs from pre-calculated values or directly from function evaluations at Chebyshev points. \n",
    "\n",
    "*Ref.* Originally based on the CharFunTool by Witkovský (2023), this package has been adapted and extended to support Python workflows with a focus on precision and parallelization."
   ]
  },
  {
   "cell_type": "code",
   "execution_count": 2,
   "id": "9dd422e6-868c-4e4c-af05-b30d0df5780f",
   "metadata": {
    "ExecuteTime": {
     "end_time": "2021-06-01T21:07:59.766038Z",
     "start_time": "2021-06-01T21:07:59.745477Z"
    },
    "execution": {
     "iopub.execute_input": "2024-11-17T22:56:17.882412Z",
     "iopub.status.busy": "2024-11-17T22:56:17.882412Z",
     "iopub.status.idle": "2024-11-17T22:56:18.964573Z",
     "shell.execute_reply": "2024-11-17T22:56:18.964573Z",
     "shell.execute_reply.started": "2024-11-17T22:56:17.882412Z"
    }
   },
   "outputs": [],
   "source": [
    "import scipy.special as sp\n",
    "from TR_DE_Cheb.DEQuadratureNumba import *\n",
    "from TR_DE_Cheb.Chebyshev import *"
   ]
  },
  {
   "cell_type": "markdown",
   "id": "d1051215-dc21-4586-8c8e-2e47d5894905",
   "metadata": {},
   "source": [
    "### integrand"
   ]
  },
  {
   "cell_type": "code",
   "execution_count": 3,
   "id": "af056b96-d00a-44b2-ba95-e5d38489d596",
   "metadata": {
    "ExecuteTime": {
     "end_time": "2021-06-01T21:08:28.262941Z",
     "start_time": "2021-06-01T21:08:28.242940Z"
    },
    "execution": {
     "iopub.execute_input": "2024-11-17T22:56:18.965578Z",
     "iopub.status.busy": "2024-11-17T22:56:18.965578Z",
     "iopub.status.idle": "2024-11-17T22:56:18.968971Z",
     "shell.execute_reply": "2024-11-17T22:56:18.968971Z",
     "shell.execute_reply.started": "2024-11-17T22:56:18.965578Z"
    }
   },
   "outputs": [],
   "source": [
    "# Numba integrands\n",
    "d = (1/(2*math.pi))\n",
    "\n",
    "@njit(fastmath=True)\n",
    "def fgnp(x,z):\n",
    "    fval = math.exp(-(x*z-a)**2/2)\n",
    "    gval = math.exp(-(x-b)**2/2)\n",
    "    return d*fval*gval*abs(x)\n",
    "\n",
    "@njit(fastmath=True)\n",
    "def fgnm(x,z):\n",
    "    return fgnp(-x,z)"
   ]
  },
  {
   "cell_type": "code",
   "execution_count": 4,
   "id": "a3e3ed25-0a80-4234-9ad8-8cc8c81f0478",
   "metadata": {
    "execution": {
     "iopub.execute_input": "2024-11-17T22:56:18.969976Z",
     "iopub.status.busy": "2024-11-17T22:56:18.969976Z",
     "iopub.status.idle": "2024-11-17T22:56:19.174972Z",
     "shell.execute_reply": "2024-11-17T22:56:19.174972Z",
     "shell.execute_reply.started": "2024-11-17T22:56:18.969976Z"
    }
   },
   "outputs": [
    {
     "name": "stdout",
     "output_type": "stream",
     "text": [
      "The slowest run took 2299.81 times longer than the fastest. This could mean that an intermediate result is being cached.\n",
      "19.9 μs ± 59.4 μs per loop (mean ± std. dev. of 10 runs, 1,000 loops each)\n"
     ]
    }
   ],
   "source": [
    "rtn = runtime('fgnp(1,0.5)', r=10, n=1000)"
   ]
  },
  {
   "cell_type": "markdown",
   "id": "de76574f-ef00-40ee-bf8f-845e0d9dc5c3",
   "metadata": {},
   "source": [
    "### quadrature"
   ]
  },
  {
   "cell_type": "code",
   "execution_count": 5,
   "id": "41de9e0e-17e1-42bf-8678-d0d9ccc2e199",
   "metadata": {
    "ExecuteTime": {
     "end_time": "2021-06-01T21:08:56.021779Z",
     "start_time": "2021-06-01T21:08:56.013805Z"
    },
    "execution": {
     "iopub.execute_input": "2024-11-17T22:56:19.174972Z",
     "iopub.status.busy": "2024-11-17T22:56:19.174972Z",
     "iopub.status.idle": "2024-11-17T22:56:19.181026Z",
     "shell.execute_reply": "2024-11-17T22:56:19.181026Z",
     "shell.execute_reply.started": "2024-11-17T22:56:19.174972Z"
    }
   },
   "outputs": [],
   "source": [
    "# default relative precision\n",
    "eps = 1e-15\n",
    "\n",
    "# DE numba, quadrature\n",
    "intdeip = make_intdei(fgnp)\n",
    "intdeim = make_intdei(fgnm)\n",
    "\n",
    "@njit(fastmath=True)\n",
    "def fconden(z, eps_rel = eps):\n",
    "    pvalue = intdeip(0,z, eps_rel)[0]\n",
    "    nvalue = intdeim(0,z, eps_rel)[0] \n",
    "    return pvalue+nvalue\n",
    "\n",
    "@njit(parallel=True, fastmath=True)\n",
    "def fcondenp(x_array, eps_rel = eps):\n",
    "    n = x_array.size\n",
    "    result = np.empty(n, dtype=np.float64)\n",
    "    for i in prange(n):\n",
    "        result[i] = fconden(x_array[i], eps_rel)\n",
    "    return result"
   ]
  },
  {
   "cell_type": "code",
   "execution_count": 6,
   "id": "b21ec6b1-ec7f-431b-8384-66a8148b5470",
   "metadata": {
    "ExecuteTime": {
     "end_time": "2021-06-01T21:08:56.021779Z",
     "start_time": "2021-06-01T21:08:56.013805Z"
    },
    "execution": {
     "iopub.execute_input": "2024-11-17T22:56:19.183045Z",
     "iopub.status.busy": "2024-11-17T22:56:19.183045Z",
     "iopub.status.idle": "2024-11-17T22:56:20.042672Z",
     "shell.execute_reply": "2024-11-17T22:56:20.042157Z",
     "shell.execute_reply.started": "2024-11-17T22:56:19.183045Z"
    }
   },
   "outputs": [
    {
     "name": "stdout",
     "output_type": "stream",
     "text": [
      "0.3370542089471513 0.3370542089471513\n",
      "0.0\n",
      "9.51 μs ± 393 ns per loop (mean ± std. dev. of 10 runs, 1,000 loops each)\n"
     ]
    }
   ],
   "source": [
    "fexact = np.longdouble(0.337054208947151326597489182172)\n",
    "print(fexact, fconden(1))\n",
    "print(fconden(1)-fexact)\n",
    "rtn = runtime('fconden(1)', r=10, n=1000)"
   ]
  },
  {
   "cell_type": "markdown",
   "id": "dda4f8fc-c14f-4e37-a7cd-093e91382168",
   "metadata": {},
   "source": [
    "# Chebyshev interpolation"
   ]
  },
  {
   "cell_type": "code",
   "execution_count": 7,
   "id": "7223caaf-ba11-4f00-ae01-5ff2a0b22259",
   "metadata": {
    "execution": {
     "iopub.execute_input": "2024-11-17T22:56:20.043679Z",
     "iopub.status.busy": "2024-11-17T22:56:20.042672Z",
     "iopub.status.idle": "2024-11-17T22:56:20.046024Z",
     "shell.execute_reply": "2024-11-17T22:56:20.046024Z",
     "shell.execute_reply.started": "2024-11-17T22:56:20.043679Z"
    }
   },
   "outputs": [],
   "source": [
    "# set of values x for pdf\n",
    "N = 1000\n",
    "x = np.linspace(xMin[0], xMax[0], N)"
   ]
  },
  {
   "cell_type": "code",
   "execution_count": 8,
   "id": "6e6c3309-0dd4-4430-9011-427115b70879",
   "metadata": {
    "execution": {
     "iopub.execute_input": "2024-11-17T22:56:20.047305Z",
     "iopub.status.busy": "2024-11-17T22:56:20.047037Z",
     "iopub.status.idle": "2024-11-17T22:56:21.251081Z",
     "shell.execute_reply": "2024-11-17T22:56:21.250555Z",
     "shell.execute_reply.started": "2024-11-17T22:56:20.047305Z"
    }
   },
   "outputs": [],
   "source": [
    "chebyPts = 2**7 + 1  # Number of Chebyshev points\n",
    "xN = chebyPts\n",
    "x1 = chebyshev_points(xMin[0], xMax[0],xN)\n",
    "f1 = fcondenp(x1,1e-6)\n",
    "f_eval1 = InterpPDF(x,x1,f1)"
   ]
  },
  {
   "cell_type": "code",
   "execution_count": 9,
   "id": "965c5427-79f4-4f86-b704-da5f269f5637",
   "metadata": {
    "execution": {
     "iopub.execute_input": "2024-11-17T22:56:21.251081Z",
     "iopub.status.busy": "2024-11-17T22:56:21.251081Z",
     "iopub.status.idle": "2024-11-17T22:56:21.441728Z",
     "shell.execute_reply": "2024-11-17T22:56:21.441728Z",
     "shell.execute_reply.started": "2024-11-17T22:56:21.251081Z"
    }
   },
   "outputs": [
    {
     "data": {
      "image/png": "[encoded data removed]",
      "text/plain": [
       "<Figure size 640x480 with 1 Axes>"
      ]
     },
     "metadata": {},
     "output_type": "display_data"
    }
   ],
   "source": [
    "# plot\n",
    "plt.figure()\n",
    "plt.plot(x, f_eval1, 'b', linewidth=2)\n",
    "plt.xlim([xMin[0], xMax[0]])  # plot in sigma range\n",
    "plt.grid(True)\n",
    "plt.title('check the agreement ')\n",
    "plt.xlabel('$x$')\n",
    "plt.ylabel('pdf')\n",
    "plt.legend(['$f_{eval1}(t)$']);"
   ]
  },
  {
   "cell_type": "code",
   "execution_count": 10,
   "id": "5ae8f309-2d8c-473f-a9be-aeabb54d3da7",
   "metadata": {
    "execution": {
     "iopub.execute_input": "2024-11-17T22:56:21.441728Z",
     "iopub.status.busy": "2024-11-17T22:56:21.441728Z",
     "iopub.status.idle": "2024-11-17T22:56:21.728023Z",
     "shell.execute_reply": "2024-11-17T22:56:21.727564Z",
     "shell.execute_reply.started": "2024-11-17T22:56:21.441728Z"
    }
   },
   "outputs": [
    {
     "data": {
      "text/plain": [
       "7.215120112480378e-09"
      ]
     },
     "execution_count": 10,
     "metadata": {},
     "output_type": "execute_result"
    }
   ],
   "source": [
    "np.max(np.abs(f_eval1-fcondenp(x)))"
   ]
  },
  {
   "cell_type": "code",
   "execution_count": 11,
   "id": "88dac2fe-c95e-4620-b726-aca6bc0eab21",
   "metadata": {
    "execution": {
     "iopub.execute_input": "2024-11-17T22:56:21.728023Z",
     "iopub.status.busy": "2024-11-17T22:56:21.728023Z",
     "iopub.status.idle": "2024-11-17T22:56:25.937363Z",
     "shell.execute_reply": "2024-11-17T22:56:25.937363Z",
     "shell.execute_reply.started": "2024-11-17T22:56:21.728023Z"
    }
   },
   "outputs": [
    {
     "name": "stdout",
     "output_type": "stream",
     "text": [
      "1.4 ms ± 4.29 μs per loop (mean ± std. dev. of 3 runs, 1,000 loops each)\n"
     ]
    }
   ],
   "source": [
    "runtime('''\n",
    "chebyPts = 2**7 + 1  # Number of Chebyshev points\n",
    "xN = chebyPts\n",
    "x1 = chebyshev_points(xMin[0], xMax[0],xN)\n",
    "f1 = fcondenp(x1,1e-6)\n",
    "f_eval = InterpPDF(x,x1,f1)\n",
    "''');"
   ]
  },
  {
   "cell_type": "code",
   "execution_count": 12,
   "id": "27e2aebe-6635-4419-9035-82d6aa6d3def",
   "metadata": {
    "execution": {
     "iopub.execute_input": "2024-11-17T22:56:25.938374Z",
     "iopub.status.busy": "2024-11-17T22:56:25.938374Z",
     "iopub.status.idle": "2024-11-17T22:56:25.945182Z",
     "shell.execute_reply": "2024-11-17T22:56:25.945094Z",
     "shell.execute_reply.started": "2024-11-17T22:56:25.938374Z"
    }
   },
   "outputs": [],
   "source": [
    "f_eval2 = DE_CC_pdf(fcondenp, x, xMin[0], xMax[0], 2**8+1, eps)"
   ]
  },
  {
   "cell_type": "code",
   "execution_count": 13,
   "id": "f96f300c-a134-44fa-b52f-576d82f57262",
   "metadata": {
    "execution": {
     "iopub.execute_input": "2024-11-17T22:56:25.946188Z",
     "iopub.status.busy": "2024-11-17T22:56:25.946188Z",
     "iopub.status.idle": "2024-11-17T22:56:26.047399Z",
     "shell.execute_reply": "2024-11-17T22:56:26.046901Z",
     "shell.execute_reply.started": "2024-11-17T22:56:25.946188Z"
    }
   },
   "outputs": [
    {
     "data": {
      "image/png": "[encoded data removed]",
      "text/plain": [
       "<Figure size 640x480 with 1 Axes>"
      ]
     },
     "metadata": {},
     "output_type": "display_data"
    }
   ],
   "source": [
    "# plot\n",
    "plt.figure()\n",
    "plt.plot(x, f_eval2, 'b', linewidth=2)\n",
    "plt.xlim([xMin[0], xMax[0]])  # plot in sigma range\n",
    "plt.grid(True)\n",
    "plt.title('check the agreement ')\n",
    "plt.xlabel('$x$')\n",
    "plt.ylabel('pdf')\n",
    "plt.legend(['$f_{eval2}(t)$']);"
   ]
  },
  {
   "cell_type": "code",
   "execution_count": 14,
   "id": "75514b74-7c4c-45e0-9220-67c508439fa8",
   "metadata": {
    "execution": {
     "iopub.execute_input": "2024-11-17T22:56:26.047399Z",
     "iopub.status.busy": "2024-11-17T22:56:26.047399Z",
     "iopub.status.idle": "2024-11-17T22:56:26.053090Z",
     "shell.execute_reply": "2024-11-17T22:56:26.053090Z",
     "shell.execute_reply.started": "2024-11-17T22:56:26.047399Z"
    }
   },
   "outputs": [
    {
     "data": {
      "text/plain": [
       "5.551115123125783e-16"
      ]
     },
     "execution_count": 14,
     "metadata": {},
     "output_type": "execute_result"
    }
   ],
   "source": [
    "np.max(np.abs(f_eval2-fcondenp(x)))"
   ]
  },
  {
   "cell_type": "code",
   "execution_count": 15,
   "id": "e9ffe0f6-4bfa-4006-8ec8-7ed1fb80fcc2",
   "metadata": {
    "execution": {
     "iopub.execute_input": "2024-11-17T22:56:26.053090Z",
     "iopub.status.busy": "2024-11-17T22:56:26.053090Z",
     "iopub.status.idle": "2024-11-17T22:56:30.561970Z",
     "shell.execute_reply": "2024-11-17T22:56:30.561970Z",
     "shell.execute_reply.started": "2024-11-17T22:56:26.053090Z"
    },
    "scrolled": true
   },
   "outputs": [
    {
     "name": "stdout",
     "output_type": "stream",
     "text": [
      "1.5 ms ± 23.3 μs per loop (mean ± std. dev. of 3 runs, 1,000 loops each)\n"
     ]
    }
   ],
   "source": [
    "runtime('DE_CC_pdf(fcondenp, x, xMin[0], xMax[0], chebyPts, eps)', r=3, n=1000);"
   ]
  },
  {
   "cell_type": "markdown",
   "id": "d2e666a2-5a7f-4df7-85c9-65ce8cf7fee5",
   "metadata": {},
   "source": [
    "# Plots"
   ]
  },
  {
   "cell_type": "markdown",
   "id": "7f60a3e2-7600-4514-808a-a98e186e0c5f",
   "metadata": {},
   "source": [
    "## Analytic form of PDF\n",
    "Pham-Gia 2007\n",
    "- Pham-Gia, T., Turkkan, N., & Marchand, E. (2007). Density of the Ratio of Two Normal Random Variables and Applications. Communications in Statistics - Theory and Methods, 35(9), 1569–1591. https://doi.org/10.1080/03610920600683689\n",
    "\n",
    "$$\n",
    "f_T(t) = \\frac{\\exp\\left(-\\frac{a^2 + b^2}{2}\\right)}{\\pi (1 + t^2)}{}_1F_1\\left(\\begin{array}{c}\n",
    "1 \\\\\n",
    "1 / 2\n",
    "\\end{array}; \\frac{q^2}{2}\\right), \\quad q = \\frac{b + a t}{\\sqrt{1 + t^2}}\n",
    "$$\n"
   ]
  },
  {
   "cell_type": "code",
   "execution_count": 16,
   "id": "16e3296c-79e7-4686-8dfa-9e920868ee93",
   "metadata": {
    "execution": {
     "iopub.execute_input": "2024-11-17T22:56:30.562977Z",
     "iopub.status.busy": "2024-11-17T22:56:30.562977Z",
     "iopub.status.idle": "2024-11-17T22:56:30.566796Z",
     "shell.execute_reply": "2024-11-17T22:56:30.566278Z",
     "shell.execute_reply.started": "2024-11-17T22:56:30.562977Z"
    }
   },
   "outputs": [
    {
     "data": {
      "text/plain": [
       "3.9319711356445857"
      ]
     },
     "execution_count": 16,
     "metadata": {},
     "output_type": "execute_result"
    }
   ],
   "source": [
    "from scipy.special import hyp1f1\n",
    "hyp1f1(a,b,1)"
   ]
  },
  {
   "cell_type": "code",
   "execution_count": 17,
   "id": "f1952551-fa0a-4a63-b763-e8be62f97345",
   "metadata": {
    "execution": {
     "iopub.execute_input": "2024-11-17T22:56:30.566796Z",
     "iopub.status.busy": "2024-11-17T22:56:30.566796Z",
     "iopub.status.idle": "2024-11-17T22:56:30.570858Z",
     "shell.execute_reply": "2024-11-17T22:56:30.570858Z",
     "shell.execute_reply.started": "2024-11-17T22:56:30.566796Z"
    }
   },
   "outputs": [],
   "source": [
    "# Define the function f_T for specific values\n",
    "f_k = lambda t, a=a, b=b: np.exp(-(a**2 + b**2) / 2) / (np.pi * (1 + t**2))\n",
    "q =  lambda t,  a=a, b=b: (b + a * t) / np.sqrt(1 + t**2)\n",
    "\n",
    "# Analytic version of PDF for f_T \n",
    "fT = lambda t: f_k(t)* hyp1f1(1,1/2,q(t)**2/2)\n",
    "\n",
    "# Values of the function f_T for plot\n",
    "fT_values = fT(x)"
   ]
  },
  {
   "cell_type": "code",
   "execution_count": 18,
   "id": "74ae0f34-3c9d-4bd6-90a4-8840e24e8cd5",
   "metadata": {
    "execution": {
     "iopub.execute_input": "2024-11-17T22:56:30.570858Z",
     "iopub.status.busy": "2024-11-17T22:56:30.570858Z",
     "iopub.status.idle": "2024-11-17T22:56:30.684350Z",
     "shell.execute_reply": "2024-11-17T22:56:30.684350Z",
     "shell.execute_reply.started": "2024-11-17T22:56:30.570858Z"
    }
   },
   "outputs": [
    {
     "data": {
      "image/png": "[encoded data removed]",
      "text/plain": [
       "<Figure size 640x480 with 1 Axes>"
      ]
     },
     "metadata": {},
     "output_type": "display_data"
    }
   ],
   "source": [
    "# RPDF vs Analytic\n",
    "plt.figure()\n",
    "plt.plot(x, fT_values, 'r', linewidth=2)\n",
    "plt.plot(x, f_eval2, 'g--', linewidth=1)\n",
    "plt.xlim([xMin[0], xMax[0]])  # plot in sigma range\n",
    "plt.grid(True)\n",
    "plt.title('Analytic PDF vs. Num Inv PDF - loop Alg1')\n",
    "plt.xlabel('$x$')\n",
    "plt.ylabel('pdf')\n",
    "plt.legend(['$AF f_T(t)$', 'DE f_T(t)']);"
   ]
  }
 ],
 "metadata": {
  "kernelspec": {
   "display_name": "Python 3 (ipykernel)",
   "language": "python",
   "name": "python3"
  },
  "language_info": {
   "codemirror_mode": {
    "name": "ipython",
    "version": 3
   },
   "file_extension": ".py",
   "mimetype": "text/x-python",
   "name": "python",
   "nbconvert_exporter": "python",
   "pygments_lexer": "ipython3",
   "version": "3.12.6"
  }
 },
 "nbformat": 4,
 "nbformat_minor": 5
}
