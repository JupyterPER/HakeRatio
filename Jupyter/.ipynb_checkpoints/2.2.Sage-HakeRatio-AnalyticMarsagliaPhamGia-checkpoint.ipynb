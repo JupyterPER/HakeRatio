{
 "cells": [
  {
   "attachments": {},
   "cell_type": "markdown",
   "metadata": {},
   "source": [
    "**Authors:** Jozef Hanč, Martina Hančová  <br> *[Faculty of Science](https://www.upjs.sk/en/faculty-of-science/?prefferedLang=EN), P. J. Šafárik University in Košice, Slovakia* <br> emails: [jozef.hanc@upjs.sk](mailto:jozef.hanc@upjs.sk)\n",
    "***\n",
    "\n",
    "# <font color = brown, size=6> Marsaglia vs. Pham-Gia forms - equivalence\n",
    "</font>\n",
    "\n",
    "<font size=5> Computational tools: </font>  **<font size=5>SageMath</font>**  \n",
    "\n",
    "---\n"
   ]
  },
  {
   "cell_type": "markdown",
   "metadata": {},
   "source": [
    "## Analytic forms \n",
    "Marsaglia 2006\n",
    "- Marsaglia, George. 2006. “Ratios of Normal Variables.” Journal of Statistical Software 16 (4). https://doi.org/10.18637/jss.v016.i04.\n",
    "\n",
    "\n",
    "$$\n",
    "f_T(t) = \\frac{\\exp\\left(-\\frac{a^2 + b^2}{2}\\right)}{\\pi (1 + t^2)}\\left( 1 + q \\exp\\left(\\frac{q^2}{2}\\right) \\int_0^q \\exp\\left(-\\frac{x^2}{2}\\right) \\, dx \\right), \\quad q = \\frac{b + a t}{\\sqrt{1 + t^2}}\n",
    "$$"
   ]
  },
  {
   "cell_type": "markdown",
   "metadata": {},
   "source": [
    "Pham-Gia 2007\n",
    "- Pham-Gia, T., Turkkan, N., & Marchand, E. (2007). Density of the Ratio of Two Normal Random Variables and Applications. Communications in Statistics - Theory and Methods, 35(9), 1569–1591. https://doi.org/10.1080/03610920600683689\n",
    "\n",
    "$$\\left( 1 + q \\exp\\left(\\frac{q^2}{2}\\right) \\int_0^q \\exp\\left(-\\frac{x^2}{2}\\right) \\, dx \\right)= {}_1F_1\\left(\\begin{array}{c}\n",
    "1 \\\\\n",
    "1 / 2\n",
    "\\end{array}; \\frac{q^2}{2}\\right)$$\n",
    "\n",
    "$$\n",
    "f_T(t) = \\frac{\\exp\\left(-\\frac{a^2 + b^2}{2}\\right)}{\\pi (1 + t^2)}{}_1F_1\\left(\\begin{array}{c}\n",
    "1 \\\\\n",
    "1 / 2\n",
    "\\end{array};\\frac{q^2}{2}\\right), \\quad q = \\frac{b + a t}{\\sqrt{1 + t^2}}\n",
    "$$\n"
   ]
  },
  {
   "cell_type": "markdown",
   "metadata": {},
   "source": [
    "# Defining diferent parts of formulas"
   ]
  },
  {
   "cell_type": "code",
   "execution_count": 1,
   "metadata": {
    "execution": {
     "iopub.execute_input": "2024-11-15T21:36:41.233196Z",
     "iopub.status.busy": "2024-11-15T21:36:41.232640Z",
     "iopub.status.idle": "2024-11-15T21:36:42.510289Z",
     "shell.execute_reply": "2024-11-15T21:36:42.509374Z",
     "shell.execute_reply.started": "2024-11-15T21:36:41.233168Z"
    }
   },
   "outputs": [],
   "source": [
    "# Define variables\n",
    "a, b, t, q = var('a, b, t, q')\n",
    "\n",
    "# Given that q = (b + a*t) / sqrt(1 + t^2) is the upper bound from 0 to q, \n",
    "# the following holds:\n",
    "assume(b+a*t>0)"
   ]
  },
  {
   "cell_type": "markdown",
   "metadata": {},
   "source": [
    "**Marsaglia 2006**"
   ]
  },
  {
   "cell_type": "code",
   "execution_count": 2,
   "metadata": {
    "execution": {
     "iopub.execute_input": "2024-11-15T21:36:42.514496Z",
     "iopub.status.busy": "2024-11-15T21:36:42.513962Z",
     "iopub.status.idle": "2024-11-15T21:36:42.929150Z",
     "shell.execute_reply": "2024-11-15T21:36:42.928093Z",
     "shell.execute_reply.started": "2024-11-15T21:36:42.514470Z"
    }
   },
   "outputs": [
    {
     "data": {
      "text/html": [
       "<html>\\(\\displaystyle q e^{\\left(\\frac{1}{2} \\, q^{2}\\right)} \\int_{0}^{q} e^{\\left(-\\frac{1}{2} \\, x^{2}\\right)}\\,{d x} + 1\\)</html>"
      ],
      "text/latex": [
       "$\\displaystyle q e^{\\left(\\frac{1}{2} \\, q^{2}\\right)} \\int_{0}^{q} e^{\\left(-\\frac{1}{2} \\, x^{2}\\right)}\\,{d x} + 1$"
      ],
      "text/plain": [
       "q*e^(1/2*q^2)*integrate(e^(-1/2*x^2), x, 0, q) + 1"
      ]
     },
     "metadata": {},
     "output_type": "display_data"
    }
   ],
   "source": [
    "fMars(q) = (1+q*exp(1/2*q^2)*integral(exp(-1/2*x^2),x, 0, q, hold=True))\n",
    "fMars(q).show()"
   ]
  },
  {
   "cell_type": "markdown",
   "metadata": {},
   "source": [
    "**Pham-Gia 2007**"
   ]
  },
  {
   "cell_type": "code",
   "execution_count": 3,
   "metadata": {
    "execution": {
     "iopub.execute_input": "2024-11-15T21:36:42.932898Z",
     "iopub.status.busy": "2024-11-15T21:36:42.931520Z",
     "iopub.status.idle": "2024-11-15T21:36:42.938946Z",
     "shell.execute_reply": "2024-11-15T21:36:42.938280Z",
     "shell.execute_reply.started": "2024-11-15T21:36:42.932870Z"
    }
   },
   "outputs": [],
   "source": [
    "M(a,b,z) = hypergeometric_M(a,b,z)"
   ]
  },
  {
   "cell_type": "code",
   "execution_count": 4,
   "metadata": {
    "execution": {
     "iopub.execute_input": "2024-11-15T21:36:42.940548Z",
     "iopub.status.busy": "2024-11-15T21:36:42.939539Z",
     "iopub.status.idle": "2024-11-15T21:36:42.952806Z",
     "shell.execute_reply": "2024-11-15T21:36:42.951396Z",
     "shell.execute_reply.started": "2024-11-15T21:36:42.940514Z"
    }
   },
   "outputs": [
    {
     "data": {
      "text/html": [
       "<html>\\(\\displaystyle \\,_1F_1\\left(\\begin{matrix} a \\\\ b \\end{matrix} ; z \\right)\\)</html>"
      ],
      "text/latex": [
       "$\\displaystyle \\,_1F_1\\left(\\begin{matrix} a \\\\ b \\end{matrix} ; z \\right)$"
      ],
      "text/plain": [
       "hypergeometric((a,), (b,), z)"
      ]
     },
     "metadata": {},
     "output_type": "display_data"
    }
   ],
   "source": [
    "M(a,b,z).generalized().show()"
   ]
  },
  {
   "cell_type": "code",
   "execution_count": 5,
   "metadata": {
    "execution": {
     "iopub.execute_input": "2024-11-15T21:36:42.954966Z",
     "iopub.status.busy": "2024-11-15T21:36:42.954320Z",
     "iopub.status.idle": "2024-11-15T21:36:42.966211Z",
     "shell.execute_reply": "2024-11-15T21:36:42.964960Z",
     "shell.execute_reply.started": "2024-11-15T21:36:42.954938Z"
    }
   },
   "outputs": [
    {
     "data": {
      "text/html": [
       "<html>\\(\\displaystyle \\,_1F_1\\left(\\begin{matrix} 1 \\\\ \\frac{1}{2} \\end{matrix} ; \\frac{1}{2} \\, q^{2} \\right)\\)</html>"
      ],
      "text/latex": [
       "$\\displaystyle \\,_1F_1\\left(\\begin{matrix} 1 \\\\ \\frac{1}{2} \\end{matrix} ; \\frac{1}{2} \\, q^{2} \\right)$"
      ],
      "text/plain": [
       "hypergeometric((1,), (1/2,), 1/2*q^2)"
      ]
     },
     "metadata": {},
     "output_type": "display_data"
    }
   ],
   "source": [
    "fPham(q) = M(1,1/2, q^2/2).generalized()\n",
    "fPham(q).show()"
   ]
  },
  {
   "cell_type": "markdown",
   "metadata": {
    "execution": {
     "iopub.execute_input": "2024-11-15T21:23:40.914634Z",
     "iopub.status.busy": "2024-11-15T21:23:40.913612Z",
     "iopub.status.idle": "2024-11-15T21:23:42.519554Z",
     "shell.execute_reply": "2024-11-15T21:23:42.518740Z",
     "shell.execute_reply.started": "2024-11-15T21:23:40.914599Z"
    }
   },
   "source": [
    "# Analytical comparison of formulas"
   ]
  },
  {
   "cell_type": "code",
   "execution_count": 6,
   "metadata": {
    "execution": {
     "iopub.execute_input": "2024-11-15T21:36:42.967921Z",
     "iopub.status.busy": "2024-11-15T21:36:42.967393Z",
     "iopub.status.idle": "2024-11-15T21:36:43.198516Z",
     "shell.execute_reply": "2024-11-15T21:36:43.197664Z",
     "shell.execute_reply.started": "2024-11-15T21:36:42.967896Z"
    }
   },
   "outputs": [
    {
     "data": {
      "text/plain": [
       "0"
      ]
     },
     "execution_count": 6,
     "metadata": {},
     "output_type": "execute_result"
    }
   ],
   "source": [
    "assume(q > 0)\n",
    "(fMars(q)-fPham(q)).simplify_hypergeometric().canonicalize_radical()"
   ]
  },
  {
   "cell_type": "markdown",
   "metadata": {
    "execution": {
     "iopub.execute_input": "2024-11-15T21:25:47.288425Z",
     "iopub.status.busy": "2024-11-15T21:25:47.287665Z",
     "iopub.status.idle": "2024-11-15T21:25:47.292711Z",
     "shell.execute_reply": "2024-11-15T21:25:47.292100Z",
     "shell.execute_reply.started": "2024-11-15T21:25:47.288393Z"
    }
   },
   "source": [
    "# Grahical comparison of formulas"
   ]
  },
  {
   "cell_type": "markdown",
   "metadata": {
    "execution": {
     "iopub.execute_input": "2024-11-15T21:33:19.178819Z",
     "iopub.status.busy": "2024-11-15T21:33:19.178067Z",
     "iopub.status.idle": "2024-11-15T21:33:19.225068Z",
     "shell.execute_reply": "2024-11-15T21:33:19.223942Z",
     "shell.execute_reply.started": "2024-11-15T21:33:19.178794Z"
    }
   },
   "source": [
    "## Marsaglia 2006"
   ]
  },
  {
   "cell_type": "code",
   "execution_count": 7,
   "metadata": {
    "execution": {
     "iopub.execute_input": "2024-11-15T21:36:43.199794Z",
     "iopub.status.busy": "2024-11-15T21:36:43.199249Z",
     "iopub.status.idle": "2024-11-15T21:36:43.242843Z",
     "shell.execute_reply": "2024-11-15T21:36:43.241726Z",
     "shell.execute_reply.started": "2024-11-15T21:36:43.199770Z"
    }
   },
   "outputs": [
    {
     "data": {
      "text/html": [
       "<html>\\(\\displaystyle t \\ {\\mapsto}\\ \\frac{{\\left(\\frac{\\sqrt{2} \\sqrt{\\pi} {\\left(a t + b\\right)} \\operatorname{erf}\\left(\\frac{\\sqrt{2} {\\left(a t + b\\right)}}{2 \\, \\sqrt{t^{2} + 1}}\\right) e^{\\left(\\frac{{\\left(a t + b\\right)}^{2}}{2 \\, {\\left(t^{2} + 1\\right)}}\\right)}}{\\sqrt{t^{2} + 1}} + 2\\right)} e^{\\left(-\\frac{1}{2} \\, a^{2} - \\frac{1}{2} \\, b^{2}\\right)}}{2 \\, \\pi {\\left(t^{2} + 1\\right)}}\\)</html>"
      ],
      "text/latex": [
       "$\\displaystyle t \\ {\\mapsto}\\ \\frac{{\\left(\\frac{\\sqrt{2} \\sqrt{\\pi} {\\left(a t + b\\right)} \\operatorname{erf}\\left(\\frac{\\sqrt{2} {\\left(a t + b\\right)}}{2 \\, \\sqrt{t^{2} + 1}}\\right) e^{\\left(\\frac{{\\left(a t + b\\right)}^{2}}{2 \\, {\\left(t^{2} + 1\\right)}}\\right)}}{\\sqrt{t^{2} + 1}} + 2\\right)} e^{\\left(-\\frac{1}{2} \\, a^{2} - \\frac{1}{2} \\, b^{2}\\right)}}{2 \\, \\pi {\\left(t^{2} + 1\\right)}}$"
      ],
      "text/plain": [
       "t |--> 1/2*(sqrt(2)*sqrt(pi)*(a*t + b)*erf(1/2*sqrt(2)*(a*t + b)/sqrt(t^2 + 1))*e^(1/2*(a*t + b)^2/(t^2 + 1))/sqrt(t^2 + 1) + 2)*e^(-1/2*a^2 - 1/2*b^2)/(pi*(t^2 + 1))"
      ]
     },
     "metadata": {},
     "output_type": "display_data"
    }
   ],
   "source": [
    "# general definition\n",
    "f_k(t) = exp(-(a^2+b^2)/2)/(pi*(1+t^2))\n",
    "q = (b + a*t)/sqrt(1+t^2)\n",
    "# formula\n",
    "f_m(t) = f_k(t)*(1+q*exp(1/2*q^2)*integral(exp(-1/2*x^2),x, 0, q))\n",
    "f_m.show()"
   ]
  },
  {
   "cell_type": "code",
   "execution_count": 8,
   "metadata": {
    "execution": {
     "iopub.execute_input": "2024-11-15T21:36:43.244410Z",
     "iopub.status.busy": "2024-11-15T21:36:43.243835Z",
     "iopub.status.idle": "2024-11-15T21:36:43.253408Z",
     "shell.execute_reply": "2024-11-15T21:36:43.252468Z",
     "shell.execute_reply.started": "2024-11-15T21:36:43.244383Z"
    }
   },
   "outputs": [
    {
     "data": {
      "text/html": [
       "<html>\\(\\displaystyle t \\ {\\mapsto}\\ \\frac{{\\left(\\frac{\\sqrt{2} \\sqrt{\\pi} {\\left(3 \\, t + 2\\right)} \\operatorname{erf}\\left(\\frac{\\sqrt{2} {\\left(3 \\, t + 2\\right)}}{4 \\, \\sqrt{t^{2} + 1}}\\right) e^{\\left(\\frac{{\\left(3 \\, t + 2\\right)}^{2}}{8 \\, {\\left(t^{2} + 1\\right)}}\\right)}}{\\sqrt{t^{2} + 1}} + 4\\right)} e^{\\left(-\\frac{13}{8}\\right)}}{4 \\, \\pi {\\left(t^{2} + 1\\right)}}\\)</html>"
      ],
      "text/latex": [
       "$\\displaystyle t \\ {\\mapsto}\\ \\frac{{\\left(\\frac{\\sqrt{2} \\sqrt{\\pi} {\\left(3 \\, t + 2\\right)} \\operatorname{erf}\\left(\\frac{\\sqrt{2} {\\left(3 \\, t + 2\\right)}}{4 \\, \\sqrt{t^{2} + 1}}\\right) e^{\\left(\\frac{{\\left(3 \\, t + 2\\right)}^{2}}{8 \\, {\\left(t^{2} + 1\\right)}}\\right)}}{\\sqrt{t^{2} + 1}} + 4\\right)} e^{\\left(-\\frac{13}{8}\\right)}}{4 \\, \\pi {\\left(t^{2} + 1\\right)}}$"
      ],
      "text/plain": [
       "t |--> 1/4*(sqrt(2)*sqrt(pi)*(3*t + 2)*erf(1/4*sqrt(2)*(3*t + 2)/sqrt(t^2 + 1))*e^(1/8*(3*t + 2)^2/(t^2 + 1))/sqrt(t^2 + 1) + 4)*e^(-13/8)/(pi*(t^2 + 1))"
      ]
     },
     "metadata": {},
     "output_type": "display_data"
    }
   ],
   "source": [
    "# for specific values from the preprint\n",
    "a_val, b_val = 3/2, 1\n",
    "values = [a == a_val, b == b_val]\n",
    "f_m(t) = f_m(t).subs(values)\n",
    "f_m.show()"
   ]
  },
  {
   "cell_type": "markdown",
   "metadata": {
    "execution": {
     "iopub.execute_input": "2024-11-15T21:33:19.239114Z",
     "iopub.status.busy": "2024-11-15T21:33:19.238507Z",
     "iopub.status.idle": "2024-11-15T21:33:19.246819Z",
     "shell.execute_reply": "2024-11-15T21:33:19.245866Z",
     "shell.execute_reply.started": "2024-11-15T21:33:19.239088Z"
    }
   },
   "source": [
    "## Pham-Gia 2007"
   ]
  },
  {
   "cell_type": "code",
   "execution_count": 9,
   "metadata": {
    "execution": {
     "iopub.execute_input": "2024-11-15T21:36:43.255027Z",
     "iopub.status.busy": "2024-11-15T21:36:43.254304Z",
     "iopub.status.idle": "2024-11-15T21:36:43.259984Z",
     "shell.execute_reply": "2024-11-15T21:36:43.259211Z",
     "shell.execute_reply.started": "2024-11-15T21:36:43.255000Z"
    }
   },
   "outputs": [],
   "source": [
    "# general definition\n",
    "f_p(t) = f_k(t)*M(1,1/2, q^2/2)"
   ]
  },
  {
   "cell_type": "code",
   "execution_count": 10,
   "metadata": {
    "execution": {
     "iopub.execute_input": "2024-11-15T21:36:43.261281Z",
     "iopub.status.busy": "2024-11-15T21:36:43.260563Z",
     "iopub.status.idle": "2024-11-15T21:36:43.610976Z",
     "shell.execute_reply": "2024-11-15T21:36:43.610131Z",
     "shell.execute_reply.started": "2024-11-15T21:36:43.261250Z"
    }
   },
   "outputs": [
    {
     "data": {
      "text/html": [
       "<html>\\(\\displaystyle \\frac{\\sqrt{\\pi} {\\left(i \\, a t + i \\, b\\right)} \\operatorname{erf}\\left(\\frac{\\sqrt{2} {\\left(i \\, a t + i \\, b\\right)}}{2 \\, \\sqrt{-t^{2} - 1}}\\right) e^{\\left(\\frac{a^{2} t^{2} + 2 \\, a b t + b^{2}}{2 \\, {\\left(t^{2} + 1\\right)}}\\right)} + \\sqrt{2} \\sqrt{-t^{2} - 1}}{{\\left(\\sqrt{2} \\pi t^{2} e^{\\left(\\frac{1}{2} \\, a^{2} + \\frac{1}{2} \\, b^{2}\\right)} + \\sqrt{2} \\pi e^{\\left(\\frac{1}{2} \\, a^{2} + \\frac{1}{2} \\, b^{2}\\right)}\\right)} \\sqrt{-t^{2} - 1}}\\)</html>"
      ],
      "text/latex": [
       "$\\displaystyle \\frac{\\sqrt{\\pi} {\\left(i \\, a t + i \\, b\\right)} \\operatorname{erf}\\left(\\frac{\\sqrt{2} {\\left(i \\, a t + i \\, b\\right)}}{2 \\, \\sqrt{-t^{2} - 1}}\\right) e^{\\left(\\frac{a^{2} t^{2} + 2 \\, a b t + b^{2}}{2 \\, {\\left(t^{2} + 1\\right)}}\\right)} + \\sqrt{2} \\sqrt{-t^{2} - 1}}{{\\left(\\sqrt{2} \\pi t^{2} e^{\\left(\\frac{1}{2} \\, a^{2} + \\frac{1}{2} \\, b^{2}\\right)} + \\sqrt{2} \\pi e^{\\left(\\frac{1}{2} \\, a^{2} + \\frac{1}{2} \\, b^{2}\\right)}\\right)} \\sqrt{-t^{2} - 1}}$"
      ],
      "text/plain": [
       "(sqrt(pi)*(I*a*t + I*b)*erf(1/2*sqrt(2)*(I*a*t + I*b)/sqrt(-t^2 - 1))*e^(1/2*(a^2*t^2 + 2*a*b*t + b^2)/(t^2 + 1)) + sqrt(2)*sqrt(-t^2 - 1))/((sqrt(2)*pi*t^2*e^(1/2*a^2 + 1/2*b^2) + sqrt(2)*pi*e^(1/2*a^2 + 1/2*b^2))*sqrt(-t^2 - 1))"
      ]
     },
     "metadata": {},
     "output_type": "display_data"
    }
   ],
   "source": [
    "show(f_p(t).simplify_hypergeometric().canonicalize_radical())"
   ]
  },
  {
   "cell_type": "code",
   "execution_count": 11,
   "metadata": {
    "execution": {
     "iopub.execute_input": "2024-11-15T21:36:43.612345Z",
     "iopub.status.busy": "2024-11-15T21:36:43.611733Z",
     "iopub.status.idle": "2024-11-15T21:36:43.620380Z",
     "shell.execute_reply": "2024-11-15T21:36:43.619447Z",
     "shell.execute_reply.started": "2024-11-15T21:36:43.612317Z"
    }
   },
   "outputs": [
    {
     "data": {
      "text/html": [
       "<html>\\(\\displaystyle t \\ {\\mapsto}\\ \\frac{e^{\\left(-\\frac{13}{8}\\right)} M\\left(1, \\frac{1}{2}, \\frac{{\\left(3 \\, t + 2\\right)}^{2}}{8 \\, {\\left(t^{2} + 1\\right)}}\\right)}{\\pi {\\left(t^{2} + 1\\right)}}\\)</html>"
      ],
      "text/latex": [
       "$\\displaystyle t \\ {\\mapsto}\\ \\frac{e^{\\left(-\\frac{13}{8}\\right)} M\\left(1, \\frac{1}{2}, \\frac{{\\left(3 \\, t + 2\\right)}^{2}}{8 \\, {\\left(t^{2} + 1\\right)}}\\right)}{\\pi {\\left(t^{2} + 1\\right)}}$"
      ],
      "text/plain": [
       "t |--> e^(-13/8)*hypergeometric_M(1, 1/2, 1/8*(3*t + 2)^2/(t^2 + 1))/(pi*(t^2 + 1))"
      ]
     },
     "metadata": {},
     "output_type": "display_data"
    }
   ],
   "source": [
    "# for specific values\n",
    "f_p(t) = f_p(t).subs(values)\n",
    "f_p.show()"
   ]
  },
  {
   "cell_type": "code",
   "execution_count": 12,
   "metadata": {
    "execution": {
     "iopub.execute_input": "2024-11-15T21:36:43.621862Z",
     "iopub.status.busy": "2024-11-15T21:36:43.621186Z",
     "iopub.status.idle": "2024-11-15T21:36:43.932086Z",
     "shell.execute_reply": "2024-11-15T21:36:43.931361Z",
     "shell.execute_reply.started": "2024-11-15T21:36:43.621809Z"
    }
   },
   "outputs": [
    {
     "data": {
      "text/html": [
       "<html>\\(\\displaystyle \\frac{{\\left(\\sqrt{\\pi} {\\left(3 i \\, t + 2 i\\right)} \\operatorname{erf}\\left(\\frac{\\sqrt{2} {\\left(3 i \\, t + 2 i\\right)}}{4 \\, \\sqrt{-t^{2} - 1}}\\right) e^{\\left(\\frac{9 \\, t^{2} + 12 \\, t + 4}{8 \\, {\\left(t^{2} + 1\\right)}}\\right)} + 2 \\, \\sqrt{2} \\sqrt{-t^{2} - 1}\\right)} e^{\\left(-\\frac{5}{8}\\right)}}{2 \\, {\\left(\\sqrt{2} \\pi t^{2} e + \\sqrt{2} \\pi e\\right)} \\sqrt{-t^{2} - 1}}\\)</html>"
      ],
      "text/latex": [
       "$\\displaystyle \\frac{{\\left(\\sqrt{\\pi} {\\left(3 i \\, t + 2 i\\right)} \\operatorname{erf}\\left(\\frac{\\sqrt{2} {\\left(3 i \\, t + 2 i\\right)}}{4 \\, \\sqrt{-t^{2} - 1}}\\right) e^{\\left(\\frac{9 \\, t^{2} + 12 \\, t + 4}{8 \\, {\\left(t^{2} + 1\\right)}}\\right)} + 2 \\, \\sqrt{2} \\sqrt{-t^{2} - 1}\\right)} e^{\\left(-\\frac{5}{8}\\right)}}{2 \\, {\\left(\\sqrt{2} \\pi t^{2} e + \\sqrt{2} \\pi e\\right)} \\sqrt{-t^{2} - 1}}$"
      ],
      "text/plain": [
       "1/2*(sqrt(pi)*(3*I*t + 2*I)*erf(1/4*sqrt(2)*(3*I*t + 2*I)/sqrt(-t^2 - 1))*e^(1/8*(9*t^2 + 12*t + 4)/(t^2 + 1)) + 2*sqrt(2)*sqrt(-t^2 - 1))*e^(-5/8)/((sqrt(2)*pi*t^2*e + sqrt(2)*pi*e)*sqrt(-t^2 - 1))"
      ]
     },
     "metadata": {},
     "output_type": "display_data"
    }
   ],
   "source": [
    "f_p.simplify_hypergeometric().canonicalize_radical().show()"
   ]
  },
  {
   "cell_type": "markdown",
   "metadata": {},
   "source": [
    "## Plots"
   ]
  },
  {
   "cell_type": "code",
   "execution_count": 13,
   "metadata": {
    "execution": {
     "iopub.execute_input": "2024-11-15T21:36:43.933306Z",
     "iopub.status.busy": "2024-11-15T21:36:43.932617Z",
     "iopub.status.idle": "2024-11-15T21:36:44.604470Z",
     "shell.execute_reply": "2024-11-15T21:36:44.603567Z",
     "shell.execute_reply.started": "2024-11-15T21:36:43.933281Z"
    }
   },
   "outputs": [],
   "source": [
    "# Layout of the plots\n",
    "import matplotlib.pyplot as plt\n",
    "plt.style.use('seaborn-v0_8-whitegrid')\n",
    "\n",
    "# Parameters for the graph\n",
    "color = 'blue'\n",
    "graphTitle = f'Density function of the ratio: ${str(values).replace('==','=')}$'\n",
    "legendTitle = ['PDF Marsaglia','PDF Pham-Gia']\n",
    "xmin, xmax = -4.5, 7.5\n",
    "gf = plot([], figsize=(8, 5), title=graphTitle, frame=True)"
   ]
  },
  {
   "cell_type": "code",
   "execution_count": 14,
   "metadata": {
    "execution": {
     "iopub.execute_input": "2024-11-15T21:36:44.605932Z",
     "iopub.status.busy": "2024-11-15T21:36:44.605250Z",
     "iopub.status.idle": "2024-11-15T21:36:45.629286Z",
     "shell.execute_reply": "2024-11-15T21:36:45.626354Z",
     "shell.execute_reply.started": "2024-11-15T21:36:44.605891Z"
    }
   },
   "outputs": [
    {
     "data": {
      "image/png": "[encoded data removed]",
      "text/plain": [
       "Graphics object consisting of 2 graphics primitives"
      ]
     },
     "execution_count": 14,
     "metadata": {},
     "output_type": "execute_result"
    }
   ],
   "source": [
    "# plot of fT\n",
    "gf+= plot(f_m(t), (t, xmin, xmax), color='blue', thickness=3, legend_label=legendTitle[0])\n",
    "gf+= plot(f_p(t), (t, xmin, xmax), color='red',legend_label=legendTitle[1])\n",
    "gf"
   ]
  }
 ],
 "metadata": {
  "hide_input": false,
  "kernelspec": {
   "display_name": "Python 3 (ipykernel)",
   "language": "python",
   "name": "python3"
  },
  "language_info": {
   "codemirror_mode": {
    "name": "ipython",
    "version": 3
   },
   "file_extension": ".py",
   "mimetype": "text/x-python",
   "name": "python",
   "nbconvert_exporter": "python",
   "pygments_lexer": "ipython3",
   "version": "3.12.6"
  },
  "varInspector": {
   "cols": {
    "lenName": 16,
    "lenType": 16,
    "lenVar": 40
   },
   "kernels_config": {
    "python": {
     "delete_cmd_postfix": "",
     "delete_cmd_prefix": "del ",
     "library": "var_list.py",
     "varRefreshCmd": "print(var_dic_list())"
    },
    "r": {
     "delete_cmd_postfix": ") ",
     "delete_cmd_prefix": "rm(",
     "library": "var_list.r",
     "varRefreshCmd": "cat(var_dic_list()) "
    }
   },
   "types_to_exclude": [
    "module",
    "function",
    "builtin_function_or_method",
    "instance",
    "_Feature"
   ],
   "window_display": false
  }
 },
 "nbformat": 4,
 "nbformat_minor": 4
}
