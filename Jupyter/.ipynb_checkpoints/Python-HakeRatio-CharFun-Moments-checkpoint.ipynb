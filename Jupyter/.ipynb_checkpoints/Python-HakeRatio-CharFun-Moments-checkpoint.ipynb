{
 "cells": [
  {
   "cell_type": "markdown",
   "metadata": {
    "execution": {
     "iopub.execute_input": "2024-11-06T12:15:00.677339Z",
     "iopub.status.busy": "2024-11-06T12:15:00.677131Z",
     "iopub.status.idle": "2024-11-06T12:15:01.598938Z",
     "shell.execute_reply": "2024-11-06T12:15:01.597731Z",
     "shell.execute_reply.started": "2024-11-06T12:15:00.677302Z"
    }
   },
   "source": [
    "**Authors:** Jozef Hanč, Martina Hančová  <br> *[Faculty of Science](https://www.upjs.sk/en/faculty-of-science/?prefferedLang=EN), P. J. Šafárik University in Košice, Slovakia* <br> emails: [jozef.hanc@upjs.sk](mailto:jozef.hanc@upjs.sk)\n",
    "***\n",
    "\n",
    "# <font color = brown, size=6> Hake ratio moments via characteristic functions \n",
    "</font>\n",
    "\n",
    "<font size=5> Computational tools: </font>  **<font size=5>Python (Numpy)</font>**  \n",
    "\n",
    "---"
   ]
  },
  {
   "cell_type": "markdown",
   "metadata": {},
   "source": [
    "# Hake ratio as an example\n",
    "\n",
    "For ratio of independent normal variables:  $T = X_1/X_2$\n",
    "\n",
    "Numerator $ X_1 \\sim N(a, 1), a = 1.5 $:\n",
    "- PDF: $f_1(x)=(1 / \\sqrt{2 \\pi}) \\exp \\left(-\\frac{(x-a)^2}{2}\\right)$\n",
    "- CF: $ \\varphi_{X_1}(t) = e^{i a t - \\frac{t^2}{2}}$\n",
    "\n",
    "Denominator $ X_2 \\sim N(b, 1) $, $ b = 1 $\\:\n",
    "- PDF: $f_2(x)=(1 / \\sqrt{2 \\pi}) \\exp \\left(-\\frac{(x-b)^2}{2}\\right)$\n",
    "- CF: $ \\varphi_{X_2}(t) = e^{i b t - \\frac{t^2}{2}}$"
   ]
  },
  {
   "cell_type": "markdown",
   "metadata": {
    "execution": {
     "iopub.execute_input": "2024-11-06T13:20:43.652720Z",
     "iopub.status.busy": "2024-11-06T13:20:43.652383Z",
     "iopub.status.idle": "2024-11-06T13:20:43.784050Z",
     "shell.execute_reply": "2024-11-06T13:20:43.783577Z",
     "shell.execute_reply.started": "2024-11-06T13:20:43.652683Z"
    }
   },
   "source": [
    "## First and second moments"
   ]
  },
  {
   "cell_type": "markdown",
   "metadata": {
    "execution": {
     "iopub.execute_input": "2024-11-06T13:21:38.148479Z",
     "iopub.status.busy": "2024-11-06T13:21:38.148301Z",
     "iopub.status.idle": "2024-11-06T13:21:38.284932Z",
     "shell.execute_reply": "2024-11-06T13:21:38.282897Z",
     "shell.execute_reply.started": "2024-11-06T13:21:38.148465Z"
    }
   },
   "source": [
    "The mean and standard deviation of the random vector $X=\\left(X_1, X_2\\right)$ from the given marginal CFs using the higher-order methods for approximating the derivatives. In particular, we use the following estimates as Mijanović et al, 2023:\n",
    "\n",
    "$$\n",
    "\\begin{aligned}\n",
    "& \\operatorname{mean}\\left(X_1\\right)=\\left(\\frac{8 \\Im(\\mathrm{cf} 1(\\delta))}{5 \\delta}-\\frac{2 \\Im(\\mathrm{cf} 1(2 \\delta))}{5 \\delta}+\\frac{8 \\Im(\\mathrm{cf} 1(3 \\delta))}{105 \\delta}-\\frac{2 \\Im(\\mathrm{cf} 1(4 \\delta))}{280 \\delta}\\right), \\\\\n",
    "& \\operatorname{mo}_2\\left(X_1\\right)=\\left(\\frac{205}{72 \\delta^2}-\\frac{16 \\Re(\\mathrm{cf} 1(\\delta))}{5 \\delta^2}+\\frac{2 \\Re(\\mathrm{cf} 1(2 \\delta))}{5 \\delta^2}-\\frac{16 \\Re(\\mathrm{cf} 1(3 \\delta))}{315 \\delta^2}+\\frac{2 \\Re(\\mathrm{cf} 1(4 \\delta))}{560 \\delta^2}\\right), \\\\\n",
    "& \\operatorname{std}\\left(X_1\\right)=\\sqrt{\\operatorname{mo}_2\\left(X_1\\right)-\\text { mean }^2\\left(X_1\\right)}\n",
    "\\end{aligned}\n",
    "$$\n",
    "\n",
    "where $\\delta$ is chosen tolerance for numerical differentiation (as a default value we use $\\delta=10^{-4}$ ) and $\\mathrm{mo}_2$ denotes the estimate of the second moment. Similarly, calculate mean $\\left(X_2\\right)$ and $\\operatorname{std}\\left(X_1\\right)$ so that then mean $(X)=$ $\\left[\\operatorname{mean}\\left(X_1\\right)\\right.$, mean $\\left.\\left(X_2\\right)\\right]$ and $\\operatorname{std}(X)=\\left[\\operatorname{std}\\left(X_1\\right), \\operatorname{std}\\left(X_2\\right)\\right]$."
   ]
  },
  {
   "cell_type": "code",
   "execution_count": 1,
   "metadata": {
    "execution": {
     "iopub.execute_input": "2024-11-17T22:02:25.796511Z",
     "iopub.status.busy": "2024-11-17T22:02:25.796511Z",
     "iopub.status.idle": "2024-11-17T22:02:25.800498Z",
     "shell.execute_reply": "2024-11-17T22:02:25.800498Z",
     "shell.execute_reply.started": "2024-11-17T22:02:25.796511Z"
    }
   },
   "outputs": [],
   "source": [
    "# characteristic function of X1 ~ N(a,1)\n",
    "a = 1.5\n",
    "cf1 = lambda t1: np.exp(1j * a * t1 - t1**2 / 2)"
   ]
  },
  {
   "cell_type": "code",
   "execution_count": 2,
   "metadata": {
    "execution": {
     "iopub.execute_input": "2024-11-17T22:02:25.800498Z",
     "iopub.status.busy": "2024-11-17T22:02:25.800498Z",
     "iopub.status.idle": "2024-11-17T22:02:25.805029Z",
     "shell.execute_reply": "2024-11-17T22:02:25.805029Z",
     "shell.execute_reply.started": "2024-11-17T22:02:25.800498Z"
    }
   },
   "outputs": [],
   "source": [
    "# characteristic function of X2\n",
    "b = 1\n",
    "cf2 = lambda t2: np.exp(1j * b * t2 - t2**2 / 2)"
   ]
  },
  {
   "cell_type": "code",
   "execution_count": 3,
   "metadata": {
    "execution": {
     "iopub.execute_input": "2024-11-17T22:02:25.806296Z",
     "iopub.status.busy": "2024-11-17T22:02:25.806034Z",
     "iopub.status.idle": "2024-11-17T22:02:25.810196Z",
     "shell.execute_reply": "2024-11-17T22:02:25.810196Z",
     "shell.execute_reply.started": "2024-11-17T22:02:25.806296Z"
    }
   },
   "outputs": [],
   "source": [
    "# Numpy auxiliary functions\n",
    "s = lambda v1, v2: np.arange(v1, v2 + 1)\n",
    "from numpy import array as v, pi as pi"
   ]
  },
  {
   "cell_type": "code",
   "execution_count": 4,
   "metadata": {
    "execution": {
     "iopub.execute_input": "2024-11-17T22:02:25.810196Z",
     "iopub.status.busy": "2024-11-17T22:02:25.810196Z",
     "iopub.status.idle": "2024-11-17T22:02:25.813854Z",
     "shell.execute_reply": "2024-11-17T22:02:25.813854Z",
     "shell.execute_reply.started": "2024-11-17T22:02:25.810196Z"
    }
   },
   "outputs": [],
   "source": [
    "# parameters for boundaries\n",
    "SixSigmaRule = 6\n",
    "tolDiff = 1e-6\n",
    "# accuracy for cf functions\n",
    "cftTol = 1e-14\n",
    "# tunnig constant for more exact results\n",
    "k = 3"
   ]
  },
  {
   "cell_type": "code",
   "execution_count": 5,
   "metadata": {
    "execution": {
     "iopub.execute_input": "2024-11-17T22:02:25.813854Z",
     "iopub.status.busy": "2024-11-17T22:02:25.813854Z",
     "iopub.status.idle": "2024-11-17T22:02:25.817530Z",
     "shell.execute_reply": "2024-11-17T22:02:25.817530Z",
     "shell.execute_reply.started": "2024-11-17T22:02:25.813854Z"
    }
   },
   "outputs": [],
   "source": [
    "# auxiliary functions for estimates of moments\n",
    "cft1 = cf1(tolDiff*s(1,4))\n",
    "cftRe1 = np.real(cft1)\n",
    "cftIm1 = np.imag(cft1)\n",
    "cft2 = cf2(tolDiff*s(1,4))\n",
    "cftRe2 = np.real(cft2)\n",
    "cftIm2 = np.imag(cft2)"
   ]
  },
  {
   "cell_type": "code",
   "execution_count": 6,
   "metadata": {
    "execution": {
     "iopub.execute_input": "2024-11-17T22:02:25.817530Z",
     "iopub.status.busy": "2024-11-17T22:02:25.817530Z",
     "iopub.status.idle": "2024-11-17T22:02:25.823495Z",
     "shell.execute_reply": "2024-11-17T22:02:25.823495Z",
     "shell.execute_reply.started": "2024-11-17T22:02:25.817530Z"
    }
   },
   "outputs": [],
   "source": [
    "# first moments \n",
    "xMean = np.zeros(2)\n",
    "xMean[0] = (8*cftIm1[0]/5 - 2*cftIm1[1]/5 + 8*cftIm1[2]/105 - 2*cftIm1[3]/280) / tolDiff\n",
    "xMean[1] = (8*cftIm2[0]/5 - 2*cftIm2[1]/5 + 8*cftIm2[2]/105 - 2*cftIm2[3]/280) / tolDiff\n",
    "\n",
    "xM2 = np.zeros(2)\n",
    "xM2[0] = (205/72 - 16*cftRe1[0]/5 + 2*cftRe1[1]/5 - 16*cftRe1[2]/315 + 2*cftRe1[3]/560) / tolDiff**2\n",
    "xStd = np.zeros(2)\n",
    "xStd[0] = np.sqrt(xM2[0] - xMean[0]**2)\n",
    "xM2[1] = (205/72 - 16*cftRe2[0]/5 + 2*cftRe2[1]/5 - 16*cftRe2[2]/315 + 2*cftRe2[3]/560) / tolDiff**2\n",
    "xStd[1] = np.sqrt(xM2[1] - xMean[1]**2)"
   ]
  },
  {
   "cell_type": "code",
   "execution_count": 7,
   "metadata": {
    "execution": {
     "iopub.execute_input": "2024-11-17T22:02:25.823495Z",
     "iopub.status.busy": "2024-11-17T22:02:25.823495Z",
     "iopub.status.idle": "2024-11-17T22:02:25.829916Z",
     "shell.execute_reply": "2024-11-17T22:02:25.829916Z",
     "shell.execute_reply.started": "2024-11-17T22:02:25.823495Z"
    }
   },
   "outputs": [
    {
     "data": {
      "text/plain": [
       "(array([-4.50058963, -5.00131779]),\n",
       " array([7.50058963, 7.00131779]),\n",
       " array([12.00117926, 12.00263557]))"
      ]
     },
     "execution_count": 7,
     "metadata": {},
     "output_type": "execute_result"
    }
   ],
   "source": [
    "# boundaries and range\n",
    "xMin = xMean - SixSigmaRule * xStd\n",
    "xMax = xMean + SixSigmaRule * xStd\n",
    "Range = xMax - xMin\n",
    "data = xMin, xMax, Range\n",
    "data"
   ]
  },
  {
   "cell_type": "code",
   "execution_count": 8,
   "metadata": {
    "execution": {
     "iopub.execute_input": "2024-11-17T22:02:25.829916Z",
     "iopub.status.busy": "2024-11-17T22:02:25.829916Z",
     "iopub.status.idle": "2024-11-17T22:02:25.838425Z",
     "shell.execute_reply": "2024-11-17T22:02:25.838425Z",
     "shell.execute_reply.started": "2024-11-17T22:02:25.829916Z"
    }
   },
   "outputs": [
    {
     "data": {
      "text/html": [
       "<div>\n",
       "<style scoped>\n",
       "    .dataframe tbody tr th:only-of-type {\n",
       "        vertical-align: middle;\n",
       "    }\n",
       "\n",
       "    .dataframe tbody tr th {\n",
       "        vertical-align: top;\n",
       "    }\n",
       "\n",
       "    .dataframe thead th {\n",
       "        text-align: right;\n",
       "    }\n",
       "</style>\n",
       "<table border=\"1\" class=\"dataframe\">\n",
       "  <thead>\n",
       "    <tr style=\"text-align: right;\">\n",
       "      <th></th>\n",
       "      <th>xMin</th>\n",
       "      <th>xMax</th>\n",
       "      <th>Range</th>\n",
       "    </tr>\n",
       "  </thead>\n",
       "  <tbody>\n",
       "    <tr>\n",
       "      <th>0</th>\n",
       "      <td>-4.500590</td>\n",
       "      <td>7.500590</td>\n",
       "      <td>12.001179</td>\n",
       "    </tr>\n",
       "    <tr>\n",
       "      <th>1</th>\n",
       "      <td>-5.001318</td>\n",
       "      <td>7.001318</td>\n",
       "      <td>12.002636</td>\n",
       "    </tr>\n",
       "  </tbody>\n",
       "</table>\n",
       "</div>"
      ],
      "text/plain": [
       "       xMin      xMax      Range\n",
       "0 -4.500590  7.500590  12.001179\n",
       "1 -5.001318  7.001318  12.002636"
      ]
     },
     "execution_count": 8,
     "metadata": {},
     "output_type": "execute_result"
    }
   ],
   "source": [
    "# table of moments\n",
    "cols = ['xMin', 'xMax', 'Range']\n",
    "data_dict = {cols[i]: row for i, row in enumerate(data)}\n",
    "dm = pd.DataFrame(data_dict, columns=cols)\n",
    "dm"
   ]
  }
 ],
 "metadata": {
  "kernelspec": {
   "display_name": "Python 3",
   "language": "python",
   "name": "python3"
  },
  "language_info": {
   "codemirror_mode": {
    "name": "ipython",
    "version": 3
   },
   "file_extension": ".py",
   "mimetype": "text/x-python",
   "name": "python",
   "nbconvert_exporter": "python",
   "pygments_lexer": "ipython3",
   "version": "3.7.10"
  }
 },
 "nbformat": 4,
 "nbformat_minor": 5
}
