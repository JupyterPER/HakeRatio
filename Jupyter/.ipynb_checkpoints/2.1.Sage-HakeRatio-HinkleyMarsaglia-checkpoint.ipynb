{
 "cells": [
  {
   "cell_type": "markdown",
   "id": "6c4d60e7-a3d8-4239-82a7-001075f69d40",
   "metadata": {},
   "source": [
    "**Authors:** Jozef Hanč, Martina Hančová  <br> *[Faculty of Science](https://www.upjs.sk/en/faculty-of-science/?prefferedLang=EN), P. J. Šafárik University in Košice, Slovakia* <br> emails: [jozef.hanc@upjs.sk](mailto:jozef.hanc@upjs.sk)\n",
    "***\n",
    "\n",
    "# <font color = brown, size=6> Hinkley (Marsaglia) analytic form of Hake ratio PDF\n",
    "</font>\n",
    "\n",
    "<font size=5> Computational tools: </font>  **<font size=5>SageMath</font>**  \n",
    "\n",
    "---\n",
    "\n"
   ]
  },
  {
   "cell_type": "markdown",
   "id": "efe38cad-7843-4a80-a905-b944b93694ae",
   "metadata": {},
   "source": [
    "## Section 2.1\n",
    "#### Theorem 2 (PDF of the ratio - Hinkley (1969)).\n",
    "Let $W=X_1 / X_2,\\left(X_1, X_2\\right) \\sim \\mathcal{B N}\\left(\\mu_1, \\mu_2 ; \\sigma_1^2, \\sigma_2^2 ; \\rho\\right)$. Then the PDF of $W$ is given by:\n",
    "\n",
    "$$\n",
    "\\begin{aligned}\n",
    "f_W(w)= & \\frac{b(w) d(w)}{\\sqrt{2 \\pi} \\sigma_1 \\sigma_2 a^3(w)}\\left[\\Phi\\left(\\frac{b(w)}{\\sqrt{\\left(1-\\rho^2\\right) a(w)}}\\right)-\\Phi\\left(-\\frac{b(w)}{\\sqrt{\\left(1-\\rho^2\\right) a(w)}}\\right)\\right] \\\\\n",
    "& +\\frac{\\sqrt{1-\\rho^2}}{\\pi \\sigma_1 \\sigma_2 a^2(w)} \\exp \\left(-\\frac{c}{2\\left(1-\\rho^2\\right)}\\right)\n",
    "\\end{aligned}\n",
    "$$\n",
    "\n",
    "where $\\Phi$ is the $C D F$ of $\\mathcal{N}(0,1)$ :\n",
    "\n",
    "$$\n",
    "\\begin{aligned}\n",
    "a(w) & =\\left(\\frac{w^2}{\\sigma_1^2}-\\frac{2 \\rho w}{\\sigma_1 \\sigma_2}+\\frac{1}{\\sigma_2^2}\\right)^{1 / 2}, \\quad b(w)=\\frac{\\mu_1 w}{\\sigma_1^2}-\\frac{\\rho\\left(\\mu_1+\\mu_2 w\\right)}{\\sigma_1 \\sigma_2}+\\frac{\\mu_2}{\\sigma_2^2} \\\\\n",
    "c & =\\frac{\\mu_1^2}{\\sigma_1^2}-2 \\rho \\frac{\\mu_1 \\mu_2}{\\sigma_1 \\sigma_2}+\\frac{\\mu_2^2}{\\sigma_2^2}, \\quad d(w)=\\exp \\left(\\frac{b^2(w)-c a^2(w)}{2\\left(1-\\rho^2\\right) a^2(w)}\\right)\n",
    "\\end{aligned}\n",
    "$$"
   ]
  },
  {
   "cell_type": "markdown",
   "id": "c26703bf-15f3-4091-b999-e77c577fb16a",
   "metadata": {},
   "source": [
    "# Hinkley, Fieller correlated form"
   ]
  },
  {
   "cell_type": "code",
   "execution_count": 1,
   "id": "9dc58790-ef2b-4c1f-9d18-d784298ef94d",
   "metadata": {
    "execution": {
     "iopub.execute_input": "2024-11-18T07:44:07.214936Z",
     "iopub.status.busy": "2024-11-18T07:44:07.214067Z",
     "iopub.status.idle": "2024-11-18T07:44:07.222799Z",
     "shell.execute_reply": "2024-11-18T07:44:07.221422Z",
     "shell.execute_reply.started": "2024-11-18T07:44:07.214906Z"
    }
   },
   "outputs": [],
   "source": [
    "%display latex"
   ]
  },
  {
   "cell_type": "code",
   "execution_count": 2,
   "id": "c784d926-4bf5-4c8d-8bc4-a1fd9e6282b1",
   "metadata": {
    "execution": {
     "iopub.execute_input": "2024-11-18T07:44:07.234587Z",
     "iopub.status.busy": "2024-11-18T07:44:07.231119Z",
     "iopub.status.idle": "2024-11-18T07:44:09.793767Z",
     "shell.execute_reply": "2024-11-18T07:44:09.792872Z",
     "shell.execute_reply.started": "2024-11-18T07:44:07.234504Z"
    }
   },
   "outputs": [
    {
     "data": {
      "text/html": [
       "<html>\\(\\displaystyle \\left(t, w, \\rho, \\mu_{1}, \\mu_{2}, \\sigma_{1}, \\sigma_{2}\\right)\\)</html>"
      ],
      "text/latex": [
       "$\\displaystyle \\left(t, w, \\rho, \\mu_{1}, \\mu_{2}, \\sigma_{1}, \\sigma_{2}\\right)$"
      ],
      "text/plain": [
       "(t, w, rho, mu1, mu2, sigma1, sigma2)"
      ]
     },
     "execution_count": 2,
     "metadata": {},
     "output_type": "execute_result"
    }
   ],
   "source": [
    "# Variables and constants\n",
    "t, w, r = var('t, w, rho', domain='real')\n",
    "m1, m2, s1, s2 = var('mu1, mu2, sigma1, sigma2', domain='positive')\n",
    "t, w, r, m1, m2, s1, s2"
   ]
  },
  {
   "cell_type": "code",
   "execution_count": 3,
   "id": "499ecd74-b82a-4aa7-9b09-e56e84c4320f",
   "metadata": {
    "execution": {
     "iopub.execute_input": "2024-11-18T07:44:09.798892Z",
     "iopub.status.busy": "2024-11-18T07:44:09.798012Z",
     "iopub.status.idle": "2024-11-18T07:44:09.825470Z",
     "shell.execute_reply": "2024-11-18T07:44:09.824574Z",
     "shell.execute_reply.started": "2024-11-18T07:44:09.798863Z"
    }
   },
   "outputs": [
    {
     "data": {
      "text/html": [
       "<html>\\(\\displaystyle w \\ {\\mapsto}\\ \\sqrt{-\\frac{2 \\, \\rho w}{\\sigma_{1} \\sigma_{2}} + \\frac{w^{2}}{\\sigma_{1}^{2}} + \\frac{1}{\\sigma_{2}^{2}}}\\)</html>"
      ],
      "text/latex": [
       "$\\displaystyle w \\ {\\mapsto}\\ \\sqrt{-\\frac{2 \\, \\rho w}{\\sigma_{1} \\sigma_{2}} + \\frac{w^{2}}{\\sigma_{1}^{2}} + \\frac{1}{\\sigma_{2}^{2}}}$"
      ],
      "text/plain": [
       "w |--> sqrt(-2*rho*w/(sigma1*sigma2) + w^2/sigma1^2 + 1/sigma2^2)"
      ]
     },
     "metadata": {},
     "output_type": "display_data"
    },
    {
     "data": {
      "text/html": [
       "<html>\\(\\displaystyle w \\ {\\mapsto}\\ -\\frac{{\\left(\\mu_{2} w + \\mu_{1}\\right)} \\rho}{\\sigma_{1} \\sigma_{2}} + \\frac{\\mu_{1} w}{\\sigma_{1}^{2}} + \\frac{\\mu_{2}}{\\sigma_{2}^{2}}\\)</html>"
      ],
      "text/latex": [
       "$\\displaystyle w \\ {\\mapsto}\\ -\\frac{{\\left(\\mu_{2} w + \\mu_{1}\\right)} \\rho}{\\sigma_{1} \\sigma_{2}} + \\frac{\\mu_{1} w}{\\sigma_{1}^{2}} + \\frac{\\mu_{2}}{\\sigma_{2}^{2}}$"
      ],
      "text/plain": [
       "w |--> -(mu2*w + mu1)*rho/(sigma1*sigma2) + mu1*w/sigma1^2 + mu2/sigma2^2"
      ]
     },
     "metadata": {},
     "output_type": "display_data"
    },
    {
     "data": {
      "text/html": [
       "<html>\\(\\displaystyle -\\frac{2 \\, \\mu_{1} \\mu_{2} \\rho}{\\sigma_{1} \\sigma_{2}} + \\frac{\\mu_{1}^{2}}{\\sigma_{1}^{2}} + \\frac{\\mu_{2}^{2}}{\\sigma_{2}^{2}}\\)</html>"
      ],
      "text/latex": [
       "$\\displaystyle -\\frac{2 \\, \\mu_{1} \\mu_{2} \\rho}{\\sigma_{1} \\sigma_{2}} + \\frac{\\mu_{1}^{2}}{\\sigma_{1}^{2}} + \\frac{\\mu_{2}^{2}}{\\sigma_{2}^{2}}$"
      ],
      "text/plain": [
       "-2*mu1*mu2*rho/(sigma1*sigma2) + mu1^2/sigma1^2 + mu2^2/sigma2^2"
      ]
     },
     "metadata": {},
     "output_type": "display_data"
    },
    {
     "data": {
      "text/html": [
       "<html>\\(\\displaystyle w \\ {\\mapsto}\\ e^{\\left(\\frac{{\\left(\\frac{{\\left(\\mu_{2} w + \\mu_{1}\\right)} \\rho}{\\sigma_{1} \\sigma_{2}} - \\frac{\\mu_{1} w}{\\sigma_{1}^{2}} - \\frac{\\mu_{2}}{\\sigma_{2}^{2}}\\right)}^{2} - {\\left(\\frac{2 \\, \\mu_{1} \\mu_{2} \\rho}{\\sigma_{1} \\sigma_{2}} - \\frac{\\mu_{1}^{2}}{\\sigma_{1}^{2}} - \\frac{\\mu_{2}^{2}}{\\sigma_{2}^{2}}\\right)} {\\left(\\frac{2 \\, \\rho w}{\\sigma_{1} \\sigma_{2}} - \\frac{w^{2}}{\\sigma_{1}^{2}} - \\frac{1}{\\sigma_{2}^{2}}\\right)}}{2 \\, {\\left(\\rho^{2} - 1\\right)} {\\left(\\frac{2 \\, \\rho w}{\\sigma_{1} \\sigma_{2}} - \\frac{w^{2}}{\\sigma_{1}^{2}} - \\frac{1}{\\sigma_{2}^{2}}\\right)}}\\right)}\\)</html>"
      ],
      "text/latex": [
       "$\\displaystyle w \\ {\\mapsto}\\ e^{\\left(\\frac{{\\left(\\frac{{\\left(\\mu_{2} w + \\mu_{1}\\right)} \\rho}{\\sigma_{1} \\sigma_{2}} - \\frac{\\mu_{1} w}{\\sigma_{1}^{2}} - \\frac{\\mu_{2}}{\\sigma_{2}^{2}}\\right)}^{2} - {\\left(\\frac{2 \\, \\mu_{1} \\mu_{2} \\rho}{\\sigma_{1} \\sigma_{2}} - \\frac{\\mu_{1}^{2}}{\\sigma_{1}^{2}} - \\frac{\\mu_{2}^{2}}{\\sigma_{2}^{2}}\\right)} {\\left(\\frac{2 \\, \\rho w}{\\sigma_{1} \\sigma_{2}} - \\frac{w^{2}}{\\sigma_{1}^{2}} - \\frac{1}{\\sigma_{2}^{2}}\\right)}}{2 \\, {\\left(\\rho^{2} - 1\\right)} {\\left(\\frac{2 \\, \\rho w}{\\sigma_{1} \\sigma_{2}} - \\frac{w^{2}}{\\sigma_{1}^{2}} - \\frac{1}{\\sigma_{2}^{2}}\\right)}}\\right)}$"
      ],
      "text/plain": [
       "w |--> e^(1/2*(((mu2*w + mu1)*rho/(sigma1*sigma2) - mu1*w/sigma1^2 - mu2/sigma2^2)^2 - (2*mu1*mu2*rho/(sigma1*sigma2) - mu1^2/sigma1^2 - mu2^2/sigma2^2)*(2*rho*w/(sigma1*sigma2) - w^2/sigma1^2 - 1/sigma2^2))/((rho^2 - 1)*(2*rho*w/(sigma1*sigma2) - w^2/sigma1^2 - 1/sigma2^2)))"
      ]
     },
     "metadata": {},
     "output_type": "display_data"
    }
   ],
   "source": [
    "# auxiliary functions a,b,c,d\n",
    "a(w) = (w^2/s1^2 - 2*r*w/(s1*s2) + 1/s2^2)^(1/2)\n",
    "b(w) = (m1*w/s1^2 - r*(m1 + m2*w)/(s1*s2) + m2/s2^2)\n",
    "c = (m1^2/s1^2 - 2*r*m1*m2/(s1*s2) + m2^2/s2^2)\n",
    "d(w) = exp((b(w)^2 - c*a(w)^2)/(2*(1 - r^2)*a(w)^2))\n",
    "for aux in [a,b,c,d]:\n",
    "    show(aux)"
   ]
  },
  {
   "cell_type": "code",
   "execution_count": 4,
   "id": "328f5c6d-6d71-4d8f-bc8f-1d1328db573e",
   "metadata": {
    "execution": {
     "iopub.execute_input": "2024-11-18T07:44:09.841659Z",
     "iopub.status.busy": "2024-11-18T07:44:09.826650Z",
     "iopub.status.idle": "2024-11-18T07:44:09.856325Z",
     "shell.execute_reply": "2024-11-18T07:44:09.854679Z",
     "shell.execute_reply.started": "2024-11-18T07:44:09.841615Z"
    }
   },
   "outputs": [
    {
     "data": {
      "text/html": [
       "<html>\\(\\displaystyle \\left(\\frac{1}{2} \\, \\operatorname{erf}\\left(\\frac{1}{2} \\, \\sqrt{2} y\\right) + \\frac{1}{2}, \\frac{\\sqrt{2} e^{\\left(-\\frac{1}{2} \\, u^{2}\\right)}}{2 \\, \\sqrt{\\pi}}\\right)\\)</html>"
      ],
      "text/latex": [
       "$\\displaystyle \\left(\\frac{1}{2} \\, \\operatorname{erf}\\left(\\frac{1}{2} \\, \\sqrt{2} y\\right) + \\frac{1}{2}, \\frac{\\sqrt{2} e^{\\left(-\\frac{1}{2} \\, u^{2}\\right)}}{2 \\, \\sqrt{\\pi}}\\right)$"
      ],
      "text/plain": [
       "(1/2*erf(1/2*sqrt(2)*y) + 1/2, 1/2*sqrt(2)*e^(-1/2*u^2)/sqrt(pi))"
      ]
     },
     "execution_count": 4,
     "metadata": {},
     "output_type": "execute_result"
    }
   ],
   "source": [
    "# Distribution functions\n",
    "Phi(y) = (1 + erf(y/sqrt(2))) / 2\n",
    "phi(u) = exp(-u^2 / 2) / sqrt(2 * pi)\n",
    "Phi(y), phi(u)"
   ]
  },
  {
   "cell_type": "code",
   "execution_count": 5,
   "id": "ab50803e-584d-4654-99b1-7909969ebd4d",
   "metadata": {
    "execution": {
     "iopub.execute_input": "2024-11-18T07:44:09.858416Z",
     "iopub.status.busy": "2024-11-18T07:44:09.857648Z",
     "iopub.status.idle": "2024-11-18T07:44:10.136560Z",
     "shell.execute_reply": "2024-11-18T07:44:10.134535Z",
     "shell.execute_reply.started": "2024-11-18T07:44:09.858377Z"
    }
   },
   "outputs": [
    {
     "data": {
      "text/html": [
       "<html>\\(\\displaystyle y \\ {\\mapsto}\\ \\frac{1}{2} \\, \\operatorname{erf}\\left(\\frac{1}{2} \\, \\sqrt{2} y\\right) + \\frac{1}{2}\\)</html>"
      ],
      "text/latex": [
       "$\\displaystyle y \\ {\\mapsto}\\ \\frac{1}{2} \\, \\operatorname{erf}\\left(\\frac{1}{2} \\, \\sqrt{2} y\\right) + \\frac{1}{2}$"
      ],
      "text/plain": [
       "y |--> 1/2*erf(1/2*sqrt(2)*y) + 1/2"
      ]
     },
     "metadata": {},
     "output_type": "display_data"
    },
    {
     "data": {
      "text/html": [
       "<html>\\(\\displaystyle 0\\)</html>"
      ],
      "text/latex": [
       "$\\displaystyle 0$"
      ],
      "text/plain": [
       "0"
      ]
     },
     "execution_count": 5,
     "metadata": {},
     "output_type": "execute_result"
    }
   ],
   "source": [
    "# cross-checking\n",
    "Phi_int(y)= integral(phi(u), u, -oo, y).canonicalize_radical()\n",
    "Phi_int.show()\n",
    "Phi_int(y)-Phi(y)"
   ]
  },
  {
   "cell_type": "code",
   "execution_count": 6,
   "id": "3264b82d-54e6-4a78-9158-e82bcf28973c",
   "metadata": {
    "execution": {
     "iopub.execute_input": "2024-11-18T07:44:10.151368Z",
     "iopub.status.busy": "2024-11-18T07:44:10.139510Z",
     "iopub.status.idle": "2024-11-18T07:44:10.175547Z",
     "shell.execute_reply": "2024-11-18T07:44:10.174211Z",
     "shell.execute_reply.started": "2024-11-18T07:44:10.151242Z"
    },
    "scrolled": true
   },
   "outputs": [
    {
     "data": {
      "text/html": [
       "<html>\\(\\displaystyle \\frac{\\sqrt{2} {\\left(\\frac{{\\left(\\mu_{2} t + \\mu_{1}\\right)} \\rho}{\\sigma_{1} \\sigma_{2}} - \\frac{\\mu_{1} t}{\\sigma_{1}^{2}} - \\frac{\\mu_{2}}{\\sigma_{2}^{2}}\\right)} {\\left(\\operatorname{erf}\\left(\\frac{\\sqrt{2} {\\left(\\frac{{\\left(\\mu_{2} t + \\mu_{1}\\right)} \\rho}{\\sigma_{1} \\sigma_{2}} - \\frac{\\mu_{1} t}{\\sigma_{1}^{2}} - \\frac{\\mu_{2}}{\\sigma_{2}^{2}}\\right)}}{2 \\, \\sqrt{-\\rho^{2} + 1} \\sqrt{-\\frac{2 \\, \\rho t}{\\sigma_{1} \\sigma_{2}} + \\frac{t^{2}}{\\sigma_{1}^{2}} + \\frac{1}{\\sigma_{2}^{2}}}}\\right) - \\operatorname{erf}\\left(-\\frac{\\sqrt{2} {\\left(\\frac{{\\left(\\mu_{2} t + \\mu_{1}\\right)} \\rho}{\\sigma_{1} \\sigma_{2}} - \\frac{\\mu_{1} t}{\\sigma_{1}^{2}} - \\frac{\\mu_{2}}{\\sigma_{2}^{2}}\\right)}}{2 \\, \\sqrt{-\\rho^{2} + 1} \\sqrt{-\\frac{2 \\, \\rho t}{\\sigma_{1} \\sigma_{2}} + \\frac{t^{2}}{\\sigma_{1}^{2}} + \\frac{1}{\\sigma_{2}^{2}}}}\\right)\\right)} e^{\\left(\\frac{{\\left(\\frac{{\\left(\\mu_{2} t + \\mu_{1}\\right)} \\rho}{\\sigma_{1} \\sigma_{2}} - \\frac{\\mu_{1} t}{\\sigma_{1}^{2}} - \\frac{\\mu_{2}}{\\sigma_{2}^{2}}\\right)}^{2} - {\\left(\\frac{2 \\, \\mu_{1} \\mu_{2} \\rho}{\\sigma_{1} \\sigma_{2}} - \\frac{\\mu_{1}^{2}}{\\sigma_{1}^{2}} - \\frac{\\mu_{2}^{2}}{\\sigma_{2}^{2}}\\right)} {\\left(\\frac{2 \\, \\rho t}{\\sigma_{1} \\sigma_{2}} - \\frac{t^{2}}{\\sigma_{1}^{2}} - \\frac{1}{\\sigma_{2}^{2}}\\right)}}{2 \\, {\\left(\\rho^{2} - 1\\right)} {\\left(\\frac{2 \\, \\rho t}{\\sigma_{1} \\sigma_{2}} - \\frac{t^{2}}{\\sigma_{1}^{2}} - \\frac{1}{\\sigma_{2}^{2}}\\right)}}\\right)}}{4 \\, \\sqrt{\\pi} \\sigma_{1} \\sigma_{2} {\\left(-\\frac{2 \\, \\rho t}{\\sigma_{1} \\sigma_{2}} + \\frac{t^{2}}{\\sigma_{1}^{2}} + \\frac{1}{\\sigma_{2}^{2}}\\right)}^{\\frac{3}{2}}} - \\frac{\\sqrt{-\\rho^{2} + 1} e^{\\left(-\\frac{\\frac{2 \\, \\mu_{1} \\mu_{2} \\rho}{\\sigma_{1} \\sigma_{2}} - \\frac{\\mu_{1}^{2}}{\\sigma_{1}^{2}} - \\frac{\\mu_{2}^{2}}{\\sigma_{2}^{2}}}{2 \\, {\\left(\\rho^{2} - 1\\right)}}\\right)}}{\\pi \\sigma_{1} \\sigma_{2} {\\left(\\frac{2 \\, \\rho t}{\\sigma_{1} \\sigma_{2}} - \\frac{t^{2}}{\\sigma_{1}^{2}} - \\frac{1}{\\sigma_{2}^{2}}\\right)}}\\)</html>"
      ],
      "text/latex": [
       "$\\displaystyle \\frac{\\sqrt{2} {\\left(\\frac{{\\left(\\mu_{2} t + \\mu_{1}\\right)} \\rho}{\\sigma_{1} \\sigma_{2}} - \\frac{\\mu_{1} t}{\\sigma_{1}^{2}} - \\frac{\\mu_{2}}{\\sigma_{2}^{2}}\\right)} {\\left(\\operatorname{erf}\\left(\\frac{\\sqrt{2} {\\left(\\frac{{\\left(\\mu_{2} t + \\mu_{1}\\right)} \\rho}{\\sigma_{1} \\sigma_{2}} - \\frac{\\mu_{1} t}{\\sigma_{1}^{2}} - \\frac{\\mu_{2}}{\\sigma_{2}^{2}}\\right)}}{2 \\, \\sqrt{-\\rho^{2} + 1} \\sqrt{-\\frac{2 \\, \\rho t}{\\sigma_{1} \\sigma_{2}} + \\frac{t^{2}}{\\sigma_{1}^{2}} + \\frac{1}{\\sigma_{2}^{2}}}}\\right) - \\operatorname{erf}\\left(-\\frac{\\sqrt{2} {\\left(\\frac{{\\left(\\mu_{2} t + \\mu_{1}\\right)} \\rho}{\\sigma_{1} \\sigma_{2}} - \\frac{\\mu_{1} t}{\\sigma_{1}^{2}} - \\frac{\\mu_{2}}{\\sigma_{2}^{2}}\\right)}}{2 \\, \\sqrt{-\\rho^{2} + 1} \\sqrt{-\\frac{2 \\, \\rho t}{\\sigma_{1} \\sigma_{2}} + \\frac{t^{2}}{\\sigma_{1}^{2}} + \\frac{1}{\\sigma_{2}^{2}}}}\\right)\\right)} e^{\\left(\\frac{{\\left(\\frac{{\\left(\\mu_{2} t + \\mu_{1}\\right)} \\rho}{\\sigma_{1} \\sigma_{2}} - \\frac{\\mu_{1} t}{\\sigma_{1}^{2}} - \\frac{\\mu_{2}}{\\sigma_{2}^{2}}\\right)}^{2} - {\\left(\\frac{2 \\, \\mu_{1} \\mu_{2} \\rho}{\\sigma_{1} \\sigma_{2}} - \\frac{\\mu_{1}^{2}}{\\sigma_{1}^{2}} - \\frac{\\mu_{2}^{2}}{\\sigma_{2}^{2}}\\right)} {\\left(\\frac{2 \\, \\rho t}{\\sigma_{1} \\sigma_{2}} - \\frac{t^{2}}{\\sigma_{1}^{2}} - \\frac{1}{\\sigma_{2}^{2}}\\right)}}{2 \\, {\\left(\\rho^{2} - 1\\right)} {\\left(\\frac{2 \\, \\rho t}{\\sigma_{1} \\sigma_{2}} - \\frac{t^{2}}{\\sigma_{1}^{2}} - \\frac{1}{\\sigma_{2}^{2}}\\right)}}\\right)}}{4 \\, \\sqrt{\\pi} \\sigma_{1} \\sigma_{2} {\\left(-\\frac{2 \\, \\rho t}{\\sigma_{1} \\sigma_{2}} + \\frac{t^{2}}{\\sigma_{1}^{2}} + \\frac{1}{\\sigma_{2}^{2}}\\right)}^{\\frac{3}{2}}} - \\frac{\\sqrt{-\\rho^{2} + 1} e^{\\left(-\\frac{\\frac{2 \\, \\mu_{1} \\mu_{2} \\rho}{\\sigma_{1} \\sigma_{2}} - \\frac{\\mu_{1}^{2}}{\\sigma_{1}^{2}} - \\frac{\\mu_{2}^{2}}{\\sigma_{2}^{2}}}{2 \\, {\\left(\\rho^{2} - 1\\right)}}\\right)}}{\\pi \\sigma_{1} \\sigma_{2} {\\left(\\frac{2 \\, \\rho t}{\\sigma_{1} \\sigma_{2}} - \\frac{t^{2}}{\\sigma_{1}^{2}} - \\frac{1}{\\sigma_{2}^{2}}\\right)}}$"
      ],
      "text/plain": [
       "1/4*sqrt(2)*((mu2*t + mu1)*rho/(sigma1*sigma2) - mu1*t/sigma1^2 - mu2/sigma2^2)*(erf(1/2*sqrt(2)*((mu2*t + mu1)*rho/(sigma1*sigma2) - mu1*t/sigma1^2 - mu2/sigma2^2)/(sqrt(-rho^2 + 1)*sqrt(-2*rho*t/(sigma1*sigma2) + t^2/sigma1^2 + 1/sigma2^2))) - erf(-1/2*sqrt(2)*((mu2*t + mu1)*rho/(sigma1*sigma2) - mu1*t/sigma1^2 - mu2/sigma2^2)/(sqrt(-rho^2 + 1)*sqrt(-2*rho*t/(sigma1*sigma2) + t^2/sigma1^2 + 1/sigma2^2))))*e^(1/2*(((mu2*t + mu1)*rho/(sigma1*sigma2) - mu1*t/sigma1^2 - mu2/sigma2^2)^2 - (2*mu1*mu2*rho/(sigma1*sigma2) - mu1^2/sigma1^2 - mu2^2/sigma2^2)*(2*rho*t/(sigma1*sigma2) - t^2/sigma1^2 - 1/sigma2^2))/((rho^2 - 1)*(2*rho*t/(sigma1*sigma2) - t^2/sigma1^2 - 1/sigma2^2)))/(sqrt(pi)*sigma1*sigma2*(-2*rho*t/(sigma1*sigma2) + t^2/sigma1^2 + 1/sigma2^2)^(3/2)) - sqrt(-rho^2 + 1)*e^(-1/2*(2*mu1*mu2*rho/(sigma1*sigma2) - mu1^2/sigma1^2 - mu2^2/sigma2^2)/(rho^2 - 1))/(pi*sigma1*sigma2*(2*rho*t/(sigma1*sigma2) - t^2/sigma1^2 - 1/sigma2^2))"
      ]
     },
     "execution_count": 6,
     "metadata": {},
     "output_type": "execute_result"
    }
   ],
   "source": [
    "# Hinkley f(w) definition\n",
    "fHink(w) = b(w)*d(w)/(sqrt(2*pi)*s1*s2*a(w)^3)* \\\n",
    "           (Phi(b(w)/(sqrt(1-r^2)*a(w))) - Phi(-b(w)/(sqrt(1-r^2)*a(w)))) + \\\n",
    "           sqrt(1-r^2)/(pi*s1*s2*a(w)^2) * exp(-c/(2*(1-r^2)))\n",
    "\n",
    "# Output the function\n",
    "fHink(t)"
   ]
  },
  {
   "cell_type": "markdown",
   "id": "bbc18a9b-9e6e-4d35-ba5e-8d8cde8e255b",
   "metadata": {},
   "source": [
    "# Marsaglia transform"
   ]
  },
  {
   "cell_type": "markdown",
   "id": "c0e4ac52-4702-4b83-98ae-f7578a0c2aef",
   "metadata": {},
   "source": [
    "## Sec. 2.2\n",
    "**Theorem 2** (Marsaglia (2006); Pham-Gia et al. (2007)).  \n",
    "For $W=X_1 / X_2$, there are constants $r$ and $s$ such that:  \n",
    "$r(W-s)$ is distributed as $T=\\frac{a+V_1}{b+V_2}$,  \n",
    "$W$ is distributed as $\\frac{1}{r} T+s$, where $s=\\frac{\\sigma_1}{\\sigma_2} \\rho, r=\\frac{\\sigma_1}{\\sigma_2} \\sqrt{1-\\rho^2}$  \n",
    "\n",
    "$$\n",
    "\\begin{gathered}\n",
    "f_W(w)=\\frac{1}{\\frac{\\sigma_1}{\\sigma_2} \\sqrt{1-\\rho^2}} f_T\\left(\\frac{w-\\rho \\frac{\\sigma_1}{\\sigma_2}}{\\frac{\\sigma_1}{\\sigma_2} \\sqrt{1-\\rho^2}}\\right), \\\\\n",
    "\\left(V_1, V_2\\right) \\sim \\mathcal{B N}(0,0 ; 1,1,0), b=\\frac{\\mu_2}{\\sigma_2} \\geq 0, a= \\pm \\frac{\\mu_1 / \\sigma_1-\\rho \\mu_2 / \\sigma_2}{\\sqrt{1-\\rho^2}} \\geq 0, \\\\\n",
    "f_T(t)=\\frac{1}{\\exp \\left(\\frac{a^2+b^2}{2}\\right) \\pi\\left(1+t^2\\right)}{ }_1 F_1\\left(\\begin{array}{c}\n",
    "1 \\\\\n",
    "1 / 2\n",
    "\\end{array}; \\frac{(a t+b)^2}{2\\left(1+t^2\\right)}\\right),\n",
    "\\end{gathered}\n",
    "$$\n",
    "\n",
    "where ${ }_1 F_1\\left(\\begin{array}{l}\\alpha \\\\ \\beta\\end{array} ; z\\right)$ is Kummer's confluent hypergeometric function.\n",
    "\n",
    "**Refs.**\n",
    "- Hanč J., Hančová M., Borovský D., Probability distributions and calculations for Hake’s ratio statistics in measuring effect size, \n",
    "*preprint submitted to Statistical Papers*\n",
    "- Marsaglia, George. 2006. “Ratios of Normal Variables.” Journal of Statistical Software 16 (4). https://doi.org/10.18637/jss.v016.i04.\n",
    "- Pham-Gia, T., N. Turkkan, and E. Marchand. 2007. “Density of the Ratio of Two Normal Random Variables and Applications.” Communications in Statistics - Theory and Methods 35 (9): 1569–91. https://doi.org/10.1080/03610920600683689.\n",
    "\n"
   ]
  },
  {
   "cell_type": "code",
   "execution_count": 7,
   "id": "84a473ea-84be-4c7f-91ec-8f2b1638ad9c",
   "metadata": {
    "execution": {
     "iopub.execute_input": "2024-11-18T07:44:10.180369Z",
     "iopub.status.busy": "2024-11-18T07:44:10.176802Z",
     "iopub.status.idle": "2024-11-18T07:44:10.192822Z",
     "shell.execute_reply": "2024-11-18T07:44:10.191940Z",
     "shell.execute_reply.started": "2024-11-18T07:44:10.180292Z"
    }
   },
   "outputs": [],
   "source": [
    "from sage.functions.hypergeometric import closed_form"
   ]
  },
  {
   "cell_type": "code",
   "execution_count": 8,
   "id": "ee6289ec-0d5c-4c75-badd-e011c5e00d68",
   "metadata": {
    "execution": {
     "iopub.execute_input": "2024-11-18T07:44:10.195220Z",
     "iopub.status.busy": "2024-11-18T07:44:10.194593Z",
     "iopub.status.idle": "2024-11-18T07:44:10.235016Z",
     "shell.execute_reply": "2024-11-18T07:44:10.232696Z",
     "shell.execute_reply.started": "2024-11-18T07:44:10.195191Z"
    }
   },
   "outputs": [],
   "source": [
    "# Marsaglia T = (a+X)/(b+Y)\n",
    "q = var('q', domain='positive')\n",
    "aa = var('aa', latex_name = 'a')\n",
    "bb = var('bb', latex_name = 'b')\n",
    "fC(t) = 1 / (exp((aa^2 + bb^2) / 2) * pi * (1 + t^2))\n",
    "fS(q) = (1+q*exp(1/2*q^2)*integral(exp(-1/2*x^2),x, 0, q))\n",
    "fT(t) = fC(t)*fS(q).subs(q == (aa*t+bb)/sqrt(1+t^2))"
   ]
  },
  {
   "cell_type": "code",
   "execution_count": 9,
   "id": "2d2dd597-fa22-4a8a-aa9d-d7a43612d5e2",
   "metadata": {
    "execution": {
     "iopub.execute_input": "2024-11-18T07:44:10.236364Z",
     "iopub.status.busy": "2024-11-18T07:44:10.235755Z",
     "iopub.status.idle": "2024-11-18T07:44:10.451918Z",
     "shell.execute_reply": "2024-11-18T07:44:10.448502Z",
     "shell.execute_reply.started": "2024-11-18T07:44:10.236335Z"
    }
   },
   "outputs": [
    {
     "data": {
      "text/html": [
       "<html>\\(\\displaystyle -\\frac{1}{2} \\, \\sqrt{2} \\sqrt{\\pi} q \\operatorname{erf}\\left(\\frac{1}{2} \\, \\sqrt{2} q\\right) e^{\\left(\\frac{1}{2} \\, q^{2}\\right)} + i \\, \\sqrt{\\frac{1}{2}} \\sqrt{\\pi} \\sqrt{-q^{2}} \\operatorname{erf}\\left(i \\, \\sqrt{\\frac{1}{2}} \\sqrt{-q^{2}}\\right) e^{\\left(\\frac{1}{2} \\, q^{2}\\right)}\\)</html>"
      ],
      "text/latex": [
       "$\\displaystyle -\\frac{1}{2} \\, \\sqrt{2} \\sqrt{\\pi} q \\operatorname{erf}\\left(\\frac{1}{2} \\, \\sqrt{2} q\\right) e^{\\left(\\frac{1}{2} \\, q^{2}\\right)} + i \\, \\sqrt{\\frac{1}{2}} \\sqrt{\\pi} \\sqrt{-q^{2}} \\operatorname{erf}\\left(i \\, \\sqrt{\\frac{1}{2}} \\sqrt{-q^{2}}\\right) e^{\\left(\\frac{1}{2} \\, q^{2}\\right)}$"
      ],
      "text/plain": [
       "-1/2*sqrt(2)*sqrt(pi)*q*erf(1/2*sqrt(2)*q)*e^(1/2*q^2) + I*sqrt(1/2)*sqrt(pi)*sqrt(-q^2)*erf(I*sqrt(1/2)*sqrt(-q^2))*e^(1/2*q^2)"
      ]
     },
     "execution_count": 9,
     "metadata": {},
     "output_type": "execute_result"
    }
   ],
   "source": [
    "# Pham-gia 1F1 version\n",
    "M(aa,bb,z) = hypergeometric_M(aa,bb, z).generalized()\n",
    "(M(1,1/2,q^2/2)-fS(q)).simplify_hypergeometric()"
   ]
  },
  {
   "cell_type": "code",
   "execution_count": 10,
   "id": "7d38bd49-b4cb-4b01-b024-69797483c1a0",
   "metadata": {
    "execution": {
     "iopub.execute_input": "2024-11-18T07:44:10.453481Z",
     "iopub.status.busy": "2024-11-18T07:44:10.452815Z",
     "iopub.status.idle": "2024-11-18T07:44:10.505435Z",
     "shell.execute_reply": "2024-11-18T07:44:10.504471Z",
     "shell.execute_reply.started": "2024-11-18T07:44:10.453444Z"
    }
   },
   "outputs": [
    {
     "data": {
      "text/html": [
       "<html>\\(\\displaystyle \\frac{1}{2} \\, \\sqrt{2} {\\left(\\sqrt{\\pi} q \\operatorname{erf}\\left(\\frac{1}{2} \\, \\sqrt{2} q\\right) e^{\\left(\\frac{1}{2} \\, q^{2}\\right)} + \\sqrt{2}\\right)}\\)</html>"
      ],
      "text/latex": [
       "$\\displaystyle \\frac{1}{2} \\, \\sqrt{2} {\\left(\\sqrt{\\pi} q \\operatorname{erf}\\left(\\frac{1}{2} \\, \\sqrt{2} q\\right) e^{\\left(\\frac{1}{2} \\, q^{2}\\right)} + \\sqrt{2}\\right)}$"
      ],
      "text/plain": [
       "1/2*sqrt(2)*(sqrt(pi)*q*erf(1/2*sqrt(2)*q)*e^(1/2*q^2) + sqrt(2))"
      ]
     },
     "execution_count": 10,
     "metadata": {},
     "output_type": "execute_result"
    }
   ],
   "source": [
    "M(1,1/2,q^2/2).simplify_hypergeometric().canonicalize_radical()"
   ]
  },
  {
   "cell_type": "code",
   "execution_count": 11,
   "id": "fc00555e-e893-4243-a7af-1c3213998eb3",
   "metadata": {
    "execution": {
     "iopub.execute_input": "2024-11-18T07:44:10.507503Z",
     "iopub.status.busy": "2024-11-18T07:44:10.506455Z",
     "iopub.status.idle": "2024-11-18T07:44:10.521962Z",
     "shell.execute_reply": "2024-11-18T07:44:10.520428Z",
     "shell.execute_reply.started": "2024-11-18T07:44:10.507458Z"
    }
   },
   "outputs": [
    {
     "data": {
      "text/html": [
       "<html>\\(\\displaystyle \\frac{{\\left(\\frac{\\sqrt{2} \\sqrt{\\pi} {\\left({a} t + {b}\\right)} \\operatorname{erf}\\left(\\frac{\\sqrt{2} {\\left({a} t + {b}\\right)}}{2 \\, \\sqrt{t^{2} + 1}}\\right) e^{\\left(\\frac{{\\left({a} t + {b}\\right)}^{2}}{2 \\, {\\left(t^{2} + 1\\right)}}\\right)}}{\\sqrt{t^{2} + 1}} + 2\\right)} e^{\\left(-\\frac{1}{2} \\, {a}^{2} - \\frac{1}{2} \\, {b}^{2}\\right)}}{2 \\, \\pi {\\left(t^{2} + 1\\right)}}\\)</html>"
      ],
      "text/latex": [
       "$\\displaystyle \\frac{{\\left(\\frac{\\sqrt{2} \\sqrt{\\pi} {\\left({a} t + {b}\\right)} \\operatorname{erf}\\left(\\frac{\\sqrt{2} {\\left({a} t + {b}\\right)}}{2 \\, \\sqrt{t^{2} + 1}}\\right) e^{\\left(\\frac{{\\left({a} t + {b}\\right)}^{2}}{2 \\, {\\left(t^{2} + 1\\right)}}\\right)}}{\\sqrt{t^{2} + 1}} + 2\\right)} e^{\\left(-\\frac{1}{2} \\, {a}^{2} - \\frac{1}{2} \\, {b}^{2}\\right)}}{2 \\, \\pi {\\left(t^{2} + 1\\right)}}$"
      ],
      "text/plain": [
       "1/2*(sqrt(2)*sqrt(pi)*(aa*t + bb)*erf(1/2*sqrt(2)*(aa*t + bb)/sqrt(t^2 + 1))*e^(1/2*(aa*t + bb)^2/(t^2 + 1))/sqrt(t^2 + 1) + 2)*e^(-1/2*aa^2 - 1/2*bb^2)/(pi*(t^2 + 1))"
      ]
     },
     "execution_count": 11,
     "metadata": {},
     "output_type": "execute_result"
    }
   ],
   "source": [
    "fT(t)"
   ]
  },
  {
   "cell_type": "code",
   "execution_count": 12,
   "id": "6a656e3b-2ce3-4286-a312-7321c49128c2",
   "metadata": {
    "execution": {
     "iopub.execute_input": "2024-11-18T07:44:10.532945Z",
     "iopub.status.busy": "2024-11-18T07:44:10.523002Z",
     "iopub.status.idle": "2024-11-18T07:44:10.548476Z",
     "shell.execute_reply": "2024-11-18T07:44:10.547188Z",
     "shell.execute_reply.started": "2024-11-18T07:44:10.532879Z"
    }
   },
   "outputs": [
    {
     "data": {
      "text/html": [
       "<html>\\(\\displaystyle \\left(\\frac{\\rho \\sigma_{1}}{\\sigma_{2}}, \\frac{\\sqrt{-\\rho^{2} + 1} \\sigma_{1}}{\\sigma_{2}}, -\\frac{\\frac{\\mu_{2} \\rho}{\\sigma_{2}} - \\frac{\\mu_{1}}{\\sigma_{1}}}{\\sqrt{-\\rho^{2} + 1}}, \\frac{\\mu_{2}}{\\sigma_{2}}\\right)\\)</html>"
      ],
      "text/latex": [
       "$\\displaystyle \\left(\\frac{\\rho \\sigma_{1}}{\\sigma_{2}}, \\frac{\\sqrt{-\\rho^{2} + 1} \\sigma_{1}}{\\sigma_{2}}, -\\frac{\\frac{\\mu_{2} \\rho}{\\sigma_{2}} - \\frac{\\mu_{1}}{\\sigma_{1}}}{\\sqrt{-\\rho^{2} + 1}}, \\frac{\\mu_{2}}{\\sigma_{2}}\\right)$"
      ],
      "text/plain": [
       "(rho*sigma1/sigma2,\n",
       " sqrt(-rho^2 + 1)*sigma1/sigma2,\n",
       " -(mu2*rho/sigma2 - mu1/sigma1)/sqrt(-rho^2 + 1),\n",
       " mu2/sigma2)"
      ]
     },
     "execution_count": 12,
     "metadata": {},
     "output_type": "execute_result"
    }
   ],
   "source": [
    "# ortogonal transformation\n",
    "s, m = r*s1/s2, s1/s2*sqrt(1-r^2)\n",
    "at, bt = 1/sqrt(1-r^2)*(m1/s1 - r*m2/s2), m2/s2\n",
    "s, m, at, bt"
   ]
  },
  {
   "cell_type": "code",
   "execution_count": 13,
   "id": "ca8d7f69-291a-450c-a05c-b180587c5f1e",
   "metadata": {
    "execution": {
     "iopub.execute_input": "2024-11-18T07:44:10.552741Z",
     "iopub.status.busy": "2024-11-18T07:44:10.549760Z",
     "iopub.status.idle": "2024-11-18T07:44:10.559648Z",
     "shell.execute_reply": "2024-11-18T07:44:10.558581Z",
     "shell.execute_reply.started": "2024-11-18T07:44:10.552691Z"
    }
   },
   "outputs": [],
   "source": [
    "# MArsaglia version of function after scaling H = s+m*T\n",
    "fTT(t) = fT(t).subs(aa == at, bb == bt)\n",
    "fMars(t) = 1/m*fTT((t-s)/m)"
   ]
  },
  {
   "cell_type": "code",
   "execution_count": 14,
   "id": "7f24f69b-f60a-451a-8745-79aa4d47d8a2",
   "metadata": {
    "execution": {
     "iopub.execute_input": "2024-11-18T07:44:10.560974Z",
     "iopub.status.busy": "2024-11-18T07:44:10.560384Z",
     "iopub.status.idle": "2024-11-18T07:44:10.580797Z",
     "shell.execute_reply": "2024-11-18T07:44:10.579952Z",
     "shell.execute_reply.started": "2024-11-18T07:44:10.560931Z"
    }
   },
   "outputs": [
    {
     "data": {
      "text/html": [
       "<html>\\(\\displaystyle \\frac{{\\left(\\frac{\\sqrt{2} \\sqrt{\\pi} {\\left(\\frac{{\\left(\\frac{\\mu_{2} \\rho}{\\sigma_{2}} - \\frac{\\mu_{1}}{\\sigma_{1}}\\right)} {\\left(\\frac{\\rho \\sigma_{1}}{\\sigma_{2}} - t\\right)} \\sigma_{2}}{{\\left(\\rho^{2} - 1\\right)} \\sigma_{1}} - \\frac{\\mu_{2}}{\\sigma_{2}}\\right)} \\operatorname{erf}\\left(-\\frac{\\sqrt{2} {\\left(\\frac{{\\left(\\frac{\\mu_{2} \\rho}{\\sigma_{2}} - \\frac{\\mu_{1}}{\\sigma_{1}}\\right)} {\\left(\\frac{\\rho \\sigma_{1}}{\\sigma_{2}} - t\\right)} \\sigma_{2}}{{\\left(\\rho^{2} - 1\\right)} \\sigma_{1}} - \\frac{\\mu_{2}}{\\sigma_{2}}\\right)}}{2 \\, \\sqrt{-\\frac{{\\left(\\frac{\\rho \\sigma_{1}}{\\sigma_{2}} - t\\right)}^{2} \\sigma_{2}^{2}}{{\\left(\\rho^{2} - 1\\right)} \\sigma_{1}^{2}} + 1}}\\right) e^{\\left(-\\frac{{\\left(\\frac{{\\left(\\frac{\\mu_{2} \\rho}{\\sigma_{2}} - \\frac{\\mu_{1}}{\\sigma_{1}}\\right)} {\\left(\\frac{\\rho \\sigma_{1}}{\\sigma_{2}} - t\\right)} \\sigma_{2}}{{\\left(\\rho^{2} - 1\\right)} \\sigma_{1}} - \\frac{\\mu_{2}}{\\sigma_{2}}\\right)}^{2}}{2 \\, {\\left(\\frac{{\\left(\\frac{\\rho \\sigma_{1}}{\\sigma_{2}} - t\\right)}^{2} \\sigma_{2}^{2}}{{\\left(\\rho^{2} - 1\\right)} \\sigma_{1}^{2}} - 1\\right)}}\\right)}}{\\sqrt{-\\frac{{\\left(\\frac{\\rho \\sigma_{1}}{\\sigma_{2}} - t\\right)}^{2} \\sigma_{2}^{2}}{{\\left(\\rho^{2} - 1\\right)} \\sigma_{1}^{2}} + 1}} - 2\\right)} \\sigma_{2} e^{\\left(\\frac{{\\left(\\frac{\\mu_{2} \\rho}{\\sigma_{2}} - \\frac{\\mu_{1}}{\\sigma_{1}}\\right)}^{2}}{2 \\, {\\left(\\rho^{2} - 1\\right)}} - \\frac{\\mu_{2}^{2}}{2 \\, \\sigma_{2}^{2}}\\right)}}{2 \\, \\pi \\sqrt{-\\rho^{2} + 1} \\sigma_{1} {\\left(\\frac{{\\left(\\frac{\\rho \\sigma_{1}}{\\sigma_{2}} - t\\right)}^{2} \\sigma_{2}^{2}}{{\\left(\\rho^{2} - 1\\right)} \\sigma_{1}^{2}} - 1\\right)}}\\)</html>"
      ],
      "text/latex": [
       "$\\displaystyle \\frac{{\\left(\\frac{\\sqrt{2} \\sqrt{\\pi} {\\left(\\frac{{\\left(\\frac{\\mu_{2} \\rho}{\\sigma_{2}} - \\frac{\\mu_{1}}{\\sigma_{1}}\\right)} {\\left(\\frac{\\rho \\sigma_{1}}{\\sigma_{2}} - t\\right)} \\sigma_{2}}{{\\left(\\rho^{2} - 1\\right)} \\sigma_{1}} - \\frac{\\mu_{2}}{\\sigma_{2}}\\right)} \\operatorname{erf}\\left(-\\frac{\\sqrt{2} {\\left(\\frac{{\\left(\\frac{\\mu_{2} \\rho}{\\sigma_{2}} - \\frac{\\mu_{1}}{\\sigma_{1}}\\right)} {\\left(\\frac{\\rho \\sigma_{1}}{\\sigma_{2}} - t\\right)} \\sigma_{2}}{{\\left(\\rho^{2} - 1\\right)} \\sigma_{1}} - \\frac{\\mu_{2}}{\\sigma_{2}}\\right)}}{2 \\, \\sqrt{-\\frac{{\\left(\\frac{\\rho \\sigma_{1}}{\\sigma_{2}} - t\\right)}^{2} \\sigma_{2}^{2}}{{\\left(\\rho^{2} - 1\\right)} \\sigma_{1}^{2}} + 1}}\\right) e^{\\left(-\\frac{{\\left(\\frac{{\\left(\\frac{\\mu_{2} \\rho}{\\sigma_{2}} - \\frac{\\mu_{1}}{\\sigma_{1}}\\right)} {\\left(\\frac{\\rho \\sigma_{1}}{\\sigma_{2}} - t\\right)} \\sigma_{2}}{{\\left(\\rho^{2} - 1\\right)} \\sigma_{1}} - \\frac{\\mu_{2}}{\\sigma_{2}}\\right)}^{2}}{2 \\, {\\left(\\frac{{\\left(\\frac{\\rho \\sigma_{1}}{\\sigma_{2}} - t\\right)}^{2} \\sigma_{2}^{2}}{{\\left(\\rho^{2} - 1\\right)} \\sigma_{1}^{2}} - 1\\right)}}\\right)}}{\\sqrt{-\\frac{{\\left(\\frac{\\rho \\sigma_{1}}{\\sigma_{2}} - t\\right)}^{2} \\sigma_{2}^{2}}{{\\left(\\rho^{2} - 1\\right)} \\sigma_{1}^{2}} + 1}} - 2\\right)} \\sigma_{2} e^{\\left(\\frac{{\\left(\\frac{\\mu_{2} \\rho}{\\sigma_{2}} - \\frac{\\mu_{1}}{\\sigma_{1}}\\right)}^{2}}{2 \\, {\\left(\\rho^{2} - 1\\right)}} - \\frac{\\mu_{2}^{2}}{2 \\, \\sigma_{2}^{2}}\\right)}}{2 \\, \\pi \\sqrt{-\\rho^{2} + 1} \\sigma_{1} {\\left(\\frac{{\\left(\\frac{\\rho \\sigma_{1}}{\\sigma_{2}} - t\\right)}^{2} \\sigma_{2}^{2}}{{\\left(\\rho^{2} - 1\\right)} \\sigma_{1}^{2}} - 1\\right)}}$"
      ],
      "text/plain": [
       "1/2*(sqrt(2)*sqrt(pi)*((mu2*rho/sigma2 - mu1/sigma1)*(rho*sigma1/sigma2 - t)*sigma2/((rho^2 - 1)*sigma1) - mu2/sigma2)*erf(-1/2*sqrt(2)*((mu2*rho/sigma2 - mu1/sigma1)*(rho*sigma1/sigma2 - t)*sigma2/((rho^2 - 1)*sigma1) - mu2/sigma2)/sqrt(-(rho*sigma1/sigma2 - t)^2*sigma2^2/((rho^2 - 1)*sigma1^2) + 1))*e^(-1/2*((mu2*rho/sigma2 - mu1/sigma1)*(rho*sigma1/sigma2 - t)*sigma2/((rho^2 - 1)*sigma1) - mu2/sigma2)^2/((rho*sigma1/sigma2 - t)^2*sigma2^2/((rho^2 - 1)*sigma1^2) - 1))/sqrt(-(rho*sigma1/sigma2 - t)^2*sigma2^2/((rho^2 - 1)*sigma1^2) + 1) - 2)*sigma2*e^(1/2*(mu2*rho/sigma2 - mu1/sigma1)^2/(rho^2 - 1) - 1/2*mu2^2/sigma2^2)/(pi*sqrt(-rho^2 + 1)*sigma1*((rho*sigma1/sigma2 - t)^2*sigma2^2/((rho^2 - 1)*sigma1^2) - 1))"
      ]
     },
     "execution_count": 14,
     "metadata": {},
     "output_type": "execute_result"
    }
   ],
   "source": [
    "fMars(t)"
   ]
  },
  {
   "cell_type": "markdown",
   "id": "6000456d-cb30-4368-b142-051f924374f9",
   "metadata": {},
   "source": [
    "# Plot for specific values"
   ]
  },
  {
   "cell_type": "code",
   "execution_count": 15,
   "id": "d37f2b2d-53dd-49a3-a5c1-bdd2c8839875",
   "metadata": {
    "execution": {
     "iopub.execute_input": "2024-11-18T07:44:10.582016Z",
     "iopub.status.busy": "2024-11-18T07:44:10.581400Z",
     "iopub.status.idle": "2024-11-18T07:44:10.592169Z",
     "shell.execute_reply": "2024-11-18T07:44:10.590572Z",
     "shell.execute_reply.started": "2024-11-18T07:44:10.581979Z"
    }
   },
   "outputs": [],
   "source": [
    "# values\n",
    "values = [m1v, s1v, m2v, s2v, rv] = 3, 2, 2, 2, 0\n",
    "sub = [m1 == m1v, s1 == s1v, m2 == m2v, s2 == s2v]\n",
    "rlist = [0,0.2,..,0.8] "
   ]
  },
  {
   "cell_type": "code",
   "execution_count": 16,
   "id": "27ad4bc1-aca1-4e51-bb2f-98b0f5949629",
   "metadata": {
    "execution": {
     "iopub.execute_input": "2024-11-18T07:44:10.593896Z",
     "iopub.status.busy": "2024-11-18T07:44:10.593214Z",
     "iopub.status.idle": "2024-11-18T07:44:10.619183Z",
     "shell.execute_reply": "2024-11-18T07:44:10.617554Z",
     "shell.execute_reply.started": "2024-11-18T07:44:10.593864Z"
    }
   },
   "outputs": [
    {
     "data": {
      "text/html": [
       "<html>\\(\\displaystyle \\left(\\frac{3}{2}, 1\\right)\\)</html>"
      ],
      "text/latex": [
       "$\\displaystyle \\left(\\frac{3}{2}, 1\\right)$"
      ],
      "text/plain": [
       "(3/2, 1)"
      ]
     },
     "execution_count": 16,
     "metadata": {},
     "output_type": "execute_result"
    }
   ],
   "source": [
    "a_val, b_val = at.subs(sub).subs(r==rlist[0]), bt.subs(sub).subs(r==rlist[0])\n",
    "a_val, b_val"
   ]
  },
  {
   "cell_type": "code",
   "execution_count": 17,
   "id": "9e6bcb66-39a8-45e9-80a8-711f64832eae",
   "metadata": {
    "execution": {
     "iopub.execute_input": "2024-11-18T07:44:10.620709Z",
     "iopub.status.busy": "2024-11-18T07:44:10.619970Z",
     "iopub.status.idle": "2024-11-18T07:44:10.631442Z",
     "shell.execute_reply": "2024-11-18T07:44:10.630182Z",
     "shell.execute_reply.started": "2024-11-18T07:44:10.620674Z"
    }
   },
   "outputs": [
    {
     "data": {
      "text/html": [
       "<html>\\(\\displaystyle t \\ {\\mapsto}\\ \\frac{{\\left(\\frac{\\sqrt{2} \\sqrt{\\pi} {\\left(3 \\, t + 2\\right)} \\operatorname{erf}\\left(\\frac{\\sqrt{2} {\\left(3 \\, t + 2\\right)}}{4 \\, \\sqrt{t^{2} + 1}}\\right) e^{\\left(\\frac{{\\left(3 \\, t + 2\\right)}^{2}}{8 \\, {\\left(t^{2} + 1\\right)}}\\right)}}{\\sqrt{t^{2} + 1}} + 4\\right)} e^{\\left(-\\frac{13}{8}\\right)}}{4 \\, \\pi {\\left(t^{2} + 1\\right)}}\\)</html>"
      ],
      "text/latex": [
       "$\\displaystyle t \\ {\\mapsto}\\ \\frac{{\\left(\\frac{\\sqrt{2} \\sqrt{\\pi} {\\left(3 \\, t + 2\\right)} \\operatorname{erf}\\left(\\frac{\\sqrt{2} {\\left(3 \\, t + 2\\right)}}{4 \\, \\sqrt{t^{2} + 1}}\\right) e^{\\left(\\frac{{\\left(3 \\, t + 2\\right)}^{2}}{8 \\, {\\left(t^{2} + 1\\right)}}\\right)}}{\\sqrt{t^{2} + 1}} + 4\\right)} e^{\\left(-\\frac{13}{8}\\right)}}{4 \\, \\pi {\\left(t^{2} + 1\\right)}}$"
      ],
      "text/plain": [
       "t |--> 1/4*(sqrt(2)*sqrt(pi)*(3*t + 2)*erf(1/4*sqrt(2)*(3*t + 2)/sqrt(t^2 + 1))*e^(1/8*(3*t + 2)^2/(t^2 + 1))/sqrt(t^2 + 1) + 4)*e^(-13/8)/(pi*(t^2 + 1))"
      ]
     },
     "metadata": {},
     "output_type": "display_data"
    }
   ],
   "source": [
    "# specific values from the preprint\n",
    "values = [aa == a_val, bb == b_val]\n",
    "f_T(t) = fT(t).subs(values)\n",
    "f_T.show()"
   ]
  },
  {
   "cell_type": "code",
   "execution_count": 18,
   "id": "f5056f8b-7fc0-405b-87ca-33b68674d590",
   "metadata": {
    "execution": {
     "iopub.execute_input": "2024-11-18T07:44:10.633119Z",
     "iopub.status.busy": "2024-11-18T07:44:10.632396Z",
     "iopub.status.idle": "2024-11-18T07:44:10.672685Z",
     "shell.execute_reply": "2024-11-18T07:44:10.671673Z",
     "shell.execute_reply.started": "2024-11-18T07:44:10.633040Z"
    }
   },
   "outputs": [],
   "source": [
    "# Layout of the plots\n",
    "import matplotlib.pyplot as plt\n",
    "plt.style.use('seaborn-v0_8-whitegrid')\n",
    "\n",
    "# Parameters for the graph\n",
    "color = 'blue'\n",
    "graphTitle = f'Density function of the ratio: ${str(values).replace('==','=')}$'\n",
    "legendTitle = 'PDF of $T$'\n",
    "xmin, xmax = -4.5, 7.5\n",
    "gf = plot([], figsize=(8, 5), title=graphTitle, frame=True)"
   ]
  },
  {
   "cell_type": "code",
   "execution_count": 19,
   "id": "f19d1417-34f2-49a3-b148-f44112d66a3f",
   "metadata": {
    "execution": {
     "iopub.execute_input": "2024-11-18T07:44:10.674429Z",
     "iopub.status.busy": "2024-11-18T07:44:10.673719Z",
     "iopub.status.idle": "2024-11-18T07:44:11.612911Z",
     "shell.execute_reply": "2024-11-18T07:44:11.612186Z",
     "shell.execute_reply.started": "2024-11-18T07:44:10.674402Z"
    }
   },
   "outputs": [
    {
     "data": {
      "image/png": "[encoded data removed]",
      "text/plain": [
       "Graphics object consisting of 1 graphics primitive"
      ]
     },
     "execution_count": 19,
     "metadata": {},
     "output_type": "execute_result"
    }
   ],
   "source": [
    "# plot of fT\n",
    "gf+= plot(f_T(t), (t, xmin, xmax), color='blue',legend_label=legendTitle)\n",
    "gf"
   ]
  },
  {
   "cell_type": "code",
   "execution_count": 20,
   "id": "1a329b82-b207-4095-a546-78c2e22a88a7",
   "metadata": {
    "execution": {
     "iopub.execute_input": "2024-11-18T07:44:11.616569Z",
     "iopub.status.busy": "2024-11-18T07:44:11.615835Z",
     "iopub.status.idle": "2024-11-18T07:44:11.740431Z",
     "shell.execute_reply": "2024-11-18T07:44:11.739267Z",
     "shell.execute_reply.started": "2024-11-18T07:44:11.616536Z"
    }
   },
   "outputs": [
    {
     "data": {
      "text/html": [
       "<html>\\(\\displaystyle \\frac{{\\left(\\sqrt{\\pi} \\sqrt{t^{2} + 1} {\\left(3 \\, \\sqrt{2} t + 2 \\, \\sqrt{2}\\right)} \\operatorname{erf}\\left(\\frac{3 \\, \\sqrt{2} t + 2 \\, \\sqrt{2}}{4 \\, \\sqrt{t^{2} + 1}}\\right) e^{\\left(\\frac{9 \\, t^{2} + 12 \\, t + 4}{8 \\, {\\left(t^{2} + 1\\right)}}\\right)} + 4 \\, t^{2} + 4\\right)} e^{\\left(-\\frac{5}{8}\\right)}}{4 \\, {\\left(\\pi t^{4} e + 2 \\, \\pi t^{2} e + \\pi e\\right)}}\\)</html>"
      ],
      "text/latex": [
       "$\\displaystyle \\frac{{\\left(\\sqrt{\\pi} \\sqrt{t^{2} + 1} {\\left(3 \\, \\sqrt{2} t + 2 \\, \\sqrt{2}\\right)} \\operatorname{erf}\\left(\\frac{3 \\, \\sqrt{2} t + 2 \\, \\sqrt{2}}{4 \\, \\sqrt{t^{2} + 1}}\\right) e^{\\left(\\frac{9 \\, t^{2} + 12 \\, t + 4}{8 \\, {\\left(t^{2} + 1\\right)}}\\right)} + 4 \\, t^{2} + 4\\right)} e^{\\left(-\\frac{5}{8}\\right)}}{4 \\, {\\left(\\pi t^{4} e + 2 \\, \\pi t^{2} e + \\pi e\\right)}}$"
      ],
      "text/plain": [
       "1/4*(sqrt(pi)*sqrt(t^2 + 1)*(3*sqrt(2)*t + 2*sqrt(2))*erf(1/4*(3*sqrt(2)*t + 2*sqrt(2))/sqrt(t^2 + 1))*e^(1/8*(9*t^2 + 12*t + 4)/(t^2 + 1)) + 4*t^2 + 4)*e^(-5/8)/(pi*t^4*e + 2*pi*t^2*e + pi*e)"
      ]
     },
     "metadata": {},
     "output_type": "display_data"
    }
   ],
   "source": [
    "fMars0 = fMars(t).subs(sub).subs(r==0).canonicalize_radical().expand().canonicalize_radical()\n",
    "fMars0.show()"
   ]
  },
  {
   "cell_type": "code",
   "execution_count": 21,
   "id": "b5cd8724-99fd-4760-9d85-5ed9909575b1",
   "metadata": {
    "execution": {
     "iopub.execute_input": "2024-11-18T07:44:11.741673Z",
     "iopub.status.busy": "2024-11-18T07:44:11.741027Z",
     "iopub.status.idle": "2024-11-18T07:44:11.888912Z",
     "shell.execute_reply": "2024-11-18T07:44:11.887617Z",
     "shell.execute_reply.started": "2024-11-18T07:44:11.741644Z"
    }
   },
   "outputs": [
    {
     "data": {
      "text/html": [
       "<html>\\(\\displaystyle \\frac{{\\left(\\sqrt{\\pi} {\\left(3 \\, \\sqrt{2} t e + 2 \\, \\sqrt{2} e\\right)} \\sqrt{t^{2} + 1} \\operatorname{erf}\\left(\\frac{3 \\, \\sqrt{2} t + 2 \\, \\sqrt{2}}{4 \\, \\sqrt{t^{2} + 1}}\\right) e^{\\left(\\frac{5 \\, t^{2} + 12 \\, t}{8 \\, {\\left(t^{2} + 1\\right)}}\\right)} + 4 \\, {\\left(t^{2} + 1\\right)} e^{\\frac{1}{2}}\\right)} e^{\\left(-\\frac{9}{8}\\right)}}{4 \\, {\\left(\\pi t^{4} e + 2 \\, \\pi t^{2} e + \\pi e\\right)}}\\)</html>"
      ],
      "text/latex": [
       "$\\displaystyle \\frac{{\\left(\\sqrt{\\pi} {\\left(3 \\, \\sqrt{2} t e + 2 \\, \\sqrt{2} e\\right)} \\sqrt{t^{2} + 1} \\operatorname{erf}\\left(\\frac{3 \\, \\sqrt{2} t + 2 \\, \\sqrt{2}}{4 \\, \\sqrt{t^{2} + 1}}\\right) e^{\\left(\\frac{5 \\, t^{2} + 12 \\, t}{8 \\, {\\left(t^{2} + 1\\right)}}\\right)} + 4 \\, {\\left(t^{2} + 1\\right)} e^{\\frac{1}{2}}\\right)} e^{\\left(-\\frac{9}{8}\\right)}}{4 \\, {\\left(\\pi t^{4} e + 2 \\, \\pi t^{2} e + \\pi e\\right)}}$"
      ],
      "text/plain": [
       "1/4*(sqrt(pi)*(3*sqrt(2)*t*e + 2*sqrt(2)*e)*sqrt(t^2 + 1)*erf(1/4*(3*sqrt(2)*t + 2*sqrt(2))/sqrt(t^2 + 1))*e^(1/8*(5*t^2 + 12*t)/(t^2 + 1)) + 4*(t^2 + 1)*e^(1/2))*e^(-9/8)/(pi*t^4*e + 2*pi*t^2*e + pi*e)"
      ]
     },
     "metadata": {},
     "output_type": "display_data"
    }
   ],
   "source": [
    "fHink0 = fHink(t).subs(sub).subs(r==0).canonicalize_radical().expand().canonicalize_radical()\n",
    "fHink0.show()"
   ]
  },
  {
   "cell_type": "code",
   "execution_count": 22,
   "id": "db02aee0-c3ff-4c77-bbbb-bbaf93061142",
   "metadata": {
    "execution": {
     "iopub.execute_input": "2024-11-18T07:44:11.890945Z",
     "iopub.status.busy": "2024-11-18T07:44:11.890308Z",
     "iopub.status.idle": "2024-11-18T07:44:12.006883Z",
     "shell.execute_reply": "2024-11-18T07:44:12.005923Z",
     "shell.execute_reply.started": "2024-11-18T07:44:11.890909Z"
    }
   },
   "outputs": [
    {
     "data": {
      "text/html": [
       "<html>\\(\\displaystyle 0\\)</html>"
      ],
      "text/latex": [
       "$\\displaystyle 0$"
      ],
      "text/plain": [
       "0"
      ]
     },
     "execution_count": 22,
     "metadata": {},
     "output_type": "execute_result"
    }
   ],
   "source": [
    "(fHink0-fMars0).canonicalize_radical()"
   ]
  }
 ],
 "metadata": {
  "kernelspec": {
   "display_name": "SageMath 10.4",
   "language": "sage",
   "name": "sagemath"
  },
  "language_info": {
   "codemirror_mode": {
    "name": "ipython",
    "version": 3
   },
   "file_extension": ".py",
   "mimetype": "text/x-python",
   "name": "python",
   "nbconvert_exporter": "python",
   "pygments_lexer": "ipython3",
   "version": "3.12.6"
  }
 },
 "nbformat": 4,
 "nbformat_minor": 5
}
