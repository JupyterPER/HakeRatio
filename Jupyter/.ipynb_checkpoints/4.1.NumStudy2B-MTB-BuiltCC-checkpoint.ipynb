{
 "cells": [
  {
   "attachments": {},
   "cell_type": "markdown",
   "id": "692e5c03",
   "metadata": {
    "execution": {
     "iopub.execute_input": "2024-11-06T12:15:00.677339Z",
     "iopub.status.busy": "2024-11-06T12:15:00.677131Z",
     "iopub.status.idle": "2024-11-06T12:15:01.598938Z",
     "shell.execute_reply": "2024-11-06T12:15:01.597731Z",
     "shell.execute_reply.started": "2024-11-06T12:15:00.677302Z"
    }
   },
   "source": [
    "**Authors:** Jozef Hanč, Martina Hančová <br> *[Faculty of Science](https://www.upjs.sk/en/faculty-of-science/?prefferedLang=EN), P. J. Šafárik University in Košice, Slovakia* <br> emails: [jozef.hanc@upjs.sk](mailto:jozef.hanc@upjs.sk)\n",
    "***\n",
    "\n",
    "# <font color = brown, size=6> Numerical inversion of ratio (Broda-Kan Approach) </font>\n",
    "\n",
    "# <font color = brown>Numerical study - built-in integrator <br> with Cheb.interpolation \n",
    "\n",
    "<font size=5> Computational tools: </font>  **<font size=5>MATLAB</font>** \n",
    "\n",
    "code `cf_Ratio_BKB.m` \n",
    "\n",
    "---"
   ]
  },
  {
   "cell_type": "markdown",
   "id": "49e6f868-ca30-4d51-97e4-1db177425e4c",
   "metadata": {},
   "source": [
    "**Section 3.2:** Broda-Kan inversion formula for ratio $T$ of independent RVs $X_1, X_2$\n",
    "$$\n",
    "f_T(x) = \\frac{1}{\\pi^2} \\int_0^{+\\infty} \\int_{-\\infty}^{+\\infty} \\Re\\left\\{\\frac{\\varphi_{X_1}(t_1)}{t_2} \\varphi_{X_2}^{\\prime}(-t_2 - x t_1)\\right\\} d t_1 d t_2.\n",
    "$$\n",
    "\n",
    "**Ref.** Hanč J., Hančová M., Borovský D., Probability distributions and calculations for Hake’s ratio statistics in measuring effect size, \n",
    "*preprint submitted to Statistical Papers*"
   ]
  },
  {
   "attachments": {},
   "cell_type": "markdown",
   "id": "9a2e6e25-a3cd-4751-953f-77795d88a06d",
   "metadata": {},
   "source": [
    "---\n",
    "\n",
    "`cf_Ratio_BKB.m` calculates **BK** formula for the **ratio** PDF as the iterated integration via the **B**uilt-in 1D integrator (integral}\n",
    "$$\n",
    "f_T(x) = \\frac{1}{\\pi^2}  \\int_{-\\infty}^{+\\infty}  \\Re\\left\\{ \\varphi_{X_1}(t_1)\\int_0^{+\\infty} \n",
    "\\frac{\\varphi_{X_2}'(-t_2 - x t_1)}{t_2} d t_2 \\right\\} d t_1\n",
    "$$\n",
    "\n",
    "---"
   ]
  },
  {
   "attachments": {},
   "cell_type": "markdown",
   "id": "828a75c6-ab2e-420f-9544-f0dc811cf1ea",
   "metadata": {},
   "source": [
    "# Numerical study - Hake ratio\n",
    "\n",
    "For ratio of independent normal variables:  $T = X_1/X_2$\n",
    "\n",
    "Numerator $ X_1 \\sim N(a, 1), a = 1.5 $:\n",
    "- CF: $ \\varphi_{X_1}(t) = e^{i a t - \\frac{t^2}{2}}$\n",
    "\n",
    "Denominator $ X_2 \\sim N(b, 1) $, $ b = 1 $\\:\n",
    "- CF: $ \\varphi_{X_2}(t) = e^{i b t - \\frac{t^2}{2}}$\n"
   ]
  },
  {
   "cell_type": "code",
   "execution_count": 1,
   "id": "eb676bd4-5134-46d9-bd73-e14ed04da60f",
   "metadata": {
    "execution": {
     "iopub.execute_input": "2024-11-19T00:17:39.261692Z",
     "iopub.status.busy": "2024-11-19T00:17:39.261692Z",
     "iopub.status.idle": "2024-11-19T00:17:39.965791Z",
     "shell.execute_reply": "2024-11-19T00:17:39.965379Z",
     "shell.execute_reply.started": "2024-11-19T00:17:39.261692Z"
    }
   },
   "outputs": [],
   "source": [
    "% characteristic function of X1 ~ N(a,1)\n",
    "a = 1.5;\n",
    "cf1 = @(t1) exp(1i * a * t1 - t1.^2 / 2);\n",
    "\n",
    "% characteristic function of X2 ~ N(b,1) and its derivative\n",
    "b = 1;\n",
    "cf2 = @(t2) exp(1i * b* t2 - t2.^2 / 2);\n",
    "cf2_dif = @(t2) (1i*b - t2) .* exp(1i * b* t2 - t2.^2 / 2);"
   ]
  },
  {
   "cell_type": "markdown",
   "id": "f64d721e-49be-4155-840d-6e8e6267cdce",
   "metadata": {},
   "source": [
    "# Set of points x for PDF"
   ]
  },
  {
   "cell_type": "code",
   "execution_count": 2,
   "id": "f628c42a-5101-4e68-b526-604b1f1625dc",
   "metadata": {
    "execution": {
     "iopub.execute_input": "2024-11-19T00:17:41.470520Z",
     "iopub.status.busy": "2024-11-19T00:17:41.470520Z",
     "iopub.status.idle": "2024-11-19T00:17:41.893554Z",
     "shell.execute_reply": "2024-11-19T00:17:41.893554Z",
     "shell.execute_reply.started": "2024-11-19T00:17:41.470520Z"
    }
   },
   "outputs": [
    {
     "name": "stdout",
     "output_type": "stream",
     "text": [
      "Data for 10 points:\n",
      "  -4.500000000000000\n",
      "  -3.166666666666667\n",
      "  -1.833333333333333\n",
      "  -0.500000000000000\n",
      "   0.833333333333333\n",
      "   2.166666666666667\n",
      "   3.500000000000000\n",
      "   4.833333333333333\n",
      "   6.166666666666667\n",
      "   7.500000000000000\n",
      "\n",
      "   0.010857191405375\n",
      "   0.016964082520186\n",
      "   0.027195141188685\n",
      "   0.052692510471108\n",
      "   0.363983717833685\n",
      "   0.122015600892843\n",
      "   0.045362568404555\n",
      "   0.022301977251817\n",
      "   0.013014648811622\n",
      "   0.008464408087941\n",
      "\n"
     ]
    }
   ],
   "source": [
    "% Reading pre-calculated quadrupole precision values of x and PDF\n",
    "n = 4; % Number of iterations\n",
    "dataFolder = \"D:\\Dropbox\\00 Jupyter\\00 Matematika\\Probastat\\data\\MathematicaMATLAB\\data\\\";\n",
    "\n",
    "% Initialize maps\n",
    "dx = containers.Map;\n",
    "dsageQP = containers.Map;\n",
    "\n",
    "% Loop to read data for 10^(n+1) points\n",
    "for k = 1:n\n",
    "    % Create the key as a string\n",
    "    key = num2str(10^k);\n",
    "    \n",
    "    % Construct file paths\n",
    "    xFilePath = sprintf('%sxvalues%d.txt', dataFolder, 10^k);\n",
    "    sageQPFilePath = sprintf('%sSage_QPpdf%d.txt', dataFolder, 10^k);\n",
    "    \n",
    "    % Read the text files\n",
    "    dx(key) = load(xFilePath, '-ascii'); % Using `-ascii` to read numerical text files\n",
    "    dsageQP(key) = load(sageQPFilePath, '-ascii');\n",
    "end\n",
    "\n",
    "% Access data from dx or dsageQP using the key\n",
    "format long;\n",
    "disp('Data for 10 points:');\n",
    "disp(dx('10')); % Accessing the data for the key '10', corresponding to k=0\n",
    "disp(dsageQP('10')); % Accessing the data for the key '10', corresponding to k=0\n",
    "format short; % Set back to default short format"
   ]
  },
  {
   "cell_type": "code",
   "execution_count": 3,
   "id": "87b351b4-04dc-4502-8588-971de9321dcc",
   "metadata": {
    "execution": {
     "iopub.execute_input": "2024-11-19T00:17:42.817023Z",
     "iopub.status.busy": "2024-11-19T00:17:42.817023Z",
     "iopub.status.idle": "2024-11-19T00:17:43.195651Z",
     "shell.execute_reply": "2024-11-19T00:17:43.195651Z",
     "shell.execute_reply.started": "2024-11-19T00:17:42.817023Z"
    }
   },
   "outputs": [],
   "source": [
    "% set of points x\n",
    "xN = 1000;\n",
    "x = dx(num2str(xN));\n",
    "SagePDF = dsageQP(num2str(xN));"
   ]
  },
  {
   "cell_type": "markdown",
   "id": "2ac01f0f-9458-4d3f-84e9-5a892ec499da",
   "metadata": {},
   "source": [
    "# PDF via the built-in 1D integrator\n",
    "code `cf_Ratio_BKB.m` "
   ]
  },
  {
   "cell_type": "markdown",
   "id": "f068f041-8f19-4f1d-a900-b2da68f8b3f1",
   "metadata": {},
   "source": [
    "#### measuring runtime"
   ]
  },
  {
   "cell_type": "code",
   "execution_count": 4,
   "id": "2bfccb35-77b3-4d2e-baa9-67739fcf3789",
   "metadata": {
    "execution": {
     "iopub.execute_input": "2024-11-19T00:17:45.018376Z",
     "iopub.status.busy": "2024-11-19T00:17:45.017254Z",
     "iopub.status.idle": "2024-11-19T00:17:45.394408Z",
     "shell.execute_reply": "2024-11-19T00:17:45.394408Z",
     "shell.execute_reply.started": "2024-11-19T00:17:45.018376Z"
    }
   },
   "outputs": [],
   "source": [
    "% Initialize the structure to store performance data for methods\n",
    "performance.method = {}; % method of calculation\n",
    "performance.rt = []; % runtime\n",
    "performance.rtPerPoint = []; % runtime per point\n",
    "performance.acceleration = []; % acceleration\n",
    "performance.error = []; % max error"
   ]
  },
  {
   "cell_type": "markdown",
   "id": "ac933137-d4d0-418f-8927-3a1aa43294ab",
   "metadata": {
    "execution": {
     "iopub.execute_input": "2024-11-15T10:45:58.563331Z",
     "iopub.status.busy": "2024-11-15T10:45:58.563331Z",
     "iopub.status.idle": "2024-11-15T10:45:58.926561Z",
     "shell.execute_reply": "2024-11-15T10:45:58.926561Z",
     "shell.execute_reply.started": "2024-11-15T10:45:58.563331Z"
    }
   },
   "source": [
    "## BKB Cheb infinity lims + (num)symb.der cf2"
   ]
  },
  {
   "cell_type": "markdown",
   "id": "4e1de9db-671c-4139-b69b-82efc62368ee",
   "metadata": {},
   "source": [
    "### illustrative example"
   ]
  },
  {
   "cell_type": "code",
   "execution_count": 5,
   "id": "673b8784-d168-4a62-8416-e726eb6b12ce",
   "metadata": {
    "execution": {
     "iopub.execute_input": "2024-11-19T00:17:55.673317Z",
     "iopub.status.busy": "2024-11-19T00:17:55.673317Z",
     "iopub.status.idle": "2024-11-19T00:17:56.075465Z",
     "shell.execute_reply": "2024-11-19T00:17:56.075465Z",
     "shell.execute_reply.started": "2024-11-19T00:17:55.673317Z"
    }
   },
   "outputs": [],
   "source": [
    "% setting options\n",
    "clear options;\n",
    "options.isPlot = true;\n",
    "options.InfinityLimits = true;\n",
    "options.isInterp = true;\n",
    "%options.parallelCPU = true;\n",
    "options.cf2derSymbolic = cf2_dif;"
   ]
  },
  {
   "cell_type": "code",
   "execution_count": 6,
   "id": "9bb4ff31",
   "metadata": {
    "execution": {
     "iopub.execute_input": "2024-11-19T00:17:57.204994Z",
     "iopub.status.busy": "2024-11-19T00:17:57.203995Z",
     "iopub.status.idle": "2024-11-19T00:18:00.255633Z",
     "shell.execute_reply": "2024-11-19T00:18:00.255633Z",
     "shell.execute_reply.started": "2024-11-19T00:17:57.204994Z"
    }
   },
   "outputs": [
    {
     "data": {
      "image/png": "[encoded data removed]"
     },
     "execution_count": 6,
     "metadata": {},
     "output_type": "execute_result"
    },
    {
     "name": "stdout",
     "output_type": "stream",
     "text": [
      "         Description: 'PDF of ratio X1/X2 from the char. functions'\n",
      "     inversionMethod: 'Broda-Kan'\n",
      "    quadratureMethod: 'Built-in 1D numerical integration with Chebyshev interpolation https://www.mathworks.com/help/matlab/ref/integral.html'\n",
      "          methodAbbr: 'BKB:CC129:Infs:SymDer:1e-03'\n",
      "        parallelCPUs: 1\n",
      "                 cf1: @(t1)exp(1i*a*t1-t1.^2/2)\n",
      "                 cf2: @(t2)exp(1i*b*t2-t2.^2/2)\n",
      "      cf2derSymbolic: @(t2)(1i*b-t2).*exp(1i*b*t2-t2.^2/2)\n",
      "                  xN: 129\n",
      "                   x: [-4.5008 -4.4989 -4.4935 -4.4845 -4.4719 -4.4556 -4.4358 -4.4124 -4.3855 -4.3550 ... ] (1x129 double)\n",
      "                 pdf: [0.0109 0.0109 0.0109 0.0109 0.0110 0.0110 0.0111 0.0112 0.0113 0.0114 0.0115 0.0116 ... ] (1x129 double)\n",
      "                 PDF: @(x1new)InterpPDF(x1new,x1,Rpdf)\n",
      "              t1_min: -Inf\n",
      "              t1_max: Inf\n",
      "              t2_min: 1.0000e-15\n",
      "              t2_max: Inf\n",
      "                rtol: 1.0000e-03\n",
      "             options: [1x1 struct]\n",
      "             runtime: 2.4074\n",
      "     runtimePerPoint: 0.0187\n",
      "\n"
     ]
    }
   ],
   "source": [
    "% num inversion of ratio\n",
    "[result, Rpdf] = cf_Ratio_BKB(cf1, cf2, [], options);\n",
    "disp(result)"
   ]
  },
  {
   "cell_type": "code",
   "execution_count": 7,
   "id": "e7fd6820-6158-4ece-870b-5da9f198dca4",
   "metadata": {
    "execution": {
     "iopub.execute_input": "2024-11-19T00:18:03.153622Z",
     "iopub.status.busy": "2024-11-19T00:18:03.153622Z",
     "iopub.status.idle": "2024-11-19T00:18:03.532380Z",
     "shell.execute_reply": "2024-11-19T00:18:03.532380Z",
     "shell.execute_reply.started": "2024-11-19T00:18:03.153622Z"
    }
   },
   "outputs": [
    {
     "name": "stdout",
     "output_type": "stream",
     "text": [
      "   5.2683e-08\n",
      "\n"
     ]
    }
   ],
   "source": [
    "%calculation Chebyshev interpolation\n",
    "runtime = result.runtime;\n",
    "result.xN = length(x);\n",
    "\n",
    "timeVal = tic;\n",
    "Rpdfc = result.PDF(x);\n",
    "tictoc = toc(timeVal);\n",
    "\n",
    "result.runtime = runtime + tictoc;\n",
    "result.error = max(abs(Rpdfc-SagePDF));\n",
    "disp(result.error)"
   ]
  },
  {
   "cell_type": "code",
   "execution_count": 8,
   "id": "843f13c5-f1a1-4791-ac6f-17f174aaf3eb",
   "metadata": {
    "execution": {
     "iopub.execute_input": "2024-11-19T00:18:04.882448Z",
     "iopub.status.busy": "2024-11-19T00:18:04.881448Z",
     "iopub.status.idle": "2024-11-19T00:18:05.537935Z",
     "shell.execute_reply": "2024-11-19T00:18:05.537676Z",
     "shell.execute_reply.started": "2024-11-19T00:18:04.881448Z"
    }
   },
   "outputs": [
    {
     "data": {
      "image/png": "[encoded data removed]"
     },
     "execution_count": 8,
     "metadata": {},
     "output_type": "execute_result"
    }
   ],
   "source": [
    "%PDF from Cheb interpolation vs. from Cheb points\n",
    "figure\n",
    "plot(x, Rpdfc, 'r', 'LineWidth', 1);\n",
    "xlim([min(x) max(x)]) % plot in  sigma range\n",
    "grid on;\n",
    "title('PDF from Cheb. interpolation')\n",
    "xlabel('x')\n",
    "ylabel('pdf')   \n",
    "legend('Rpdf_{CC}');"
   ]
  },
  {
   "cell_type": "markdown",
   "id": "c7ca84bd-f204-4e1e-9d0e-829f79932c14",
   "metadata": {},
   "source": [
    "### Num experiments rtol: $1e-3,1e-4,..., 1e-15$\n",
    " "
   ]
  },
  {
   "cell_type": "code",
   "execution_count": 9,
   "id": "913f4784-5ab4-491b-8f22-5e82ce139387",
   "metadata": {
    "execution": {
     "iopub.execute_input": "2024-11-19T00:18:13.664311Z",
     "iopub.status.busy": "2024-11-19T00:18:13.664311Z",
     "iopub.status.idle": "2024-11-19T00:18:14.050072Z",
     "shell.execute_reply": "2024-11-19T00:18:14.050072Z",
     "shell.execute_reply.started": "2024-11-19T00:18:13.664311Z"
    }
   },
   "outputs": [],
   "source": [
    "% setting options\n",
    "clear options;\n",
    "options.isPlot = false;\n",
    "options.InfinityLimits = true;\n",
    "options.isInterp = true;\n",
    "%options.parallelCPU = true;\n",
    "options.cf2derSymbolic = cf2_dif;"
   ]
  },
  {
   "cell_type": "code",
   "execution_count": 10,
   "id": "c0ebbc54-7c69-478e-aa44-a0cb0bb1dda0",
   "metadata": {
    "execution": {
     "iopub.execute_input": "2024-11-19T00:18:15.096964Z",
     "iopub.status.busy": "2024-11-19T00:18:15.096964Z",
     "iopub.status.idle": "2024-11-19T00:18:15.481693Z",
     "shell.execute_reply": "2024-11-19T00:18:15.481693Z",
     "shell.execute_reply.started": "2024-11-19T00:18:15.096964Z"
    }
   },
   "outputs": [],
   "source": [
    "% Initialize the structure to store performance data for methods\n",
    "performance.method = {}; % method of calculation\n",
    "performance.rt = []; % runtime\n",
    "performance.rtPerPoint = []; % runtime per point\n",
    "performance.acceleration = []; % acceleration\n",
    "performance.error = []; % max error"
   ]
  },
  {
   "cell_type": "code",
   "execution_count": 11,
   "id": "5a6e1088-4974-404a-bff2-793c02c4fdfb",
   "metadata": {
    "execution": {
     "iopub.execute_input": "2024-11-19T00:18:16.230810Z",
     "iopub.status.busy": "2024-11-19T00:18:16.230810Z",
     "iopub.status.idle": "2024-11-19T00:18:16.590365Z",
     "shell.execute_reply": "2024-11-19T00:18:16.590365Z",
     "shell.execute_reply.started": "2024-11-19T00:18:16.230810Z"
    }
   },
   "outputs": [],
   "source": [
    "%initialization of variable for rtol\n",
    "n = 2; run = false;\n",
    "% options.rtol = 10^(-n);"
   ]
  },
  {
   "cell_type": "code",
   "execution_count": 12,
   "id": "6ade8672-7662-4676-8d5c-5e75439d6548",
   "metadata": {
    "execution": {
     "iopub.execute_input": "2024-11-19T00:18:17.353058Z",
     "iopub.status.busy": "2024-11-19T00:18:17.353058Z",
     "iopub.status.idle": "2024-11-19T00:18:19.988407Z",
     "shell.execute_reply": "2024-11-19T00:18:19.988003Z",
     "shell.execute_reply.started": "2024-11-19T00:18:17.353058Z"
    }
   },
   "outputs": [
    {
     "name": "stdout",
     "output_type": "stream",
     "text": [
      "Experiment: xN = 1000, eps = 10^-3\n",
      "xN = 1000, BKB:CC129:Infs:SymDer:1e-03, eps = 10^-3\n",
      "                        Performance statistics     \n",
      "                    _______________________________\n",
      "\n",
      "    method          {'BKB:CC129:Infs:SymDer:1e-03'}\n",
      "    rt              {'[2.23e+00]'                 }\n",
      "    rtPerPoint      {'[2.23e-03]'                 }\n",
      "    acceleration    {'[1.00e+00]'                 }\n",
      "    error           {'[5.27e-08]'                 }\n",
      "\n",
      "Experiment runtime = 2.23 s\n"
     ]
    }
   ],
   "source": [
    "% numerical experiments via rtol:1e-3,1e-4,..., 1e-15\n",
    "%timeValTot = tic;\n",
    "n = n+1;\n",
    "%for n=nmin:nmax \n",
    "fprintf('Experiment: xN = %d, eps = 10^-%d\\n', xN, n);\n",
    "\n",
    "% relative tol\n",
    "options.rtol = 10^(-n);\n",
    "\n",
    "% num inversion of ratio - Chebyshev interpolant\n",
    "[result, Rpdf] = cf_Ratio_BKB(cf1, cf2, [], options);\n",
    "\n",
    "runtime = result.runtime;\n",
    "timeVal = tic;\n",
    "\n",
    "%calculation Chebyshev interpolation\n",
    "Rpdfc = result.PDF(x);\n",
    "\n",
    "tictoc = toc(timeVal);\n",
    "result.runtime = runtime + tictoc;\n",
    "result.error = max(abs(Rpdfc-SagePDF));\n",
    "result.xN = xN;\n",
    "\n",
    "fprintf('xN = %d, %s, eps = 10^-%d\\n', xN, result.methodAbbr, n);\n",
    "% measuring time\n",
    "% simple tic-toc method \n",
    "% Update the performance structure and display the result\n",
    "display = true;\n",
    "%if n==nmax, display = true;end\n",
    "performance = update_PerfStats(result, performance, display);\n",
    "%end\n",
    "\n",
    "% tictocTot = toc(timeValTot);\n",
    "fprintf('Experiment runtime = %.2f s\\n', result.runtime);\n",
    "% fprintf('%s\\n', repmat('*', 1, 25));"
   ]
  },
  {
   "cell_type": "code",
   "execution_count": 13,
   "id": "729dfe9b-f6bd-47ab-9051-43ed89a53e33",
   "metadata": {
    "execution": {
     "iopub.execute_input": "2024-11-19T00:18:25.345764Z",
     "iopub.status.busy": "2024-11-19T00:18:25.345764Z",
     "iopub.status.idle": "2024-11-19T00:18:28.221396Z",
     "shell.execute_reply": "2024-11-19T00:18:28.221396Z",
     "shell.execute_reply.started": "2024-11-19T00:18:25.345764Z"
    }
   },
   "outputs": [
    {
     "name": "stdout",
     "output_type": "stream",
     "text": [
      "Experiment: xN = 1000, eps = 10^-4\n",
      "xN = 1000, BKB:CC129:Infs:SymDer:1e-04, eps = 10^-4\n",
      "                                        Performance statistics                    \n",
      "                    ______________________________________________________________\n",
      "\n",
      "    method          {'[BKB:CC129:Infs:SymDer:1e-03, BKB:CC129:Infs:SymDer:1e-04]'}\n",
      "    rt              {'[2.23e+00 2.49e+00]'                                       }\n",
      "    rtPerPoint      {'[2.23e-03 2.49e-03]'                                       }\n",
      "    acceleration    {'[1.00e+00 8.95e-01]'                                       }\n",
      "    error           {'[5.27e-08 1.11e-08]'                                       }\n",
      "\n",
      "Experiment runtime = 2.49 s\n"
     ]
    }
   ],
   "source": [
    "% numerical experiments via rtol:1e-3,1e-4,..., 1e-15\n",
    "%timeValTot = tic;\n",
    "n = n+1;\n",
    "%for n=nmin:nmax \n",
    "fprintf('Experiment: xN = %d, eps = 10^-%d\\n', xN, n);\n",
    "\n",
    "% relative tol\n",
    "options.rtol = 10^(-n);\n",
    "\n",
    "% num inversion of ratio - Chebyshev interpolant\n",
    "[result, Rpdf] = cf_Ratio_BKB(cf1, cf2, [], options);\n",
    "\n",
    "runtime = result.runtime;\n",
    "timeVal = tic;\n",
    "\n",
    "%calculation Chebyshev interpolation\n",
    "Rpdfc = result.PDF(x);\n",
    "\n",
    "tictoc = toc(timeVal);\n",
    "result.runtime = runtime + tictoc;\n",
    "result.error = max(abs(Rpdfc-SagePDF));\n",
    "result.xN = xN;\n",
    "\n",
    "fprintf('xN = %d, %s, eps = 10^-%d\\n', xN, result.methodAbbr, n);\n",
    "% measuring time\n",
    "% simple tic-toc method \n",
    "% Update the performance structure and display the result\n",
    "display = true;\n",
    "%if n==nmax, display = true;end\n",
    "performance = update_PerfStats(result, performance, display);\n",
    "%end\n",
    "\n",
    "% tictocTot = toc(timeValTot);\n",
    "fprintf('Experiment runtime = %.2f s\\n', result.runtime);\n",
    "% fprintf('%s\\n', repmat('*', 1, 25));"
   ]
  },
  {
   "cell_type": "code",
   "execution_count": 14,
   "id": "7cdbc5ea-8f05-48c4-a90f-306b692e4382",
   "metadata": {
    "execution": {
     "iopub.execute_input": "2024-11-19T00:18:30.329342Z",
     "iopub.status.busy": "2024-11-19T00:18:30.329342Z",
     "iopub.status.idle": "2024-11-19T00:18:33.677759Z",
     "shell.execute_reply": "2024-11-19T00:18:33.677759Z",
     "shell.execute_reply.started": "2024-11-19T00:18:30.329342Z"
    }
   },
   "outputs": [
    {
     "name": "stdout",
     "output_type": "stream",
     "text": [
      "Experiment: xN = 1000, eps = 10^-5\n",
      "xN = 1000, BKB:CC129:Infs:SymDer:1e-05, eps = 10^-5\n",
      "                                                      Performance statistics                                   \n",
      "                    ___________________________________________________________________________________________\n",
      "\n",
      "    method          {'[BKB:CC129:Infs:SymDer:1e-03, BKB:CC129:Infs:SymDer:1e-04, BKB:CC129:Infs:SymDer:1e-05]'}\n",
      "    rt              {'[2.23e+00 2.49e+00 2.94e+00]'                                                           }\n",
      "    rtPerPoint      {'[2.23e-03 2.49e-03 2.94e-03]'                                                           }\n",
      "    acceleration    {'[1.00e+00 8.95e-01 7.57e-01]'                                                           }\n",
      "    error           {'[5.27e-08 1.11e-08 7.36e-09]'                                                           }\n",
      "\n",
      "Experiment runtime = 2.94 s\n"
     ]
    }
   ],
   "source": [
    "% numerical experiments via rtol:1e-3,1e-4,..., 1e-15\n",
    "%timeValTot = tic;\n",
    "n = n+1;\n",
    "%for n=nmin:nmax \n",
    "fprintf('Experiment: xN = %d, eps = 10^-%d\\n', xN, n);\n",
    "\n",
    "% relative tol\n",
    "options.rtol = 10^(-n);\n",
    "\n",
    "% num inversion of ratio - Chebyshev interpolant\n",
    "[result, Rpdf] = cf_Ratio_BKB(cf1, cf2, [], options);\n",
    "\n",
    "runtime = result.runtime;\n",
    "timeVal = tic;\n",
    "\n",
    "%calculation Chebyshev interpolation\n",
    "Rpdfc = result.PDF(x);\n",
    "\n",
    "tictoc = toc(timeVal);\n",
    "result.runtime = runtime + tictoc;\n",
    "result.error = max(abs(Rpdfc-SagePDF));\n",
    "result.xN = xN;\n",
    "\n",
    "fprintf('xN = %d, %s, eps = 10^-%d\\n', xN, result.methodAbbr, n);\n",
    "% measuring time\n",
    "% simple tic-toc method \n",
    "% Update the performance structure and display the result\n",
    "display = true;\n",
    "%if n==nmax, display = true;end\n",
    "performance = update_PerfStats(result, performance, display);\n",
    "%end\n",
    "\n",
    "% tictocTot = toc(timeValTot);\n",
    "fprintf('Experiment runtime = %.2f s\\n', result.runtime);\n",
    "% fprintf('%s\\n', repmat('*', 1, 25));"
   ]
  },
  {
   "cell_type": "code",
   "execution_count": 15,
   "id": "4fa8b0f5-944c-414d-9f56-35ed8fda6df5",
   "metadata": {
    "execution": {
     "iopub.execute_input": "2024-11-19T00:18:36.768563Z",
     "iopub.status.busy": "2024-11-19T00:18:36.768563Z",
     "iopub.status.idle": "2024-11-19T00:18:40.993181Z",
     "shell.execute_reply": "2024-11-19T00:18:40.993181Z",
     "shell.execute_reply.started": "2024-11-19T00:18:36.768563Z"
    }
   },
   "outputs": [
    {
     "name": "stdout",
     "output_type": "stream",
     "text": [
      "Experiment: xN = 1000, eps = 10^-6\n",
      "xN = 1000, BKB:CC129:Infs:SymDer:1e-06, eps = 10^-6\n",
      "                                                                     Performance statistics                                                 \n",
      "                    ________________________________________________________________________________________________________________________\n",
      "\n",
      "    method          {'[BKB:CC129:Infs:SymDer:1e-03, BKB:CC129:Infs:SymDer:1e-04, BKB:CC129:Infs:SymDer:1e-05, BKB:CC129:Infs:SymDer:1e-06]'}\n",
      "    rt              {'[2.23e+00 2.49e+00 2.94e+00 3.83e+00]'                                                                               }\n",
      "    rtPerPoint      {'[2.23e-03 2.49e-03 2.94e-03 3.83e-03]'                                                                               }\n",
      "    acceleration    {'[1.00e+00 8.95e-01 7.57e-01 5.82e-01]'                                                                               }\n",
      "    error           {'[5.27e-08 1.11e-08 7.36e-09 5.00e-09]'                                                                               }\n",
      "\n",
      "Experiment runtime = 3.83 s\n"
     ]
    }
   ],
   "source": [
    "% numerical experiments via rtol:1e-3,1e-4,..., 1e-15\n",
    "%timeValTot = tic;\n",
    "n = n+1;\n",
    "%for n=nmin:nmax \n",
    "fprintf('Experiment: xN = %d, eps = 10^-%d\\n', xN, n);\n",
    "\n",
    "% relative tol\n",
    "options.rtol = 10^(-n);\n",
    "\n",
    "% num inversion of ratio - Chebyshev interpolant\n",
    "[result, Rpdf] = cf_Ratio_BKB(cf1, cf2, [], options);\n",
    "\n",
    "runtime = result.runtime;\n",
    "timeVal = tic;\n",
    "\n",
    "%calculation Chebyshev interpolation\n",
    "Rpdfc = result.PDF(x);\n",
    "\n",
    "tictoc = toc(timeVal);\n",
    "result.runtime = runtime + tictoc;\n",
    "result.error = max(abs(Rpdfc-SagePDF));\n",
    "result.xN = xN;\n",
    "\n",
    "fprintf('xN = %d, %s, eps = 10^-%d\\n', xN, result.methodAbbr, n);\n",
    "% measuring time\n",
    "% simple tic-toc method \n",
    "% Update the performance structure and display the result\n",
    "display = true;\n",
    "%if n==nmax, display = true;end\n",
    "performance = update_PerfStats(result, performance, display);\n",
    "%end\n",
    "\n",
    "% tictocTot = toc(timeValTot);\n",
    "fprintf('Experiment runtime = %.2f s\\n', result.runtime);\n",
    "% fprintf('%s\\n', repmat('*', 1, 25));"
   ]
  },
  {
   "cell_type": "code",
   "execution_count": 16,
   "id": "3bd4fd22-3b1a-4c86-91c7-38aa11c3232e",
   "metadata": {
    "execution": {
     "iopub.execute_input": "2024-11-19T00:18:42.746812Z",
     "iopub.status.busy": "2024-11-19T00:18:42.746812Z",
     "iopub.status.idle": "2024-11-19T00:18:48.990509Z",
     "shell.execute_reply": "2024-11-19T00:18:48.990509Z",
     "shell.execute_reply.started": "2024-11-19T00:18:42.746812Z"
    }
   },
   "outputs": [
    {
     "name": "stdout",
     "output_type": "stream",
     "text": [
      "Experiment: xN = 1000, eps = 10^-7\n",
      "xN = 1000, BKB:CC129:Infs:SymDer:1e-07, eps = 10^-7\n",
      "                                                                                   Performance statistics                                                                \n",
      "                    _____________________________________________________________________________________________________________________________________________________\n",
      "\n",
      "    method          {'[BKB:CC129:Infs:SymDer:1e-03, BKB:CC129:Infs:SymDer:1e-04, BKB:CC129:Infs:SymDer:1e-05, BKB:CC129:Infs:SymDer:1e-06, BKB:CC129:Infs:SymDer:1e-07]'}\n",
      "    rt              {'[2.23e+00 2.49e+00 2.94e+00 3.83e+00 5.85e+00]'                                                                                                   }\n",
      "    rtPerPoint      {'[2.23e-03 2.49e-03 2.94e-03 3.83e-03 5.85e-03]'                                                                                                   }\n",
      "    acceleration    {'[1.00e+00 8.95e-01 7.57e-01 5.82e-01 3.81e-01]'                                                                                                   }\n",
      "    error           {'[5.27e-08 1.11e-08 7.36e-09 5.00e-09 4.96e-09]'                                                                                                   }\n",
      "\n",
      "Experiment runtime = 5.85 s\n"
     ]
    }
   ],
   "source": [
    "% numerical experiments via rtol:1e-3,1e-4,..., 1e-15\n",
    "%timeValTot = tic;\n",
    "n = n+1;\n",
    "%for n=nmin:nmax \n",
    "fprintf('Experiment: xN = %d, eps = 10^-%d\\n', xN, n);\n",
    "\n",
    "% relative tol\n",
    "options.rtol = 10^(-n);\n",
    "\n",
    "% num inversion of ratio - Chebyshev interpolant\n",
    "[result, Rpdf] = cf_Ratio_BKB(cf1, cf2, [], options);\n",
    "\n",
    "runtime = result.runtime;\n",
    "timeVal = tic;\n",
    "\n",
    "%calculation Chebyshev interpolation\n",
    "Rpdfc = result.PDF(x);\n",
    "\n",
    "tictoc = toc(timeVal);\n",
    "result.runtime = runtime + tictoc;\n",
    "result.error = max(abs(Rpdfc-SagePDF));\n",
    "result.xN = xN;\n",
    "\n",
    "fprintf('xN = %d, %s, eps = 10^-%d\\n', xN, result.methodAbbr, n);\n",
    "% measuring time\n",
    "% simple tic-toc method \n",
    "% Update the performance structure and display the result\n",
    "display = true;\n",
    "%if n==nmax, display = true;end\n",
    "performance = update_PerfStats(result, performance, display);\n",
    "%end\n",
    "\n",
    "% tictocTot = toc(timeValTot);\n",
    "fprintf('Experiment runtime = %.2f s\\n', result.runtime);\n",
    "% fprintf('%s\\n', repmat('*', 1, 25));"
   ]
  },
  {
   "cell_type": "code",
   "execution_count": 17,
   "id": "80f636f0-776a-42c5-9926-2d75699497a7",
   "metadata": {
    "execution": {
     "iopub.execute_input": "2024-11-19T00:18:55.275303Z",
     "iopub.status.busy": "2024-11-19T00:18:55.275303Z",
     "iopub.status.idle": "2024-11-19T00:19:03.579821Z",
     "shell.execute_reply": "2024-11-19T00:19:03.579821Z",
     "shell.execute_reply.started": "2024-11-19T00:18:55.275303Z"
    }
   },
   "outputs": [
    {
     "name": "stdout",
     "output_type": "stream",
     "text": [
      "Experiment: xN = 1000, eps = 10^-8\n",
      "xN = 1000, BKB:CC129:Infs:SymDer:1e-08, eps = 10^-8\n",
      "                                                                                                  Performance statistics                                                                              \n",
      "                    __________________________________________________________________________________________________________________________________________________________________________________\n",
      "\n",
      "    method          {'[BKB:CC129:Infs:SymDer:1e-03, BKB:CC129:Infs:SymDer:1e-04, BKB:CC129:Infs:SymDer:1e-05, BKB:CC129:Infs:SymDer:1e-06, BKB:CC129:Infs:SymDer:1e-07, BKB:CC129:Infs:SymDer:1e-08]'}\n",
      "    rt              {'[2.23e+00 2.49e+00 2.94e+00 3.83e+00 5.85e+00 7.93e+00]'                                                                                                                       }\n",
      "    rtPerPoint      {'[2.23e-03 2.49e-03 2.94e-03 3.83e-03 5.85e-03 7.93e-03]'                                                                                                                       }\n",
      "    acceleration    {'[1.00e+00 8.95e-01 7.57e-01 5.82e-01 3.81e-01 2.81e-01]'                                                                                                                       }\n",
      "    error           {'[5.27e-08 1.11e-08 7.36e-09 5.00e-09 4.96e-09 4.96e-09]'                                                                                                                       }\n",
      "\n",
      "Experiment runtime = 7.93 s\n"
     ]
    }
   ],
   "source": [
    "% numerical experiments via rtol:1e-3,1e-4,..., 1e-15\n",
    "%timeValTot = tic;\n",
    "n = n+1;\n",
    "%for n=nmin:nmax \n",
    "fprintf('Experiment: xN = %d, eps = 10^-%d\\n', xN, n);\n",
    "\n",
    "% relative tol\n",
    "options.rtol = 10^(-n);\n",
    "\n",
    "% num inversion of ratio - Chebyshev interpolant\n",
    "[result, Rpdf] = cf_Ratio_BKB(cf1, cf2, [], options);\n",
    "\n",
    "runtime = result.runtime;\n",
    "timeVal = tic;\n",
    "\n",
    "%calculation Chebyshev interpolation\n",
    "Rpdfc = result.PDF(x);\n",
    "\n",
    "tictoc = toc(timeVal);\n",
    "result.runtime = runtime + tictoc;\n",
    "result.error = max(abs(Rpdfc-SagePDF));\n",
    "result.xN = xN;\n",
    "\n",
    "fprintf('xN = %d, %s, eps = 10^-%d\\n', xN, result.methodAbbr, n);\n",
    "% measuring time\n",
    "% simple tic-toc method \n",
    "% Update the performance structure and display the result\n",
    "display = true;\n",
    "%if n==nmax, display = true;end\n",
    "performance = update_PerfStats(result, performance, display);\n",
    "%end\n",
    "\n",
    "% tictocTot = toc(timeValTot);\n",
    "fprintf('Experiment runtime = %.2f s\\n', result.runtime);\n",
    "% fprintf('%s\\n', repmat('*', 1, 25));"
   ]
  },
  {
   "cell_type": "code",
   "execution_count": 18,
   "id": "5e2c20a6-50f7-42ef-b525-c2157106987b",
   "metadata": {
    "execution": {
     "iopub.execute_input": "2024-11-19T00:19:10.331589Z",
     "iopub.status.busy": "2024-11-19T00:19:10.330589Z",
     "iopub.status.idle": "2024-11-19T00:19:20.665791Z",
     "shell.execute_reply": "2024-11-19T00:19:20.665791Z",
     "shell.execute_reply.started": "2024-11-19T00:19:10.331589Z"
    }
   },
   "outputs": [
    {
     "name": "stdout",
     "output_type": "stream",
     "text": [
      "Experiment: xN = 1000, eps = 10^-9\n",
      "xN = 1000, BKB:CC129:Infs:SymDer:1e-09, eps = 10^-9\n",
      "                                                                                                                Performance statistics                                                                                             \n",
      "                    _______________________________________________________________________________________________________________________________________________________________________________________________________________\n",
      "\n",
      "    method          {'[BKB:CC129:Infs:SymDer:1e-03, BKB:CC129:Infs:SymDer:1e-04, BKB:CC129:Infs:SymDer:1e-05, BKB:CC129:Infs:SymDer:1e-06, BKB:CC129:Infs:SymDer:1e-07, BKB:CC129:Infs:SymDer:1e-08, BKB:CC129:Infs:SymDer:1e-09]'}\n",
      "    rt              {'[2.23e+00 2.49e+00 2.94e+00 3.83e+00 5.85e+00 7.93e+00 9.95e+00]'                                                                                                                                           }\n",
      "    rtPerPoint      {'[2.23e-03 2.49e-03 2.94e-03 3.83e-03 5.85e-03 7.93e-03 9.95e-03]'                                                                                                                                           }\n",
      "    acceleration    {'[1.00e+00 8.95e-01 7.57e-01 5.82e-01 3.81e-01 2.81e-01 2.24e-01]'                                                                                                                                           }\n",
      "    error           {'[5.27e-08 1.11e-08 7.36e-09 5.00e-09 4.96e-09 4.96e-09 4.96e-09]'                                                                                                                                           }\n",
      "\n",
      "Experiment runtime = 9.95 s\n"
     ]
    }
   ],
   "source": [
    "% numerical experiments via rtol:1e-3,1e-4,..., 1e-15\n",
    "%timeValTot = tic;\n",
    "n = n+1;\n",
    "%for n=nmin:nmax \n",
    "fprintf('Experiment: xN = %d, eps = 10^-%d\\n', xN, n);\n",
    "\n",
    "% relative tol\n",
    "options.rtol = 10^(-n);\n",
    "\n",
    "% num inversion of ratio - Chebyshev interpolant\n",
    "[result, Rpdf] = cf_Ratio_BKB(cf1, cf2, [], options);\n",
    "\n",
    "runtime = result.runtime;\n",
    "timeVal = tic;\n",
    "\n",
    "%calculation Chebyshev interpolation\n",
    "Rpdfc = result.PDF(x);\n",
    "\n",
    "tictoc = toc(timeVal);\n",
    "result.runtime = runtime + tictoc;\n",
    "result.error = max(abs(Rpdfc-SagePDF));\n",
    "result.xN = xN;\n",
    "\n",
    "fprintf('xN = %d, %s, eps = 10^-%d\\n', xN, result.methodAbbr, n);\n",
    "% measuring time\n",
    "% simple tic-toc method \n",
    "% Update the performance structure and display the result\n",
    "display = true;\n",
    "%if n==nmax, display = true;end\n",
    "performance = update_PerfStats(result, performance, display);\n",
    "%end\n",
    "\n",
    "% tictocTot = toc(timeValTot);\n",
    "fprintf('Experiment runtime = %.2f s\\n', result.runtime);\n",
    "% fprintf('%s\\n', repmat('*', 1, 25));"
   ]
  },
  {
   "cell_type": "code",
   "execution_count": 19,
   "id": "70136808-9608-4af2-8430-1a4a52c8d1c0",
   "metadata": {
    "execution": {
     "iopub.execute_input": "2024-11-19T00:19:32.729885Z",
     "iopub.status.busy": "2024-11-19T00:19:32.729885Z",
     "iopub.status.idle": "2024-11-19T00:19:46.671515Z",
     "shell.execute_reply": "2024-11-19T00:19:46.671515Z",
     "shell.execute_reply.started": "2024-11-19T00:19:32.729885Z"
    }
   },
   "outputs": [
    {
     "name": "stdout",
     "output_type": "stream",
     "text": [
      "Experiment: xN = 1000, eps = 10^-10\n",
      "xN = 1000, BKB:CC129:Infs:SymDer:1e-10, eps = 10^-10\n",
      "                                                                                                                               Performance statistics                                                                                                           \n",
      "                    ____________________________________________________________________________________________________________________________________________________________________________________________________________________________________________\n",
      "\n",
      "    method          {'[BKB:CC129:Infs:SymDer:1e-03, BKB:CC129:Infs:SymDer:1e-04, BKB:CC129:Infs:SymDer:1e-05, BKB:CC129:Infs:SymDer:1e-06, BKB:CC129:Infs:SymDer:1e-07, BKB:CC129:Infs:SymDer:1e-08, BKB:CC129:Infs:SymDer:1e-09, BKB:CC129:Infs:SymDer:1e-10]'}\n",
      "    rt              {'[2.23e+00 2.49e+00 2.94e+00 3.83e+00 5.85e+00 7.93e+00 9.95e+00 1.35e+01]'                                                                                                                                                               }\n",
      "    rtPerPoint      {'[2.23e-03 2.49e-03 2.94e-03 3.83e-03 5.85e-03 7.93e-03 9.95e-03 1.35e-02]'                                                                                                                                                               }\n",
      "    acceleration    {'[1.00e+00 8.95e-01 7.57e-01 5.82e-01 3.81e-01 2.81e-01 2.24e-01 1.64e-01]'                                                                                                                                                               }\n",
      "    error           {'[5.27e-08 1.11e-08 7.36e-09 5.00e-09 4.96e-09 4.96e-09 4.96e-09 4.96e-09]'                                                                                                                                                               }\n",
      "\n",
      "Experiment runtime = 13.55 s\n"
     ]
    }
   ],
   "source": [
    "% numerical experiments via rtol:1e-3,1e-4,..., 1e-15\n",
    "%timeValTot = tic;\n",
    "n = n+1;\n",
    "%for n=nmin:nmax \n",
    "fprintf('Experiment: xN = %d, eps = 10^-%d\\n', xN, n);\n",
    "\n",
    "% relative tol\n",
    "options.rtol = 10^(-n);\n",
    "\n",
    "% num inversion of ratio - Chebyshev interpolant\n",
    "[result, Rpdf] = cf_Ratio_BKB(cf1, cf2, [], options);\n",
    "\n",
    "runtime = result.runtime;\n",
    "timeVal = tic;\n",
    "\n",
    "%calculation Chebyshev interpolation\n",
    "Rpdfc = result.PDF(x);\n",
    "\n",
    "tictoc = toc(timeVal);\n",
    "result.runtime = runtime + tictoc;\n",
    "result.error = max(abs(Rpdfc-SagePDF));\n",
    "result.xN = xN;\n",
    "\n",
    "fprintf('xN = %d, %s, eps = 10^-%d\\n', xN, result.methodAbbr, n);\n",
    "% measuring time\n",
    "% simple tic-toc method \n",
    "% Update the performance structure and display the result\n",
    "display = true;\n",
    "%if n==nmax, display = true;end\n",
    "performance = update_PerfStats(result, performance, display);\n",
    "%end\n",
    "\n",
    "% tictocTot = toc(timeValTot);\n",
    "fprintf('Experiment runtime = %.2f s\\n', result.runtime);\n",
    "% fprintf('%s\\n', repmat('*', 1, 25));"
   ]
  },
  {
   "cell_type": "code",
   "execution_count": 24,
   "id": "0311f1d8-962f-46bd-9db9-e1d885594d0a",
   "metadata": {
    "execution": {
     "iopub.execute_input": "2024-11-19T00:22:11.338904Z",
     "iopub.status.busy": "2024-11-19T00:22:11.337904Z",
     "iopub.status.idle": "2024-11-19T00:22:32.862450Z",
     "shell.execute_reply": "2024-11-19T00:22:32.862450Z",
     "shell.execute_reply.started": "2024-11-19T00:22:11.338904Z"
    }
   },
   "outputs": [
    {
     "name": "stdout",
     "output_type": "stream",
     "text": [
      "Experiment: xN = 1000, eps = 10^-15\n",
      "xN = 1000, BKB:CC129:Infs:SymDer:1e-15, eps = 10^-15\n",
      "                                                                                                                                                                                                       Performance statistics                                                                                                                                                                                    \n",
      "                    _____________________________________________________________________________________________________________________________________________________________________________________________________________________________________________________________________________________________________________________________________________________________________________________________\n",
      "\n",
      "    method          {'[BKB:CC129:Infs:SymDer:1e-03, BKB:CC129:Infs:SymDer:1e-04, BKB:CC129:Infs:SymDer:1e-05, BKB:CC129:Infs:SymDer:1e-06, BKB:CC129:Infs:SymDer:1e-07, BKB:CC129:Infs:SymDer:1e-08, BKB:CC129:Infs:SymDer:1e-09, BKB:CC129:Infs:SymDer:1e-10, BKB:CC129:Infs:SymDer:1e-11, BKB:CC129:Infs:SymDer:1e-12, BKB:CC129:Infs:SymDer:1e-13, BKB:CC129:Infs:SymDer:1e-14, BKB:CC129:Infs:SymDer:1e-15]'}\n",
      "    rt              {'[2.23e+00 2.49e+00 2.94e+00 3.83e+00 5.85e+00 7.93e+00 9.95e+00 1.35e+01 1.79e+01 2.09e+01 2.09e+01 2.07e+01 2.11e+01]'                                                                                                                                                                                                                                                                   }\n",
      "    rtPerPoint      {'[2.23e-03 2.49e-03 2.94e-03 3.83e-03 5.85e-03 7.93e-03 9.95e-03 1.35e-02 1.79e-02 2.09e-02 2.09e-02 2.07e-02 2.11e-02]'                                                                                                                                                                                                                                                                   }\n",
      "    acceleration    {'[1.00e+00 8.95e-01 7.57e-01 5.82e-01 3.81e-01 2.81e-01 2.24e-01 1.64e-01 1.25e-01 1.06e-01 1.07e-01 1.08e-01 1.05e-01]'                                                                                                                                                                                                                                                                   }\n",
      "    error           {'[5.27e-08 1.11e-08 7.36e-09 5.00e-09 4.96e-09 4.96e-09 4.96e-09 4.96e-09 4.96e-09 4.96e-09 4.96e-09 4.96e-09 4.96e-09]'                                                                                                                                                                                                                                                                   }\n",
      "\n",
      "Experiment runtime = 21.14 s\n"
     ]
    }
   ],
   "source": [
    "% numerical experiments via rtol:1e-3,1e-4,..., 1e-15\n",
    "%timeValTot = tic;\n",
    "n = n+1;\n",
    "%for n=nmin:nmax \n",
    "fprintf('Experiment: xN = %d, eps = 10^-%d\\n', xN, n);\n",
    "\n",
    "% relative tol\n",
    "options.rtol = 10^(-n);\n",
    "\n",
    "% num inversion of ratio - Chebyshev interpolant\n",
    "[result, Rpdf] = cf_Ratio_BKB(cf1, cf2, [], options);\n",
    "\n",
    "runtime = result.runtime;\n",
    "timeVal = tic;\n",
    "\n",
    "%calculation Chebyshev interpolation\n",
    "Rpdfc = result.PDF(x);\n",
    "\n",
    "tictoc = toc(timeVal);\n",
    "result.runtime = runtime + tictoc;\n",
    "result.error = max(abs(Rpdfc-SagePDF));\n",
    "result.xN = xN;\n",
    "\n",
    "fprintf('xN = %d, %s, eps = 10^-%d\\n', xN, result.methodAbbr, n);\n",
    "% measuring time\n",
    "% simple tic-toc method \n",
    "% Update the performance structure and display the result\n",
    "display = true;\n",
    "%if n==nmax, display = true;end\n",
    "performance = update_PerfStats(result, performance, display);\n",
    "%end\n",
    "\n",
    "% tictocTot = toc(timeValTot);\n",
    "fprintf('Experiment runtime = %.2f s\\n', result.runtime);\n",
    "% fprintf('%s\\n', repmat('*', 1, 25));"
   ]
  },
  {
   "cell_type": "markdown",
   "id": "24638644-c2d8-4c92-b11e-4cce51dcb923",
   "metadata": {},
   "source": [
    "from 1e-5 accuracy does not increase.  "
   ]
  },
  {
   "cell_type": "markdown",
   "id": "3b925899-3a57-4ed5-9353-48e8fe887fa3",
   "metadata": {},
   "source": [
    "#### SAVING results"
   ]
  },
  {
   "cell_type": "code",
   "execution_count": 26,
   "id": "4149fed0-782e-4972-adc4-802aeac24393",
   "metadata": {
    "execution": {
     "iopub.execute_input": "2024-11-19T00:24:22.398769Z",
     "iopub.status.busy": "2024-11-19T00:24:22.397766Z",
     "iopub.status.idle": "2024-11-19T00:24:22.832869Z",
     "shell.execute_reply": "2024-11-19T00:24:22.832499Z",
     "shell.execute_reply.started": "2024-11-19T00:24:22.398769Z"
    }
   },
   "outputs": [
    {
     "data": {
      "text/html": [
       "<html><body><pre>filePath = 'd:\\Dropbox\\00 Jupyter\\00 Matematika\\Probastat\\data\\MathematicaMATLAB\\MTB-perfStats-BKB-CC-N1000-2024_11-19-01_24_22.xlsx'</pre></body></html>"
      ],
      "text/plain": [
       "filePath = 'd:\\Dropbox\\00 Jupyter\\00 Matematika\\Probastat\\data\\MathematicaMATLAB\\MTB-perfStats-BKB-CC-N1000-2024_11-19-01_24_22.xlsx'"
      ]
     },
     "execution_count": 26,
     "metadata": {},
     "output_type": "execute_result"
    }
   ],
   "source": [
    "% setting folder for a xlsx file\n",
    "pwd;\n",
    "folderPath = 'd:\\Dropbox\\00 Jupyter\\00 Matematika\\Probastat\\data\\MathematicaMATLAB\\';\n",
    "\n",
    "% Get the current date and time in a suitable format (e.g., YYYY-MM-DD-HH-MM-SS)\n",
    "currentDateTime = datestr(now, 'yyyy_mm-dd-HH_MM_SS');\n",
    "\n",
    "% Create the filename with N and date-time\n",
    "fileName = sprintf('MTB-perfStats-BKB-CC-N%d-%s.xlsx', 1000, currentDateTime);\n",
    "\n",
    "% Convert performance data structure to a table\n",
    "perfTable = struct2table(performance);\n",
    "filePath = fullfile(folderPath, fileName)\n",
    "\n",
    "% Save as an Excel file\n",
    "writetable(perfTable,filePath);"
   ]
  },
  {
   "cell_type": "markdown",
   "id": "23819794-dbf9-43dc-a811-785f529515fe",
   "metadata": {},
   "source": [
    "### Num experiments Chebyshev nodes 2^k+1: k=3,...10\n",
    " "
   ]
  },
  {
   "cell_type": "code",
   "execution_count": 27,
   "id": "54e5e603",
   "metadata": {
    "execution": {
     "iopub.execute_input": "2024-11-19T00:26:14.851726Z",
     "iopub.status.busy": "2024-11-19T00:26:14.851726Z",
     "iopub.status.idle": "2024-11-19T00:26:15.234144Z",
     "shell.execute_reply": "2024-11-19T00:26:15.234144Z",
     "shell.execute_reply.started": "2024-11-19T00:26:14.851726Z"
    }
   },
   "outputs": [],
   "source": [
    "% setting options\n",
    "clear options;\n",
    "options.isPlot = false;\n",
    "options.InfinityLimits = true;\n",
    "options.isInterp = true;\n",
    "%options.parallelCPU = true;\n",
    "options.cf2derSymbolic = cf2_dif;"
   ]
  },
  {
   "cell_type": "code",
   "execution_count": 28,
   "id": "cf60b96c",
   "metadata": {
    "execution": {
     "iopub.execute_input": "2024-11-19T00:26:15.952246Z",
     "iopub.status.busy": "2024-11-19T00:26:15.952246Z",
     "iopub.status.idle": "2024-11-19T00:26:16.334626Z",
     "shell.execute_reply": "2024-11-19T00:26:16.334626Z",
     "shell.execute_reply.started": "2024-11-19T00:26:15.952246Z"
    }
   },
   "outputs": [],
   "source": [
    "% Initialize the structure to store performance data for methods\n",
    "performance.method = {}; % method of calculation\n",
    "performance.rt = []; % runtime\n",
    "performance.rtPerPoint = []; % runtime per point\n",
    "performance.acceleration = []; % acceleration\n",
    "performance.error = []; % max error"
   ]
  },
  {
   "cell_type": "code",
   "execution_count": 29,
   "id": "80d51807",
   "metadata": {
    "execution": {
     "iopub.execute_input": "2024-11-19T00:26:17.032099Z",
     "iopub.status.busy": "2024-11-19T00:26:17.032099Z",
     "iopub.status.idle": "2024-11-19T00:26:17.402156Z",
     "shell.execute_reply": "2024-11-19T00:26:17.402156Z",
     "shell.execute_reply.started": "2024-11-19T00:26:17.032099Z"
    }
   },
   "outputs": [],
   "source": [
    "%initialization of variable for rtol\n",
    "k = 2; \n",
    "% options.chebyPts = 2^k+1;"
   ]
  },
  {
   "cell_type": "code",
   "execution_count": 30,
   "id": "56f0eb98-9c05-40b9-986f-3c3225ebd803",
   "metadata": {
    "execution": {
     "iopub.execute_input": "2024-11-19T00:26:18.098913Z",
     "iopub.status.busy": "2024-11-19T00:26:18.098913Z",
     "iopub.status.idle": "2024-11-19T00:26:18.500464Z",
     "shell.execute_reply": "2024-11-19T00:26:18.500464Z",
     "shell.execute_reply.started": "2024-11-19T00:26:18.098913Z"
    }
   },
   "outputs": [
    {
     "data": {
      "text/html": [
       "<html><body><pre>xN = 1000</pre></body></html>"
      ],
      "text/plain": [
       "xN = 1000"
      ]
     },
     "execution_count": 30,
     "metadata": {},
     "output_type": "execute_result"
    }
   ],
   "source": [
    "xN"
   ]
  },
  {
   "cell_type": "code",
   "execution_count": 31,
   "id": "e663c793-33c9-434c-a469-20d7b7dbd302",
   "metadata": {
    "execution": {
     "iopub.execute_input": "2024-11-19T00:26:21.722488Z",
     "iopub.status.busy": "2024-11-19T00:26:21.722488Z",
     "iopub.status.idle": "2024-11-19T00:26:22.270488Z",
     "shell.execute_reply": "2024-11-19T00:26:22.270488Z",
     "shell.execute_reply.started": "2024-11-19T00:26:21.722488Z"
    }
   },
   "outputs": [
    {
     "name": "stdout",
     "output_type": "stream",
     "text": [
      "Experiment: xN = 1000, chebPts = 2^3 + 1\n",
      "xN = 1000, BKB:CC9:Infs:SymDer:1e-03, chebPts = 2^3 + 1\n",
      "                       Performance statistics    \n",
      "                    _____________________________\n",
      "\n",
      "    method          {'BKB:CC9:Infs:SymDer:1e-03'}\n",
      "    rt              {'[1.62e-01]'               }\n",
      "    rtPerPoint      {'[1.62e-04]'               }\n",
      "    acceleration    {'[1.00e+00]'               }\n",
      "    error           {'[1.82e-01]'               }\n",
      "\n",
      "Experiment runtime = 0.16 s\n"
     ]
    }
   ],
   "source": [
    "% numerical experiments\n",
    "%timeValTot = tic;\n",
    "k = k+1;\n",
    "%for n=nmin:nmax \n",
    "fprintf('Experiment: xN = %d, chebPts = 2^%d + 1\\n', xN, k);\n",
    "\n",
    "% relative tol\n",
    "options.chebyPts = 2^k+1;\n",
    "\n",
    "% num inversion of ratio - Chebyshev interpolant\n",
    "[result, Rpdf] = cf_Ratio_BKB(cf1, cf2, [], options);\n",
    "\n",
    "runtime = result.runtime;\n",
    "timeVal = tic;\n",
    "\n",
    "%calculation Chebyshev interpolation\n",
    "Rpdfc = result.PDF(x);\n",
    "\n",
    "tictoc = toc(timeVal);\n",
    "result.runtime = runtime + tictoc;\n",
    "result.error = max(abs(Rpdfc-SagePDF));\n",
    "result.xN = xN;\n",
    "\n",
    "\n",
    "fprintf('xN = %d, %s, chebPts = 2^%d + 1\\n', xN, result.methodAbbr, k);\n",
    "% measuring time\n",
    "% simple tic-toc method \n",
    "% Update the performance structure and display the result\n",
    "display = true;\n",
    "%if n==nmax, display = true;end\n",
    "performance = update_PerfStats(result, performance, display);\n",
    "%end\n",
    "\n",
    "% tictocTot = toc(timeValTot);\n",
    "fprintf('Experiment runtime = %.2f s\\n', result.runtime);\n",
    "% fprintf('%s\\n', repmat('*', 1, 25));\n",
    "%disp(result);"
   ]
  },
  {
   "cell_type": "code",
   "execution_count": 32,
   "id": "aabd5d66-184e-4f83-a8e9-67ceb5562491",
   "metadata": {
    "execution": {
     "iopub.execute_input": "2024-11-19T00:26:32.586985Z",
     "iopub.status.busy": "2024-11-19T00:26:32.586985Z",
     "iopub.status.idle": "2024-11-19T00:26:33.280967Z",
     "shell.execute_reply": "2024-11-19T00:26:33.280967Z",
     "shell.execute_reply.started": "2024-11-19T00:26:32.586985Z"
    }
   },
   "outputs": [
    {
     "name": "stdout",
     "output_type": "stream",
     "text": [
      "Experiment: xN = 1000, chebPts = 2^4 + 1\n",
      "xN = 1000, BKB:CC17:Infs:SymDer:1e-03, chebPts = 2^4 + 1\n",
      "                                      Performance statistics                   \n",
      "                    ___________________________________________________________\n",
      "\n",
      "    method          {'[BKB:CC9:Infs:SymDer:1e-03, BKB:CC17:Infs:SymDer:1e-03]'}\n",
      "    rt              {'[1.62e-01 2.97e-01]'                                    }\n",
      "    rtPerPoint      {'[1.62e-04 2.97e-04]'                                    }\n",
      "    acceleration    {'[1.00e+00 5.46e-01]'                                    }\n",
      "    error           {'[1.82e-01 8.24e-02]'                                    }\n",
      "\n",
      "Experiment runtime = 0.30 s\n"
     ]
    }
   ],
   "source": [
    "% numerical experiments\n",
    "%timeValTot = tic;\n",
    "k = k+1;\n",
    "%for n=nmin:nmax \n",
    "fprintf('Experiment: xN = %d, chebPts = 2^%d + 1\\n', xN, k);\n",
    "\n",
    "% relative tol\n",
    "options.chebyPts = 2^k+1;\n",
    "\n",
    "% num inversion of ratio - Chebyshev interpolant\n",
    "[result, Rpdf] = cf_Ratio_BKB(cf1, cf2, [], options);\n",
    "\n",
    "runtime = result.runtime;\n",
    "timeVal = tic;\n",
    "\n",
    "%calculation Chebyshev interpolation\n",
    "Rpdfc = result.PDF(x);\n",
    "\n",
    "tictoc = toc(timeVal);\n",
    "result.runtime = runtime + tictoc;\n",
    "result.error = max(abs(Rpdfc-SagePDF));\n",
    "result.xN = xN;\n",
    "\n",
    "\n",
    "fprintf('xN = %d, %s, chebPts = 2^%d + 1\\n', xN, result.methodAbbr, k);\n",
    "% measuring time\n",
    "% simple tic-toc method \n",
    "% Update the performance structure and display the result\n",
    "display = true;\n",
    "%if n==nmax, display = true;end\n",
    "performance = update_PerfStats(result, performance, display);\n",
    "%end\n",
    "\n",
    "% tictocTot = toc(timeValTot);\n",
    "fprintf('Experiment runtime = %.2f s\\n', result.runtime);\n",
    "% fprintf('%s\\n', repmat('*', 1, 25));\n",
    "%disp(result);"
   ]
  },
  {
   "cell_type": "code",
   "execution_count": 33,
   "id": "f9e8dd3f-e330-4f80-9ba3-e6cb0ae9cec4",
   "metadata": {
    "execution": {
     "iopub.execute_input": "2024-11-19T00:26:36.759244Z",
     "iopub.status.busy": "2024-11-19T00:26:36.759244Z",
     "iopub.status.idle": "2024-11-19T00:26:37.723064Z",
     "shell.execute_reply": "2024-11-19T00:26:37.723064Z",
     "shell.execute_reply.started": "2024-11-19T00:26:36.759244Z"
    }
   },
   "outputs": [
    {
     "name": "stdout",
     "output_type": "stream",
     "text": [
      "Experiment: xN = 1000, chebPts = 2^5 + 1\n",
      "xN = 1000, BKB:CC33:Infs:SymDer:1e-03, chebPts = 2^5 + 1\n",
      "                                                    Performance statistics                                 \n",
      "                    _______________________________________________________________________________________\n",
      "\n",
      "    method          {'[BKB:CC9:Infs:SymDer:1e-03, BKB:CC17:Infs:SymDer:1e-03, BKB:CC33:Infs:SymDer:1e-03]'}\n",
      "    rt              {'[1.62e-01 2.97e-01 5.66e-01]'                                                       }\n",
      "    rtPerPoint      {'[1.62e-04 2.97e-04 5.66e-04]'                                                       }\n",
      "    acceleration    {'[1.00e+00 5.46e-01 2.86e-01]'                                                       }\n",
      "    error           {'[1.82e-01 8.24e-02 1.10e-02]'                                                       }\n",
      "\n",
      "Experiment runtime = 0.57 s\n"
     ]
    }
   ],
   "source": [
    "% numerical experiments\n",
    "%timeValTot = tic;\n",
    "k = k+1;\n",
    "%for n=nmin:nmax \n",
    "fprintf('Experiment: xN = %d, chebPts = 2^%d + 1\\n', xN, k);\n",
    "\n",
    "% relative tol\n",
    "options.chebyPts = 2^k+1;\n",
    "\n",
    "% num inversion of ratio - Chebyshev interpolant\n",
    "[result, Rpdf] = cf_Ratio_BKB(cf1, cf2, [], options);\n",
    "\n",
    "runtime = result.runtime;\n",
    "timeVal = tic;\n",
    "\n",
    "%calculation Chebyshev interpolation\n",
    "Rpdfc = result.PDF(x);\n",
    "\n",
    "tictoc = toc(timeVal);\n",
    "result.runtime = runtime + tictoc;\n",
    "result.error = max(abs(Rpdfc-SagePDF));\n",
    "result.xN = xN;\n",
    "\n",
    "\n",
    "fprintf('xN = %d, %s, chebPts = 2^%d + 1\\n', xN, result.methodAbbr, k);\n",
    "% measuring time\n",
    "% simple tic-toc method \n",
    "% Update the performance structure and display the result\n",
    "display = true;\n",
    "%if n==nmax, display = true;end\n",
    "performance = update_PerfStats(result, performance, display);\n",
    "%end\n",
    "\n",
    "% tictocTot = toc(timeValTot);\n",
    "fprintf('Experiment runtime = %.2f s\\n', result.runtime);\n",
    "% fprintf('%s\\n', repmat('*', 1, 25));\n",
    "%disp(result);"
   ]
  },
  {
   "cell_type": "code",
   "execution_count": 34,
   "id": "c0830f0a-8bff-499d-b59e-899694b42c66",
   "metadata": {
    "execution": {
     "iopub.execute_input": "2024-11-19T00:26:40.606449Z",
     "iopub.status.busy": "2024-11-19T00:26:40.606449Z",
     "iopub.status.idle": "2024-11-19T00:26:42.108145Z",
     "shell.execute_reply": "2024-11-19T00:26:42.107576Z",
     "shell.execute_reply.started": "2024-11-19T00:26:40.606449Z"
    }
   },
   "outputs": [
    {
     "name": "stdout",
     "output_type": "stream",
     "text": [
      "Experiment: xN = 1000, chebPts = 2^6 + 1\n",
      "xN = 1000, BKB:CC65:Infs:SymDer:1e-03, chebPts = 2^6 + 1\n",
      "                                                                  Performance statistics                                               \n",
      "                    ___________________________________________________________________________________________________________________\n",
      "\n",
      "    method          {'[BKB:CC9:Infs:SymDer:1e-03, BKB:CC17:Infs:SymDer:1e-03, BKB:CC33:Infs:SymDer:1e-03, BKB:CC65:Infs:SymDer:1e-03]'}\n",
      "    rt              {'[1.62e-01 2.97e-01 5.66e-01 1.12e+00]'                                                                          }\n",
      "    rtPerPoint      {'[1.62e-04 2.97e-04 5.66e-04 1.12e-03]'                                                                          }\n",
      "    acceleration    {'[1.00e+00 5.46e-01 2.86e-01 1.45e-01]'                                                                          }\n",
      "    error           {'[1.82e-01 8.24e-02 1.10e-02 1.04e-04]'                                                                          }\n",
      "\n",
      "Experiment runtime = 1.12 s\n"
     ]
    }
   ],
   "source": [
    "% numerical experiments\n",
    "%timeValTot = tic;\n",
    "k = k+1;\n",
    "%for n=nmin:nmax \n",
    "fprintf('Experiment: xN = %d, chebPts = 2^%d + 1\\n', xN, k);\n",
    "\n",
    "% relative tol\n",
    "options.chebyPts = 2^k+1;\n",
    "\n",
    "% num inversion of ratio - Chebyshev interpolant\n",
    "[result, Rpdf] = cf_Ratio_BKB(cf1, cf2, [], options);\n",
    "\n",
    "runtime = result.runtime;\n",
    "timeVal = tic;\n",
    "\n",
    "%calculation Chebyshev interpolation\n",
    "Rpdfc = result.PDF(x);\n",
    "\n",
    "tictoc = toc(timeVal);\n",
    "result.runtime = runtime + tictoc;\n",
    "result.error = max(abs(Rpdfc-SagePDF));\n",
    "result.xN = xN;\n",
    "\n",
    "\n",
    "fprintf('xN = %d, %s, chebPts = 2^%d + 1\\n', xN, result.methodAbbr, k);\n",
    "% measuring time\n",
    "% simple tic-toc method \n",
    "% Update the performance structure and display the result\n",
    "display = true;\n",
    "%if n==nmax, display = true;end\n",
    "performance = update_PerfStats(result, performance, display);\n",
    "%end\n",
    "\n",
    "% tictocTot = toc(timeValTot);\n",
    "fprintf('Experiment runtime = %.2f s\\n', result.runtime);\n",
    "% fprintf('%s\\n', repmat('*', 1, 25));\n",
    "%disp(result);"
   ]
  },
  {
   "cell_type": "code",
   "execution_count": 35,
   "id": "b46dabc1-efef-4d08-8b3b-e71ab09630e4",
   "metadata": {
    "execution": {
     "iopub.execute_input": "2024-11-19T00:26:46.098272Z",
     "iopub.status.busy": "2024-11-19T00:26:46.098272Z",
     "iopub.status.idle": "2024-11-19T00:26:48.684246Z",
     "shell.execute_reply": "2024-11-19T00:26:48.684246Z",
     "shell.execute_reply.started": "2024-11-19T00:26:46.098272Z"
    }
   },
   "outputs": [
    {
     "name": "stdout",
     "output_type": "stream",
     "text": [
      "Experiment: xN = 1000, chebPts = 2^7 + 1\n",
      "xN = 1000, BKB:CC129:Infs:SymDer:1e-03, chebPts = 2^7 + 1\n",
      "                                                                                 Performance statistics                                                             \n",
      "                    ________________________________________________________________________________________________________________________________________________\n",
      "\n",
      "    method          {'[BKB:CC9:Infs:SymDer:1e-03, BKB:CC17:Infs:SymDer:1e-03, BKB:CC33:Infs:SymDer:1e-03, BKB:CC65:Infs:SymDer:1e-03, BKB:CC129:Infs:SymDer:1e-03]'}\n",
      "    rt              {'[1.62e-01 2.97e-01 5.66e-01 1.12e+00 2.20e+00]'                                                                                              }\n",
      "    rtPerPoint      {'[1.62e-04 2.97e-04 5.66e-04 1.12e-03 2.20e-03]'                                                                                              }\n",
      "    acceleration    {'[1.00e+00 5.46e-01 2.86e-01 1.45e-01 7.37e-02]'                                                                                              }\n",
      "    error           {'[1.82e-01 8.24e-02 1.10e-02 1.04e-04 5.27e-08]'                                                                                              }\n",
      "\n",
      "Experiment runtime = 2.20 s\n"
     ]
    }
   ],
   "source": [
    "% numerical experiments\n",
    "%timeValTot = tic;\n",
    "k = k+1;\n",
    "%for n=nmin:nmax \n",
    "fprintf('Experiment: xN = %d, chebPts = 2^%d + 1\\n', xN, k);\n",
    "\n",
    "% relative tol\n",
    "options.chebyPts = 2^k+1;\n",
    "\n",
    "% num inversion of ratio - Chebyshev interpolant\n",
    "[result, Rpdf] = cf_Ratio_BKB(cf1, cf2, [], options);\n",
    "\n",
    "runtime = result.runtime;\n",
    "timeVal = tic;\n",
    "\n",
    "%calculation Chebyshev interpolation\n",
    "Rpdfc = result.PDF(x);\n",
    "\n",
    "tictoc = toc(timeVal);\n",
    "result.runtime = runtime + tictoc;\n",
    "result.error = max(abs(Rpdfc-SagePDF));\n",
    "result.xN = xN;\n",
    "\n",
    "\n",
    "fprintf('xN = %d, %s, chebPts = 2^%d + 1\\n', xN, result.methodAbbr, k);\n",
    "% measuring time\n",
    "% simple tic-toc method \n",
    "% Update the performance structure and display the result\n",
    "display = true;\n",
    "%if n==nmax, display = true;end\n",
    "performance = update_PerfStats(result, performance, display);\n",
    "%end\n",
    "\n",
    "% tictocTot = toc(timeValTot);\n",
    "fprintf('Experiment runtime = %.2f s\\n', result.runtime);\n",
    "% fprintf('%s\\n', repmat('*', 1, 25));\n",
    "%disp(result);"
   ]
  },
  {
   "cell_type": "code",
   "execution_count": 42,
   "id": "69b365fc-08ab-4f82-a5b0-a84d5cf733ed",
   "metadata": {
    "execution": {
     "iopub.execute_input": "2024-11-19T00:34:24.395804Z",
     "iopub.status.busy": "2024-11-19T00:34:24.395804Z",
     "iopub.status.idle": "2024-11-19T00:39:07.835468Z",
     "shell.execute_reply": "2024-11-19T00:39:07.835129Z",
     "shell.execute_reply.started": "2024-11-19T00:34:24.395804Z"
    }
   },
   "outputs": [
    {
     "name": "stdout",
     "output_type": "stream",
     "text": [
      "Experiment: xN = 1000, chebPts = 2^14 + 1\n",
      "xN = 1000, BKB:CC16385:Infs:SymDer:1e-03, chebPts = 2^14 + 1\n",
      "                                                                                                                                                                                         Performance statistics                                                                                                                                                                      \n",
      "                    _________________________________________________________________________________________________________________________________________________________________________________________________________________________________________________________________________________________________________________________________________________________________\n",
      "\n",
      "    method          {'[BKB:CC9:Infs:SymDer:1e-03, BKB:CC17:Infs:SymDer:1e-03, BKB:CC33:Infs:SymDer:1e-03, BKB:CC65:Infs:SymDer:1e-03, BKB:CC129:Infs:SymDer:1e-03, BKB:CC257:Infs:SymDer:1e-03, BKB:CC513:Infs:SymDer:1e-03, BKB:CC1025:Infs:SymDer:1e-03, BKB:CC2049:Infs:SymDer:1e-03, BKB:CC4097:Infs:SymDer:1e-03, BKB:CC8193:Infs:SymDer:1e-03, BKB:CC16385:Infs:SymDer:1e-03]'}\n",
      "    rt              {'[1.62e-01 2.97e-01 5.66e-01 1.12e+00 2.20e+00 4.38e+00 8.74e+00 1.75e+01 3.48e+01 7.04e+01 1.40e+02 2.83e+02]'                                                                                                                                                                                                                                                }\n",
      "    rtPerPoint      {'[1.62e-04 2.97e-04 5.66e-04 1.12e-03 2.20e-03 4.38e-03 8.74e-03 1.75e-02 3.48e-02 7.04e-02 1.40e-01 2.83e-01]'                                                                                                                                                                                                                                                }\n",
      "    acceleration    {'[1.00e+00 5.46e-01 2.86e-01 1.45e-01 7.37e-02 3.70e-02 1.85e-02 9.23e-03 4.65e-03 2.30e-03 1.16e-03 5.72e-04]'                                                                                                                                                                                                                                                }\n",
      "    error           {'[1.82e-01 8.24e-02 1.10e-02 1.04e-04 5.27e-08 5.63e-08 5.85e-08 6.25e-08 6.37e-08 5.85e-08 6.37e-08 5.92e-08]'                                                                                                                                                                                                                                                }\n",
      "\n",
      "Experiment runtime = 283.03 s\n"
     ]
    }
   ],
   "source": [
    "% numerical experiments\n",
    "%timeValTot = tic;\n",
    "k = k+1;\n",
    "%for n=nmin:nmax \n",
    "fprintf('Experiment: xN = %d, chebPts = 2^%d + 1\\n', xN, k);\n",
    "\n",
    "% relative tol\n",
    "options.chebyPts = 2^k+1;\n",
    "\n",
    "% num inversion of ratio - Chebyshev interpolant\n",
    "[result, Rpdf] = cf_Ratio_BKB(cf1, cf2, [], options);\n",
    "\n",
    "runtime = result.runtime;\n",
    "timeVal = tic;\n",
    "\n",
    "%calculation Chebyshev interpolation\n",
    "Rpdfc = result.PDF(x);\n",
    "\n",
    "tictoc = toc(timeVal);\n",
    "result.runtime = runtime + tictoc;\n",
    "result.error = max(abs(Rpdfc-SagePDF));\n",
    "result.xN = xN;\n",
    "\n",
    "\n",
    "fprintf('xN = %d, %s, chebPts = 2^%d + 1\\n', xN, result.methodAbbr, k);\n",
    "% measuring time\n",
    "% simple tic-toc method \n",
    "% Update the performance structure and display the result\n",
    "display = true;\n",
    "%if n==nmax, display = true;end\n",
    "performance = update_PerfStats(result, performance, display);\n",
    "%end\n",
    "\n",
    "% tictocTot = toc(timeValTot);\n",
    "fprintf('Experiment runtime = %.2f s\\n', result.runtime);\n",
    "% fprintf('%s\\n', repmat('*', 1, 25));\n",
    "%disp(result);"
   ]
  },
  {
   "cell_type": "code",
   "execution_count": 39,
   "id": "a3e5be86-8287-479b-a138-28e4dd48d5f0",
   "metadata": {
    "execution": {
     "iopub.execute_input": "2024-11-19T00:28:25.384178Z",
     "iopub.status.busy": "2024-11-19T00:28:25.384178Z",
     "iopub.status.idle": "2024-11-19T00:29:00.644190Z",
     "shell.execute_reply": "2024-11-19T00:29:00.643543Z",
     "shell.execute_reply.started": "2024-11-19T00:28:25.384178Z"
    }
   },
   "outputs": [
    {
     "name": "stdout",
     "output_type": "stream",
     "text": [
      "Experiment: xN = 1000, chebPts = 2^11 + 1\n",
      "xN = 1000, BKB:CC2049:Infs:SymDer:1e-03, chebPts = 2^11 + 1\n",
      "                                                                                                                                            Performance statistics                                                                                                                        \n",
      "                    ______________________________________________________________________________________________________________________________________________________________________________________________________________________________________________________________________\n",
      "\n",
      "    method          {'[BKB:CC9:Infs:SymDer:1e-03, BKB:CC17:Infs:SymDer:1e-03, BKB:CC33:Infs:SymDer:1e-03, BKB:CC65:Infs:SymDer:1e-03, BKB:CC129:Infs:SymDer:1e-03, BKB:CC257:Infs:SymDer:1e-03, BKB:CC513:Infs:SymDer:1e-03, BKB:CC1025:Infs:SymDer:1e-03, BKB:CC2049:Infs:SymDer:1e-03]'}\n",
      "    rt              {'[1.62e-01 2.97e-01 5.66e-01 1.12e+00 2.20e+00 4.38e+00 8.74e+00 1.75e+01 3.48e+01]'                                                                                                                                                                                }\n",
      "    rtPerPoint      {'[1.62e-04 2.97e-04 5.66e-04 1.12e-03 2.20e-03 4.38e-03 8.74e-03 1.75e-02 3.48e-02]'                                                                                                                                                                                }\n",
      "    acceleration    {'[1.00e+00 5.46e-01 2.86e-01 1.45e-01 7.37e-02 3.70e-02 1.85e-02 9.23e-03 4.65e-03]'                                                                                                                                                                                }\n",
      "    error           {'[1.82e-01 8.24e-02 1.10e-02 1.04e-04 5.27e-08 5.63e-08 5.85e-08 6.25e-08 6.37e-08]'                                                                                                                                                                                }\n",
      "\n",
      "Experiment runtime = 34.85 s\n"
     ]
    }
   ],
   "source": [
    "% numerical experiments\n",
    "%timeValTot = tic;\n",
    "k = k+1;\n",
    "%for n=nmin:nmax \n",
    "fprintf('Experiment: xN = %d, chebPts = 2^%d + 1\\n', xN, k);\n",
    "\n",
    "% relative tol\n",
    "options.chebyPts = 2^k+1;\n",
    "\n",
    "% num inversion of ratio - Chebyshev interpolant\n",
    "[result, Rpdf] = cf_Ratio_BKB(cf1, cf2, [], options);\n",
    "\n",
    "runtime = result.runtime;\n",
    "timeVal = tic;\n",
    "\n",
    "%calculation Chebyshev interpolation\n",
    "Rpdfc = result.PDF(x);\n",
    "\n",
    "tictoc = toc(timeVal);\n",
    "result.runtime = runtime + tictoc;\n",
    "result.error = max(abs(Rpdfc-SagePDF));\n",
    "result.xN = xN;\n",
    "\n",
    "\n",
    "fprintf('xN = %d, %s, chebPts = 2^%d + 1\\n', xN, result.methodAbbr, k);\n",
    "% measuring time\n",
    "% simple tic-toc method \n",
    "% Update the performance structure and display the result\n",
    "display = true;\n",
    "%if n==nmax, display = true;end\n",
    "performance = update_PerfStats(result, performance, display);\n",
    "%end\n",
    "\n",
    "% tictocTot = toc(timeValTot);\n",
    "fprintf('Experiment runtime = %.2f s\\n', result.runtime);\n",
    "% fprintf('%s\\n', repmat('*', 1, 25));\n",
    "%disp(result);"
   ]
  },
  {
   "cell_type": "code",
   "execution_count": 43,
   "id": "cf3fad3c-81ac-498d-abc2-2bd4d5e05603",
   "metadata": {
    "execution": {
     "iopub.execute_input": "2024-11-19T00:39:56.419132Z",
     "iopub.status.busy": "2024-11-19T00:39:56.419132Z",
     "iopub.status.idle": "2024-11-19T00:39:56.801829Z",
     "shell.execute_reply": "2024-11-19T00:39:56.801829Z",
     "shell.execute_reply.started": "2024-11-19T00:39:56.419132Z"
    }
   },
   "outputs": [],
   "source": [
    "k = 6;\n",
    "options.rtol = 1e-4;"
   ]
  },
  {
   "cell_type": "code",
   "execution_count": 44,
   "id": "6679d1d8-9dbb-4b9f-8a99-58f422aac3ca",
   "metadata": {
    "execution": {
     "iopub.execute_input": "2024-11-19T00:40:12.430816Z",
     "iopub.status.busy": "2024-11-19T00:40:12.430816Z",
     "iopub.status.idle": "2024-11-19T00:40:15.341244Z",
     "shell.execute_reply": "2024-11-19T00:40:15.341244Z",
     "shell.execute_reply.started": "2024-11-19T00:40:12.430816Z"
    }
   },
   "outputs": [
    {
     "name": "stdout",
     "output_type": "stream",
     "text": [
      "Experiment: xN = 1000, chebPts = 2^7 + 1\n",
      "xN = 1000, BKB:CC129:Infs:SymDer:1e-04, chebPts = 2^7 + 1\n",
      "                                                                                                                                                                                                        Performance statistics                                                                                                                                                                                    \n",
      "                    ______________________________________________________________________________________________________________________________________________________________________________________________________________________________________________________________________________________________________________________________________________________________________________________________\n",
      "\n",
      "    method          {'[BKB:CC9:Infs:SymDer:1e-03, BKB:CC17:Infs:SymDer:1e-03, BKB:CC33:Infs:SymDer:1e-03, BKB:CC65:Infs:SymDer:1e-03, BKB:CC129:Infs:SymDer:1e-03, BKB:CC257:Infs:SymDer:1e-03, BKB:CC513:Infs:SymDer:1e-03, BKB:CC1025:Infs:SymDer:1e-03, BKB:CC2049:Infs:SymDer:1e-03, BKB:CC4097:Infs:SymDer:1e-03, BKB:CC8193:Infs:SymDer:1e-03, BKB:CC16385:Infs:SymDer:1e-03, BKB:CC129:Infs:SymDer:1e-04]'}\n",
      "    rt              {'[1.62e-01 2.97e-01 5.66e-01 1.12e+00 2.20e+00 4.38e+00 8.74e+00 1.75e+01 3.48e+01 7.04e+01 1.40e+02 2.83e+02 2.50e+00]'                                                                                                                                                                                                                                                                    }\n",
      "    rtPerPoint      {'[1.62e-04 2.97e-04 5.66e-04 1.12e-03 2.20e-03 4.38e-03 8.74e-03 1.75e-02 3.48e-02 7.04e-02 1.40e-01 2.83e-01 2.50e-03]'                                                                                                                                                                                                                                                                    }\n",
      "    acceleration    {'[1.00e+00 5.46e-01 2.86e-01 1.45e-01 7.37e-02 3.70e-02 1.85e-02 9.23e-03 4.65e-03 2.30e-03 1.16e-03 5.72e-04 6.46e-02]'                                                                                                                                                                                                                                                                    }\n",
      "    error           {'[1.82e-01 8.24e-02 1.10e-02 1.04e-04 5.27e-08 5.63e-08 5.85e-08 6.25e-08 6.37e-08 5.85e-08 6.37e-08 5.92e-08 1.11e-08]'                                                                                                                                                                                                                                                                    }\n",
      "\n",
      "Experiment runtime = 2.50 s\n"
     ]
    }
   ],
   "source": [
    "% numerical experiments\n",
    "%timeValTot = tic;\n",
    "k = k+1;\n",
    "%for n=nmin:nmax \n",
    "fprintf('Experiment: xN = %d, chebPts = 2^%d + 1\\n', xN, k);\n",
    "\n",
    "% relative tol\n",
    "options.chebyPts = 2^k+1;\n",
    "\n",
    "% num inversion of ratio - Chebyshev interpolant\n",
    "[result, Rpdf] = cf_Ratio_BKB(cf1, cf2, [], options);\n",
    "\n",
    "runtime = result.runtime;\n",
    "timeVal = tic;\n",
    "\n",
    "%calculation Chebyshev interpolation\n",
    "Rpdfc = result.PDF(x);\n",
    "\n",
    "tictoc = toc(timeVal);\n",
    "result.runtime = runtime + tictoc;\n",
    "result.error = max(abs(Rpdfc-SagePDF));\n",
    "result.xN = xN;\n",
    "\n",
    "\n",
    "fprintf('xN = %d, %s, chebPts = 2^%d + 1\\n', xN, result.methodAbbr, k);\n",
    "% measuring time\n",
    "% simple tic-toc method \n",
    "% Update the performance structure and display the result\n",
    "display = true;\n",
    "%if n==nmax, display = true;end\n",
    "performance = update_PerfStats(result, performance, display);\n",
    "%end\n",
    "\n",
    "% tictocTot = toc(timeValTot);\n",
    "fprintf('Experiment runtime = %.2f s\\n', result.runtime);\n",
    "% fprintf('%s\\n', repmat('*', 1, 25));\n",
    "%disp(result);"
   ]
  },
  {
   "cell_type": "code",
   "execution_count": 45,
   "id": "ad7d25e1-f2c6-4652-90bd-5efa64721f26",
   "metadata": {
    "execution": {
     "iopub.execute_input": "2024-11-19T00:40:18.158039Z",
     "iopub.status.busy": "2024-11-19T00:40:18.157039Z",
     "iopub.status.idle": "2024-11-19T00:40:23.506761Z",
     "shell.execute_reply": "2024-11-19T00:40:23.506761Z",
     "shell.execute_reply.started": "2024-11-19T00:40:18.158039Z"
    }
   },
   "outputs": [
    {
     "name": "stdout",
     "output_type": "stream",
     "text": [
      "Experiment: xN = 1000, chebPts = 2^8 + 1\n",
      "xN = 1000, BKB:CC257:Infs:SymDer:1e-04, chebPts = 2^8 + 1\n",
      "                                                                                                                                                                                                                      Performance statistics                                                                                                                                                                                                   \n",
      "                    ___________________________________________________________________________________________________________________________________________________________________________________________________________________________________________________________________________________________________________________________________________________________________________________________________________________________\n",
      "\n",
      "    method          {'[BKB:CC9:Infs:SymDer:1e-03, BKB:CC17:Infs:SymDer:1e-03, BKB:CC33:Infs:SymDer:1e-03, BKB:CC65:Infs:SymDer:1e-03, BKB:CC129:Infs:SymDer:1e-03, BKB:CC257:Infs:SymDer:1e-03, BKB:CC513:Infs:SymDer:1e-03, BKB:CC1025:Infs:SymDer:1e-03, BKB:CC2049:Infs:SymDer:1e-03, BKB:CC4097:Infs:SymDer:1e-03, BKB:CC8193:Infs:SymDer:1e-03, BKB:CC16385:Infs:SymDer:1e-03, BKB:CC129:Infs:SymDer:1e-04, BKB:CC257:Infs:SymDer:1e-04]'}\n",
      "    rt              {'[1.62e-01 2.97e-01 5.66e-01 1.12e+00 2.20e+00 4.38e+00 8.74e+00 1.75e+01 3.48e+01 7.04e+01 1.40e+02 2.83e+02 2.50e+00 4.94e+00]'                                                                                                                                                                                                                                                                                        }\n",
      "    rtPerPoint      {'[1.62e-04 2.97e-04 5.66e-04 1.12e-03 2.20e-03 4.38e-03 8.74e-03 1.75e-02 3.48e-02 7.04e-02 1.40e-01 2.83e-01 2.50e-03 4.94e-03]'                                                                                                                                                                                                                                                                                        }\n",
      "    acceleration    {'[1.00e+00 5.46e-01 2.86e-01 1.45e-01 7.37e-02 3.70e-02 1.85e-02 9.23e-03 4.65e-03 2.30e-03 1.16e-03 5.72e-04 6.46e-02 3.28e-02]'                                                                                                                                                                                                                                                                                        }\n",
      "    error           {'[1.82e-01 8.24e-02 1.10e-02 1.04e-04 5.27e-08 5.63e-08 5.85e-08 6.25e-08 6.37e-08 5.85e-08 6.37e-08 5.92e-08 1.11e-08 6.77e-09]'                                                                                                                                                                                                                                                                                        }\n",
      "\n",
      "Experiment runtime = 4.94 s\n"
     ]
    }
   ],
   "source": [
    "% numerical experiments\n",
    "%timeValTot = tic;\n",
    "k = k+1;\n",
    "%for n=nmin:nmax \n",
    "fprintf('Experiment: xN = %d, chebPts = 2^%d + 1\\n', xN, k);\n",
    "\n",
    "% relative tol\n",
    "options.chebyPts = 2^k+1;\n",
    "\n",
    "% num inversion of ratio - Chebyshev interpolant\n",
    "[result, Rpdf] = cf_Ratio_BKB(cf1, cf2, [], options);\n",
    "\n",
    "runtime = result.runtime;\n",
    "timeVal = tic;\n",
    "\n",
    "%calculation Chebyshev interpolation\n",
    "Rpdfc = result.PDF(x);\n",
    "\n",
    "tictoc = toc(timeVal);\n",
    "result.runtime = runtime + tictoc;\n",
    "result.error = max(abs(Rpdfc-SagePDF));\n",
    "result.xN = xN;\n",
    "\n",
    "\n",
    "fprintf('xN = %d, %s, chebPts = 2^%d + 1\\n', xN, result.methodAbbr, k);\n",
    "% measuring time\n",
    "% simple tic-toc method \n",
    "% Update the performance structure and display the result\n",
    "display = true;\n",
    "%if n==nmax, display = true;end\n",
    "performance = update_PerfStats(result, performance, display);\n",
    "%end\n",
    "\n",
    "% tictocTot = toc(timeValTot);\n",
    "fprintf('Experiment runtime = %.2f s\\n', result.runtime);\n",
    "% fprintf('%s\\n', repmat('*', 1, 25));\n",
    "%disp(result);"
   ]
  },
  {
   "cell_type": "code",
   "execution_count": 47,
   "id": "d368f0f3-c5d1-4229-b340-7fd96dac73d7",
   "metadata": {
    "execution": {
     "iopub.execute_input": "2024-11-19T00:40:44.501946Z",
     "iopub.status.busy": "2024-11-19T00:40:44.501946Z",
     "iopub.status.idle": "2024-11-19T00:41:04.930430Z",
     "shell.execute_reply": "2024-11-19T00:41:04.930430Z",
     "shell.execute_reply.started": "2024-11-19T00:40:44.501946Z"
    }
   },
   "outputs": [
    {
     "name": "stdout",
     "output_type": "stream",
     "text": [
      "Experiment: xN = 1000, chebPts = 2^10 + 1\n",
      "xN = 1000, BKB:CC1025:Infs:SymDer:1e-04, chebPts = 2^10 + 1\n",
      "                                                                                                                                                                                                                                                    Performance statistics                                                                                                                                                                                                                                \n",
      "                    ______________________________________________________________________________________________________________________________________________________________________________________________________________________________________________________________________________________________________________________________________________________________________________________________________________________________________________________________________________________\n",
      "\n",
      "    method          {'[BKB:CC9:Infs:SymDer:1e-03, BKB:CC17:Infs:SymDer:1e-03, BKB:CC33:Infs:SymDer:1e-03, BKB:CC65:Infs:SymDer:1e-03, BKB:CC129:Infs:SymDer:1e-03, BKB:CC257:Infs:SymDer:1e-03, BKB:CC513:Infs:SymDer:1e-03, BKB:CC1025:Infs:SymDer:1e-03, BKB:CC2049:Infs:SymDer:1e-03, BKB:CC4097:Infs:SymDer:1e-03, BKB:CC8193:Infs:SymDer:1e-03, BKB:CC16385:Infs:SymDer:1e-03, BKB:CC129:Infs:SymDer:1e-04, BKB:CC257:Infs:SymDer:1e-04, BKB:CC513:Infs:SymDer:1e-04, BKB:CC1025:Infs:SymDer:1e-04]'}\n",
      "    rt              {'[1.62e-01 2.97e-01 5.66e-01 1.12e+00 2.20e+00 4.38e+00 8.74e+00 1.75e+01 3.48e+01 7.04e+01 1.40e+02 2.83e+02 2.50e+00 4.94e+00 9.88e+00 2.00e+01]'                                                                                                                                                                                                                                                                                                                                 }\n",
      "    rtPerPoint      {'[1.62e-04 2.97e-04 5.66e-04 1.12e-03 2.20e-03 4.38e-03 8.74e-03 1.75e-02 3.48e-02 7.04e-02 1.40e-01 2.83e-01 2.50e-03 4.94e-03 9.88e-03 2.00e-02]'                                                                                                                                                                                                                                                                                                                                 }\n",
      "    acceleration    {'[1.00e+00 5.46e-01 2.86e-01 1.45e-01 7.37e-02 3.70e-02 1.85e-02 9.23e-03 4.65e-03 2.30e-03 1.16e-03 5.72e-04 6.46e-02 3.28e-02 1.64e-02 8.08e-03]'                                                                                                                                                                                                                                                                                                                                 }\n",
      "    error           {'[1.82e-01 8.24e-02 1.10e-02 1.04e-04 5.27e-08 5.63e-08 5.85e-08 6.25e-08 6.37e-08 5.85e-08 6.37e-08 5.92e-08 1.11e-08 6.77e-09 1.24e-08 1.19e-08]'                                                                                                                                                                                                                                                                                                                                 }\n",
      "\n",
      "Experiment runtime = 20.04 s\n"
     ]
    }
   ],
   "source": [
    "% numerical experiments\n",
    "%timeValTot = tic;\n",
    "k = k+1;\n",
    "%for n=nmin:nmax \n",
    "fprintf('Experiment: xN = %d, chebPts = 2^%d + 1\\n', xN, k);\n",
    "\n",
    "% relative tol\n",
    "options.chebyPts = 2^k+1;\n",
    "\n",
    "% num inversion of ratio - Chebyshev interpolant\n",
    "[result, Rpdf] = cf_Ratio_BKB(cf1, cf2, [], options);\n",
    "\n",
    "runtime = result.runtime;\n",
    "timeVal = tic;\n",
    "\n",
    "%calculation Chebyshev interpolation\n",
    "Rpdfc = result.PDF(x);\n",
    "\n",
    "tictoc = toc(timeVal);\n",
    "result.runtime = runtime + tictoc;\n",
    "result.error = max(abs(Rpdfc-SagePDF));\n",
    "result.xN = xN;\n",
    "\n",
    "\n",
    "fprintf('xN = %d, %s, chebPts = 2^%d + 1\\n', xN, result.methodAbbr, k);\n",
    "% measuring time\n",
    "% simple tic-toc method \n",
    "% Update the performance structure and display the result\n",
    "display = true;\n",
    "%if n==nmax, display = true;end\n",
    "performance = update_PerfStats(result, performance, display);\n",
    "%end\n",
    "\n",
    "% tictocTot = toc(timeValTot);\n",
    "fprintf('Experiment runtime = %.2f s\\n', result.runtime);\n",
    "% fprintf('%s\\n', repmat('*', 1, 25));\n",
    "%disp(result);"
   ]
  },
  {
   "cell_type": "markdown",
   "id": "685ab013-2a93-437e-9f75-9a90dc576539",
   "metadata": {},
   "source": [
    "#### SAVING results"
   ]
  },
  {
   "cell_type": "code",
   "execution_count": 48,
   "id": "c4c2d320-8061-4973-a4de-ab875ceb7f16",
   "metadata": {
    "execution": {
     "iopub.execute_input": "2024-11-19T00:41:15.780746Z",
     "iopub.status.busy": "2024-11-19T00:41:15.780746Z",
     "iopub.status.idle": "2024-11-19T00:41:16.219816Z",
     "shell.execute_reply": "2024-11-19T00:41:16.219816Z",
     "shell.execute_reply.started": "2024-11-19T00:41:15.780746Z"
    }
   },
   "outputs": [
    {
     "data": {
      "text/html": [
       "<html><body><pre>filePath = 'd:\\Dropbox\\00 Jupyter\\00 Matematika\\Probastat\\data\\MathematicaMATLAB\\MTB-perfStats-BKB-CC-Sym-N1000-2024_11-19-01_41_16.xlsx'</pre></body></html>"
      ],
      "text/plain": [
       "filePath = 'd:\\Dropbox\\00 Jupyter\\00 Matematika\\Probastat\\data\\MathematicaMATLAB\\MTB-perfStats-BKB-CC-Sym-N1000-2024_11-19-01_41_16.xlsx'"
      ]
     },
     "execution_count": 48,
     "metadata": {},
     "output_type": "execute_result"
    }
   ],
   "source": [
    "% setting folder for a xlsx file\n",
    "pwd;\n",
    "folderPath = 'd:\\Dropbox\\00 Jupyter\\00 Matematika\\Probastat\\data\\MathematicaMATLAB\\';\n",
    "\n",
    "% Get the current date and time in a suitable format (e.g., YYYY-MM-DD-HH-MM-SS)\n",
    "currentDateTime = datestr(now, 'yyyy_mm-dd-HH_MM_SS');\n",
    "\n",
    "% Create the filename with N and date-time\n",
    "fileName = sprintf('MTB-perfStats-BKB-CC-Sym-N%d-%s.xlsx', xN, currentDateTime);\n",
    "\n",
    "% Convert performance data structure to a table\n",
    "perfTable = struct2table(performance);\n",
    "filePath = fullfile(folderPath, fileName)\n",
    "\n",
    "% Save as an Excel file\n",
    "writetable(perfTable,filePath);"
   ]
  }
 ],
 "metadata": {
  "kernelspec": {
   "display_name": "MATLAB Kernel",
   "language": "matlab",
   "name": "jupyter_matlab_kernel"
  },
  "language_info": {
   "file_extension": ".m",
   "mimetype": "text/x-matlab",
   "name": "matlab"
  }
 },
 "nbformat": 4,
 "nbformat_minor": 5
}
