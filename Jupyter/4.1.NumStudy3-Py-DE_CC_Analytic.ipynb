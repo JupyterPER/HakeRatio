{
 "cells": [
  {
   "cell_type": "markdown",
   "metadata": {
    "execution": {
     "iopub.execute_input": "2024-11-06T12:15:00.677339Z",
     "iopub.status.busy": "2024-11-06T12:15:00.677131Z",
     "iopub.status.idle": "2024-11-06T12:15:01.598938Z",
     "shell.execute_reply": "2024-11-06T12:15:01.597731Z",
     "shell.execute_reply.started": "2024-11-06T12:15:00.677302Z"
    }
   },
   "source": [
    "**Authors:** Jozef Hanč, Dominik Borovský, Martina Hančová <br> *[Faculty of Science](https://www.upjs.sk/en/faculty-of-science/?prefferedLang=EN), P. J. Šafárik University in Košice, Slovakia* <br> emails: [jozef.hanc@upjs.sk](mailto:jozef.hanc@upjs.sk)\n",
    "***\n",
    "\n",
    "# <font color = brown, size=6> Mellin convolution for ratio pdf </font>\n",
    "\n",
    "# <font color = brown>Numerical study - CC vs. DE quadrature \n",
    "\n",
    "<font size=5> Computational tools: </font>  **<font size=5>Python (Numpy+Numba)</font>** \n",
    "\n",
    "- `Chebyshev.py`\n",
    "- `DEQuadrature.py`\n",
    "- `DEQuadratureNumba.py`\n",
    "\n",
    "---"
   ]
  },
  {
   "cell_type": "markdown",
   "metadata": {},
   "source": [
    "# Importing libraries and initial computations"
   ]
  },
  {
   "cell_type": "code",
   "execution_count": 4,
   "metadata": {
    "ExecuteTime": {
     "end_time": "2021-06-01T21:06:13.968728Z",
     "start_time": "2021-06-01T21:06:13.642959Z"
    },
    "execution": {
     "iopub.execute_input": "2024-11-17T23:40:24.585927Z",
     "iopub.status.busy": "2024-11-17T23:40:24.585927Z",
     "iopub.status.idle": "2024-11-17T23:40:24.813919Z",
     "shell.execute_reply": "2024-11-17T23:40:24.813642Z",
     "shell.execute_reply.started": "2024-11-17T23:40:24.585927Z"
    }
   },
   "outputs": [],
   "source": [
    "N = 3 #test up to 10^N\n",
    "\n",
    "import numpy as np\n",
    "import pandas as pd\n",
    "import matplotlib.pyplot as plt\n",
    "plt.style.use('seaborn-v0_8-whitegrid')\n",
    "\n",
    "from numpy import inf as INF\n",
    "from time import time\n",
    "\n",
    "import math, cmath\n",
    "import numba\n",
    "import scipy\n",
    "\n",
    "# approximate formulas for precisions expressed in bits and decimal places\n",
    "bits = lambda d:round((d+1)*ln(10)/ln(2)) \n",
    "dps = lambda b:round(b*ln(2)/ln(10) - 1)\n",
    "\n",
    "# accuracy in Python\n",
    "def abs_errs(df1, df2):\n",
    "    N = len(df1)\n",
    "    errors = [abs(df1[i]-df2[i]) for i in range(N)]\n",
    "    return errors"
   ]
  },
  {
   "cell_type": "code",
   "execution_count": 5,
   "metadata": {
    "ExecuteTime": {
     "end_time": "2021-06-01T21:06:15.498294Z",
     "start_time": "2021-06-01T21:06:15.486135Z"
    },
    "execution": {
     "iopub.execute_input": "2024-11-17T23:40:24.814935Z",
     "iopub.status.busy": "2024-11-17T23:40:24.814935Z",
     "iopub.status.idle": "2024-11-17T23:40:24.819932Z",
     "shell.execute_reply": "2024-11-17T23:40:24.819932Z",
     "shell.execute_reply.started": "2024-11-17T23:40:24.814935Z"
    }
   },
   "outputs": [
    {
     "data": {
      "text/plain": [
       "('1.14.1', '1.26.4', '2.2.3', '0.60.0')"
      ]
     },
     "execution_count": 5,
     "metadata": {},
     "output_type": "execute_result"
    }
   ],
   "source": [
    "scipy.__version__, np.__version__, pd.__version__, numba.__version__"
   ]
  },
  {
   "cell_type": "markdown",
   "metadata": {},
   "source": [
    "## calculating moments of Hake ratio"
   ]
  },
  {
   "cell_type": "code",
   "execution_count": 6,
   "metadata": {
    "execution": {
     "iopub.execute_input": "2024-11-17T23:40:24.820935Z",
     "iopub.status.busy": "2024-11-17T23:40:24.820935Z",
     "iopub.status.idle": "2024-11-17T23:40:24.856849Z",
     "shell.execute_reply": "2024-11-17T23:40:24.856849Z",
     "shell.execute_reply.started": "2024-11-17T23:40:24.820935Z"
    }
   },
   "outputs": [],
   "source": [
    "%%capture\n",
    "%run Python-HakeRatio-CharFun-Moments.ipynb"
   ]
  },
  {
   "cell_type": "markdown",
   "metadata": {},
   "source": [
    "# Pdf computation"
   ]
  },
  {
   "cell_type": "markdown",
   "metadata": {
    "ExecuteTime": {
     "end_time": "2021-04-29T11:40:04.796737Z",
     "start_time": "2021-04-29T11:40:04.781728Z"
    }
   },
   "source": [
    "## Setting parameters for computation"
   ]
  },
  {
   "cell_type": "code",
   "execution_count": 7,
   "metadata": {
    "ExecuteTime": {
     "end_time": "2021-06-01T21:08:19.390486Z",
     "start_time": "2021-06-01T21:08:19.374454Z"
    },
    "execution": {
     "iopub.execute_input": "2024-11-17T23:40:24.856849Z",
     "iopub.status.busy": "2024-11-17T23:40:24.856849Z",
     "iopub.status.idle": "2024-11-17T23:40:24.860510Z",
     "shell.execute_reply": "2024-11-17T23:40:24.860510Z",
     "shell.execute_reply.started": "2024-11-17T23:40:24.856849Z"
    }
   },
   "outputs": [],
   "source": [
    "# parameters\n",
    "m1, s1, m2, s2 = 3, 2, 2, 2\n",
    "r = v([i*0.2 for i in range(5)])\n",
    "s, m = r*s1/s2, s1/s2*np.sqrt(1-r**2)\n",
    "aa, bb = 1/np.sqrt(1-r**2)*(m1/s1-r*m2/s2), m2/s2"
   ]
  },
  {
   "cell_type": "code",
   "execution_count": 8,
   "metadata": {
    "execution": {
     "iopub.execute_input": "2024-11-17T23:40:24.861515Z",
     "iopub.status.busy": "2024-11-17T23:40:24.861515Z",
     "iopub.status.idle": "2024-11-17T23:40:24.865902Z",
     "shell.execute_reply": "2024-11-17T23:40:24.865902Z",
     "shell.execute_reply.started": "2024-11-17T23:40:24.861515Z"
    }
   },
   "outputs": [
    {
     "data": {
      "text/plain": [
       "(1.5, 1.0)"
      ]
     },
     "execution_count": 8,
     "metadata": {},
     "output_type": "execute_result"
    }
   ],
   "source": [
    "a,b = aa[0], bb\n",
    "a,b"
   ]
  },
  {
   "cell_type": "markdown",
   "metadata": {},
   "source": [
    "## Mellin Pdf convolution via DE"
   ]
  },
  {
   "cell_type": "code",
   "execution_count": 9,
   "metadata": {
    "ExecuteTime": {
     "end_time": "2021-06-01T21:07:59.766038Z",
     "start_time": "2021-06-01T21:07:59.745477Z"
    },
    "execution": {
     "iopub.execute_input": "2024-11-17T23:40:24.865902Z",
     "iopub.status.busy": "2024-11-17T23:40:24.865902Z",
     "iopub.status.idle": "2024-11-17T23:40:25.699758Z",
     "shell.execute_reply": "2024-11-17T23:40:25.699758Z",
     "shell.execute_reply.started": "2024-11-17T23:40:24.865902Z"
    }
   },
   "outputs": [],
   "source": [
    "import scipy.special as sp\n",
    "from TR_DE_Cheb.DEQuadrature import *\n",
    "from TR_DE_Cheb.DEQuadratureNumba import *\n",
    "from TR_DE_Cheb.Chebyshev import *"
   ]
  },
  {
   "cell_type": "markdown",
   "metadata": {},
   "source": [
    "### integrand"
   ]
  },
  {
   "cell_type": "code",
   "execution_count": 10,
   "metadata": {
    "ExecuteTime": {
     "end_time": "2021-06-01T21:08:24.323977Z",
     "start_time": "2021-06-01T21:08:24.311100Z"
    },
    "execution": {
     "iopub.execute_input": "2024-11-17T23:40:25.699758Z",
     "iopub.status.busy": "2024-11-17T23:40:25.699758Z",
     "iopub.status.idle": "2024-11-17T23:40:25.703695Z",
     "shell.execute_reply": "2024-11-17T23:40:25.703555Z",
     "shell.execute_reply.started": "2024-11-17T23:40:25.699758Z"
    }
   },
   "outputs": [],
   "source": [
    "# Python integrand for Mellin transform\n",
    "d = (1/(2*math.pi))\n",
    "def fg(x,z):\n",
    "    fval = math.exp(-(x*z-a)**2/2)\n",
    "    gval = math.exp(-(x-b)**2/2)\n",
    "    return d*fval*gval*abs(x)"
   ]
  },
  {
   "cell_type": "code",
   "execution_count": 11,
   "metadata": {
    "ExecuteTime": {
     "end_time": "2021-06-01T21:08:28.262941Z",
     "start_time": "2021-06-01T21:08:28.242940Z"
    },
    "execution": {
     "iopub.execute_input": "2024-11-17T23:40:25.704711Z",
     "iopub.status.busy": "2024-11-17T23:40:25.703695Z",
     "iopub.status.idle": "2024-11-17T23:40:25.707964Z",
     "shell.execute_reply": "2024-11-17T23:40:25.707964Z",
     "shell.execute_reply.started": "2024-11-17T23:40:25.704711Z"
    }
   },
   "outputs": [],
   "source": [
    "# Numba integrands\n",
    "@njit(fastmath=True)\n",
    "def fgnp(x,z):\n",
    "    fval = math.exp(-(x*z-a)**2/2)\n",
    "    gval = math.exp(-(x-b)**2/2)\n",
    "    return d*fval*gval*abs(x)\n",
    "\n",
    "@njit(fastmath=True)\n",
    "def fgnm(x,z):\n",
    "    return fgnp(-x,z)"
   ]
  },
  {
   "cell_type": "markdown",
   "metadata": {
    "execution": {
     "iopub.execute_input": "2024-05-18T09:19:25.207873Z",
     "iopub.status.busy": "2024-05-18T09:19:25.207587Z",
     "iopub.status.idle": "2024-05-18T09:19:25.217417Z",
     "shell.execute_reply": "2024-05-18T09:19:25.216357Z",
     "shell.execute_reply.started": "2024-05-18T09:19:25.207854Z"
    }
   },
   "source": [
    "**benchmark**"
   ]
  },
  {
   "cell_type": "code",
   "execution_count": 12,
   "metadata": {
    "execution": {
     "iopub.execute_input": "2024-11-17T23:40:25.709668Z",
     "iopub.status.busy": "2024-11-17T23:40:25.707964Z",
     "iopub.status.idle": "2024-11-17T23:40:25.713554Z",
     "shell.execute_reply": "2024-11-17T23:40:25.713019Z",
     "shell.execute_reply.started": "2024-11-17T23:40:25.709668Z"
    }
   },
   "outputs": [
    {
     "data": {
      "text/plain": [
       "0.09653235263005391"
      ]
     },
     "execution_count": 12,
     "metadata": {},
     "output_type": "execute_result"
    }
   ],
   "source": [
    "fg(1, 0.5)"
   ]
  },
  {
   "cell_type": "code",
   "execution_count": 13,
   "metadata": {
    "execution": {
     "iopub.execute_input": "2024-11-17T23:40:25.713554Z",
     "iopub.status.busy": "2024-11-17T23:40:25.713554Z",
     "iopub.status.idle": "2024-11-17T23:40:25.956158Z",
     "shell.execute_reply": "2024-11-17T23:40:25.956158Z",
     "shell.execute_reply.started": "2024-11-17T23:40:25.713554Z"
    }
   },
   "outputs": [
    {
     "data": {
      "text/plain": [
       "0.09653235263005391"
      ]
     },
     "execution_count": 13,
     "metadata": {},
     "output_type": "execute_result"
    }
   ],
   "source": [
    "fgnp(1, 0.5)"
   ]
  },
  {
   "cell_type": "code",
   "execution_count": 14,
   "metadata": {
    "execution": {
     "iopub.execute_input": "2024-11-17T23:40:25.957169Z",
     "iopub.status.busy": "2024-11-17T23:40:25.957169Z",
     "iopub.status.idle": "2024-11-17T23:40:25.968405Z",
     "shell.execute_reply": "2024-11-17T23:40:25.968405Z",
     "shell.execute_reply.started": "2024-11-17T23:40:25.957169Z"
    }
   },
   "outputs": [
    {
     "name": "stdout",
     "output_type": "stream",
     "text": [
      "400 ns ± 8.81 ns per loop (mean ± std. dev. of 10 runs, 1,000 loops each)\n",
      "85.2 ns ± 2.41 ns per loop (mean ± std. dev. of 10 runs, 1,000 loops each)\n"
     ]
    }
   ],
   "source": [
    "rt = runtime('fg(1,0.5)', r=10, n=1000)\n",
    "rtn = runtime('fgnp(1,0.5)', r=10, n=1000)"
   ]
  },
  {
   "cell_type": "code",
   "execution_count": 15,
   "metadata": {
    "execution": {
     "iopub.execute_input": "2024-11-17T23:40:25.969170Z",
     "iopub.status.busy": "2024-11-17T23:40:25.969170Z",
     "iopub.status.idle": "2024-11-17T23:40:25.972863Z",
     "shell.execute_reply": "2024-11-17T23:40:25.972863Z",
     "shell.execute_reply.started": "2024-11-17T23:40:25.969170Z"
    }
   },
   "outputs": [
    {
     "data": {
      "text/plain": [
       "4.698367479272964"
      ]
     },
     "execution_count": 15,
     "metadata": {},
     "output_type": "execute_result"
    }
   ],
   "source": [
    "rt.average/rtn.average"
   ]
  },
  {
   "cell_type": "markdown",
   "metadata": {},
   "source": [
    "### quadrature"
   ]
  },
  {
   "cell_type": "code",
   "execution_count": 16,
   "metadata": {
    "execution": {
     "iopub.execute_input": "2024-11-17T23:40:25.974399Z",
     "iopub.status.busy": "2024-11-17T23:40:25.973875Z",
     "iopub.status.idle": "2024-11-17T23:40:25.976318Z",
     "shell.execute_reply": "2024-11-17T23:40:25.976318Z",
     "shell.execute_reply.started": "2024-11-17T23:40:25.974399Z"
    }
   },
   "outputs": [],
   "source": [
    "# default relative precision\n",
    "eps = 1e-15"
   ]
  },
  {
   "cell_type": "code",
   "execution_count": 17,
   "metadata": {
    "ExecuteTime": {
     "end_time": "2021-06-01T21:08:50.574030Z",
     "start_time": "2021-06-01T21:08:50.555150Z"
    },
    "execution": {
     "iopub.execute_input": "2024-11-17T23:40:25.977538Z",
     "iopub.status.busy": "2024-11-17T23:40:25.977538Z",
     "iopub.status.idle": "2024-11-17T23:40:25.980622Z",
     "shell.execute_reply": "2024-11-17T23:40:25.980468Z",
     "shell.execute_reply.started": "2024-11-17T23:40:25.977538Z"
    }
   },
   "outputs": [],
   "source": [
    "# DE Python quadrature\n",
    "def fconde(z, eps_rel = eps):\n",
    "    pvalue = intdei(lambda x:fg(x,z), 0,  eps_rel)[0]\n",
    "    nvalue = intdei(lambda x:fg(-x,z), 0,  eps_rel)[0]\n",
    "    return pvalue+nvalue"
   ]
  },
  {
   "cell_type": "code",
   "execution_count": 18,
   "metadata": {
    "ExecuteTime": {
     "end_time": "2021-06-01T21:08:56.021779Z",
     "start_time": "2021-06-01T21:08:56.013805Z"
    },
    "execution": {
     "iopub.execute_input": "2024-11-17T23:40:25.980622Z",
     "iopub.status.busy": "2024-11-17T23:40:25.980622Z",
     "iopub.status.idle": "2024-11-17T23:40:25.986596Z",
     "shell.execute_reply": "2024-11-17T23:40:25.986596Z",
     "shell.execute_reply.started": "2024-11-17T23:40:25.980622Z"
    }
   },
   "outputs": [],
   "source": [
    "# DE numba, quadrature\n",
    "intdeip = make_intdei(fgnp)\n",
    "intdeim = make_intdei(fgnm)\n",
    "\n",
    "@njit(fastmath=True)\n",
    "def fconden(z, eps_rel = eps):\n",
    "    pvalue = intdeip(0,z, eps_rel)[0]\n",
    "    nvalue = intdeim(0,z, eps_rel)[0] \n",
    "    return pvalue+nvalue\n",
    "\n",
    "@njit(parallel=True, fastmath=True)\n",
    "def fcondenp(x_array, eps_rel = eps):\n",
    "    n = x_array.size\n",
    "    result = np.empty(n, dtype=np.float64)\n",
    "    for i in prange(n):\n",
    "        result[i] = fconden(x_array[i], eps_rel)\n",
    "    return result"
   ]
  },
  {
   "cell_type": "markdown",
   "metadata": {
    "execution": {
     "iopub.execute_input": "2024-05-18T09:19:48.506281Z",
     "iopub.status.busy": "2024-05-18T09:19:48.506028Z",
     "iopub.status.idle": "2024-05-18T09:19:48.520299Z",
     "shell.execute_reply": "2024-05-18T09:19:48.516480Z",
     "shell.execute_reply.started": "2024-05-18T09:19:48.506268Z"
    }
   },
   "source": [
    "**benchmark**"
   ]
  },
  {
   "cell_type": "code",
   "execution_count": 19,
   "metadata": {
    "execution": {
     "iopub.execute_input": "2024-11-17T23:40:25.986596Z",
     "iopub.status.busy": "2024-11-17T23:40:25.986596Z",
     "iopub.status.idle": "2024-11-17T23:40:25.990922Z",
     "shell.execute_reply": "2024-11-17T23:40:25.990922Z",
     "shell.execute_reply.started": "2024-11-17T23:40:25.986596Z"
    }
   },
   "outputs": [
    {
     "data": {
      "text/plain": [
       "0.3370542089471513"
      ]
     },
     "execution_count": 19,
     "metadata": {},
     "output_type": "execute_result"
    }
   ],
   "source": [
    "fexact = np.longdouble(0.337054208947151326597489182172)\n",
    "fexact"
   ]
  },
  {
   "cell_type": "code",
   "execution_count": 20,
   "metadata": {
    "execution": {
     "iopub.execute_input": "2024-11-17T23:40:25.994006Z",
     "iopub.status.busy": "2024-11-17T23:40:25.992973Z",
     "iopub.status.idle": "2024-11-17T23:40:27.969133Z",
     "shell.execute_reply": "2024-11-17T23:40:27.968548Z",
     "shell.execute_reply.started": "2024-11-17T23:40:25.994006Z"
    }
   },
   "outputs": [
    {
     "data": {
      "text/plain": [
       "(0.3370542089471513, 0.3370542089471513, array([0.33705421]))"
      ]
     },
     "execution_count": 20,
     "metadata": {},
     "output_type": "execute_result"
    }
   ],
   "source": [
    "fconde(1), fconden(1), fcondenp(v([1]))"
   ]
  },
  {
   "cell_type": "code",
   "execution_count": 21,
   "metadata": {
    "execution": {
     "iopub.execute_input": "2024-11-17T23:40:27.970172Z",
     "iopub.status.busy": "2024-11-17T23:40:27.969133Z",
     "iopub.status.idle": "2024-11-17T23:40:27.975057Z",
     "shell.execute_reply": "2024-11-17T23:40:27.975057Z",
     "shell.execute_reply.started": "2024-11-17T23:40:27.970172Z"
    }
   },
   "outputs": [
    {
     "data": {
      "text/plain": [
       "array([0., 0.], dtype=float64)"
      ]
     },
     "execution_count": 21,
     "metadata": {},
     "output_type": "execute_result"
    }
   ],
   "source": [
    "v([fconde(1), fconden(1)])-fexact"
   ]
  },
  {
   "cell_type": "code",
   "execution_count": 22,
   "metadata": {
    "execution": {
     "iopub.execute_input": "2024-11-17T23:40:27.976533Z",
     "iopub.status.busy": "2024-11-17T23:40:27.976533Z",
     "iopub.status.idle": "2024-11-17T23:40:27.980509Z",
     "shell.execute_reply": "2024-11-17T23:40:27.980509Z",
     "shell.execute_reply.started": "2024-11-17T23:40:27.976533Z"
    }
   },
   "outputs": [
    {
     "data": {
      "text/plain": [
       "array([0.], dtype=float64)"
      ]
     },
     "execution_count": 22,
     "metadata": {},
     "output_type": "execute_result"
    }
   ],
   "source": [
    "fcondenp(v([1]))-fexact"
   ]
  },
  {
   "cell_type": "code",
   "execution_count": 23,
   "metadata": {
    "execution": {
     "iopub.execute_input": "2024-11-17T23:40:27.980509Z",
     "iopub.status.busy": "2024-11-17T23:40:27.980509Z",
     "iopub.status.idle": "2024-11-17T23:40:30.934812Z",
     "shell.execute_reply": "2024-11-17T23:40:30.934812Z",
     "shell.execute_reply.started": "2024-11-17T23:40:27.980509Z"
    }
   },
   "outputs": [
    {
     "name": "stdout",
     "output_type": "stream",
     "text": [
      "257 μs ± 3.22 μs per loop (mean ± std. dev. of 10 runs, 1,000 loops each)\n",
      "9.59 μs ± 364 ns per loop (mean ± std. dev. of 10 runs, 1,000 loops each)\n",
      "28.3 μs ± 3.21 μs per loop (mean ± std. dev. of 10 runs, 1,000 loops each)\n"
     ]
    }
   ],
   "source": [
    "rt = runtime('fconde(1)', r=10, n=1000)\n",
    "rtn = runtime('fconden(1)', r=10, n=1000)\n",
    "rtp = runtime('fcondenp(v([1]))', r=10, n=1000)"
   ]
  },
  {
   "cell_type": "code",
   "execution_count": 24,
   "metadata": {
    "execution": {
     "iopub.execute_input": "2024-11-17T23:40:30.935816Z",
     "iopub.status.busy": "2024-11-17T23:40:30.935816Z",
     "iopub.status.idle": "2024-11-17T23:40:30.938831Z",
     "shell.execute_reply": "2024-11-17T23:40:30.938831Z",
     "shell.execute_reply.started": "2024-11-17T23:40:30.935816Z"
    }
   },
   "outputs": [
    {
     "data": {
      "text/plain": [
       "26.76188077899143"
      ]
     },
     "execution_count": 24,
     "metadata": {},
     "output_type": "execute_result"
    }
   ],
   "source": [
    "rt.average/rtn.average"
   ]
  },
  {
   "cell_type": "markdown",
   "metadata": {},
   "source": [
    "## Pdf of ratio via PaCal package\n",
    "<div style=\"display:none\">\n",
    "$\n",
    " \\newcommand{\\a}{\\alpha}\n",
    " \\newcommand{\\b}{\\beta}\n",
    " \\newcommand{\\cft}{\\varphi(t)}\n",
    " \\newcommand{\\Rv}[1]{\\mathscr{R}^{#1}}\n",
    "$\n",
    "</div>"
   ]
  },
  {
   "cell_type": "code",
   "execution_count": 25,
   "metadata": {
    "execution": {
     "iopub.execute_input": "2024-11-17T23:40:30.939835Z",
     "iopub.status.busy": "2024-11-17T23:40:30.939835Z",
     "iopub.status.idle": "2024-11-17T23:40:31.223161Z",
     "shell.execute_reply": "2024-11-17T23:40:31.223161Z",
     "shell.execute_reply.started": "2024-11-17T23:40:30.939835Z"
    }
   },
   "outputs": [
    {
     "name": "stdout",
     "output_type": "stream",
     "text": [
      "Using compiled sparse grid routine\n"
     ]
    }
   ],
   "source": [
    "from pacal import *"
   ]
  },
  {
   "cell_type": "markdown",
   "metadata": {},
   "source": [
    "### quadrature"
   ]
  },
  {
   "cell_type": "code",
   "execution_count": 26,
   "metadata": {
    "execution": {
     "iopub.execute_input": "2024-11-17T23:40:31.224315Z",
     "iopub.status.busy": "2024-11-17T23:40:31.224315Z",
     "iopub.status.idle": "2024-11-17T23:40:31.228505Z",
     "shell.execute_reply": "2024-11-17T23:40:31.228098Z",
     "shell.execute_reply.started": "2024-11-17T23:40:31.224315Z"
    }
   },
   "outputs": [],
   "source": [
    "X1 = NormalDistr(a,1)\n",
    "X2 = NormalDistr(b,1)\n",
    "W = X1/X2"
   ]
  },
  {
   "cell_type": "code",
   "execution_count": 27,
   "metadata": {
    "execution": {
     "iopub.execute_input": "2024-11-17T23:40:31.229513Z",
     "iopub.status.busy": "2024-11-17T23:40:31.228505Z",
     "iopub.status.idle": "2024-11-17T23:40:32.428735Z",
     "shell.execute_reply": "2024-11-17T23:40:32.428267Z",
     "shell.execute_reply.started": "2024-11-17T23:40:31.229513Z"
    }
   },
   "outputs": [
    {
     "name": "stdout",
     "output_type": "stream",
     "text": [
      "1.19 s ± 0 ns per loop (mean ± std. dev. of 1 run, 1 loop each)\n"
     ]
    }
   ],
   "source": [
    "# initialization - creating intepolant\n",
    "rt = %timeit -r1 -n1 -o W(0)"
   ]
  },
  {
   "cell_type": "code",
   "execution_count": 28,
   "metadata": {
    "execution": {
     "iopub.execute_input": "2024-11-17T23:40:32.428735Z",
     "iopub.status.busy": "2024-11-17T23:40:32.428735Z",
     "iopub.status.idle": "2024-11-17T23:40:32.432451Z",
     "shell.execute_reply": "2024-11-17T23:40:32.432451Z",
     "shell.execute_reply.started": "2024-11-17T23:40:32.428735Z"
    }
   },
   "outputs": [
    {
     "data": {
      "text/plain": [
       "0.0011943924000079279"
      ]
     },
     "execution_count": 28,
     "metadata": {},
     "output_type": "execute_result"
    }
   ],
   "source": [
    "dt = rt.average/1000\n",
    "dt"
   ]
  },
  {
   "cell_type": "code",
   "execution_count": 29,
   "metadata": {
    "execution": {
     "iopub.execute_input": "2024-11-17T23:40:32.433456Z",
     "iopub.status.busy": "2024-11-17T23:40:32.433456Z",
     "iopub.status.idle": "2024-11-17T23:40:32.436799Z",
     "shell.execute_reply": "2024-11-17T23:40:32.436291Z",
     "shell.execute_reply.started": "2024-11-17T23:40:32.433456Z"
    }
   },
   "outputs": [],
   "source": [
    "def fconcc(x, eps_rel = eps):\n",
    "    return W.pdf(x)"
   ]
  },
  {
   "cell_type": "code",
   "execution_count": 30,
   "metadata": {
    "execution": {
     "iopub.execute_input": "2024-11-17T23:40:32.437803Z",
     "iopub.status.busy": "2024-11-17T23:40:32.436864Z",
     "iopub.status.idle": "2024-11-17T23:40:32.440913Z",
     "shell.execute_reply": "2024-11-17T23:40:32.440913Z",
     "shell.execute_reply.started": "2024-11-17T23:40:32.437803Z"
    }
   },
   "outputs": [
    {
     "data": {
      "text/plain": [
       "(0.33705420894715127, -5.551115123125783e-17)"
      ]
     },
     "execution_count": 30,
     "metadata": {},
     "output_type": "execute_result"
    }
   ],
   "source": [
    "fconcc(1), fconcc(1) - fexact"
   ]
  },
  {
   "cell_type": "code",
   "execution_count": 31,
   "metadata": {
    "execution": {
     "iopub.execute_input": "2024-11-17T23:40:32.442145Z",
     "iopub.status.busy": "2024-11-17T23:40:32.441919Z",
     "iopub.status.idle": "2024-11-17T23:40:33.270293Z",
     "shell.execute_reply": "2024-11-17T23:40:33.270293Z",
     "shell.execute_reply.started": "2024-11-17T23:40:32.442145Z"
    }
   },
   "outputs": [
    {
     "name": "stdout",
     "output_type": "stream",
     "text": [
      "260 μs ± 4.91 μs per loop (mean ± std. dev. of 3 runs, 1,000 loops each)\n",
      "9.47 μs ± 94 ns per loop (mean ± std. dev. of 3 runs, 1,000 loops each)\n",
      "3.47 μs ± 103 ns per loop (mean ± std. dev. of 3 runs, 1,000 loops each)\n"
     ]
    }
   ],
   "source": [
    "rt = %timeit -r 3 -n 1000 -o fconde(1)\n",
    "rtn = %timeit -r 3 -n 1000 -o fconden(1)\n",
    "rtp = %timeit -r 3 -n 1000 -o fconcc(1)"
   ]
  },
  {
   "cell_type": "code",
   "execution_count": 32,
   "metadata": {
    "execution": {
     "iopub.execute_input": "2024-11-17T23:40:33.271298Z",
     "iopub.status.busy": "2024-11-17T23:40:33.271298Z",
     "iopub.status.idle": "2024-11-17T23:40:33.275743Z",
     "shell.execute_reply": "2024-11-17T23:40:33.275743Z",
     "shell.execute_reply.started": "2024-11-17T23:40:33.271298Z"
    }
   },
   "outputs": [
    {
     "data": {
      "text/plain": [
       "array([1.30242883e-04, 4.73320001e-06, 3.46813333e-06])"
      ]
     },
     "execution_count": 32,
     "metadata": {},
     "output_type": "execute_result"
    }
   ],
   "source": [
    "runs = v([rt.average/2, rtn.average/2, rtp.average])\n",
    "runs"
   ]
  },
  {
   "cell_type": "code",
   "execution_count": 33,
   "metadata": {
    "execution": {
     "iopub.execute_input": "2024-11-17T23:40:33.276749Z",
     "iopub.status.busy": "2024-11-17T23:40:33.276749Z",
     "iopub.status.idle": "2024-11-17T23:40:33.279940Z",
     "shell.execute_reply": "2024-11-17T23:40:33.279940Z",
     "shell.execute_reply.started": "2024-11-17T23:40:33.276749Z"
    }
   },
   "outputs": [
    {
     "data": {
      "text/plain": [
       "array([ 1.        , 27.5168772 , 37.55417418])"
      ]
     },
     "execution_count": 33,
     "metadata": {},
     "output_type": "execute_result"
    }
   ],
   "source": [
    "runs[0]/runs"
   ]
  },
  {
   "cell_type": "markdown",
   "metadata": {},
   "source": [
    "# Benchmark"
   ]
  },
  {
   "cell_type": "markdown",
   "metadata": {},
   "source": [
    "## cross-checking: plots"
   ]
  },
  {
   "cell_type": "code",
   "execution_count": 34,
   "metadata": {
    "ExecuteTime": {
     "end_time": "2021-06-01T21:09:46.856121Z",
     "start_time": "2021-06-01T21:09:43.342475Z"
    },
    "execution": {
     "iopub.execute_input": "2024-11-17T23:40:33.280945Z",
     "iopub.status.busy": "2024-11-17T23:40:33.280945Z",
     "iopub.status.idle": "2024-11-17T23:40:35.079189Z",
     "shell.execute_reply": "2024-11-17T23:40:35.079189Z",
     "shell.execute_reply.started": "2024-11-17T23:40:33.280945Z"
    }
   },
   "outputs": [
    {
     "data": {
      "image/png": "[encoded data removed]",
      "text/plain": [
       "<Figure size 640x480 with 1 Axes>"
      ]
     },
     "metadata": {},
     "output_type": "display_data"
    }
   ],
   "source": [
    "methods = {'DE-conv':fconde, 'DE-conv-n': fconden, 'DE-conv-p':fcondenp, 'DE-CC(2^7+1)':fcondenp, \n",
    "           'DE-CC(2^8+1)':fcondenp,'CC-conv': fconcc}\n",
    "pdf = {m:f for m,f in methods.items()}\n",
    "\n",
    "points = np.linspace(-4.5, 7.5, 1000)\n",
    "width = 6\n",
    "\n",
    "for method in list(pdf.keys()):\n",
    "    if method == 'DE-conv-p' or method == 'CC-conv':\n",
    "        yh = pdf[method](points)\n",
    "    elif method == 'DE-CC(2^7+1)':\n",
    "        yh = DE_CC_pdf(pdf[method],points, xMin[0],xMax[0],2**7+1, eps)\n",
    "    elif method == 'DE-CC(2^8+1)':\n",
    "        yh = DE_CC_pdf(pdf[method],points, xMin[0],xMax[0],2**8+1, eps)\n",
    "    else:\n",
    "        yh = [pdf[method](u) for u in points]\n",
    "    \n",
    "    plt.plot(points,yh, linewidth=width)\n",
    "    width-=1\n",
    "    \n",
    "plt.title(method)\n",
    "plt.show();"
   ]
  },
  {
   "cell_type": "markdown",
   "metadata": {
    "ExecuteTime": {
     "end_time": "2021-04-29T15:59:35.378421Z",
     "start_time": "2021-04-29T15:59:35.366453Z"
    }
   },
   "source": [
    "## Computation - 1000 points"
   ]
  },
  {
   "cell_type": "code",
   "execution_count": 35,
   "metadata": {
    "execution": {
     "iopub.execute_input": "2024-11-17T23:40:35.080502Z",
     "iopub.status.busy": "2024-11-17T23:40:35.080204Z",
     "iopub.status.idle": "2024-11-17T23:40:35.082374Z",
     "shell.execute_reply": "2024-11-17T23:40:35.082374Z",
     "shell.execute_reply.started": "2024-11-17T23:40:35.080502Z"
    }
   },
   "outputs": [],
   "source": [
    "N = 3\n",
    "rmin, rmax = -4.5,7.5"
   ]
  },
  {
   "cell_type": "code",
   "execution_count": 36,
   "metadata": {
    "ExecuteTime": {
     "end_time": "2021-06-01T21:10:18.857627Z",
     "start_time": "2021-06-01T21:10:18.836961Z"
    },
    "execution": {
     "iopub.execute_input": "2024-11-17T23:40:35.083378Z",
     "iopub.status.busy": "2024-11-17T23:40:35.083378Z",
     "iopub.status.idle": "2024-11-17T23:40:35.088420Z",
     "shell.execute_reply": "2024-11-17T23:40:35.088420Z",
     "shell.execute_reply.started": "2024-11-17T23:40:35.083378Z"
    }
   },
   "outputs": [],
   "source": [
    "# exponents -3, ... , -15\n",
    "benchmark = pd.DataFrame(index = range(3, 16), \n",
    "            columns = methods.keys())\n",
    "benchmark.insert(0, 'err', v([f\"{10**(-n):.0e}\" for n in range(3, 16)]))"
   ]
  },
  {
   "cell_type": "code",
   "execution_count": 37,
   "metadata": {
    "execution": {
     "iopub.execute_input": "2024-11-17T23:40:35.089425Z",
     "iopub.status.busy": "2024-11-17T23:40:35.089425Z",
     "iopub.status.idle": "2024-11-17T23:40:35.097192Z",
     "shell.execute_reply": "2024-11-17T23:40:35.097192Z",
     "shell.execute_reply.started": "2024-11-17T23:40:35.089425Z"
    }
   },
   "outputs": [
    {
     "data": {
      "text/html": [
       "<div>\n",
       "<style scoped>\n",
       "    .dataframe tbody tr th:only-of-type {\n",
       "        vertical-align: middle;\n",
       "    }\n",
       "\n",
       "    .dataframe tbody tr th {\n",
       "        vertical-align: top;\n",
       "    }\n",
       "\n",
       "    .dataframe thead th {\n",
       "        text-align: right;\n",
       "    }\n",
       "</style>\n",
       "<table border=\"1\" class=\"dataframe\">\n",
       "  <thead>\n",
       "    <tr style=\"text-align: right;\">\n",
       "      <th></th>\n",
       "      <th>err</th>\n",
       "      <th>DE-conv</th>\n",
       "      <th>DE-conv-n</th>\n",
       "      <th>DE-conv-p</th>\n",
       "      <th>DE-CC(2^7+1)</th>\n",
       "      <th>DE-CC(2^8+1)</th>\n",
       "      <th>CC-conv</th>\n",
       "    </tr>\n",
       "  </thead>\n",
       "  <tbody>\n",
       "    <tr>\n",
       "      <th>3</th>\n",
       "      <td>1e-03</td>\n",
       "      <td>NaN</td>\n",
       "      <td>NaN</td>\n",
       "      <td>NaN</td>\n",
       "      <td>NaN</td>\n",
       "      <td>NaN</td>\n",
       "      <td>NaN</td>\n",
       "    </tr>\n",
       "    <tr>\n",
       "      <th>4</th>\n",
       "      <td>1e-04</td>\n",
       "      <td>NaN</td>\n",
       "      <td>NaN</td>\n",
       "      <td>NaN</td>\n",
       "      <td>NaN</td>\n",
       "      <td>NaN</td>\n",
       "      <td>NaN</td>\n",
       "    </tr>\n",
       "    <tr>\n",
       "      <th>5</th>\n",
       "      <td>1e-05</td>\n",
       "      <td>NaN</td>\n",
       "      <td>NaN</td>\n",
       "      <td>NaN</td>\n",
       "      <td>NaN</td>\n",
       "      <td>NaN</td>\n",
       "      <td>NaN</td>\n",
       "    </tr>\n",
       "    <tr>\n",
       "      <th>6</th>\n",
       "      <td>1e-06</td>\n",
       "      <td>NaN</td>\n",
       "      <td>NaN</td>\n",
       "      <td>NaN</td>\n",
       "      <td>NaN</td>\n",
       "      <td>NaN</td>\n",
       "      <td>NaN</td>\n",
       "    </tr>\n",
       "    <tr>\n",
       "      <th>7</th>\n",
       "      <td>1e-07</td>\n",
       "      <td>NaN</td>\n",
       "      <td>NaN</td>\n",
       "      <td>NaN</td>\n",
       "      <td>NaN</td>\n",
       "      <td>NaN</td>\n",
       "      <td>NaN</td>\n",
       "    </tr>\n",
       "    <tr>\n",
       "      <th>8</th>\n",
       "      <td>1e-08</td>\n",
       "      <td>NaN</td>\n",
       "      <td>NaN</td>\n",
       "      <td>NaN</td>\n",
       "      <td>NaN</td>\n",
       "      <td>NaN</td>\n",
       "      <td>NaN</td>\n",
       "    </tr>\n",
       "    <tr>\n",
       "      <th>9</th>\n",
       "      <td>1e-09</td>\n",
       "      <td>NaN</td>\n",
       "      <td>NaN</td>\n",
       "      <td>NaN</td>\n",
       "      <td>NaN</td>\n",
       "      <td>NaN</td>\n",
       "      <td>NaN</td>\n",
       "    </tr>\n",
       "    <tr>\n",
       "      <th>10</th>\n",
       "      <td>1e-10</td>\n",
       "      <td>NaN</td>\n",
       "      <td>NaN</td>\n",
       "      <td>NaN</td>\n",
       "      <td>NaN</td>\n",
       "      <td>NaN</td>\n",
       "      <td>NaN</td>\n",
       "    </tr>\n",
       "    <tr>\n",
       "      <th>11</th>\n",
       "      <td>1e-11</td>\n",
       "      <td>NaN</td>\n",
       "      <td>NaN</td>\n",
       "      <td>NaN</td>\n",
       "      <td>NaN</td>\n",
       "      <td>NaN</td>\n",
       "      <td>NaN</td>\n",
       "    </tr>\n",
       "    <tr>\n",
       "      <th>12</th>\n",
       "      <td>1e-12</td>\n",
       "      <td>NaN</td>\n",
       "      <td>NaN</td>\n",
       "      <td>NaN</td>\n",
       "      <td>NaN</td>\n",
       "      <td>NaN</td>\n",
       "      <td>NaN</td>\n",
       "    </tr>\n",
       "    <tr>\n",
       "      <th>13</th>\n",
       "      <td>1e-13</td>\n",
       "      <td>NaN</td>\n",
       "      <td>NaN</td>\n",
       "      <td>NaN</td>\n",
       "      <td>NaN</td>\n",
       "      <td>NaN</td>\n",
       "      <td>NaN</td>\n",
       "    </tr>\n",
       "    <tr>\n",
       "      <th>14</th>\n",
       "      <td>1e-14</td>\n",
       "      <td>NaN</td>\n",
       "      <td>NaN</td>\n",
       "      <td>NaN</td>\n",
       "      <td>NaN</td>\n",
       "      <td>NaN</td>\n",
       "      <td>NaN</td>\n",
       "    </tr>\n",
       "    <tr>\n",
       "      <th>15</th>\n",
       "      <td>1e-15</td>\n",
       "      <td>NaN</td>\n",
       "      <td>NaN</td>\n",
       "      <td>NaN</td>\n",
       "      <td>NaN</td>\n",
       "      <td>NaN</td>\n",
       "      <td>NaN</td>\n",
       "    </tr>\n",
       "  </tbody>\n",
       "</table>\n",
       "</div>"
      ],
      "text/plain": [
       "      err DE-conv DE-conv-n DE-conv-p DE-CC(2^7+1) DE-CC(2^8+1) CC-conv\n",
       "3   1e-03     NaN       NaN       NaN          NaN          NaN     NaN\n",
       "4   1e-04     NaN       NaN       NaN          NaN          NaN     NaN\n",
       "5   1e-05     NaN       NaN       NaN          NaN          NaN     NaN\n",
       "6   1e-06     NaN       NaN       NaN          NaN          NaN     NaN\n",
       "7   1e-07     NaN       NaN       NaN          NaN          NaN     NaN\n",
       "8   1e-08     NaN       NaN       NaN          NaN          NaN     NaN\n",
       "9   1e-09     NaN       NaN       NaN          NaN          NaN     NaN\n",
       "10  1e-10     NaN       NaN       NaN          NaN          NaN     NaN\n",
       "11  1e-11     NaN       NaN       NaN          NaN          NaN     NaN\n",
       "12  1e-12     NaN       NaN       NaN          NaN          NaN     NaN\n",
       "13  1e-13     NaN       NaN       NaN          NaN          NaN     NaN\n",
       "14  1e-14     NaN       NaN       NaN          NaN          NaN     NaN\n",
       "15  1e-15     NaN       NaN       NaN          NaN          NaN     NaN"
      ]
     },
     "execution_count": 37,
     "metadata": {},
     "output_type": "execute_result"
    }
   ],
   "source": [
    "benchmark"
   ]
  },
  {
   "cell_type": "code",
   "execution_count": 38,
   "metadata": {
    "ExecuteTime": {
     "end_time": "2021-06-01T21:10:21.937623Z",
     "start_time": "2021-06-01T21:10:21.884848Z"
    },
    "execution": {
     "iopub.execute_input": "2024-11-17T23:40:35.098196Z",
     "iopub.status.busy": "2024-11-17T23:40:35.098196Z",
     "iopub.status.idle": "2024-11-17T23:40:35.105314Z",
     "shell.execute_reply": "2024-11-17T23:40:35.105151Z",
     "shell.execute_reply.started": "2024-11-17T23:40:35.098196Z"
    }
   },
   "outputs": [],
   "source": [
    "# points\n",
    "# x = lambda n: np.linspace(rmin, rmax, n)\n",
    "# pre-calculated all values for 10^n points\n",
    "dx = {str(10**(n+1)):np.loadtxt(f'data/xvalues{10**(n+1)}.txt', dtype=np.longdouble) for n in range(N)}\n",
    "dsageQP = {str(10**(n+1)):np.loadtxt(f'data/Sage_QPpdf{10**(n+1)}.txt', dtype=np.longdouble) for n in range(N)}"
   ]
  },
  {
   "cell_type": "code",
   "execution_count": 39,
   "metadata": {
    "execution": {
     "iopub.execute_input": "2024-11-17T23:40:35.106317Z",
     "iopub.status.busy": "2024-11-17T23:40:35.106317Z",
     "iopub.status.idle": "2024-11-17T23:40:35.110751Z",
     "shell.execute_reply": "2024-11-17T23:40:35.110751Z",
     "shell.execute_reply.started": "2024-11-17T23:40:35.106317Z"
    }
   },
   "outputs": [
    {
     "data": {
      "text/plain": [
       "(array([-4.5       , -3.16666667, -1.83333333, -0.5       ,  0.83333333,\n",
       "         2.16666667,  3.5       ,  4.83333333,  6.16666667,  7.5       ],\n",
       "       dtype=float64),\n",
       " array([0.01085719, 0.01696408, 0.02719514, 0.05269251, 0.36398372,\n",
       "        0.1220156 , 0.04536257, 0.02230198, 0.01301465, 0.00846441],\n",
       "       dtype=float64))"
      ]
     },
     "execution_count": 39,
     "metadata": {},
     "output_type": "execute_result"
    }
   ],
   "source": [
    "dx['10'], dsageQP['10']"
   ]
  },
  {
   "cell_type": "code",
   "execution_count": 40,
   "metadata": {
    "execution": {
     "iopub.execute_input": "2024-11-17T23:40:35.112101Z",
     "iopub.status.busy": "2024-11-17T23:40:35.111781Z",
     "iopub.status.idle": "2024-11-17T23:40:35.113949Z",
     "shell.execute_reply": "2024-11-17T23:40:35.113949Z",
     "shell.execute_reply.started": "2024-11-17T23:40:35.112101Z"
    }
   },
   "outputs": [],
   "source": [
    "# with contextlib.redirect_stdout(io.StringIO()):\n",
    "#                 rt = get_ipython().run_line_magic('timeit', \n",
    "#                 f'-r {rp} -n {Np} -o [fun(xh, eps) for xh in points]')\n",
    "        "
   ]
  },
  {
   "cell_type": "code",
   "execution_count": 55,
   "metadata": {
    "ExecuteTime": {
     "end_time": "2021-05-03T19:05:49.502521Z",
     "start_time": "2021-05-03T18:38:01.921282Z"
    },
    "execution": {
     "iopub.execute_input": "2024-11-18T00:21:11.716320Z",
     "iopub.status.busy": "2024-11-18T00:21:11.715335Z",
     "iopub.status.idle": "2024-11-18T00:30:40.005697Z",
     "shell.execute_reply": "2024-11-18T00:30:40.005697Z",
     "shell.execute_reply.started": "2024-11-18T00:21:11.716320Z"
    }
   },
   "outputs": [
    {
     "name": "stdout",
     "output_type": "stream",
     "text": [
      "         method      rel eps        rt      drt%     min-err     max-err     geomean     3*geostd\n",
      "N = 1000 DE-conv  eps =  10^-3 ['3.84e-02', '1%', '3.87e-16', '9.68e-05', '3.57e-11', '4.72e+07']\n",
      "N = 1000 DE-conv  eps =  10^-4 ['4.00e-02', '0%', '2.11e-15', '6.39e-06', '2.44e-11', '1.60e+04']\n",
      "N = 1000 DE-conv  eps =  10^-5 ['4.52e-02', '0%', '0.00e+00', '1.44e-08', '1.13e-12', '6.76e+04']\n",
      "N = 1000 DE-conv  eps =  10^-6 ['5.15e-02', '1%', '1.04e-17', '7.17e-09', '3.63e-14', '1.90e+05']\n",
      "N = 1000 DE-conv  eps =  10^-7 ['5.53e-02', '0%', '1.39e-17', '2.84e-09', '1.11e-14', '4.89e+04']\n",
      "N = 1000 DE-conv  eps =  10^-8 ['5.99e-02', '1%', '0.00e+00', '1.28e-10', '9.13e-16', '4.07e+04']\n",
      "N = 1000 DE-conv  eps =  10^-9 ['6.37e-02', '0%', '0.00e+00', '1.13e-12', '9.58e-17', '1.33e+05']\n",
      "N = 1000 DE-conv  eps =  10^-10 ['7.09e-02', '0%', '0.00e+00', '2.86e-13', '1.26e-17', '9.95e+04']\n",
      "N = 1000 DE-conv  eps =  10^-11 ['7.52e-02', '0%', '0.00e+00', '8.55e-14', '5.00e-18', '2.83e+04']\n",
      "N = 1000 DE-conv  eps =  10^-12 ['8.27e-02', '0%', '0.00e+00', '1.17e-15', '3.80e-18', '5.35e+03']\n",
      "N = 1000 DE-conv  eps =  10^-13 ['8.97e-02', '2%', '0.00e+00', '2.78e-16', '2.40e-18', '7.86e+03']\n",
      "N = 1000 DE-conv  eps =  10^-14 ['9.66e-02', '1%', '0.00e+00', '2.90e-16', '2.15e-18', '9.40e+03']\n",
      "N = 1000 DE-conv  eps =  10^-15 ['1.04e-01', '1%', '0.00e+00', '2.78e-16', '2.55e-18', '7.86e+03']\n",
      "runtime = 525.9041135311127 s\n",
      "*************************\n",
      "         method      rel eps        rt       drt%    min-err     max-err    geomean    3geostd\n",
      "N = 1000 DE-conv-n  eps =  10^-3 ['1.51e-03', '1%', '3.87e-16', '9.68e-05', '3.57e-11', '4.72e+07']\n",
      "N = 1000 DE-conv-n  eps =  10^-4 ['1.54e-03', '1%', '2.11e-15', '6.39e-06', '2.44e-11', '1.60e+04']\n",
      "N = 1000 DE-conv-n  eps =  10^-5 ['1.73e-03', '1%', '5.55e-17', '1.44e-08', '1.14e-12', '6.12e+04']\n",
      "N = 1000 DE-conv-n  eps =  10^-6 ['1.96e-03', '1%', '1.04e-17', '7.17e-09', '3.64e-14', '1.89e+05']\n",
      "N = 1000 DE-conv-n  eps =  10^-7 ['2.07e-03', '1%', '1.04e-17', '2.84e-09', '1.11e-14', '4.90e+04']\n",
      "N = 1000 DE-conv-n  eps =  10^-8 ['2.32e-03', '1%', '0.00e+00', '1.28e-10', '9.24e-16', '3.83e+04']\n",
      "N = 1000 DE-conv-n  eps =  10^-9 ['2.48e-03', '1%', '0.00e+00', '1.13e-12', '9.66e-17', '1.25e+05']\n",
      "N = 1000 DE-conv-n  eps =  10^-10 ['2.75e-03', '1%', '0.00e+00', '2.86e-13', '1.29e-17', '9.58e+04']\n",
      "N = 1000 DE-conv-n  eps =  10^-11 ['2.95e-03', '1%', '0.00e+00', '8.55e-14', '4.56e-18', '3.64e+04']\n",
      "N = 1000 DE-conv-n  eps =  10^-12 ['3.22e-03', '1%', '0.00e+00', '1.17e-15', '3.18e-18', '8.12e+03']\n",
      "N = 1000 DE-conv-n  eps =  10^-13 ['3.48e-03', '1%', '0.00e+00', '2.78e-16', '2.06e-18', '1.05e+04']\n",
      "N = 1000 DE-conv-n  eps =  10^-14 ['3.69e-03', '1%', '0.00e+00', '2.91e-16', '2.06e-18', '1.04e+04']\n",
      "N = 1000 DE-conv-n  eps =  10^-15 ['3.96e-03', '1%', '0.00e+00', '2.78e-16', '2.78e-18', '6.96e+03']\n",
      "runtime = 546.2332410812378 s\n",
      "*************************\n",
      "         method      rel eps        rt       drt%    min-err     max-err    geomean    3geostd\n",
      "N = 1000 DE-conv-p  eps =  10^-3 ['2.20e-04', '7%', '3.87e-16', '9.68e-05', '3.57e-11', '4.72e+07']\n",
      "N = 1000 DE-conv-p  eps =  10^-4 ['2.04e-04', '3%', '2.11e-15', '6.39e-06', '2.44e-11', '1.60e+04']\n",
      "N = 1000 DE-conv-p  eps =  10^-5 ['2.27e-04', '3%', '5.55e-17', '1.44e-08', '1.14e-12', '6.12e+04']\n",
      "N = 1000 DE-conv-p  eps =  10^-6 ['2.68e-04', '4%', '1.04e-17', '7.17e-09', '3.64e-14', '1.89e+05']\n",
      "N = 1000 DE-conv-p  eps =  10^-7 ['2.85e-04', '3%', '1.04e-17', '2.84e-09', '1.11e-14', '4.90e+04']\n",
      "N = 1000 DE-conv-p  eps =  10^-8 ['3.24e-04', '4%', '0.00e+00', '1.28e-10', '9.24e-16', '3.83e+04']\n",
      "N = 1000 DE-conv-p  eps =  10^-9 ['3.34e-04', '4%', '0.00e+00', '1.13e-12', '9.66e-17', '1.25e+05']\n",
      "N = 1000 DE-conv-p  eps =  10^-10 ['3.67e-04', '4%', '0.00e+00', '2.86e-13', '1.29e-17', '9.58e+04']\n",
      "N = 1000 DE-conv-p  eps =  10^-11 ['3.95e-04', '4%', '0.00e+00', '8.55e-14', '4.56e-18', '3.64e+04']\n",
      "N = 1000 DE-conv-p  eps =  10^-12 ['4.34e-04', '4%', '0.00e+00', '1.17e-15', '3.18e-18', '8.12e+03']\n",
      "N = 1000 DE-conv-p  eps =  10^-13 ['4.56e-04', '3%', '0.00e+00', '2.78e-16', '2.06e-18', '1.05e+04']\n",
      "N = 1000 DE-conv-p  eps =  10^-14 ['4.77e-04', '3%', '0.00e+00', '2.91e-16', '2.06e-18', '1.04e+04']\n",
      "N = 1000 DE-conv-p  eps =  10^-15 ['4.93e-04', '4%', '0.00e+00', '2.78e-16', '2.78e-18', '6.96e+03']\n",
      "runtime = 549.0113770961761 s\n",
      "*************************\n",
      "         method      rel eps        rt       drt%    min-err     max-err    geomean    3geostd\n",
      "N = 1000 DE-CC(2^7+1)  eps =  10^-3 ['6.70e-04', '3%', '2.30e-11', '2.40e-06', '7.10e-09', '7.35e+02']\n",
      "N = 1000 DE-CC(2^7+1)  eps =  10^-4 ['6.71e-04', '3%', '5.67e-13', '7.61e-08', '6.04e-10', '1.63e+02']\n",
      "N = 1000 DE-CC(2^7+1)  eps =  10^-5 ['6.82e-04', '4%', '5.17e-12', '1.06e-08', '6.05e-10', '4.64e+01']\n",
      "N = 1000 DE-CC(2^7+1)  eps =  10^-6 ['6.93e-04', '6%', '5.96e-12', '7.22e-09', '7.03e-10', '4.08e+01']\n",
      "N = 1000 DE-CC(2^7+1)  eps =  10^-7 ['6.93e-04', '5%', '5.84e-12', '4.94e-09', '6.80e-10', '4.22e+01']\n",
      "N = 1000 DE-CC(2^7+1)  eps =  10^-8 ['6.88e-04', '5%', '5.82e-12', '4.96e-09', '6.78e-10', '4.30e+01']\n",
      "N = 1000 DE-CC(2^7+1)  eps =  10^-9 ['7.01e-04', '5%', '5.82e-12', '4.96e-09', '6.78e-10', '4.29e+01']\n",
      "N = 1000 DE-CC(2^7+1)  eps =  10^-10 ['6.88e-04', '3%', '5.82e-12', '4.96e-09', '6.78e-10', '4.29e+01']\n",
      "N = 1000 DE-CC(2^7+1)  eps =  10^-11 ['6.98e-04', '5%', '5.82e-12', '4.96e-09', '6.78e-10', '4.29e+01']\n",
      "N = 1000 DE-CC(2^7+1)  eps =  10^-12 ['7.05e-04', '5%', '5.82e-12', '4.96e-09', '6.78e-10', '4.29e+01']\n",
      "N = 1000 DE-CC(2^7+1)  eps =  10^-13 ['6.85e-04', '4%', '5.82e-12', '4.96e-09', '6.78e-10', '4.29e+01']\n",
      "N = 1000 DE-CC(2^7+1)  eps =  10^-14 ['7.10e-04', '4%', '5.82e-12', '4.96e-09', '6.78e-10', '4.29e+01']\n",
      "N = 1000 DE-CC(2^7+1)  eps =  10^-15 ['7.14e-04', '5%', '5.82e-12', '4.96e-09', '6.78e-10', '4.29e+01']\n",
      "runtime = 554.5022184848785 s\n",
      "*************************\n",
      "         method      rel eps        rt       drt%    min-err     max-err    geomean    3geostd\n",
      "N = 1000 DE-CC(2^8+1)  eps =  10^-3 ['1.63e-03', '3%', '2.47e-11', '7.10e-06', '1.94e-08', '2.51e+02']\n",
      "N = 1000 DE-CC(2^8+1)  eps =  10^-4 ['1.66e-03', '2%', '9.30e-14', '7.58e-08', '1.65e-10', '1.41e+03']\n",
      "N = 1000 DE-CC(2^8+1)  eps =  10^-5 ['1.65e-03', '2%', '1.08e-13', '1.02e-08', '6.27e-11', '1.84e+02']\n",
      "N = 1000 DE-CC(2^8+1)  eps =  10^-6 ['1.67e-03', '2%', '2.57e-15', '3.36e-09', '8.28e-12', '3.23e+02']\n",
      "N = 1000 DE-CC(2^8+1)  eps =  10^-7 ['1.69e-03', '3%', '6.59e-17', '3.83e-10', '6.27e-13', '3.98e+03']\n",
      "N = 1000 DE-CC(2^8+1)  eps =  10^-8 ['1.63e-03', '2%', '1.73e-18', '1.52e-11', '3.18e-14', '3.57e+02']\n",
      "N = 1000 DE-CC(2^8+1)  eps =  10^-9 ['1.63e-03', '1%', '1.39e-17', '1.22e-12', '2.87e-15', '6.39e+02']\n",
      "N = 1000 DE-CC(2^8+1)  eps =  10^-10 ['1.67e-03', '2%', '0.00e+00', '1.51e-13', '5.00e-16', '2.88e+02']\n",
      "N = 1000 DE-CC(2^8+1)  eps =  10^-11 ['1.64e-03', '1%', '0.00e+00', '4.48e-13', '1.49e-15', '1.32e+02']\n",
      "N = 1000 DE-CC(2^8+1)  eps =  10^-12 ['1.64e-03', '1%', '0.00e+00', '8.33e-16', '7.01e-18', '3.49e+03']\n",
      "N = 1000 DE-CC(2^8+1)  eps =  10^-13 ['1.74e-03', '2%', '0.00e+00', '4.44e-16', '5.99e-18', '2.75e+03']\n",
      "N = 1000 DE-CC(2^8+1)  eps =  10^-14 ['1.67e-03', '2%', '0.00e+00', '3.89e-16', '8.06e-18', '1.76e+03']\n",
      "N = 1000 DE-CC(2^8+1)  eps =  10^-15 ['1.69e-03', '2%', '0.00e+00', '3.89e-16', '6.64e-18', '2.96e+03']\n",
      "runtime = 567.5783989429474 s\n",
      "*************************\n",
      "         method      rel eps        rt       drt%    min-err     max-err    geomean    3geostd\n",
      "N = 1000 CC-conv  eps =  10^-3 ['1.58e-04', '4%', '0.00e+00', '2.22e-16', '4.67e-18', '3.66e+03']\n",
      "N = 1000 CC-conv  eps =  10^-4 ['1.66e-04', '12%', '0.00e+00', '2.22e-16', '4.67e-18', '3.66e+03']\n",
      "N = 1000 CC-conv  eps =  10^-5 ['1.63e-04', '6%', '0.00e+00', '2.22e-16', '4.67e-18', '3.66e+03']\n",
      "N = 1000 CC-conv  eps =  10^-6 ['1.58e-04', '9%', '0.00e+00', '2.22e-16', '4.67e-18', '3.66e+03']\n",
      "N = 1000 CC-conv  eps =  10^-7 ['1.60e-04', '15%', '0.00e+00', '2.22e-16', '4.67e-18', '3.66e+03']\n",
      "N = 1000 CC-conv  eps =  10^-8 ['1.61e-04', '11%', '0.00e+00', '2.22e-16', '4.67e-18', '3.66e+03']\n",
      "N = 1000 CC-conv  eps =  10^-9 ['1.57e-04', '12%', '0.00e+00', '2.22e-16', '4.67e-18', '3.66e+03']\n",
      "N = 1000 CC-conv  eps =  10^-10 ['1.55e-04', '8%', '0.00e+00', '2.22e-16', '4.67e-18', '3.66e+03']\n",
      "N = 1000 CC-conv  eps =  10^-11 ['1.59e-04', '12%', '0.00e+00', '2.22e-16', '4.67e-18', '3.66e+03']\n",
      "N = 1000 CC-conv  eps =  10^-12 ['1.63e-04', '14%', '0.00e+00', '2.22e-16', '4.67e-18', '3.66e+03']\n",
      "N = 1000 CC-conv  eps =  10^-13 ['1.65e-04', '11%', '0.00e+00', '2.22e-16', '4.67e-18', '3.66e+03']\n",
      "N = 1000 CC-conv  eps =  10^-14 ['1.55e-04', '3%', '0.00e+00', '2.22e-16', '4.67e-18', '3.66e+03']\n",
      "N = 1000 CC-conv  eps =  10^-15 ['1.60e-04', '10%', '0.00e+00', '2.22e-16', '4.67e-18', '3.66e+03']\n",
      "runtime = 568.2736897468567 s\n",
      "*************************\n",
      "         method      rel eps        rt       drt%    min-err     max-err    geomean    3geostd\n"
     ]
    }
   ],
   "source": [
    "# start time\n",
    "rp, Np = 100, 3\n",
    "xmin, xmax = xMin[0], xMax[0]\n",
    "xN7, xN8 = 2**7+1, 2**8+1\n",
    "tic = time()\n",
    "points = dx[str(10**N)].astype(np.float64)\n",
    "\n",
    "print('         method      rel eps        rt      drt%     min-err     max-err     geomean     3geostd')\n",
    "\n",
    "for method, fun in methods.items():\n",
    "    for n in range(3, 16):\n",
    "        eps = 10**(-n)\n",
    "\n",
    "        if method == 'DE-conv-p' or method == 'CC-conv':\n",
    "            dm = fun(points, eps)\n",
    "            rt = runtime('fun(points, eps)',r=rp, n=Np,output=False)\n",
    "        elif method == 'DE-CC(2^7+1)':\n",
    "            dm = DE_CC_pdf(fun,points, xmin,xmax, xN7, eps)\n",
    "            rt = runtime('DE_CC_pdf(fun,points, xmin,xmax, xN7, eps)',r=rp, n=Np, output=False)\n",
    "        elif method == 'DE-CC(2^8+1)':\n",
    "            dm = DE_CC_pdf(fun,points, xmin,xmax, xN8, eps)\n",
    "            rt = runtime('DE_CC_pdf(fun,points, xmin,xmax, xN8, eps)',r=rp, n=Np,output=False)\n",
    "        else:\n",
    "            # if method=='DE-conv': \n",
    "            #     Nv=Np//4\n",
    "            # else:\n",
    "            #     Nv=Np\n",
    "                \n",
    "            dm = [fun(xh, eps) for xh in points]\n",
    "            rt = runtime('[fun(xh, eps) for xh in points]',r=rp, n=Np,output=False)\n",
    "        \n",
    "        dp = dsageQP[str(10**N)]\n",
    "        ch_abs = abs_errs(dm,dp)\n",
    "        # Geometric mean\n",
    "        ch_abs_adjusted = v(ch_abs) +1e-20\n",
    "        log_ch_abs = np.log(ch_abs_adjusted)\n",
    "        geo_mean = np.exp(np.mean(log_ch_abs))\n",
    "        geo_3sigma = np.exp(3*np.std(log_ch_abs))\n",
    "        # Geometric standard deviation\n",
    "        \n",
    "        #ch_rel = rel_errs(dm,dp)\n",
    "        u = 1\n",
    "        if 'DE' in method: u =1/2\n",
    "        benchmark.at[n,method] = [rt.average*u, 100*rt.stdev/rt.average*u, min(ch_abs), max(ch_abs),\n",
    "                                  geo_mean, geo_3sigma\n",
    "                                  #min(ch_rel), max(ch_rel)ii\n",
    "                                 ] #stdev\n",
    "        print('N =', 10**N, method, ' eps = ', '10^'+str(-n), \n",
    "              [f'{num:.2e}' if i != 1 else f'{int(round(num))}%' \n",
    "               for i, num in enumerate(benchmark.at[n, method])])\n",
    "\n",
    "        \n",
    "    #end time\n",
    "    toc = time()-tic; \n",
    "    print('runtime =', toc, 's')    \n",
    "    print(25*'*')\n",
    "    print('         method      rel eps        rt       drt%    min-err     max-err    geomean    3geostd')\n"
   ]
  },
  {
   "cell_type": "markdown",
   "metadata": {},
   "source": [
    "# Results"
   ]
  },
  {
   "cell_type": "code",
   "execution_count": 56,
   "metadata": {
    "ExecuteTime": {
     "end_time": "2021-05-03T19:05:49.533474Z",
     "start_time": "2021-05-03T19:05:49.503529Z"
    },
    "execution": {
     "iopub.execute_input": "2024-11-18T06:35:46.590640Z",
     "iopub.status.busy": "2024-11-18T06:35:46.590640Z",
     "iopub.status.idle": "2024-11-18T06:35:46.638212Z",
     "shell.execute_reply": "2024-11-18T06:35:46.638212Z",
     "shell.execute_reply.started": "2024-11-18T06:35:46.590640Z"
    }
   },
   "outputs": [
    {
     "data": {
      "text/html": [
       "<div>\n",
       "<style scoped>\n",
       "    .dataframe tbody tr th:only-of-type {\n",
       "        vertical-align: middle;\n",
       "    }\n",
       "\n",
       "    .dataframe tbody tr th {\n",
       "        vertical-align: top;\n",
       "    }\n",
       "\n",
       "    .dataframe thead th {\n",
       "        text-align: right;\n",
       "    }\n",
       "</style>\n",
       "<table border=\"1\" class=\"dataframe\">\n",
       "  <thead>\n",
       "    <tr style=\"text-align: right;\">\n",
       "      <th></th>\n",
       "      <th>err</th>\n",
       "      <th>DE-conv</th>\n",
       "      <th>DE-conv-n</th>\n",
       "      <th>DE-conv-p</th>\n",
       "      <th>DE-CC(2^7+1)</th>\n",
       "      <th>DE-CC(2^8+1)</th>\n",
       "      <th>CC-conv</th>\n",
       "    </tr>\n",
       "  </thead>\n",
       "  <tbody>\n",
       "    <tr>\n",
       "      <th>3</th>\n",
       "      <td>1e-03</td>\n",
       "      <td>[0.03837089716689661, 0.9197963026418232, 3.86843335142828e-16, 9.676832125396495e-05, 3.566188595308212e-11, 47225481.47047193]</td>\n",
       "      <td>[0.0015066334999573883, 1.2623773496703528, 3.86843335142828e-16, 9.676832125396495e-05, 3.5662100165909024e-11, 47224600.402059525]</td>\n",
       "      <td>[0.00022042699982800212, 6.580500430464073, 3.86843335142828e-16, 9.676832125396495e-05, 3.5662100165909024e-11, 47224600.402059525]</td>\n",
       "      <td>[0.0006701798334446114, 3.4974876715346217, 2.296226056519579e-11, 2.398377696111176e-06, 7.1020471386818265e-09, 735.2454728486357]</td>\n",
       "      <td>[0.0016349296667128024, 2.56270169739478, 2.468064641547585e-11, 7.100762683565076e-06, 1.936242879521452e-08, 251.38940660796658]</td>\n",
       "      <td>[0.00015827866727098202, 4.401133207456107, 0.0, 2.220446049250313e-16, 4.6670859240059e-18, 3662.8070977098128]</td>\n",
       "    </tr>\n",
       "    <tr>\n",
       "      <th>4</th>\n",
       "      <td>1e-04</td>\n",
       "      <td>[0.04003139983324218, 0.46397075052654563, 2.1094237467877974e-15, 6.388032997413362e-06, 2.4353650640161175e-11, 16038.640395173457]</td>\n",
       "      <td>[0.0015392673335736617, 1.316790396123119, 2.1094237467877974e-15, 6.388032997413362e-06, 2.4353348240366048e-11, 16040.121581022006]</td>\n",
       "      <td>[0.00020385533304458176, 2.734662359226865, 2.1094237467877974e-15, 6.388032997413362e-06, 2.4353348240366048e-11, 16040.121581022006]</td>\n",
       "      <td>[0.0006711936666397378, 3.3701687977609227, 5.668607944153692e-13, 7.614371666520015e-08, 6.042359730829752e-10, 163.2529122418823]</td>\n",
       "      <td>[0.0016622223332524299, 1.7738553911468338, 9.303668946358812e-14, 7.579283628489364e-08, 1.6502568408285572e-10, 1413.1861197680448]</td>\n",
       "      <td>[0.00016601900036524359, 11.658932635062945, 0.0, 2.220446049250313e-16, 4.6670859240059e-18, 3662.8070977098128]</td>\n",
       "    </tr>\n",
       "    <tr>\n",
       "      <th>5</th>\n",
       "      <td>1e-05</td>\n",
       "      <td>[0.04515476816673375, 0.4011324253730717, 0.0, 1.4436113360272174e-08, 1.1321031084070154e-12, 67645.83213596577]</td>\n",
       "      <td>[0.0017333858333101184, 0.9870474884582245, 5.551115123125783e-17, 1.4436113360272174e-08, 1.142057099794268e-12, 61189.810687237106]</td>\n",
       "      <td>[0.00022665666678221895, 2.730086266665967, 5.551115123125783e-17, 1.4436113360272174e-08, 1.142057099794268e-12, 61189.810687237106]</td>\n",
       "      <td>[0.0006817085000026661, 3.8713682881222087, 5.165918040561657e-12, 1.061316284856062e-08, 6.049513684793318e-10, 46.403642443945884]</td>\n",
       "      <td>[0.0016493376667494886, 2.3695145599290246, 1.0819643792014944e-13, 1.0192068189418535e-08, 6.266700534296097e-11, 184.26176210051213]</td>\n",
       "      <td>[0.00016340633369206142, 5.939692418831886, 0.0, 2.220446049250313e-16, 4.6670859240059e-18, 3662.8070977098128]</td>\n",
       "    </tr>\n",
       "    <tr>\n",
       "      <th>6</th>\n",
       "      <td>1e-06</td>\n",
       "      <td>[0.05150375800022933, 0.5658551663326976, 1.0408340855860843e-17, 7.171904153890907e-09, 3.6342786385081974e-14, 189552.1656433067]</td>\n",
       "      <td>[0.0019551339998239805, 1.2610193432704342, 1.0408340855860843e-17, 7.171904152156183e-09, 3.6362539679788124e-14, 189203.21211968394]</td>\n",
       "      <td>[0.00026843033308978194, 3.828330137006922, 1.0408340855860843e-17, 7.171904152156183e-09, 3.6362539679788124e-14, 189203.21211968394]</td>\n",
       "      <td>[0.0006925335002112358, 5.754963078028867, 5.9598125046189665e-12, 7.215926300929709e-09, 7.026352205994906e-10, 40.82711013319417]</td>\n",
       "      <td>[0.0016714196667210975, 1.749811843646757, 2.570860191397628e-15, 3.3571073698723808e-09, 8.278274432181888e-12, 323.42163250641795]</td>\n",
       "      <td>[0.0001575186667226565, 9.102465884227062, 0.0, 2.220446049250313e-16, 4.6670859240059e-18, 3662.8070977098128]</td>\n",
       "    </tr>\n",
       "    <tr>\n",
       "      <th>7</th>\n",
       "      <td>1e-07</td>\n",
       "      <td>[0.05531397783323579, 0.46883563475776135, 1.3877787807814457e-17, 2.8386431122351397e-09, 1.114077544778256e-14, 48922.198990734]</td>\n",
       "      <td>[0.0020717225001135376, 0.843310664030068, 1.0408340855860843e-17, 2.8386431122351397e-09, 1.1138537161835774e-14, 48964.02697826662]</td>\n",
       "      <td>[0.0002846086665522307, 3.370476146006061, 1.0408340855860843e-17, 2.8386431122351397e-09, 1.1138537161835774e-14, 48964.02697826662]</td>\n",
       "      <td>[0.000693323666685804, 4.662940053336089, 5.836090291588825e-12, 4.94376534154739e-09, 6.799083394268745e-10, 42.173454572722356]</td>\n",
       "      <td>[0.001687601500064678, 2.6902710713341516, 6.591949208711867e-17, 3.825723158407124e-10, 6.26730914117361e-13, 3982.684255078331]</td>\n",
       "      <td>[0.00015990833334702376, 15.214126064749848, 0.0, 2.220446049250313e-16, 4.6670859240059e-18, 3662.8070977098128]</td>\n",
       "    </tr>\n",
       "    <tr>\n",
       "      <th>8</th>\n",
       "      <td>1e-08</td>\n",
       "      <td>[0.05985577950016402, 0.7477559543188957, 0.0, 1.2798839939265338e-10, 9.128248558661918e-16, 40730.79395813797]</td>\n",
       "      <td>[0.002316759833629476, 1.1323241708825282, 0.0, 1.2798839939265338e-10, 9.235388874682006e-16, 38286.63907649833]</td>\n",
       "      <td>[0.00032441333338889913, 3.878404249068294, 0.0, 1.2798839939265338e-10, 9.235388874682006e-16, 38286.63907649833]</td>\n",
       "      <td>[0.0006878905001212843, 5.247507692670869, 5.817462830903786e-12, 4.96418472994975e-09, 6.78008854806159e-10, 42.952894070789185]</td>\n",
       "      <td>[0.0016263288333235929, 1.9911484390062029, 1.734723475976807e-18, 1.5248025064806825e-11, 3.1805548897394514e-14, 357.2532853161968]</td>\n",
       "      <td>[0.00016124066712412362, 11.489360158843413, 0.0, 2.220446049250313e-16, 4.6670859240059e-18, 3662.8070977098128]</td>\n",
       "    </tr>\n",
       "    <tr>\n",
       "      <th>9</th>\n",
       "      <td>1e-09</td>\n",
       "      <td>[0.0636691858334719, 0.37821094359921725, 0.0, 1.1343703754107537e-12, 9.576772801287272e-17, 133334.29449635273]</td>\n",
       "      <td>[0.0024758704999112524, 1.2994960505956508, 0.0, 1.1343703754107537e-12, 9.656381489827532e-17, 125471.72520024588]</td>\n",
       "      <td>[0.00033415500016417357, 3.982699191561514, 0.0, 1.1343703754107537e-12, 9.656381489827532e-17, 125471.72520024588]</td>\n",
       "      <td>[0.000701123666804051, 4.883666678883052, 5.817801101981601e-12, 4.960647725926748e-09, 6.782024667932364e-10, 42.86587775076527]</td>\n",
       "      <td>[0.0016270581666807025, 1.201243491736833, 1.3877787807814457e-17, 1.2159162565694714e-12, 2.8732270147505323e-15, 639.3192828170248]</td>\n",
       "      <td>[0.0001568923334707506, 11.753044767706976, 0.0, 2.220446049250313e-16, 4.6670859240059e-18, 3662.8070977098128]</td>\n",
       "    </tr>\n",
       "    <tr>\n",
       "      <th>10</th>\n",
       "      <td>1e-10</td>\n",
       "      <td>[0.07085361600028894, 0.3334912718787689, 0.0, 2.856603842360528e-13, 1.2593070277338753e-17, 99548.28856325995]</td>\n",
       "      <td>[0.0027506983333538907, 0.7504997771205492, 0.0, 2.856603842360528e-13, 1.287796840393532e-17, 95830.59340051362]</td>\n",
       "      <td>[0.00036698483333263233, 3.9048750662881235, 0.0, 2.856603842360528e-13, 1.287796840393532e-17, 95830.59340051362]</td>\n",
       "      <td>[0.0006877873332511323, 3.158709926428204, 5.8177802852998894e-12, 4.960217847571613e-09, 6.781873158208862e-10, 42.87141059435235]</td>\n",
       "      <td>[0.001665338166882672, 2.0914484651590386, 0.0, 1.5115686480271506e-13, 5.003350697422058e-16, 288.4910090572738]</td>\n",
       "      <td>[0.00015473433304578066, 8.453504081799267, 0.0, 2.220446049250313e-16, 4.6670859240059e-18, 3662.8070977098128]</td>\n",
       "    </tr>\n",
       "    <tr>\n",
       "      <th>11</th>\n",
       "      <td>1e-11</td>\n",
       "      <td>[0.07522461983336445, 0.3442738257960017, 0.0, 8.548717289613705e-14, 5.003860792610698e-18, 28318.688873143903]</td>\n",
       "      <td>[0.0029487864998615503, 1.3502462833987912, 0.0, 8.548717289613705e-14, 4.564345337485934e-18, 36392.86577023637]</td>\n",
       "      <td>[0.0003947826663594848, 3.6755072522072014, 0.0, 8.548717289613705e-14, 4.564345337485934e-18, 36392.86577023637]</td>\n",
       "      <td>[0.0006984076669808322, 4.928336681840319, 5.8177820200233654e-12, 4.960210242543894e-09, 6.781879774514461e-10, 42.87092998758214]</td>\n",
       "      <td>[0.0016359738333752225, 1.3993835789442708, 0.0, 4.4822132116983937e-13, 1.4927429718880413e-15, 131.93221405362425]</td>\n",
       "      <td>[0.0001585576665820554, 12.1295218649786, 0.0, 2.220446049250313e-16, 4.6670859240059e-18, 3662.8070977098128]</td>\n",
       "    </tr>\n",
       "    <tr>\n",
       "      <th>12</th>\n",
       "      <td>1e-12</td>\n",
       "      <td>[0.08270607183338143, 0.23971475571640974, 0.0, 1.1657341758564144e-15, 3.796559223346768e-18, 5345.283080445604]</td>\n",
       "      <td>[0.003221419499604963, 0.8129652021175301, 0.0, 1.1657341758564144e-15, 3.1846266128888965e-18, 8115.404022935819]</td>\n",
       "      <td>[0.00043445283319063795, 4.08513541838729, 0.0, 1.1657341758564144e-15, 3.1846266128888965e-18, 8115.404022935819]</td>\n",
       "      <td>[0.0007048003333329689, 4.8416744229025594, 5.8177820200233654e-12, 4.960212574012246e-09, 6.781880135024483e-10, 42.87092286140094]</td>\n",
       "      <td>[0.001638693833471431, 1.3184774078400414, 0.0, 8.326672684688674e-16, 7.00889880086323e-18, 3490.174613331284]</td>\n",
       "      <td>[0.00016259066653825964, 14.112274441215101, 0.0, 2.220446049250313e-16, 4.6670859240059e-18, 3662.8070977098128]</td>\n",
       "    </tr>\n",
       "    <tr>\n",
       "      <th>13</th>\n",
       "      <td>1e-13</td>\n",
       "      <td>[0.08970515916647855, 2.013546113600366, 0.0, 2.7755575615628914e-16, 2.3974251941728904e-18, 7858.5770828857585]</td>\n",
       "      <td>[0.0034825698333346127, 0.8357779364119416, 0.0, 2.7755575615628914e-16, 2.0622794750462756e-18, 10465.90317551244]</td>\n",
       "      <td>[0.0004559568330781379, 3.4425712547195073, 0.0, 2.7755575615628914e-16, 2.0622794750462756e-18, 10465.90317551244]</td>\n",
       "      <td>[0.0006849740000810318, 3.801827309110434, 5.817783754746841e-12, 4.960212351967641e-09, 6.78188012609505e-10, 42.87092457684757]</td>\n",
       "      <td>[0.001737996500111573, 1.9894670262168033, 0.0, 4.440892098500626e-16, 5.989746951544009e-18, 2747.462658243799]</td>\n",
       "      <td>[0.00016530100023373962, 10.585244613877409, 0.0, 2.220446049250313e-16, 4.6670859240059e-18, 3662.8070977098128]</td>\n",
       "    </tr>\n",
       "    <tr>\n",
       "      <th>14</th>\n",
       "      <td>1e-14</td>\n",
       "      <td>[0.0965864741661062, 0.5549361622436234, 0.0, 2.896988204881268e-16, 2.1532192613192304e-18, 9400.173374958405]</td>\n",
       "      <td>[0.0036854906666849273, 0.540005958724933, 0.0, 2.914335439641036e-16, 2.058709517672705e-18, 10435.19823623993]</td>\n",
       "      <td>[0.00047716466656614405, 3.445663503799269, 0.0, 2.914335439641036e-16, 2.058709517672705e-18, 10435.19823623993]</td>\n",
       "      <td>[0.0007103025000348378, 4.139147437422498, 5.817788958917269e-12, 4.960212407478792e-09, 6.781880165292476e-10, 42.87092191787235]</td>\n",
       "      <td>[0.0016706023334700148, 2.351978329673439, 0.0, 3.885780586188048e-16, 8.060664935463515e-18, 1755.5334828555322]</td>\n",
       "      <td>[0.00015514533345897992, 3.0266378999056616, 0.0, 2.220446049250313e-16, 4.6670859240059e-18, 3662.8070977098128]</td>\n",
       "    </tr>\n",
       "    <tr>\n",
       "      <th>15</th>\n",
       "      <td>1e-15</td>\n",
       "      <td>[0.10442136350015062, 0.619210002341674, 0.0, 2.7755575615628914e-16, 2.5500153396639995e-18, 7862.1633424162865]</td>\n",
       "      <td>[0.003961764333119694, 0.654109873813086, 0.0, 2.7755575615628914e-16, 2.779599738129064e-18, 6959.773527318028]</td>\n",
       "      <td>[0.0004930823330262986, 3.7836769456446846, 0.0, 2.7755575615628914e-16, 2.779599738129064e-18, 6959.773527318028]</td>\n",
       "      <td>[0.0007142341667592216, 5.247303028118275, 5.817790693640745e-12, 4.960212629523397e-09, 6.781880281136494e-10, 42.87091769568052]</td>\n",
       "      <td>[0.0016869644998223521, 1.6786306205530617, 0.0, 3.885780586188048e-16, 6.6378500716883916e-18, 2960.8385760073356]</td>\n",
       "      <td>[0.00015993333314933504, 10.391601298074592, 0.0, 2.220446049250313e-16, 4.6670859240059e-18, 3662.8070977098128]</td>\n",
       "    </tr>\n",
       "  </tbody>\n",
       "</table>\n",
       "</div>"
      ],
      "text/plain": [
       "      err  \\\n",
       "3   1e-03   \n",
       "4   1e-04   \n",
       "5   1e-05   \n",
       "6   1e-06   \n",
       "7   1e-07   \n",
       "8   1e-08   \n",
       "9   1e-09   \n",
       "10  1e-10   \n",
       "11  1e-11   \n",
       "12  1e-12   \n",
       "13  1e-13   \n",
       "14  1e-14   \n",
       "15  1e-15   \n",
       "\n",
       "                                                                                                                                  DE-conv  \\\n",
       "3        [0.03837089716689661, 0.9197963026418232, 3.86843335142828e-16, 9.676832125396495e-05, 3.566188595308212e-11, 47225481.47047193]   \n",
       "4   [0.04003139983324218, 0.46397075052654563, 2.1094237467877974e-15, 6.388032997413362e-06, 2.4353650640161175e-11, 16038.640395173457]   \n",
       "5                       [0.04515476816673375, 0.4011324253730717, 0.0, 1.4436113360272174e-08, 1.1321031084070154e-12, 67645.83213596577]   \n",
       "6     [0.05150375800022933, 0.5658551663326976, 1.0408340855860843e-17, 7.171904153890907e-09, 3.6342786385081974e-14, 189552.1656433067]   \n",
       "7      [0.05531397783323579, 0.46883563475776135, 1.3877787807814457e-17, 2.8386431122351397e-09, 1.114077544778256e-14, 48922.198990734]   \n",
       "8                        [0.05985577950016402, 0.7477559543188957, 0.0, 1.2798839939265338e-10, 9.128248558661918e-16, 40730.79395813797]   \n",
       "9                       [0.0636691858334719, 0.37821094359921725, 0.0, 1.1343703754107537e-12, 9.576772801287272e-17, 133334.29449635273]   \n",
       "10                       [0.07085361600028894, 0.3334912718787689, 0.0, 2.856603842360528e-13, 1.2593070277338753e-17, 99548.28856325995]   \n",
       "11                       [0.07522461983336445, 0.3442738257960017, 0.0, 8.548717289613705e-14, 5.003860792610698e-18, 28318.688873143903]   \n",
       "12                      [0.08270607183338143, 0.23971475571640974, 0.0, 1.1657341758564144e-15, 3.796559223346768e-18, 5345.283080445604]   \n",
       "13                      [0.08970515916647855, 2.013546113600366, 0.0, 2.7755575615628914e-16, 2.3974251941728904e-18, 7858.5770828857585]   \n",
       "14                        [0.0965864741661062, 0.5549361622436234, 0.0, 2.896988204881268e-16, 2.1532192613192304e-18, 9400.173374958405]   \n",
       "15                      [0.10442136350015062, 0.619210002341674, 0.0, 2.7755575615628914e-16, 2.5500153396639995e-18, 7862.1633424162865]   \n",
       "\n",
       "                                                                                                                                 DE-conv-n  \\\n",
       "3     [0.0015066334999573883, 1.2623773496703528, 3.86843335142828e-16, 9.676832125396495e-05, 3.5662100165909024e-11, 47224600.402059525]   \n",
       "4    [0.0015392673335736617, 1.316790396123119, 2.1094237467877974e-15, 6.388032997413362e-06, 2.4353348240366048e-11, 16040.121581022006]   \n",
       "5    [0.0017333858333101184, 0.9870474884582245, 5.551115123125783e-17, 1.4436113360272174e-08, 1.142057099794268e-12, 61189.810687237106]   \n",
       "6   [0.0019551339998239805, 1.2610193432704342, 1.0408340855860843e-17, 7.171904152156183e-09, 3.6362539679788124e-14, 189203.21211968394]   \n",
       "7    [0.0020717225001135376, 0.843310664030068, 1.0408340855860843e-17, 2.8386431122351397e-09, 1.1138537161835774e-14, 48964.02697826662]   \n",
       "8                        [0.002316759833629476, 1.1323241708825282, 0.0, 1.2798839939265338e-10, 9.235388874682006e-16, 38286.63907649833]   \n",
       "9                      [0.0024758704999112524, 1.2994960505956508, 0.0, 1.1343703754107537e-12, 9.656381489827532e-17, 125471.72520024588]   \n",
       "10                       [0.0027506983333538907, 0.7504997771205492, 0.0, 2.856603842360528e-13, 1.287796840393532e-17, 95830.59340051362]   \n",
       "11                       [0.0029487864998615503, 1.3502462833987912, 0.0, 8.548717289613705e-14, 4.564345337485934e-18, 36392.86577023637]   \n",
       "12                      [0.003221419499604963, 0.8129652021175301, 0.0, 1.1657341758564144e-15, 3.1846266128888965e-18, 8115.404022935819]   \n",
       "13                     [0.0034825698333346127, 0.8357779364119416, 0.0, 2.7755575615628914e-16, 2.0622794750462756e-18, 10465.90317551244]   \n",
       "14                        [0.0036854906666849273, 0.540005958724933, 0.0, 2.914335439641036e-16, 2.058709517672705e-18, 10435.19823623993]   \n",
       "15                        [0.003961764333119694, 0.654109873813086, 0.0, 2.7755575615628914e-16, 2.779599738129064e-18, 6959.773527318028]   \n",
       "\n",
       "                                                                                                                                 DE-conv-p  \\\n",
       "3     [0.00022042699982800212, 6.580500430464073, 3.86843335142828e-16, 9.676832125396495e-05, 3.5662100165909024e-11, 47224600.402059525]   \n",
       "4   [0.00020385533304458176, 2.734662359226865, 2.1094237467877974e-15, 6.388032997413362e-06, 2.4353348240366048e-11, 16040.121581022006]   \n",
       "5    [0.00022665666678221895, 2.730086266665967, 5.551115123125783e-17, 1.4436113360272174e-08, 1.142057099794268e-12, 61189.810687237106]   \n",
       "6   [0.00026843033308978194, 3.828330137006922, 1.0408340855860843e-17, 7.171904152156183e-09, 3.6362539679788124e-14, 189203.21211968394]   \n",
       "7    [0.0002846086665522307, 3.370476146006061, 1.0408340855860843e-17, 2.8386431122351397e-09, 1.1138537161835774e-14, 48964.02697826662]   \n",
       "8                       [0.00032441333338889913, 3.878404249068294, 0.0, 1.2798839939265338e-10, 9.235388874682006e-16, 38286.63907649833]   \n",
       "9                      [0.00033415500016417357, 3.982699191561514, 0.0, 1.1343703754107537e-12, 9.656381489827532e-17, 125471.72520024588]   \n",
       "10                      [0.00036698483333263233, 3.9048750662881235, 0.0, 2.856603842360528e-13, 1.287796840393532e-17, 95830.59340051362]   \n",
       "11                       [0.0003947826663594848, 3.6755072522072014, 0.0, 8.548717289613705e-14, 4.564345337485934e-18, 36392.86577023637]   \n",
       "12                      [0.00043445283319063795, 4.08513541838729, 0.0, 1.1657341758564144e-15, 3.1846266128888965e-18, 8115.404022935819]   \n",
       "13                     [0.0004559568330781379, 3.4425712547195073, 0.0, 2.7755575615628914e-16, 2.0622794750462756e-18, 10465.90317551244]   \n",
       "14                       [0.00047716466656614405, 3.445663503799269, 0.0, 2.914335439641036e-16, 2.058709517672705e-18, 10435.19823623993]   \n",
       "15                      [0.0004930823330262986, 3.7836769456446846, 0.0, 2.7755575615628914e-16, 2.779599738129064e-18, 6959.773527318028]   \n",
       "\n",
       "                                                                                                                            DE-CC(2^7+1)  \\\n",
       "3   [0.0006701798334446114, 3.4974876715346217, 2.296226056519579e-11, 2.398377696111176e-06, 7.1020471386818265e-09, 735.2454728486357]   \n",
       "4    [0.0006711936666397378, 3.3701687977609227, 5.668607944153692e-13, 7.614371666520015e-08, 6.042359730829752e-10, 163.2529122418823]   \n",
       "5   [0.0006817085000026661, 3.8713682881222087, 5.165918040561657e-12, 1.061316284856062e-08, 6.049513684793318e-10, 46.403642443945884]   \n",
       "6    [0.0006925335002112358, 5.754963078028867, 5.9598125046189665e-12, 7.215926300929709e-09, 7.026352205994906e-10, 40.82711013319417]   \n",
       "7      [0.000693323666685804, 4.662940053336089, 5.836090291588825e-12, 4.94376534154739e-09, 6.799083394268745e-10, 42.173454572722356]   \n",
       "8      [0.0006878905001212843, 5.247507692670869, 5.817462830903786e-12, 4.96418472994975e-09, 6.78008854806159e-10, 42.952894070789185]   \n",
       "9      [0.000701123666804051, 4.883666678883052, 5.817801101981601e-12, 4.960647725926748e-09, 6.782024667932364e-10, 42.86587775076527]   \n",
       "10   [0.0006877873332511323, 3.158709926428204, 5.8177802852998894e-12, 4.960217847571613e-09, 6.781873158208862e-10, 42.87141059435235]   \n",
       "11   [0.0006984076669808322, 4.928336681840319, 5.8177820200233654e-12, 4.960210242543894e-09, 6.781879774514461e-10, 42.87092998758214]   \n",
       "12  [0.0007048003333329689, 4.8416744229025594, 5.8177820200233654e-12, 4.960212574012246e-09, 6.781880135024483e-10, 42.87092286140094]   \n",
       "13     [0.0006849740000810318, 3.801827309110434, 5.817783754746841e-12, 4.960212351967641e-09, 6.78188012609505e-10, 42.87092457684757]   \n",
       "14    [0.0007103025000348378, 4.139147437422498, 5.817788958917269e-12, 4.960212407478792e-09, 6.781880165292476e-10, 42.87092191787235]   \n",
       "15    [0.0007142341667592216, 5.247303028118275, 5.817790693640745e-12, 4.960212629523397e-09, 6.781880281136494e-10, 42.87091769568052]   \n",
       "\n",
       "                                                                                                                              DE-CC(2^8+1)  \\\n",
       "3       [0.0016349296667128024, 2.56270169739478, 2.468064641547585e-11, 7.100762683565076e-06, 1.936242879521452e-08, 251.38940660796658]   \n",
       "4    [0.0016622223332524299, 1.7738553911468338, 9.303668946358812e-14, 7.579283628489364e-08, 1.6502568408285572e-10, 1413.1861197680448]   \n",
       "5   [0.0016493376667494886, 2.3695145599290246, 1.0819643792014944e-13, 1.0192068189418535e-08, 6.266700534296097e-11, 184.26176210051213]   \n",
       "6     [0.0016714196667210975, 1.749811843646757, 2.570860191397628e-15, 3.3571073698723808e-09, 8.278274432181888e-12, 323.42163250641795]   \n",
       "7        [0.001687601500064678, 2.6902710713341516, 6.591949208711867e-17, 3.825723158407124e-10, 6.26730914117361e-13, 3982.684255078331]   \n",
       "8    [0.0016263288333235929, 1.9911484390062029, 1.734723475976807e-18, 1.5248025064806825e-11, 3.1805548897394514e-14, 357.2532853161968]   \n",
       "9    [0.0016270581666807025, 1.201243491736833, 1.3877787807814457e-17, 1.2159162565694714e-12, 2.8732270147505323e-15, 639.3192828170248]   \n",
       "10                       [0.001665338166882672, 2.0914484651590386, 0.0, 1.5115686480271506e-13, 5.003350697422058e-16, 288.4910090572738]   \n",
       "11                    [0.0016359738333752225, 1.3993835789442708, 0.0, 4.4822132116983937e-13, 1.4927429718880413e-15, 131.93221405362425]   \n",
       "12                         [0.001638693833471431, 1.3184774078400414, 0.0, 8.326672684688674e-16, 7.00889880086323e-18, 3490.174613331284]   \n",
       "13                        [0.001737996500111573, 1.9894670262168033, 0.0, 4.440892098500626e-16, 5.989746951544009e-18, 2747.462658243799]   \n",
       "14                       [0.0016706023334700148, 2.351978329673439, 0.0, 3.885780586188048e-16, 8.060664935463515e-18, 1755.5334828555322]   \n",
       "15                     [0.0016869644998223521, 1.6786306205530617, 0.0, 3.885780586188048e-16, 6.6378500716883916e-18, 2960.8385760073356]   \n",
       "\n",
       "                                                                                                              CC-conv  \n",
       "3    [0.00015827866727098202, 4.401133207456107, 0.0, 2.220446049250313e-16, 4.6670859240059e-18, 3662.8070977098128]  \n",
       "4   [0.00016601900036524359, 11.658932635062945, 0.0, 2.220446049250313e-16, 4.6670859240059e-18, 3662.8070977098128]  \n",
       "5    [0.00016340633369206142, 5.939692418831886, 0.0, 2.220446049250313e-16, 4.6670859240059e-18, 3662.8070977098128]  \n",
       "6     [0.0001575186667226565, 9.102465884227062, 0.0, 2.220446049250313e-16, 4.6670859240059e-18, 3662.8070977098128]  \n",
       "7   [0.00015990833334702376, 15.214126064749848, 0.0, 2.220446049250313e-16, 4.6670859240059e-18, 3662.8070977098128]  \n",
       "8   [0.00016124066712412362, 11.489360158843413, 0.0, 2.220446049250313e-16, 4.6670859240059e-18, 3662.8070977098128]  \n",
       "9    [0.0001568923334707506, 11.753044767706976, 0.0, 2.220446049250313e-16, 4.6670859240059e-18, 3662.8070977098128]  \n",
       "10   [0.00015473433304578066, 8.453504081799267, 0.0, 2.220446049250313e-16, 4.6670859240059e-18, 3662.8070977098128]  \n",
       "11     [0.0001585576665820554, 12.1295218649786, 0.0, 2.220446049250313e-16, 4.6670859240059e-18, 3662.8070977098128]  \n",
       "12  [0.00016259066653825964, 14.112274441215101, 0.0, 2.220446049250313e-16, 4.6670859240059e-18, 3662.8070977098128]  \n",
       "13  [0.00016530100023373962, 10.585244613877409, 0.0, 2.220446049250313e-16, 4.6670859240059e-18, 3662.8070977098128]  \n",
       "14  [0.00015514533345897992, 3.0266378999056616, 0.0, 2.220446049250313e-16, 4.6670859240059e-18, 3662.8070977098128]  \n",
       "15  [0.00015993333314933504, 10.391601298074592, 0.0, 2.220446049250313e-16, 4.6670859240059e-18, 3662.8070977098128]  "
      ]
     },
     "metadata": {},
     "output_type": "display_data"
    }
   ],
   "source": [
    "scn = lambda series, prec: [np.format_float_scientific(item, precision=prec) for item in v(series)]\n",
    "benchres = benchmark\n",
    "show_allrowscols(benchres, fullcolwidth=True)"
   ]
  },
  {
   "cell_type": "code",
   "execution_count": 57,
   "metadata": {
    "ExecuteTime": {
     "end_time": "2021-05-03T19:05:49.564402Z",
     "start_time": "2021-05-03T19:05:49.534435Z"
    },
    "execution": {
     "iopub.execute_input": "2024-11-18T06:36:34.626796Z",
     "iopub.status.busy": "2024-11-18T06:36:34.626796Z",
     "iopub.status.idle": "2024-11-18T06:36:34.676826Z",
     "shell.execute_reply": "2024-11-18T06:36:34.676826Z",
     "shell.execute_reply.started": "2024-11-18T06:36:34.626796Z"
    }
   },
   "outputs": [],
   "source": [
    "benchmark.to_excel('data/DE-Python-results.xlsx')"
   ]
  }
 ],
 "metadata": {
  "kernelspec": {
   "display_name": "Python 3",
   "language": "python",
   "name": "python3"
  },
  "language_info": {
   "codemirror_mode": {
    "name": "ipython",
    "version": 3
   },
   "file_extension": ".py",
   "mimetype": "text/x-python",
   "name": "python",
   "nbconvert_exporter": "python",
   "pygments_lexer": "ipython3",
   "version": "3.7.10"
  },
  "toc": {
   "base_numbering": 1,
   "nav_menu": {},
   "number_sections": true,
   "sideBar": true,
   "skip_h1_title": false,
   "title_cell": "Table of Contents",
   "title_sidebar": "Contents",
   "toc_cell": false,
   "toc_position": {
    "height": "calc(100% - 180px)",
    "left": "10px",
    "top": "150px",
    "width": "245.091px"
   },
   "toc_section_display": true,
   "toc_window_display": true
  },
  "varInspector": {
   "cols": {
    "lenName": 16,
    "lenType": 16,
    "lenVar": 40
   },
   "kernels_config": {
    "python": {
     "delete_cmd_postfix": "",
     "delete_cmd_prefix": "del ",
     "library": "var_list.py",
     "varRefreshCmd": "print(var_dic_list())"
    },
    "r": {
     "delete_cmd_postfix": ") ",
     "delete_cmd_prefix": "rm(",
     "library": "var_list.r",
     "varRefreshCmd": "cat(var_dic_list()) "
    }
   },
   "types_to_exclude": [
    "module",
    "function",
    "builtin_function_or_method",
    "instance",
    "_Feature"
   ],
   "window_display": false
  }
 },
 "nbformat": 4,
 "nbformat_minor": 4
}
