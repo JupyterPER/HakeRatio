{
 "cells": [
  {
   "cell_type": "markdown",
   "metadata": {},
   "source": [
    "**Authors:** Jozef Hanč, Dominik Borovský <br> *[Faculty of Science](https://www.upjs.sk/en/faculty-of-science/?prefferedLang=EN), P. J. Šafárik University in Košice, Slovakia* <br> emails: [jozef.hanc@upjs.sk](mailto:jozef.hanc@upjs.sk)\n",
    "***\n",
    "\n",
    "# <font color = brown, size=6> Generating quadruple-precision Hake ratio pdf values </font>\n",
    "\n",
    "<font size=5> Computational tools: </font>  **<font size=5>SageMath</font>** \n",
    "\n",
    "---"
   ]
  },
  {
   "cell_type": "markdown",
   "metadata": {},
   "source": [
    "## Sage procedures and functions"
   ]
  },
  {
   "cell_type": "code",
   "execution_count": 1,
   "metadata": {},
   "outputs": [],
   "source": [
    "# python libraries\n",
    "import numpy as np\n",
    "import pandas as pd\n",
    "from numpy import array as v\n",
    "from io import StringIO\n",
    "from time import time\n",
    "\n",
    "import matplotlib.pyplot as plt\n",
    "#plt.style.use('seaborn-v0_8-whitegrid')\n",
    "plt.style.use('seaborn-whitegrid')\n",
    "\n",
    "load('TR_DE_Cheb/runtime.py')"
   ]
  },
  {
   "cell_type": "code",
   "execution_count": 2,
   "metadata": {},
   "outputs": [],
   "source": [
    "# approximate formulas for precisions expressed in bits and decimal places\n",
    "bits = lambda d:round((d+1)*ln(10)/ln(2)) \n",
    "dps = lambda b:round(b*ln(2)/ln(10) - 1)\n",
    "\n",
    "# accuracy in Python\n",
    "def abs_errs(df1, df2):\n",
    "    N = len(df1)\n",
    "    errors = [abs(df1[i]-df2[i]) for i in range(N)]\n",
    "    return errors"
   ]
  },
  {
   "cell_type": "code",
   "execution_count": 3,
   "metadata": {},
   "outputs": [
    {
     "data": {
      "text/plain": [
       "53"
      ]
     },
     "execution_count": 3,
     "metadata": {},
     "output_type": "execute_result"
    }
   ],
   "source": [
    "# double precision is 15 decimal places\n",
    "bits(15)"
   ]
  },
  {
   "cell_type": "code",
   "execution_count": 4,
   "metadata": {},
   "outputs": [
    {
     "data": {
      "text/plain": [
       "(113, 33)"
      ]
     },
     "execution_count": 4,
     "metadata": {},
     "output_type": "execute_result"
    }
   ],
   "source": [
    "# quadrupole precision is 33 decimal places precisions\n",
    "bits(33), dps(113)"
   ]
  },
  {
   "cell_type": "markdown",
   "metadata": {},
   "source": [
    "# Exact x values - quadrupole precision"
   ]
  },
  {
   "cell_type": "code",
   "execution_count": 5,
   "metadata": {},
   "outputs": [],
   "source": [
    "# writing x values with quadruple precision\n",
    "def write_xdata(filename, n, dh, hh, dps = 33):\n",
    "    f = open(filename,\"w\")\n",
    "    RRf = RealField(round((dps+1)*ln(10)/ln(2)) )\n",
    "    data = [RRf(QQ(dh)+(QQ(hh)-QQ(dh))/(n-1)*(i-1)) for i in [1..n]]\n",
    "    for item in data:\n",
    "        print(item, file=f)\n",
    "    f.close()"
   ]
  },
  {
   "cell_type": "markdown",
   "metadata": {},
   "source": [
    "## interval SixSigma $(-4.5,7.5)$\n",
    "\n",
    "The interval for our case of Hake ratio is calculated in Python-HakeRatio-CharFun-Moments.ipynb"
   ]
  },
  {
   "cell_type": "code",
   "execution_count": 6,
   "metadata": {
    "scrolled": true
   },
   "outputs": [
    {
     "name": "stdout",
     "output_type": "stream",
     "text": [
      "10^1 x values: runtime = 0.0021703243255615234 s\n",
      "10^2 x values: runtime = 0.0017015933990478516 s\n",
      "10^3 x values: runtime = 0.00639796257019043 s\n",
      "10^4 x values: runtime = 0.058821916580200195 s\n"
     ]
    }
   ],
   "source": [
    "# writing x values (quadruple precision) \n",
    "xmin, xmax = -9/2,15/2\n",
    "writing = True\n",
    "for n in [1..4]:\n",
    "    tic = time()   # start time\n",
    "    \n",
    "    if writing: \n",
    "        filename = f'xvalues{10^n}.txt'\n",
    "        write_xdata('data/'+filename, 10^n,xmin,xmax)\n",
    "        toc = time()-tic; # end time\n",
    "        print('10^'+str(n)+' x values: runtime =',toc,'s')"
   ]
  },
  {
   "cell_type": "markdown",
   "metadata": {},
   "source": [
    "# Exact pdf values - quadrupole precision"
   ]
  },
  {
   "cell_type": "markdown",
   "metadata": {},
   "source": [
    "## Analytic form $a=3/2, b=1$"
   ]
  },
  {
   "cell_type": "code",
   "execution_count": 7,
   "metadata": {},
   "outputs": [
    {
     "data": {
      "text/html": [
       "<html><script type=\"math/tex; mode=display\">\\newcommand{\\Bold}[1]{\\mathbf{#1}}t \\ {\\mapsto}\\ \\frac{{\\left(\\frac{\\sqrt{2} \\sqrt{\\pi} {\\left(a t + b\\right)} \\operatorname{erf}\\left(\\frac{\\sqrt{2} {\\left(a t + b\\right)}}{2 \\, \\sqrt{t^{2} + 1}}\\right) e^{\\left(\\frac{{\\left(a t + b\\right)}^{2}}{2 \\, {\\left(t^{2} + 1\\right)}}\\right)}}{\\sqrt{t^{2} + 1}} + 2\\right)} e^{\\left(-\\frac{1}{2} \\, a^{2} - \\frac{1}{2} \\, b^{2}\\right)}}{2 \\, \\pi {\\left(t^{2} + 1\\right)}}</script></html>"
      ],
      "text/latex": [
       "$$\\newcommand{\\Bold}[1]{\\mathbf{#1}}t \\ {\\mapsto}\\ \\frac{{\\left(\\frac{\\sqrt{2} \\sqrt{\\pi} {\\left(a t + b\\right)} \\operatorname{erf}\\left(\\frac{\\sqrt{2} {\\left(a t + b\\right)}}{2 \\, \\sqrt{t^{2} + 1}}\\right) e^{\\left(\\frac{{\\left(a t + b\\right)}^{2}}{2 \\, {\\left(t^{2} + 1\\right)}}\\right)}}{\\sqrt{t^{2} + 1}} + 2\\right)} e^{\\left(-\\frac{1}{2} \\, a^{2} - \\frac{1}{2} \\, b^{2}\\right)}}{2 \\, \\pi {\\left(t^{2} + 1\\right)}}$$"
      ],
      "text/plain": [
       "t |--> 1/2*(sqrt(2)*sqrt(pi)*(a*t + b)*erf(1/2*sqrt(2)*(a*t + b)/sqrt(t^2 + 1))*e^(1/2*(a*t + b)^2/(t^2 + 1))/sqrt(t^2 + 1) + 2)*e^(-1/2*a^2 - 1/2*b^2)/(pi*(t^2 + 1))"
      ]
     },
     "metadata": {},
     "output_type": "display_data"
    }
   ],
   "source": [
    "# general definition\n",
    "a, b = var('a,b')\n",
    "fk(t) = exp(-(a^2+b^2)/2)/(pi*(1+t^2))\n",
    "q = (b + a*t)/sqrt(1+t^2)\n",
    "M(a,b,z) = hypergeometric_M(a,b,z)\n",
    "# definition of f_T\n",
    "# formula\n",
    "assume(a*t+b>0)\n",
    "fM(t) = fk(t)*(1+q*exp(1/2*q^2)*integral(exp(-1/2*x^2),x, 0, q))\n",
    "fM.show()"
   ]
  },
  {
   "cell_type": "code",
   "execution_count": 8,
   "metadata": {},
   "outputs": [],
   "source": [
    "h(t) = (sqrt(2*pi)*(a*t + b)*erf(1/2*sqrt(2)*(a*t + b)/sqrt(t^2 + 1))*e^(1/2*(a*t + b)^2/(t^2 + 1))/sqrt(t^2 + 1) + 2)/2\n",
    "fT(t) = fk(t)*h(t)"
   ]
  },
  {
   "cell_type": "code",
   "execution_count": 9,
   "metadata": {},
   "outputs": [
    {
     "data": {
      "text/plain": [
       "0"
      ]
     },
     "execution_count": 9,
     "metadata": {},
     "output_type": "execute_result"
    }
   ],
   "source": [
    "# cross-check\n",
    "(fM(t)-fT(t)).canonicalize_radical()"
   ]
  },
  {
   "cell_type": "code",
   "execution_count": 10,
   "metadata": {},
   "outputs": [],
   "source": [
    "av, bv = 3/2, 1"
   ]
  },
  {
   "cell_type": "code",
   "execution_count": 11,
   "metadata": {},
   "outputs": [
    {
     "data": {
      "text/html": [
       "<html><script type=\"math/tex; mode=display\">\\newcommand{\\Bold}[1]{\\mathbf{#1}}\\frac{{\\left(\\frac{\\sqrt{2} \\sqrt{\\pi} {\\left(3 \\, t + 2\\right)} \\operatorname{erf}\\left(\\frac{\\sqrt{2} {\\left(3 \\, t + 2\\right)}}{4 \\, \\sqrt{t^{2} + 1}}\\right) e^{\\left(\\frac{{\\left(3 \\, t + 2\\right)}^{2}}{8 \\, {\\left(t^{2} + 1\\right)}}\\right)}}{\\sqrt{t^{2} + 1}} + 4\\right)} e^{\\left(-\\frac{13}{8}\\right)}}{4 \\, \\pi {\\left(t^{2} + 1\\right)}}</script></html>"
      ],
      "text/latex": [
       "$$\\newcommand{\\Bold}[1]{\\mathbf{#1}}\\frac{{\\left(\\frac{\\sqrt{2} \\sqrt{\\pi} {\\left(3 \\, t + 2\\right)} \\operatorname{erf}\\left(\\frac{\\sqrt{2} {\\left(3 \\, t + 2\\right)}}{4 \\, \\sqrt{t^{2} + 1}}\\right) e^{\\left(\\frac{{\\left(3 \\, t + 2\\right)}^{2}}{8 \\, {\\left(t^{2} + 1\\right)}}\\right)}}{\\sqrt{t^{2} + 1}} + 4\\right)} e^{\\left(-\\frac{13}{8}\\right)}}{4 \\, \\pi {\\left(t^{2} + 1\\right)}}$$"
      ],
      "text/plain": [
       "1/4*(sqrt(2)*sqrt(pi)*(3*t + 2)*erf(1/4*sqrt(2)*(3*t + 2)/sqrt(t^2 + 1))*e^(1/8*(3*t + 2)^2/(t^2 + 1))/sqrt(t^2 + 1) + 4)*e^(-13/8)/(pi*(t^2 + 1))"
      ]
     },
     "metadata": {},
     "output_type": "display_data"
    }
   ],
   "source": [
    "def fTab(t, a=av, b =bv):\n",
    "    return fT(t).subs(a=av, b=bv)\n",
    "fTab(t).show()"
   ]
  },
  {
   "cell_type": "code",
   "execution_count": 12,
   "metadata": {},
   "outputs": [
    {
     "data": {
      "text/html": [
       "<html><script type=\"math/tex; mode=display\">\\newcommand{\\Bold}[1]{\\mathbf{#1}}\\frac{{\\left(5 \\, \\sqrt{\\pi} \\operatorname{erf}\\left(\\frac{5}{4}\\right) e^{\\frac{25}{16}} + 4\\right)} e^{\\left(-\\frac{13}{8}\\right)}}{8 \\, \\pi}</script></html>"
      ],
      "text/latex": [
       "$$\\newcommand{\\Bold}[1]{\\mathbf{#1}}\\frac{{\\left(5 \\, \\sqrt{\\pi} \\operatorname{erf}\\left(\\frac{5}{4}\\right) e^{\\frac{25}{16}} + 4\\right)} e^{\\left(-\\frac{13}{8}\\right)}}{8 \\, \\pi}$$"
      ],
      "text/plain": [
       "1/8*(5*sqrt(pi)*erf(5/4)*e^(25/16) + 4)*e^(-13/8)/pi"
      ]
     },
     "metadata": {},
     "output_type": "display_data"
    },
    {
     "data": {
      "text/plain": [
       "0.337054208947151"
      ]
     },
     "execution_count": 12,
     "metadata": {},
     "output_type": "execute_result"
    }
   ],
   "source": [
    "fTab(1).show()\n",
    "fTab(1).n()"
   ]
  },
  {
   "cell_type": "code",
   "execution_count": 13,
   "metadata": {},
   "outputs": [
    {
     "data": {
      "text/plain": [
       "0.337054208947151326597489182171496"
      ]
     },
     "execution_count": 13,
     "metadata": {},
     "output_type": "execute_result"
    }
   ],
   "source": [
    "# fTab quadrupole precision\n",
    "dps = 33\n",
    "RRf = RealField(round((dps+1)*ln(10)/ln(2)) )\n",
    "RRf(fTab(1))"
   ]
  },
  {
   "cell_type": "code",
   "execution_count": 14,
   "metadata": {},
   "outputs": [],
   "source": [
    "# generating Marsaglia pdf with quadruple precision\n",
    "def sage_data(n, dh, hh, dps = 33):\n",
    "    RRf = RealField(round((dps+1)*ln(10)/ln(2)) )\n",
    "    xdata = [RRf(QQ(dh)+(QQ(hh)-QQ(dh))/(n-1)*(i-1)) for i in [1..n]]\n",
    "    ydata = [RRf(fTab(xv)) for xv in xdata]\n",
    "    return ydata\n",
    "\n",
    "def write_sage_data(filename, n, dh, hh):\n",
    "    f = open(filename,\"w\")\n",
    "    data = sage_data(n,dh,hh, dps=33)\n",
    "    for item in data:\n",
    "        print(item, file=f)\n",
    "    f.close()"
   ]
  },
  {
   "cell_type": "code",
   "execution_count": 15,
   "metadata": {},
   "outputs": [
    {
     "data": {
      "text/plain": [
       "0.000000000000000000000000000000000"
      ]
     },
     "execution_count": 15,
     "metadata": {},
     "output_type": "execute_result"
    }
   ],
   "source": [
    "data = sage_data(100, xmin, xmax)\n",
    "data[-1]-RRf(fTab(15/2))"
   ]
  },
  {
   "cell_type": "code",
   "execution_count": 16,
   "metadata": {},
   "outputs": [],
   "source": [
    "# writing 10^n pdf values in files\n",
    "writing = False\n",
    "for n in [1..4]:\n",
    "    tic = time()   # start time\n",
    "    \n",
    "    if writing:\n",
    "        filename = f'Sage_QPpdf{10^n}.txt'\n",
    "        write_sage_data('data/'+filename, 10^n,xmin,xmax)\n",
    "        toc = time()-tic; # end time\n",
    "        print('10^'+str(n)+' values: runtime =',toc,'s')"
   ]
  },
  {
   "cell_type": "code",
   "execution_count": 17,
   "metadata": {},
   "outputs": [],
   "source": [
    "fTfast = fast_float(fTab(t),t)"
   ]
  },
  {
   "cell_type": "code",
   "execution_count": 18,
   "metadata": {},
   "outputs": [
    {
     "name": "stdout",
     "output_type": "stream",
     "text": [
      "573 ns ± 9.26 ns per loop (mean ± std. dev. of 3 runs, 1000 loops each)\n"
     ]
    }
   ],
   "source": [
    "rtf = runtime('fTfast(1)')"
   ]
  },
  {
   "cell_type": "code",
   "execution_count": 19,
   "metadata": {},
   "outputs": [
    {
     "name": "stdout",
     "output_type": "stream",
     "text": [
      "436 µs ± 15.1 µs per loop (mean ± std. dev. of 3 runs, 1000 loops each)\n"
     ]
    }
   ],
   "source": [
    "rt = runtime('fTab(1).n()')"
   ]
  },
  {
   "cell_type": "code",
   "execution_count": 20,
   "metadata": {},
   "outputs": [
    {
     "data": {
      "text/plain": [
       "(5.728333489969372e-07, 0.0004363721666547159)"
      ]
     },
     "execution_count": 20,
     "metadata": {},
     "output_type": "execute_result"
    }
   ],
   "source": [
    "rtf.average, rt.average"
   ]
  },
  {
   "cell_type": "code",
   "execution_count": 21,
   "metadata": {},
   "outputs": [
    {
     "data": {
      "text/plain": [
       "761.7785651251409"
      ]
     },
     "execution_count": 21,
     "metadata": {},
     "output_type": "execute_result"
    }
   ],
   "source": [
    "rt.average/rtf.average"
   ]
  },
  {
   "cell_type": "markdown",
   "metadata": {
    "ExecuteTime": {
     "end_time": "2021-04-29T15:59:35.378421Z",
     "start_time": "2021-04-29T15:59:35.366453Z"
    }
   },
   "source": [
    "## Fast SageMath Computation - 1000 points"
   ]
  },
  {
   "cell_type": "code",
   "execution_count": 22,
   "metadata": {
    "ExecuteTime": {
     "end_time": "2021-06-01T21:09:46.856121Z",
     "start_time": "2021-06-01T21:09:43.342475Z"
    }
   },
   "outputs": [
    {
     "data": {
      "image/png": "[encoded data removed]",
      "text/plain": [
       "<Figure size 432x288 with 1 Axes>"
      ]
     },
     "metadata": {},
     "output_type": "display_data"
    }
   ],
   "source": [
    "methods = {'Analytic Sage fast':fTfast}\n",
    "pdf = {m:f for m,f in methods.items()}\n",
    "\n",
    "points = np.linspace(xmin, xmax, 1000)\n",
    "\n",
    "for method in list(pdf.keys()):\n",
    "    yh = [pdf[method](u) for u in points]\n",
    "    plt.plot(points,yh)\n",
    "    \n",
    "plt.title(method)\n",
    "plt.show();"
   ]
  },
  {
   "cell_type": "code",
   "execution_count": 23,
   "metadata": {},
   "outputs": [],
   "source": [
    "N = 3\n",
    "rmin, rmax = -9/2,15/2"
   ]
  },
  {
   "cell_type": "code",
   "execution_count": 24,
   "metadata": {},
   "outputs": [],
   "source": [
    "import pandas as pd"
   ]
  },
  {
   "cell_type": "code",
   "execution_count": 25,
   "metadata": {
    "ExecuteTime": {
     "end_time": "2021-06-01T21:10:18.857627Z",
     "start_time": "2021-06-01T21:10:18.836961Z"
    }
   },
   "outputs": [],
   "source": [
    "# exponents -3, ... , -15\n",
    "benchmark = pd.DataFrame(index = range(3, 16), \n",
    "            columns = methods.keys())\n",
    "benchmark.insert(0r, 'err', v([f\"{10r^(-n):.0e}\" for n in range(3, 16)]))"
   ]
  },
  {
   "cell_type": "code",
   "execution_count": 26,
   "metadata": {},
   "outputs": [
    {
     "data": {
      "text/html": [
       "<div>\n",
       "<style scoped>\n",
       "    .dataframe tbody tr th:only-of-type {\n",
       "        vertical-align: middle;\n",
       "    }\n",
       "\n",
       "    .dataframe tbody tr th {\n",
       "        vertical-align: top;\n",
       "    }\n",
       "\n",
       "    .dataframe thead th {\n",
       "        text-align: right;\n",
       "    }\n",
       "</style>\n",
       "<table border=\"1\" class=\"dataframe\">\n",
       "  <thead>\n",
       "    <tr style=\"text-align: right;\">\n",
       "      <th></th>\n",
       "      <th>err</th>\n",
       "      <th>Analytic Sage fast</th>\n",
       "    </tr>\n",
       "  </thead>\n",
       "  <tbody>\n",
       "    <tr>\n",
       "      <th>3</th>\n",
       "      <td>1e-03</td>\n",
       "      <td>NaN</td>\n",
       "    </tr>\n",
       "    <tr>\n",
       "      <th>4</th>\n",
       "      <td>1e-04</td>\n",
       "      <td>NaN</td>\n",
       "    </tr>\n",
       "    <tr>\n",
       "      <th>5</th>\n",
       "      <td>1e-05</td>\n",
       "      <td>NaN</td>\n",
       "    </tr>\n",
       "    <tr>\n",
       "      <th>6</th>\n",
       "      <td>1e-06</td>\n",
       "      <td>NaN</td>\n",
       "    </tr>\n",
       "    <tr>\n",
       "      <th>7</th>\n",
       "      <td>1e-07</td>\n",
       "      <td>NaN</td>\n",
       "    </tr>\n",
       "    <tr>\n",
       "      <th>8</th>\n",
       "      <td>1e-08</td>\n",
       "      <td>NaN</td>\n",
       "    </tr>\n",
       "    <tr>\n",
       "      <th>9</th>\n",
       "      <td>1e-09</td>\n",
       "      <td>NaN</td>\n",
       "    </tr>\n",
       "    <tr>\n",
       "      <th>10</th>\n",
       "      <td>1e-10</td>\n",
       "      <td>NaN</td>\n",
       "    </tr>\n",
       "    <tr>\n",
       "      <th>11</th>\n",
       "      <td>1e-11</td>\n",
       "      <td>NaN</td>\n",
       "    </tr>\n",
       "    <tr>\n",
       "      <th>12</th>\n",
       "      <td>1e-12</td>\n",
       "      <td>NaN</td>\n",
       "    </tr>\n",
       "    <tr>\n",
       "      <th>13</th>\n",
       "      <td>1e-13</td>\n",
       "      <td>NaN</td>\n",
       "    </tr>\n",
       "    <tr>\n",
       "      <th>14</th>\n",
       "      <td>1e-14</td>\n",
       "      <td>NaN</td>\n",
       "    </tr>\n",
       "    <tr>\n",
       "      <th>15</th>\n",
       "      <td>1e-15</td>\n",
       "      <td>NaN</td>\n",
       "    </tr>\n",
       "  </tbody>\n",
       "</table>\n",
       "</div>"
      ],
      "text/plain": [
       "      err Analytic Sage fast\n",
       "3   1e-03                NaN\n",
       "4   1e-04                NaN\n",
       "5   1e-05                NaN\n",
       "6   1e-06                NaN\n",
       "7   1e-07                NaN\n",
       "8   1e-08                NaN\n",
       "9   1e-09                NaN\n",
       "10  1e-10                NaN\n",
       "11  1e-11                NaN\n",
       "12  1e-12                NaN\n",
       "13  1e-13                NaN\n",
       "14  1e-14                NaN\n",
       "15  1e-15                NaN"
      ]
     },
     "execution_count": 26,
     "metadata": {},
     "output_type": "execute_result"
    }
   ],
   "source": [
    "benchmark"
   ]
  },
  {
   "cell_type": "code",
   "execution_count": 27,
   "metadata": {
    "ExecuteTime": {
     "end_time": "2021-06-01T21:10:21.937623Z",
     "start_time": "2021-06-01T21:10:21.884848Z"
    }
   },
   "outputs": [],
   "source": [
    "# points\n",
    "x = lambda n: np.linspace(rmin, rmax, n)\n",
    "# pre-calculated all values for 10^n points\n",
    "dx = {str(10**(n+1)):np.loadtxt(f'data/xvalues{10**(n+1)}.txt', dtype=np.longdouble) for n in range(N)}\n",
    "dsageQP = {str(10**(n+1)):np.loadtxt(f'data/Sage_QPpdf{10**(n+1)}.txt', dtype=np.longdouble) for n in range(N)}"
   ]
  },
  {
   "cell_type": "code",
   "execution_count": 28,
   "metadata": {},
   "outputs": [
    {
     "data": {
      "text/plain": [
       "(array([-4.5       , -3.16666667, -1.83333333, -0.5       ,  0.83333333,\n",
       "         2.16666667,  3.5       ,  4.83333333,  6.16666667,  7.5       ],\n",
       "       dtype=float128),\n",
       " array([0.01085719, 0.01696408, 0.02719514, 0.05269251, 0.36398372,\n",
       "        0.1220156 , 0.04536257, 0.02230198, 0.01301465, 0.00846441],\n",
       "       dtype=float128))"
      ]
     },
     "execution_count": 28,
     "metadata": {},
     "output_type": "execute_result"
    }
   ],
   "source": [
    "dx['10'], dsageQP['10']"
   ]
  },
  {
   "cell_type": "code",
   "execution_count": 29,
   "metadata": {
    "ExecuteTime": {
     "end_time": "2021-05-03T19:05:49.502521Z",
     "start_time": "2021-05-03T18:38:01.921282Z"
    },
    "scrolled": true
   },
   "outputs": [
    {
     "name": "stdout",
     "output_type": "stream",
     "text": [
      "         method      rel eps        rt      drt%     min-err     max-err     geomean     3geostd\n",
      "N = 1000 Analytic Sage fast  eps =  10^-3 ['5.59e-04', '2%', '0.00e+00', '2.78e-16', '6.14e-18', '1.25e+02']\n",
      "N = 1000 Analytic Sage fast  eps =  10^-4 ['5.47e-04', '1%', '0.00e+00', '2.78e-16', '6.14e-18', '1.25e+02']\n",
      "N = 1000 Analytic Sage fast  eps =  10^-5 ['5.52e-04', '1%', '0.00e+00', '2.78e-16', '6.14e-18', '1.25e+02']\n",
      "N = 1000 Analytic Sage fast  eps =  10^-6 ['5.55e-04', '1%', '0.00e+00', '2.78e-16', '6.14e-18', '1.25e+02']\n",
      "N = 1000 Analytic Sage fast  eps =  10^-7 ['5.46e-04', '2%', '0.00e+00', '2.78e-16', '6.14e-18', '1.25e+02']\n",
      "N = 1000 Analytic Sage fast  eps =  10^-8 ['5.69e-04', '2%', '0.00e+00', '2.78e-16', '6.14e-18', '1.25e+02']\n",
      "N = 1000 Analytic Sage fast  eps =  10^-9 ['5.48e-04', '0%', '0.00e+00', '2.78e-16', '6.14e-18', '1.25e+02']\n",
      "N = 1000 Analytic Sage fast  eps =  10^-10 ['5.66e-04', '1%', '0.00e+00', '2.78e-16', '6.14e-18', '1.25e+02']\n",
      "N = 1000 Analytic Sage fast  eps =  10^-11 ['5.48e-04', '1%', '0.00e+00', '2.78e-16', '6.14e-18', '1.25e+02']\n",
      "N = 1000 Analytic Sage fast  eps =  10^-12 ['5.54e-04', '2%', '0.00e+00', '2.78e-16', '6.14e-18', '1.25e+02']\n",
      "N = 1000 Analytic Sage fast  eps =  10^-13 ['5.59e-04', '0%', '0.00e+00', '2.78e-16', '6.14e-18', '1.25e+02']\n",
      "N = 1000 Analytic Sage fast  eps =  10^-14 ['5.67e-04', '3%', '0.00e+00', '2.78e-16', '6.14e-18', '1.25e+02']\n",
      "N = 1000 Analytic Sage fast  eps =  10^-15 ['5.62e-04', '4%', '0.00e+00', '2.78e-16', '6.14e-18', '1.25e+02']\n",
      "runtime = 2.203929901123047 s\n",
      "*************************\n",
      "         method      rel eps        rt      drt%     min-err     max-err     geomean     3geostd\n"
     ]
    }
   ],
   "source": [
    "# start time\n",
    "rp, Np = 3, 100\n",
    "tic = time()\n",
    "points = dx[str(10**N)].astype(np.float64)\n",
    "\n",
    "print('         method      rel eps        rt      drt%     min-err     max-err     geomean     3geostd')\n",
    "\n",
    "for n in range(3, 16):\n",
    "    eps = 10**(-n)\n",
    "    rt = runtime('[fTfast(xh) for xh in points]', r=rp, n=Np, output=False)\n",
    "    \n",
    "    dm = [fTfast(xh) for xh in points]\n",
    "    dp = dsageQP[str(10**N)]\n",
    "    \n",
    "    ch_abs = abs_errs(dm,dp)\n",
    "    # Geometric mean\n",
    "    ch_abs_adjusted = v(ch_abs) +1e-20\n",
    "    log_ch_abs = np.log(ch_abs_adjusted)\n",
    "    geo_mean = np.exp(np.mean(log_ch_abs))\n",
    "    geo_3sigma = np.exp(3*np.std(log_ch_abs))\n",
    "    # Geometric standard deviation\n",
    "    #ch_rel = rel_errs(dm,dp)\n",
    "    \n",
    "    benchmark.at[n,method] = [rt.average, 100*rt.stdev/rt.average, min(ch_abs), max(ch_abs),\n",
    "                             geo_mean, geo_3sigma\n",
    "                             ] #stdev\n",
    "    \n",
    "    print('N =', 10**N, method, ' eps = ', '10^'+str(-n), \n",
    "              [f'{num:.2e}' if i != 1 else f'{int(round(num))}%' \n",
    "               for i, num in enumerate(benchmark.at[n, method])])\n",
    "    \n",
    "    #end time\n",
    "toc = time()-tic; \n",
    "print('runtime =',toc,'s')\n",
    "print(25*'*')\n",
    "print('         method      rel eps        rt      drt%     min-err     max-err     geomean     3geostd')"
   ]
  },
  {
   "cell_type": "code",
   "execution_count": 30,
   "metadata": {},
   "outputs": [
    {
     "data": {
      "text/html": [
       "<div>\n",
       "<style scoped>\n",
       "    .dataframe tbody tr th:only-of-type {\n",
       "        vertical-align: middle;\n",
       "    }\n",
       "\n",
       "    .dataframe tbody tr th {\n",
       "        vertical-align: top;\n",
       "    }\n",
       "\n",
       "    .dataframe thead th {\n",
       "        text-align: right;\n",
       "    }\n",
       "</style>\n",
       "<table border=\"1\" class=\"dataframe\">\n",
       "  <thead>\n",
       "    <tr style=\"text-align: right;\">\n",
       "      <th></th>\n",
       "      <th>err</th>\n",
       "      <th>Analytic Sage fast</th>\n",
       "    </tr>\n",
       "  </thead>\n",
       "  <tbody>\n",
       "    <tr>\n",
       "      <th>3</th>\n",
       "      <td>1e-03</td>\n",
       "      <td>[0.000559288333170116, 1.8575735413553351, 0.0, 2.777997016450983736e-16, 6.1360564302084314417e-18, 124.554485877372831296]</td>\n",
       "    </tr>\n",
       "    <tr>\n",
       "      <th>4</th>\n",
       "      <td>1e-04</td>\n",
       "      <td>[0.000546501333398434, 1.019149479672302, 0.0, 2.777997016450983736e-16, 6.1360564302084314417e-18, 124.554485877372831296]</td>\n",
       "    </tr>\n",
       "    <tr>\n",
       "      <th>5</th>\n",
       "      <td>1e-05</td>\n",
       "      <td>[0.0005523506664515783, 1.470400790710571, 0.0, 2.777997016450983736e-16, 6.1360564302084314417e-18, 124.554485877372831296]</td>\n",
       "    </tr>\n",
       "    <tr>\n",
       "      <th>6</th>\n",
       "      <td>1e-06</td>\n",
       "      <td>[0.0005545353332612042, 0.9966062038858243, 0.0, 2.777997016450983736e-16, 6.1360564302084314417e-18, 124.554485877372831296]</td>\n",
       "    </tr>\n",
       "    <tr>\n",
       "      <th>7</th>\n",
       "      <td>1e-07</td>\n",
       "      <td>[0.0005460789999536549, 1.627925810193613, 0.0, 2.777997016450983736e-16, 6.1360564302084314417e-18, 124.554485877372831296]</td>\n",
       "    </tr>\n",
       "    <tr>\n",
       "      <th>8</th>\n",
       "      <td>1e-08</td>\n",
       "      <td>[0.0005691443335187311, 1.8596822751115045, 0.0, 2.777997016450983736e-16, 6.1360564302084314417e-18, 124.554485877372831296]</td>\n",
       "    </tr>\n",
       "    <tr>\n",
       "      <th>9</th>\n",
       "      <td>1e-09</td>\n",
       "      <td>[0.0005479879999378076, 0.3617046944193996, 0.0, 2.777997016450983736e-16, 6.1360564302084314417e-18, 124.554485877372831296]</td>\n",
       "    </tr>\n",
       "    <tr>\n",
       "      <th>10</th>\n",
       "      <td>1e-10</td>\n",
       "      <td>[0.0005664313330392664, 0.6228107589649122, 0.0, 2.777997016450983736e-16, 6.1360564302084314417e-18, 124.554485877372831296]</td>\n",
       "    </tr>\n",
       "    <tr>\n",
       "      <th>11</th>\n",
       "      <td>1e-11</td>\n",
       "      <td>[0.0005484103333825867, 0.5482872722690191, 0.0, 2.777997016450983736e-16, 6.1360564302084314417e-18, 124.554485877372831296]</td>\n",
       "    </tr>\n",
       "    <tr>\n",
       "      <th>12</th>\n",
       "      <td>1e-12</td>\n",
       "      <td>[0.0005540893333575999, 1.54771786567703, 0.0, 2.777997016450983736e-16, 6.1360564302084314417e-18, 124.554485877372831296]</td>\n",
       "    </tr>\n",
       "    <tr>\n",
       "      <th>13</th>\n",
       "      <td>1e-13</td>\n",
       "      <td>[0.0005586163332918658, 0.4386848502756783, 0.0, 2.777997016450983736e-16, 6.1360564302084314417e-18, 124.554485877372831296]</td>\n",
       "    </tr>\n",
       "    <tr>\n",
       "      <th>14</th>\n",
       "      <td>1e-14</td>\n",
       "      <td>[0.0005668913332434992, 3.245989016823753, 0.0, 2.777997016450983736e-16, 6.1360564302084314417e-18, 124.554485877372831296]</td>\n",
       "    </tr>\n",
       "    <tr>\n",
       "      <th>15</th>\n",
       "      <td>1e-15</td>\n",
       "      <td>[0.0005618643333824973, 3.623385706558213, 0.0, 2.777997016450983736e-16, 6.1360564302084314417e-18, 124.554485877372831296]</td>\n",
       "    </tr>\n",
       "  </tbody>\n",
       "</table>\n",
       "</div>"
      ],
      "text/plain": [
       "      err  \\\n",
       "3   1e-03   \n",
       "4   1e-04   \n",
       "5   1e-05   \n",
       "6   1e-06   \n",
       "7   1e-07   \n",
       "8   1e-08   \n",
       "9   1e-09   \n",
       "10  1e-10   \n",
       "11  1e-11   \n",
       "12  1e-12   \n",
       "13  1e-13   \n",
       "14  1e-14   \n",
       "15  1e-15   \n",
       "\n",
       "                                                                                                               Analytic Sage fast  \n",
       "3    [0.000559288333170116, 1.8575735413553351, 0.0, 2.777997016450983736e-16, 6.1360564302084314417e-18, 124.554485877372831296]  \n",
       "4     [0.000546501333398434, 1.019149479672302, 0.0, 2.777997016450983736e-16, 6.1360564302084314417e-18, 124.554485877372831296]  \n",
       "5    [0.0005523506664515783, 1.470400790710571, 0.0, 2.777997016450983736e-16, 6.1360564302084314417e-18, 124.554485877372831296]  \n",
       "6   [0.0005545353332612042, 0.9966062038858243, 0.0, 2.777997016450983736e-16, 6.1360564302084314417e-18, 124.554485877372831296]  \n",
       "7    [0.0005460789999536549, 1.627925810193613, 0.0, 2.777997016450983736e-16, 6.1360564302084314417e-18, 124.554485877372831296]  \n",
       "8   [0.0005691443335187311, 1.8596822751115045, 0.0, 2.777997016450983736e-16, 6.1360564302084314417e-18, 124.554485877372831296]  \n",
       "9   [0.0005479879999378076, 0.3617046944193996, 0.0, 2.777997016450983736e-16, 6.1360564302084314417e-18, 124.554485877372831296]  \n",
       "10  [0.0005664313330392664, 0.6228107589649122, 0.0, 2.777997016450983736e-16, 6.1360564302084314417e-18, 124.554485877372831296]  \n",
       "11  [0.0005484103333825867, 0.5482872722690191, 0.0, 2.777997016450983736e-16, 6.1360564302084314417e-18, 124.554485877372831296]  \n",
       "12    [0.0005540893333575999, 1.54771786567703, 0.0, 2.777997016450983736e-16, 6.1360564302084314417e-18, 124.554485877372831296]  \n",
       "13  [0.0005586163332918658, 0.4386848502756783, 0.0, 2.777997016450983736e-16, 6.1360564302084314417e-18, 124.554485877372831296]  \n",
       "14   [0.0005668913332434992, 3.245989016823753, 0.0, 2.777997016450983736e-16, 6.1360564302084314417e-18, 124.554485877372831296]  \n",
       "15   [0.0005618643333824973, 3.623385706558213, 0.0, 2.777997016450983736e-16, 6.1360564302084314417e-18, 124.554485877372831296]  "
      ]
     },
     "metadata": {},
     "output_type": "display_data"
    }
   ],
   "source": [
    "show_allrowscols(benchmark,fullcolwidth=True)"
   ]
  },
  {
   "cell_type": "code",
   "execution_count": 31,
   "metadata": {},
   "outputs": [],
   "source": [
    "benchmark.to_csv('data/Analytic-Sage-fast.csv', index=False)"
   ]
  }
 ],
 "metadata": {
  "kernelspec": {
   "display_name": "SageMath 9.3",
   "language": "sage",
   "name": "sagemath"
  },
  "language_info": {
   "codemirror_mode": {
    "name": "ipython",
    "version": 3
   },
   "file_extension": ".py",
   "mimetype": "text/x-python",
   "name": "python",
   "nbconvert_exporter": "python",
   "pygments_lexer": "ipython3",
   "version": "3.7.10"
  }
 },
 "nbformat": 4,
 "nbformat_minor": 5
}
