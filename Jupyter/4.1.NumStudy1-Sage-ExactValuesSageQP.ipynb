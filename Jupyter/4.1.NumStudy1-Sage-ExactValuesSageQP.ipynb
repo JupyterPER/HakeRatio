{
 "cells": [
  {
   "cell_type": "markdown",
   "id": "ff6f2d9f",
   "metadata": {},
   "source": [
    "**Authors:** Jozef Hanč, Dominik Borovský <br> *[Faculty of Science](https://www.upjs.sk/en/faculty-of-science/?prefferedLang=EN), P. J. Šafárik University in Košice, Slovakia* <br> emails: [jozef.hanc@upjs.sk](mailto:jozef.hanc@upjs.sk)\n",
    "***\n",
    "\n",
    "# <font color = brown, size=6> Generating quadruple-precision Hake ratio pdf values </font>\n",
    "\n",
    "<font size=5> Computational tools: </font>  **<font size=5>SageMath</font>** \n",
    "\n",
    "---"
   ]
  },
  {
   "cell_type": "markdown",
   "id": "4b459743",
   "metadata": {},
   "source": [
    "## Sage procedures and functions"
   ]
  },
  {
   "cell_type": "code",
   "execution_count": null,
   "id": "06e735a8",
   "metadata": {},
   "outputs": [],
   "source": [
    "# python libraries\n",
    "import numpy as np\n",
    "import pandas as pd\n",
    "from numpy import array as v\n",
    "from io import StringIO\n",
    "from time import time\n",
    "\n",
    "import matplotlib.pyplot as plt\n",
    "#plt.style.use('seaborn-v0_8-whitegrid')\n",
    "plt.style.use('seaborn-whitegrid')\n",
    "\n",
    "load('runtime.py')"
   ]
  },
  {
   "cell_type": "code",
   "execution_count": null,
   "id": "ef464476",
   "metadata": {},
   "outputs": [],
   "source": [
    "# approximate formulas for precisions expressed in bits and decimal places\n",
    "bits = lambda d:round((d+1)*ln(10)/ln(2)) \n",
    "dps = lambda b:round(b*ln(2)/ln(10) - 1)\n",
    "\n",
    "# accuracy in Python\n",
    "def abs_errs(df1, df2):\n",
    "    N = len(df1)\n",
    "    errors = [abs(df1[i]-df2[i]) for i in range(N)]\n",
    "    return errors"
   ]
  },
  {
   "cell_type": "code",
   "execution_count": null,
   "id": "ab99828a",
   "metadata": {},
   "outputs": [],
   "source": [
    "# double precision is 15 decimal places\n",
    "bits(15)"
   ]
  },
  {
   "cell_type": "code",
   "execution_count": null,
   "id": "ec122441",
   "metadata": {},
   "outputs": [],
   "source": [
    "# quadrupole precision is 33 decimal places precisions\n",
    "bits(33), dps(113)"
   ]
  },
  {
   "cell_type": "markdown",
   "id": "958cf056",
   "metadata": {},
   "source": [
    "# Exact x values - quadrupole precision"
   ]
  },
  {
   "cell_type": "code",
   "execution_count": null,
   "id": "1c2ee0ff",
   "metadata": {},
   "outputs": [],
   "source": [
    "# writing x values with quadruple precision\n",
    "def write_xdata(filename, n, dh, hh, dps = 33):\n",
    "    f = open(filename,\"w\")\n",
    "    RRf = RealField(round((dps+1)*ln(10)/ln(2)) )\n",
    "    data = [RRf(QQ(dh)+(QQ(hh)-QQ(dh))/(n-1)*(i-1)) for i in [1..n]]\n",
    "    for item in data:\n",
    "        print(item, file=f)\n",
    "    f.close()"
   ]
  },
  {
   "cell_type": "markdown",
   "id": "b8f8064c",
   "metadata": {},
   "source": [
    "## interval SixSigma $(-4.5,7.5)$"
   ]
  },
  {
   "cell_type": "code",
   "execution_count": null,
   "id": "42453f9b",
   "metadata": {
    "scrolled": true
   },
   "outputs": [],
   "source": [
    "# writing x values (quadruple precision) \n",
    "xmin, xmax = -9/2,15/2\n",
    "writing = True\n",
    "for n in [1..4]:\n",
    "    tic = time()   # start time\n",
    "    \n",
    "    if writing: \n",
    "        filename = f'xvalues{10^n}.txt'\n",
    "        write_xdata('data/'+filename, 10^n,xmin,xmax)\n",
    "        toc = time()-tic; # end time\n",
    "        print('10^'+str(n)+' x values: runtime =',toc,'s')"
   ]
  },
  {
   "cell_type": "markdown",
   "id": "49db0ad2",
   "metadata": {},
   "source": [
    "# Exact pdf values - quadrupole precision"
   ]
  },
  {
   "cell_type": "markdown",
   "id": "27042739",
   "metadata": {},
   "source": [
    "## Analytic form $a=3/2, b=1$"
   ]
  },
  {
   "cell_type": "code",
   "execution_count": null,
   "id": "d517a645",
   "metadata": {},
   "outputs": [],
   "source": [
    "# general definition\n",
    "a, b = var('a,b')\n",
    "fk(t) = exp(-(a^2+b^2)/2)/(pi*(1+t^2))\n",
    "q = (b + a*t)/sqrt(1+t^2)\n",
    "M(a,b,z) = hypergeometric_M(a,b,z)\n",
    "# definition of f_T\n",
    "# formula\n",
    "assume(a*t+b>0)\n",
    "fM(t) = fk(t)*(1+q*exp(1/2*q^2)*integral(exp(-1/2*x^2),x, 0, q))\n",
    "fM.show()"
   ]
  },
  {
   "cell_type": "code",
   "execution_count": null,
   "id": "1a80e311",
   "metadata": {},
   "outputs": [],
   "source": [
    "h(t) = (sqrt(2*pi)*(a*t + b)*erf(1/2*sqrt(2)*(a*t + b)/sqrt(t^2 + 1))*e^(1/2*(a*t + b)^2/(t^2 + 1))/sqrt(t^2 + 1) + 2)/2\n",
    "fT(t) = fk(t)*h(t)"
   ]
  },
  {
   "cell_type": "code",
   "execution_count": null,
   "id": "fcbb6046",
   "metadata": {},
   "outputs": [],
   "source": [
    "# cross-check\n",
    "(fM(t)-fT(t)).canonicalize_radical()"
   ]
  },
  {
   "cell_type": "code",
   "execution_count": null,
   "id": "36d914b6",
   "metadata": {},
   "outputs": [],
   "source": [
    "av, bv = 3/2, 1"
   ]
  },
  {
   "cell_type": "code",
   "execution_count": null,
   "id": "7ba4223e",
   "metadata": {},
   "outputs": [],
   "source": [
    "def fTab(t, a=av, b =bv):\n",
    "    return fT(t).subs(a=av, b=bv)\n",
    "fTab(t).show()"
   ]
  },
  {
   "cell_type": "code",
   "execution_count": null,
   "id": "c08e5761",
   "metadata": {},
   "outputs": [],
   "source": [
    "fTab(1).show()\n",
    "fTab(1).n()"
   ]
  },
  {
   "cell_type": "code",
   "execution_count": null,
   "id": "8ee62e09",
   "metadata": {},
   "outputs": [],
   "source": [
    "# fTab quadrupole precision\n",
    "dps = 33\n",
    "RRf = RealField(round((dps+1)*ln(10)/ln(2)) )\n",
    "RRf(fTab(1))"
   ]
  },
  {
   "cell_type": "code",
   "execution_count": null,
   "id": "8fda494c",
   "metadata": {},
   "outputs": [],
   "source": [
    "# generating Marsaglia pdf with quadruple precision\n",
    "def sage_data(n, dh, hh, dps = 33):\n",
    "    RRf = RealField(round((dps+1)*ln(10)/ln(2)) )\n",
    "    xdata = [RRf(QQ(dh)+(QQ(hh)-QQ(dh))/(n-1)*(i-1)) for i in [1..n]]\n",
    "    ydata = [RRf(fTab(xv)) for xv in xdata]\n",
    "    return ydata\n",
    "\n",
    "def write_sage_data(filename, n, dh, hh):\n",
    "    f = open(filename,\"w\")\n",
    "    data = sage_data(n,dh,hh, dps=33)\n",
    "    for item in data:\n",
    "        print(item, file=f)\n",
    "    f.close()"
   ]
  },
  {
   "cell_type": "code",
   "execution_count": null,
   "id": "18abce74",
   "metadata": {},
   "outputs": [],
   "source": [
    "data = sage_data(100, xmin, xmax)\n",
    "data[-1]-RRf(fTab(15/2))"
   ]
  },
  {
   "cell_type": "code",
   "execution_count": null,
   "id": "2e3993a9",
   "metadata": {},
   "outputs": [],
   "source": [
    "# writing 10^n pdf values in files\n",
    "writing = True\n",
    "for n in [1..4]:\n",
    "    tic = time()   # start time\n",
    "    \n",
    "    if writing:\n",
    "        filename = f'Sage_QPpdf{10^n}.txt'\n",
    "        write_sage_data('data/'+filename, 10^n,xmin,xmax)\n",
    "        toc = time()-tic; # end time\n",
    "        print('10^'+str(n)+' values: runtime =',toc,'s')"
   ]
  },
  {
   "cell_type": "code",
   "execution_count": null,
   "id": "dd7b80ee",
   "metadata": {},
   "outputs": [],
   "source": [
    "fTfast = fast_float(fTab(t),t)"
   ]
  },
  {
   "cell_type": "code",
   "execution_count": null,
   "id": "0c6e4127",
   "metadata": {},
   "outputs": [],
   "source": [
    "rtf = runtime('fTfast(1)')"
   ]
  },
  {
   "cell_type": "code",
   "execution_count": null,
   "id": "5390c0b4",
   "metadata": {},
   "outputs": [],
   "source": [
    "rt = runtime('fTab(1).n()')"
   ]
  },
  {
   "cell_type": "code",
   "execution_count": null,
   "id": "6580e97d",
   "metadata": {},
   "outputs": [],
   "source": [
    "rtf.average, rt.average"
   ]
  },
  {
   "cell_type": "code",
   "execution_count": null,
   "id": "237dda9c",
   "metadata": {},
   "outputs": [],
   "source": [
    "rt.average/rtf.average"
   ]
  },
  {
   "cell_type": "markdown",
   "id": "c61baf57",
   "metadata": {
    "ExecuteTime": {
     "end_time": "2021-04-29T15:59:35.378421Z",
     "start_time": "2021-04-29T15:59:35.366453Z"
    }
   },
   "source": [
    "## Fast SageMath Computation - 1000 points"
   ]
  },
  {
   "cell_type": "code",
   "execution_count": null,
   "id": "f062ce7a",
   "metadata": {
    "ExecuteTime": {
     "end_time": "2021-06-01T21:09:46.856121Z",
     "start_time": "2021-06-01T21:09:43.342475Z"
    }
   },
   "outputs": [],
   "source": [
    "methods = {'Analytic Sage fast':fTfast}\n",
    "pdf = {m:f for m,f in methods.items()}\n",
    "\n",
    "points = np.linspace(xmin, xmax, 1000)\n",
    "\n",
    "for method in list(pdf.keys()):\n",
    "    yh = [pdf[method](u) for u in points]\n",
    "    plt.plot(points,yh)\n",
    "    \n",
    "plt.title(method)\n",
    "plt.show();"
   ]
  },
  {
   "cell_type": "code",
   "execution_count": null,
   "id": "03dcb05b",
   "metadata": {},
   "outputs": [],
   "source": [
    "N = 3\n",
    "rmin, rmax = -9/2,15/2"
   ]
  },
  {
   "cell_type": "code",
   "execution_count": null,
   "id": "22fbe60c",
   "metadata": {},
   "outputs": [],
   "source": [
    "import pandas as pd"
   ]
  },
  {
   "cell_type": "code",
   "execution_count": null,
   "id": "168472e7",
   "metadata": {
    "ExecuteTime": {
     "end_time": "2021-06-01T21:10:18.857627Z",
     "start_time": "2021-06-01T21:10:18.836961Z"
    }
   },
   "outputs": [],
   "source": [
    "# exponents -3, ... , -15\n",
    "benchmark = pd.DataFrame(index = range(3, 16), \n",
    "            columns = methods.keys())\n",
    "benchmark.insert(0r, 'err', v([f\"{10r^(-n):.0e}\" for n in range(3, 16)]))"
   ]
  },
  {
   "cell_type": "code",
   "execution_count": null,
   "id": "e1787410",
   "metadata": {},
   "outputs": [],
   "source": [
    "benchmark"
   ]
  },
  {
   "cell_type": "code",
   "execution_count": null,
   "id": "95f08dc5",
   "metadata": {
    "ExecuteTime": {
     "end_time": "2021-06-01T21:10:21.937623Z",
     "start_time": "2021-06-01T21:10:21.884848Z"
    }
   },
   "outputs": [],
   "source": [
    "# points\n",
    "x = lambda n: np.linspace(rmin, rmax, n)\n",
    "# pre-calculated all values for 10^n points\n",
    "dx = {str(10**(n+1)):np.loadtxt(f'data/xvalues{10**(n+1)}.txt', dtype=np.longdouble) for n in range(N)}\n",
    "dsageQP = {str(10**(n+1)):np.loadtxt(f'data/Sage_QPpdf{10**(n+1)}.txt', dtype=np.longdouble) for n in range(N)}"
   ]
  },
  {
   "cell_type": "code",
   "execution_count": null,
   "id": "88028b6a",
   "metadata": {},
   "outputs": [],
   "source": [
    "dx['10'], dsageQP['10']"
   ]
  },
  {
   "cell_type": "code",
   "execution_count": null,
   "id": "1ab58d89",
   "metadata": {
    "ExecuteTime": {
     "end_time": "2021-05-03T19:05:49.502521Z",
     "start_time": "2021-05-03T18:38:01.921282Z"
    },
    "scrolled": true
   },
   "outputs": [],
   "source": [
    "# start time\n",
    "rp, Np = 3, 1000\n",
    "tic = time()\n",
    "points = dx[str(10**N)].astype(np.float64)\n",
    "for n in range(3, 16):\n",
    "    eps = 10**(-n)\n",
    "    rt = runtime('[fTfast(xh) for xh in points]', r=rp, n=Np, output=False)\n",
    "    print('N =', 10**N, method, ' eps =', '10^'+str(-n))\n",
    "    dm = [fTfast(xh) for xh in points]\n",
    "    dp = dsageQP[str(10**N)]\n",
    "    ch_abs = abs_errs(dm,dp)\n",
    "    #ch_rel = rel_errs(dm,dp)\n",
    "    benchmark.at[n,method] = [rt.average, rt.stdev, min(ch_abs), max(ch_abs) \n",
    "                              #min(ch_rel), max(ch_rel)\n",
    "                             ] #stdev\n",
    "#end time\n",
    "toc = time()-tic; \n",
    "print('runtime =',toc,'s')\n",
    "print(25*'*')"
   ]
  },
  {
   "cell_type": "code",
   "execution_count": null,
   "id": "397cbee0",
   "metadata": {},
   "outputs": [],
   "source": [
    "show_allrowscols(benchmark,fullcolwidth=True)"
   ]
  },
  {
   "cell_type": "code",
   "execution_count": null,
   "id": "47af2f96",
   "metadata": {},
   "outputs": [],
   "source": [
    "benchmark.to_csv('data/Analytic-Sage-fast.csv', index=False)"
   ]
  }
 ],
 "metadata": {
  "kernelspec": {
   "display_name": "Python 3 (ipykernel)",
   "language": "python",
   "name": "python3"
  },
  "language_info": {
   "codemirror_mode": {
    "name": "ipython",
    "version": 3
   },
   "file_extension": ".py",
   "mimetype": "text/x-python",
   "name": "python",
   "nbconvert_exporter": "python",
   "pygments_lexer": "ipython3",
   "version": "3.12.6"
  }
 },
 "nbformat": 4,
 "nbformat_minor": 5
}
