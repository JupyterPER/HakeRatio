{
 "cells": [
  {
   "attachments": {},
   "cell_type": "markdown",
   "metadata": {},
   "source": [
    "**Authors:** Jozef Hanč, Martina Hančová  <br> *[Faculty of Science](https://www.upjs.sk/en/faculty-of-science/?prefferedLang=EN), P. J. Šafárik University in Košice, Slovakia* <br> emails: [jozef.hanc@upjs.sk](mailto:jozef.hanc@upjs.sk)\n",
    "***\n",
    "\n",
    "# <font color = brown, size=6> Review - Hypergeometric functions \n",
    "</font>\n",
    "\n",
    "<font size=5> Computational tools: </font>  **<font size=5>SageMath</font>**  \n",
    "\n",
    "---"
   ]
  },
  {
   "cell_type": "markdown",
   "metadata": {},
  "source": [
    "**Definition 1**. Generalized hypergeometric function.  \n",
    "$$\n",
    "\\begin{aligned}\n",
    "{}_{p}F_{q}\\left(\\alpha_{1}, \\alpha_{2}, \\ldots, \\alpha_{p} ; \\beta_{1}, \\beta_{2}, \\ldots, \\beta_{q} ; z\\right) &\\equiv \\\\\n",
    "{}_{p}F_{q}\\left[\\begin{array}{l}\n",
    "\\alpha_{1},\\alpha_{2}, \\ldots,\\alpha_{p} \\\\\n",
    "\\beta_{1}, \\beta_{2}, \\ldots, \\beta_{q}\n",
    "\\end{array}\\right] = \\\\\n",
    "\\sum_{k=0}^{\\infty} \\frac{\\left(\\alpha_{1}\\right)_{k}\\left(\\alpha_{2}\\right)_{k} \\cdots\\left(\\alpha_{p}\\right)_{k}}{\n",
    "\\left(\\beta_{1}\\right)_{k}\\left(\\beta_{2}\\right)_{k} \\cdots\\left(\\beta_{q}\\right)_{k}} \\frac{z^{k}}{k!}\n",
    "\\end{aligned}\n",
    "$$\n"
  ]
  },
  {
   "cell_type": "markdown",
   "metadata": {},
   "source": [
    "## Special cases\n",
    "\n",
    "**Case 1.** Gauss hypergeometric function \n",
    ">$F(\\alpha, \\beta ; \\gamma ; z) \\equiv {}_{2} F_{1}(\\alpha, \\beta ; \\gamma ; z)$\n",
    "\n",
    "http://mathworld.wolfram.com/HypergeometricFunction.html"
   ]
  },
  {
   "cell_type": "code",
   "execution_count": 1,
   "metadata": {
    "ExecuteTime": {
     "end_time": "2021-04-27T22:22:50.752804Z",
     "start_time": "2021-04-27T22:22:50.737771Z"
    },
    "execution": {
     "iopub.execute_input": "2024-11-18T12:31:54.024995Z",
     "iopub.status.busy": "2024-11-18T12:31:54.008735Z",
     "iopub.status.idle": "2024-11-18T12:31:54.617826Z",
     "shell.execute_reply": "2024-11-18T12:31:54.617052Z",
     "shell.execute_reply.started": "2024-11-18T12:31:54.024948Z"
    }
   },
   "outputs": [
    {
     "data": {
      "text/html": [
       "<html>\\(\\displaystyle \\,_2F_1\\left(\\begin{matrix} a,b \\\\ c \\end{matrix} ; z \\right)\\)</html>"
      ],
      "text/latex": [
       "$\\displaystyle \\,_2F_1\\left(\\begin{matrix} a,b \\\\ c \\end{matrix} ; z \\right)$"
      ],
      "text/plain": [
       "hypergeometric((a, b), (c,), z)"
      ]
     },
     "metadata": {},
     "output_type": "display_data"
    }
   ],
   "source": [
    "F(a,b,c,z) = hypergeometric([a,b],[c],z)\n",
    "F(a,b,c,z).show()"
   ]
  },
  {
   "cell_type": "markdown",
   "metadata": {},
   "source": [
    "#### Series"
   ]
  },
  {
   "cell_type": "code",
   "execution_count": 2,
   "metadata": {
    "ExecuteTime": {
     "end_time": "2021-04-27T22:23:03.382224Z",
     "start_time": "2021-04-27T22:23:01.943009Z"
    },
    "execution": {
     "iopub.execute_input": "2024-11-18T12:31:54.621534Z",
     "iopub.status.busy": "2024-11-18T12:31:54.621037Z",
     "iopub.status.idle": "2024-11-18T12:31:54.834374Z",
     "shell.execute_reply": "2024-11-18T12:31:54.833788Z",
     "shell.execute_reply.started": "2024-11-18T12:31:54.621519Z"
    }
   },
   "outputs": [
    {
     "data": {
      "text/html": [
       "<html>\\(\\displaystyle 1 + {(\\frac{a b}{c})} z + {(\\frac{a^{2} b^{2}}{2 \\, {\\left(c + 1\\right)} c} + \\frac{a^{2} b}{2 \\, {\\left(c + 1\\right)} c} + \\frac{a b^{2}}{2 \\, {\\left(c + 1\\right)} c} + \\frac{a b}{2 \\, {\\left(c + 1\\right)} c})} z^{2} + {(\\frac{a^{3} b^{3}}{6 \\, {\\left(c + 2\\right)} {\\left(c + 1\\right)} c} + \\frac{a^{3} b^{2}}{2 \\, {\\left(c + 2\\right)} {\\left(c + 1\\right)} c} + \\frac{a^{2} b^{3}}{2 \\, {\\left(c + 2\\right)} {\\left(c + 1\\right)} c} + \\frac{a^{3} b}{3 \\, {\\left(c + 2\\right)} {\\left(c + 1\\right)} c} + \\frac{3 \\, a^{2} b^{2}}{2 \\, {\\left(c + 2\\right)} {\\left(c + 1\\right)} c} + \\frac{a b^{3}}{3 \\, {\\left(c + 2\\right)} {\\left(c + 1\\right)} c} + \\frac{a^{2} b}{{\\left(c + 2\\right)} {\\left(c + 1\\right)} c} + \\frac{a b^{2}}{{\\left(c + 2\\right)} {\\left(c + 1\\right)} c} + \\frac{2 \\, a b}{3 \\, {\\left(c + 2\\right)} {\\left(c + 1\\right)} c})} z^{3} + {(\\frac{a^{4} b^{4}}{24 \\, {\\left(c + 3\\right)} {\\left(c + 2\\right)} {\\left(c + 1\\right)} c} + \\frac{a^{4} b^{3}}{4 \\, {\\left(c + 3\\right)} {\\left(c + 2\\right)} {\\left(c + 1\\right)} c} + \\frac{a^{3} b^{4}}{4 \\, {\\left(c + 3\\right)} {\\left(c + 2\\right)} {\\left(c + 1\\right)} c} + \\frac{11 \\, a^{4} b^{2}}{24 \\, {\\left(c + 3\\right)} {\\left(c + 2\\right)} {\\left(c + 1\\right)} c} + \\frac{3 \\, a^{3} b^{3}}{2 \\, {\\left(c + 3\\right)} {\\left(c + 2\\right)} {\\left(c + 1\\right)} c} + \\frac{11 \\, a^{2} b^{4}}{24 \\, {\\left(c + 3\\right)} {\\left(c + 2\\right)} {\\left(c + 1\\right)} c} + \\frac{a^{4} b}{4 \\, {\\left(c + 3\\right)} {\\left(c + 2\\right)} {\\left(c + 1\\right)} c} + \\frac{11 \\, a^{3} b^{2}}{4 \\, {\\left(c + 3\\right)} {\\left(c + 2\\right)} {\\left(c + 1\\right)} c} + \\frac{11 \\, a^{2} b^{3}}{4 \\, {\\left(c + 3\\right)} {\\left(c + 2\\right)} {\\left(c + 1\\right)} c} + \\frac{a b^{4}}{4 \\, {\\left(c + 3\\right)} {\\left(c + 2\\right)} {\\left(c + 1\\right)} c} + \\frac{3 \\, a^{3} b}{2 \\, {\\left(c + 3\\right)} {\\left(c + 2\\right)} {\\left(c + 1\\right)} c} + \\frac{121 \\, a^{2} b^{2}}{24 \\, {\\left(c + 3\\right)} {\\left(c + 2\\right)} {\\left(c + 1\\right)} c} + \\frac{3 \\, a b^{3}}{2 \\, {\\left(c + 3\\right)} {\\left(c + 2\\right)} {\\left(c + 1\\right)} c} + \\frac{11 \\, a^{2} b}{4 \\, {\\left(c + 3\\right)} {\\left(c + 2\\right)} {\\left(c + 1\\right)} c} + \\frac{11 \\, a b^{2}}{4 \\, {\\left(c + 3\\right)} {\\left(c + 2\\right)} {\\left(c + 1\\right)} c} + \\frac{3 \\, a b}{2 \\, {\\left(c + 3\\right)} {\\left(c + 2\\right)} {\\left(c + 1\\right)} c})} z^{4} + \\mathcal{O}\\left(z^{5}\\right)\\)</html>"
      ],
      "text/latex": [
       "$\\displaystyle 1 + {(\\frac{a b}{c})} z + {(\\frac{a^{2} b^{2}}{2 \\, {\\left(c + 1\\right)} c} + \\frac{a^{2} b}{2 \\, {\\left(c + 1\\right)} c} + \\frac{a b^{2}}{2 \\, {\\left(c + 1\\right)} c} + \\frac{a b}{2 \\, {\\left(c + 1\\right)} c})} z^{2} + {(\\frac{a^{3} b^{3}}{6 \\, {\\left(c + 2\\right)} {\\left(c + 1\\right)} c} + \\frac{a^{3} b^{2}}{2 \\, {\\left(c + 2\\right)} {\\left(c + 1\\right)} c} + \\frac{a^{2} b^{3}}{2 \\, {\\left(c + 2\\right)} {\\left(c + 1\\right)} c} + \\frac{a^{3} b}{3 \\, {\\left(c + 2\\right)} {\\left(c + 1\\right)} c} + \\frac{3 \\, a^{2} b^{2}}{2 \\, {\\left(c + 2\\right)} {\\left(c + 1\\right)} c} + \\frac{a b^{3}}{3 \\, {\\left(c + 2\\right)} {\\left(c + 1\\right)} c} + \\frac{a^{2} b}{{\\left(c + 2\\right)} {\\left(c + 1\\right)} c} + \\frac{a b^{2}}{{\\left(c + 2\\right)} {\\left(c + 1\\right)} c} + \\frac{2 \\, a b}{3 \\, {\\left(c + 2\\right)} {\\left(c + 1\\right)} c})} z^{3} + {(\\frac{a^{4} b^{4}}{24 \\, {\\left(c + 3\\right)} {\\left(c + 2\\right)} {\\left(c + 1\\right)} c} + \\frac{a^{4} b^{3}}{4 \\, {\\left(c + 3\\right)} {\\left(c + 2\\right)} {\\left(c + 1\\right)} c} + \\frac{a^{3} b^{4}}{4 \\, {\\left(c + 3\\right)} {\\left(c + 2\\right)} {\\left(c + 1\\right)} c} + \\frac{11 \\, a^{4} b^{2}}{24 \\, {\\left(c + 3\\right)} {\\left(c + 2\\right)} {\\left(c + 1\\right)} c} + \\frac{3 \\, a^{3} b^{3}}{2 \\, {\\left(c + 3\\right)} {\\left(c + 2\\right)} {\\left(c + 1\\right)} c} + \\frac{11 \\, a^{2} b^{4}}{24 \\, {\\left(c + 3\\right)} {\\left(c + 2\\right)} {\\left(c + 1\\right)} c} + \\frac{a^{4} b}{4 \\, {\\left(c + 3\\right)} {\\left(c + 2\\right)} {\\left(c + 1\\right)} c} + \\frac{11 \\, a^{3} b^{2}}{4 \\, {\\left(c + 3\\right)} {\\left(c + 2\\right)} {\\left(c + 1\\right)} c} + \\frac{11 \\, a^{2} b^{3}}{4 \\, {\\left(c + 3\\right)} {\\left(c + 2\\right)} {\\left(c + 1\\right)} c} + \\frac{a b^{4}}{4 \\, {\\left(c + 3\\right)} {\\left(c + 2\\right)} {\\left(c + 1\\right)} c} + \\frac{3 \\, a^{3} b}{2 \\, {\\left(c + 3\\right)} {\\left(c + 2\\right)} {\\left(c + 1\\right)} c} + \\frac{121 \\, a^{2} b^{2}}{24 \\, {\\left(c + 3\\right)} {\\left(c + 2\\right)} {\\left(c + 1\\right)} c} + \\frac{3 \\, a b^{3}}{2 \\, {\\left(c + 3\\right)} {\\left(c + 2\\right)} {\\left(c + 1\\right)} c} + \\frac{11 \\, a^{2} b}{4 \\, {\\left(c + 3\\right)} {\\left(c + 2\\right)} {\\left(c + 1\\right)} c} + \\frac{11 \\, a b^{2}}{4 \\, {\\left(c + 3\\right)} {\\left(c + 2\\right)} {\\left(c + 1\\right)} c} + \\frac{3 \\, a b}{2 \\, {\\left(c + 3\\right)} {\\left(c + 2\\right)} {\\left(c + 1\\right)} c})} z^{4} + \\mathcal{O}\\left(z^{5}\\right)$"
      ],
      "text/plain": [
       "1 + (a*b/c)*z + (1/2*a^2*b^2/((c + 1)*c) + 1/2*a^2*b/((c + 1)*c) + 1/2*a*b^2/((c + 1)*c) + 1/2*a*b/((c + 1)*c))*z^2 + (1/6*a^3*b^3/((c + 2)*(c + 1)*c) + 1/2*a^3*b^2/((c + 2)*(c + 1)*c) + 1/2*a^2*b^3/((c + 2)*(c + 1)*c) + 1/3*a^3*b/((c + 2)*(c + 1)*c) + 3/2*a^2*b^2/((c + 2)*(c + 1)*c) + 1/3*a*b^3/((c + 2)*(c + 1)*c) + a^2*b/((c + 2)*(c + 1)*c) + a*b^2/((c + 2)*(c + 1)*c) + 2/3*a*b/((c + 2)*(c + 1)*c))*z^3 + (1/24*a^4*b^4/((c + 3)*(c + 2)*(c + 1)*c) + 1/4*a^4*b^3/((c + 3)*(c + 2)*(c + 1)*c) + 1/4*a^3*b^4/((c + 3)*(c + 2)*(c + 1)*c) + 11/24*a^4*b^2/((c + 3)*(c + 2)*(c + 1)*c) + 3/2*a^3*b^3/((c + 3)*(c + 2)*(c + 1)*c) + 11/24*a^2*b^4/((c + 3)*(c + 2)*(c + 1)*c) + 1/4*a^4*b/((c + 3)*(c + 2)*(c + 1)*c) + 11/4*a^3*b^2/((c + 3)*(c + 2)*(c + 1)*c) + 11/4*a^2*b^3/((c + 3)*(c + 2)*(c + 1)*c) + 1/4*a*b^4/((c + 3)*(c + 2)*(c + 1)*c) + 3/2*a^3*b/((c + 3)*(c + 2)*(c + 1)*c) + 121/24*a^2*b^2/((c + 3)*(c + 2)*(c + 1)*c) + 3/2*a*b^3/((c + 3)*(c + 2)*(c + 1)*c) + 11/4*a^2*b/((c + 3)*(c + 2)*(c + 1)*c) + 11/4*a*b^2/((c + 3)*(c + 2)*(c + 1)*c) + 3/2*a*b/((c + 3)*(c + 2)*(c + 1)*c))*z^4 + Order(z^5)"
      ]
     },
     "metadata": {},
     "output_type": "display_data"
    }
   ],
   "source": [
    "Fseries = F(a,b,c,z).series(z,5)\n",
    "Fseries.show()"
   ]
  },
  {
   "cell_type": "code",
   "execution_count": 3,
   "metadata": {
    "ExecuteTime": {
     "end_time": "2021-04-27T22:23:08.879789Z",
     "start_time": "2021-04-27T22:23:08.869673Z"
    },
    "execution": {
     "iopub.execute_input": "2024-11-18T12:31:54.835365Z",
     "iopub.status.busy": "2024-11-18T12:31:54.834902Z",
     "iopub.status.idle": "2024-11-18T12:31:54.854135Z",
     "shell.execute_reply": "2024-11-18T12:31:54.852872Z",
     "shell.execute_reply.started": "2024-11-18T12:31:54.835349Z"
    }
   },
   "outputs": [],
   "source": [
    "# factor terms of polynomial\n",
    "def factor_terms(polynomial):\n",
    "    # get a list of coefficients\n",
    "    rawcoefs = polynomial.list()\n",
    "    n = len(rawcoefs)\n",
    "    # factor the list of coefficients\n",
    "    coefs = list(map(factor, rawcoefs))\n",
    "    # return factored coefficients of the polynomial\n",
    "    return [coefs[i]*x^i for i in range(n)]    "
   ]
  },
  {
   "cell_type": "code",
   "execution_count": 4,
   "metadata": {
    "ExecuteTime": {
     "end_time": "2021-04-27T22:23:10.076044Z",
     "start_time": "2021-04-27T22:23:09.908626Z"
    },
    "execution": {
     "iopub.execute_input": "2024-11-18T12:31:54.855301Z",
     "iopub.status.busy": "2024-11-18T12:31:54.854767Z",
     "iopub.status.idle": "2024-11-18T12:31:54.932379Z",
     "shell.execute_reply": "2024-11-18T12:31:54.931681Z",
     "shell.execute_reply.started": "2024-11-18T12:31:54.855284Z"
    },
    "scrolled": true
   },
   "outputs": [
    {
     "data": {
      "text/html": [
       "<html>\\(\\displaystyle \\left[1, \\frac{a b x}{c}, \\frac{{\\left(a + 1\\right)} a {\\left(b + 1\\right)} b x^{2}}{2 \\, {\\left(c + 1\\right)} c}, \\frac{{\\left(a + 2\\right)} {\\left(a + 1\\right)} a {\\left(b + 2\\right)} {\\left(b + 1\\right)} b x^{3}}{6 \\, {\\left(c + 2\\right)} {\\left(c + 1\\right)} c}, \\frac{{\\left(a + 3\\right)} {\\left(a + 2\\right)} {\\left(a + 1\\right)} a {\\left(b + 3\\right)} {\\left(b + 2\\right)} {\\left(b + 1\\right)} b x^{4}}{24 \\, {\\left(c + 3\\right)} {\\left(c + 2\\right)} {\\left(c + 1\\right)} c}\\right]\\)</html>"
      ],
      "text/latex": [
       "$\\displaystyle \\left[1, \\frac{a b x}{c}, \\frac{{\\left(a + 1\\right)} a {\\left(b + 1\\right)} b x^{2}}{2 \\, {\\left(c + 1\\right)} c}, \\frac{{\\left(a + 2\\right)} {\\left(a + 1\\right)} a {\\left(b + 2\\right)} {\\left(b + 1\\right)} b x^{3}}{6 \\, {\\left(c + 2\\right)} {\\left(c + 1\\right)} c}, \\frac{{\\left(a + 3\\right)} {\\left(a + 2\\right)} {\\left(a + 1\\right)} a {\\left(b + 3\\right)} {\\left(b + 2\\right)} {\\left(b + 1\\right)} b x^{4}}{24 \\, {\\left(c + 3\\right)} {\\left(c + 2\\right)} {\\left(c + 1\\right)} c}\\right]$"
      ],
      "text/plain": [
       "[1,\n",
       " a*b*x/c,\n",
       " 1/2*(a + 1)*a*(b + 1)*b*x^2/((c + 1)*c),\n",
       " 1/6*(a + 2)*(a + 1)*a*(b + 2)*(b + 1)*b*x^3/((c + 2)*(c + 1)*c),\n",
       " 1/24*(a + 3)*(a + 2)*(a + 1)*a*(b + 3)*(b + 2)*(b + 1)*b*x^4/((c + 3)*(c + 2)*(c + 1)*c)]"
      ]
     },
     "metadata": {},
     "output_type": "display_data"
    }
   ],
   "source": [
    "show(factor_terms(Fseries))"
   ]
  },
  {
   "cell_type": "markdown",
   "metadata": {},
   "source": [
    "## Case 2 - confluent hypergeometric functions"
   ]
  },
  {
   "cell_type": "code",
   "execution_count": 5,
   "metadata": {
    "ExecuteTime": {
     "end_time": "2021-04-27T22:23:14.385026Z",
     "start_time": "2021-04-27T22:23:14.376456Z"
    },
    "execution": {
     "iopub.execute_input": "2024-11-18T12:31:54.933445Z",
     "iopub.status.busy": "2024-11-18T12:31:54.932929Z",
     "iopub.status.idle": "2024-11-18T12:31:54.945858Z",
     "shell.execute_reply": "2024-11-18T12:31:54.944669Z",
     "shell.execute_reply.started": "2024-11-18T12:31:54.933430Z"
    }
   },
   "outputs": [],
   "source": [
    "from sage.functions.hypergeometric import closed_form"
   ]
  },
  {
   "cell_type": "code",
   "execution_count": 6,
   "metadata": {
    "ExecuteTime": {
     "end_time": "2021-04-27T22:23:15.457337Z",
     "start_time": "2021-04-27T22:23:15.450033Z"
    },
    "execution": {
     "iopub.execute_input": "2024-11-18T12:31:54.947040Z",
     "iopub.status.busy": "2024-11-18T12:31:54.946235Z",
     "iopub.status.idle": "2024-11-18T12:31:54.990288Z",
     "shell.execute_reply": "2024-11-18T12:31:54.980699Z",
     "shell.execute_reply.started": "2024-11-18T12:31:54.947021Z"
    }
   },
   "outputs": [],
   "source": [
    "k = var('k', latex_name = r'\\kappa')\n",
    "m = var('m', latex_name = r'\\mu')"
   ]
  },
  {
   "cell_type": "code",
   "execution_count": 7,
   "metadata": {
    "ExecuteTime": {
     "end_time": "2021-04-27T22:35:13.810427Z",
     "start_time": "2021-04-27T22:35:13.701085Z"
    },
    "execution": {
     "iopub.execute_input": "2024-11-18T12:31:54.998163Z",
     "iopub.status.busy": "2024-11-18T12:31:54.990579Z",
     "iopub.status.idle": "2024-11-18T12:31:55.088437Z",
     "shell.execute_reply": "2024-11-18T12:31:55.087652Z",
     "shell.execute_reply.started": "2024-11-18T12:31:54.998143Z"
    }
   },
   "outputs": [],
   "source": [
    "# Kummer function\n",
    "M(a,b,z) = hypergeometric_M(a,b,z)\n",
    "Mg(a,b,z) = M(a,b,z).generalized()\n",
    "\n",
    "# gamma incomplete \n",
    "g(a,z) = gamma_inc_lower(a,z)\n",
    "gg1(a,z) = a^(-1)*z^a*e^(-z)*M(1,1+a,z)\n",
    "gg2(a,z) = a^(-1)*z^a*M(a,1+a,-z)\n",
    "\n",
    "# erf function\n",
    "erf1(z) = 1/sqrt(pi)*gg1(1/2,z^2)\n",
    "erf2(z) = 1/sqrt(pi)*gg2(1/2,z^2)\n",
    "\n",
    "# Tricomi function\n",
    "U(a,b,z) = hypergeometric_U(a,b,z)\n",
    "Ug(a,b,z) = U(a,b,z).generalized()\n",
    "\n",
    "# Whittaker function\n",
    "W(k,m,z) = exp(-z/2)*z^(m+1/2)*U(1/2+m-k,1+2*m,z)\n",
    "Wg(k,m,z) = exp(-z/2)*z^(m+1/2)*Ug(1/2+m-k,1+2*m,z)"
   ]
  },
  {
   "cell_type": "code",
   "execution_count": 8,
   "metadata": {
    "ExecuteTime": {
     "end_time": "2021-04-27T22:35:15.607562Z",
     "start_time": "2021-04-27T22:35:15.597734Z"
    },
    "execution": {
     "iopub.execute_input": "2024-11-18T12:31:55.089797Z",
     "iopub.status.busy": "2024-11-18T12:31:55.089088Z",
     "iopub.status.idle": "2024-11-18T12:31:55.145129Z",
     "shell.execute_reply": "2024-11-18T12:31:55.132130Z",
     "shell.execute_reply.started": "2024-11-18T12:31:55.089781Z"
    }
   },
   "outputs": [
    {
     "data": {
      "text/html": [
       "<html>\\(\\displaystyle M\\left(a, b, z\\right)\\)</html>"
      ],
      "text/latex": [
       "$\\displaystyle M\\left(a, b, z\\right)$"
      ],
      "text/plain": [
       "hypergeometric_M(a, b, z)"
      ]
     },
     "metadata": {},
     "output_type": "display_data"
    },
    {
     "data": {
      "text/html": [
       "<html>\\(\\displaystyle \\,_1F_1\\left(\\begin{matrix} a \\\\ b \\end{matrix} ; z \\right)\\)</html>"
      ],
      "text/latex": [
       "$\\displaystyle \\,_1F_1\\left(\\begin{matrix} a \\\\ b \\end{matrix} ; z \\right)$"
      ],
      "text/plain": [
       "hypergeometric((a,), (b,), z)"
      ]
     },
     "metadata": {},
     "output_type": "display_data"
    }
   ],
   "source": [
    "# Kummer function \n",
    "M(a,b,z).show()\n",
    "Mg(a,b,z).show()"
   ]
  },
  {
   "cell_type": "code",
   "execution_count": 9,
   "metadata": {
    "ExecuteTime": {
     "end_time": "2021-04-27T22:35:18.375558Z",
     "start_time": "2021-04-27T22:35:18.352558Z"
    },
    "execution": {
     "iopub.execute_input": "2024-11-18T12:31:55.167894Z",
     "iopub.status.busy": "2024-11-18T12:31:55.152411Z",
     "iopub.status.idle": "2024-11-18T12:31:55.227822Z",
     "shell.execute_reply": "2024-11-18T12:31:55.208204Z",
     "shell.execute_reply.started": "2024-11-18T12:31:55.167851Z"
    }
   },
   "outputs": [
    {
     "data": {
      "text/html": [
       "<html>\\(\\displaystyle \\gamma\\left(a, z\\right)\\)</html>"
      ],
      "text/latex": [
       "$\\displaystyle \\gamma\\left(a, z\\right)$"
      ],
      "text/plain": [
       "gamma_inc_lower(a, z)"
      ]
     },
     "metadata": {},
     "output_type": "display_data"
    },
    {
     "data": {
      "text/html": [
       "<html>\\(\\displaystyle \\frac{z^{a} e^{\\left(-z\\right)} M\\left(1, a + 1, z\\right)}{a}\\)</html>"
      ],
      "text/latex": [
       "$\\displaystyle \\frac{z^{a} e^{\\left(-z\\right)} M\\left(1, a + 1, z\\right)}{a}$"
      ],
      "text/plain": [
       "z^a*e^(-z)*hypergeometric_M(1, a + 1, z)/a"
      ]
     },
     "metadata": {},
     "output_type": "display_data"
    }
   ],
   "source": [
    "# gamma incomplete function \n",
    "g(a,z).show()\n",
    "gg1(a,z).show()"
   ]
  },
  {
   "cell_type": "code",
   "execution_count": 10,
   "metadata": {
    "ExecuteTime": {
     "end_time": "2021-04-27T22:35:19.743400Z",
     "start_time": "2021-04-27T22:35:19.719803Z"
    },
    "execution": {
     "iopub.execute_input": "2024-11-18T12:31:55.243337Z",
     "iopub.status.busy": "2024-11-18T12:31:55.236843Z",
     "iopub.status.idle": "2024-11-18T12:32:08.687127Z",
     "shell.execute_reply": "2024-11-18T12:32:08.686262Z",
     "shell.execute_reply.started": "2024-11-18T12:31:55.243317Z"
    }
   },
   "outputs": [
    {
     "data": {
      "text/html": [
       "<html>\\(\\displaystyle \\frac{z^{a} M\\left(a, a + 1, -z\\right)}{a}\\)</html>"
      ],
      "text/latex": [
       "$\\displaystyle \\frac{z^{a} M\\left(a, a + 1, -z\\right)}{a}$"
      ],
      "text/plain": [
       "z^a*hypergeometric_M(a, a + 1, -z)/a"
      ]
     },
     "metadata": {},
     "output_type": "display_data"
    },
    {
     "data": {
      "text/html": [
       "<html>\\(\\displaystyle \\frac{z^{a} M\\left(a, a + 1, -z\\right)}{a}\\)</html>"
      ],
      "text/latex": [
       "$\\displaystyle \\frac{z^{a} M\\left(a, a + 1, -z\\right)}{a}$"
      ],
      "text/plain": [
       "z^a*hypergeometric_M(a, a + 1, -z)/a"
      ]
     },
     "metadata": {},
     "output_type": "display_data"
    }
   ],
   "source": [
    "gg2(a,z).show()\n",
    "(gg2(a,z)).canonicalize_radical().show()"
   ]
  },
  {
   "cell_type": "code",
   "execution_count": 11,
   "metadata": {
    "ExecuteTime": {
     "end_time": "2021-04-27T22:35:20.920746Z",
     "start_time": "2021-04-27T22:35:20.855081Z"
    },
    "execution": {
     "iopub.execute_input": "2024-11-18T12:32:08.688686Z",
     "iopub.status.busy": "2024-11-18T12:32:08.687625Z",
     "iopub.status.idle": "2024-11-18T12:32:08.851724Z",
     "shell.execute_reply": "2024-11-18T12:32:08.841303Z",
     "shell.execute_reply.started": "2024-11-18T12:32:08.688668Z"
    }
   },
   "outputs": [
    {
     "data": {
      "text/html": [
       "<html>\\(\\displaystyle \\frac{2 \\, z e^{\\left(-z^{2}\\right)} M\\left(1, \\frac{3}{2}, z^{2}\\right)}{\\sqrt{\\pi}}\\)</html>"
      ],
      "text/latex": [
       "$\\displaystyle \\frac{2 \\, z e^{\\left(-z^{2}\\right)} M\\left(1, \\frac{3}{2}, z^{2}\\right)}{\\sqrt{\\pi}}$"
      ],
      "text/plain": [
       "2*z*e^(-z^2)*hypergeometric_M(1, 3/2, z^2)/sqrt(pi)"
      ]
     },
     "metadata": {},
     "output_type": "display_data"
    },
    {
     "data": {
      "text/html": [
       "<html>\\(\\displaystyle \\frac{2 \\, z M\\left(\\frac{1}{2}, \\frac{3}{2}, -z^{2}\\right)}{\\sqrt{\\pi}}\\)</html>"
      ],
      "text/latex": [
       "$\\displaystyle \\frac{2 \\, z M\\left(\\frac{1}{2}, \\frac{3}{2}, -z^{2}\\right)}{\\sqrt{\\pi}}$"
      ],
      "text/plain": [
       "2*z*hypergeometric_M(1/2, 3/2, -z^2)/sqrt(pi)"
      ]
     },
     "metadata": {},
     "output_type": "display_data"
    }
   ],
   "source": [
    "#erf function\n",
    "erf1(z).canonicalize_radical().show()\n",
    "erf2(z).canonicalize_radical().show()"
   ]
  },
  {
   "cell_type": "code",
   "execution_count": 12,
   "metadata": {
    "ExecuteTime": {
     "end_time": "2021-04-27T22:35:24.319874Z",
     "start_time": "2021-04-27T22:35:24.308617Z"
    },
    "execution": {
     "iopub.execute_input": "2024-11-18T12:32:08.862945Z",
     "iopub.status.busy": "2024-11-18T12:32:08.857621Z",
     "iopub.status.idle": "2024-11-18T12:32:08.918093Z",
     "shell.execute_reply": "2024-11-18T12:32:08.882581Z",
     "shell.execute_reply.started": "2024-11-18T12:32:08.862927Z"
    }
   },
   "outputs": [
    {
     "data": {
      "text/html": [
       "<html>\\(\\displaystyle \\frac{2 \\, \\sqrt{z^{2}} M\\left(\\frac{1}{2}, \\frac{3}{2}, -z^{2}\\right)}{\\sqrt{\\pi}}\\)</html>"
      ],
      "text/latex": [
       "$\\displaystyle \\frac{2 \\, \\sqrt{z^{2}} M\\left(\\frac{1}{2}, \\frac{3}{2}, -z^{2}\\right)}{\\sqrt{\\pi}}$"
      ],
      "text/plain": [
       "2*sqrt(z^2)*hypergeometric_M(1/2, 3/2, -z^2)/sqrt(pi)"
      ]
     },
     "metadata": {},
     "output_type": "display_data"
    }
   ],
   "source": [
    "erf2(z).show()"
   ]
  },
  {
   "cell_type": "code",
   "execution_count": 13,
   "metadata": {
    "ExecuteTime": {
     "end_time": "2021-04-27T22:35:25.989374Z",
     "start_time": "2021-04-27T22:35:25.907787Z"
    },
    "execution": {
     "iopub.execute_input": "2024-11-18T12:32:08.966536Z",
     "iopub.status.busy": "2024-11-18T12:32:08.938341Z",
     "iopub.status.idle": "2024-11-18T12:32:10.900833Z",
     "shell.execute_reply": "2024-11-18T12:32:10.900012Z",
     "shell.execute_reply.started": "2024-11-18T12:32:08.966489Z"
    }
   },
   "outputs": [
    {
     "data": {
      "text/html": [
       "<html>\\(\\displaystyle \\sqrt{\\pi} \\operatorname{erf}\\left(a\\right)\\)</html>"
      ],
      "text/latex": [
       "$\\displaystyle \\sqrt{\\pi} \\operatorname{erf}\\left(a\\right)$"
      ],
      "text/plain": [
       "sqrt(pi)*erf(a)"
      ]
     },
     "metadata": {},
     "output_type": "display_data"
    }
   ],
   "source": [
    "g(1/2,a^2).canonicalize_radical().show()"
   ]
  },
  {
   "cell_type": "code",
   "execution_count": 14,
   "metadata": {
    "ExecuteTime": {
     "end_time": "2021-04-27T22:35:28.007464Z",
     "start_time": "2021-04-27T22:35:27.996377Z"
    },
    "execution": {
     "iopub.execute_input": "2024-11-18T12:32:10.901780Z",
     "iopub.status.busy": "2024-11-18T12:32:10.901149Z",
     "iopub.status.idle": "2024-11-18T12:32:11.029937Z",
     "shell.execute_reply": "2024-11-18T12:32:10.986182Z",
     "shell.execute_reply.started": "2024-11-18T12:32:10.901763Z"
    }
   },
   "outputs": [
    {
     "data": {
      "text/html": [
       "<html>\\(\\displaystyle U\\left(a, b, z\\right)\\)</html>"
      ],
      "text/latex": [
       "$\\displaystyle U\\left(a, b, z\\right)$"
      ],
      "text/plain": [
       "hypergeometric_U(a, b, z)"
      ]
     },
     "metadata": {},
     "output_type": "display_data"
    },
    {
     "data": {
      "text/html": [
       "<html>\\(\\displaystyle \\frac{\\,_2F_0\\left(\\begin{matrix} a,a - b + 1 \\\\  \\end{matrix} ; -\\frac{1}{z} \\right)}{z^{a}}\\)</html>"
      ],
      "text/latex": [
       "$\\displaystyle \\frac{\\,_2F_0\\left(\\begin{matrix} a,a - b + 1 \\\\  \\end{matrix} ; -\\frac{1}{z} \\right)}{z^{a}}$"
      ],
      "text/plain": [
       "hypergeometric((a, a - b + 1), (), -1/z)/z^a"
      ]
     },
     "metadata": {},
     "output_type": "display_data"
    }
   ],
   "source": [
    "# Tricomi function\n",
    "U(a,b,z).show()\n",
    "Ug(a,b,z).show()"
   ]
  },
  {
   "cell_type": "code",
   "execution_count": 15,
   "metadata": {
    "ExecuteTime": {
     "end_time": "2021-04-27T22:35:29.520159Z",
     "start_time": "2021-04-27T22:35:29.499760Z"
    },
    "execution": {
     "iopub.execute_input": "2024-11-18T12:32:11.060005Z",
     "iopub.status.busy": "2024-11-18T12:32:11.045880Z",
     "iopub.status.idle": "2024-11-18T12:32:11.295899Z",
     "shell.execute_reply": "2024-11-18T12:32:11.282774Z",
     "shell.execute_reply.started": "2024-11-18T12:32:11.059977Z"
    }
   },
   "outputs": [
    {
     "data": {
      "text/html": [
       "<html>\\(\\displaystyle z^{{\\mu} + \\frac{1}{2}} e^{\\left(-\\frac{1}{2} \\, z\\right)} U\\left(-{\\kappa} + {\\mu} + \\frac{1}{2}, 2 \\, {\\mu} + 1, z\\right)\\)</html>"
      ],
      "text/latex": [
       "$\\displaystyle z^{{\\mu} + \\frac{1}{2}} e^{\\left(-\\frac{1}{2} \\, z\\right)} U\\left(-{\\kappa} + {\\mu} + \\frac{1}{2}, 2 \\, {\\mu} + 1, z\\right)$"
      ],
      "text/plain": [
       "z^(m + 1/2)*e^(-1/2*z)*hypergeometric_U(-k + m + 1/2, 2*m + 1, z)"
      ]
     },
     "metadata": {},
     "output_type": "display_data"
    },
    {
     "data": {
      "text/html": [
       "<html>\\(\\displaystyle z^{{\\kappa}} e^{\\left(-\\frac{1}{2} \\, z\\right)} \\,_2F_0\\left(\\begin{matrix} -{\\kappa} - {\\mu} + \\frac{1}{2},-{\\kappa} + {\\mu} + \\frac{1}{2} \\\\  \\end{matrix} ; -\\frac{1}{z} \\right)\\)</html>"
      ],
      "text/latex": [
       "$\\displaystyle z^{{\\kappa}} e^{\\left(-\\frac{1}{2} \\, z\\right)} \\,_2F_0\\left(\\begin{matrix} -{\\kappa} - {\\mu} + \\frac{1}{2},-{\\kappa} + {\\mu} + \\frac{1}{2} \\\\  \\end{matrix} ; -\\frac{1}{z} \\right)$"
      ],
      "text/plain": [
       "z^k*e^(-1/2*z)*hypergeometric((-k - m + 1/2, -k + m + 1/2), (), -1/z)"
      ]
     },
     "metadata": {},
     "output_type": "display_data"
    }
   ],
   "source": [
    "W(k,m,z).show()\n",
    "Wg(k,m,z).simplify().show()"
   ]
  },
  {
   "cell_type": "markdown",
   "metadata": {},
   "source": [
    "**Wolfram**  \n",
    "http://mathworld.wolfram.com/IncompleteGammaFunction.html  \n",
    "http://mathworld.wolfram.com/Erf.html  \n",
    "http://mathworld.wolfram.com/ConfluentHypergeometricFunctionoftheFirstKind.html  \n",
    "http://mathworld.wolfram.com/ConfluentHypergeometricFunctionoftheSecondKind.html  \n",
    "http://mathworld.wolfram.com/WhittakerFunction.html\n",
    "\n",
    "**SageMath**\n",
    "http://doc.sagemath.org/html/en/reference/functions/sage/functions/hypergeometric.html\n",
    "\n",
    "**Chapter 13 Confluent Hypergeometric Functions**\n",
    "https://dlmf.nist.gov/13  \n",
    "**Chapter 15 Hypergeometric Function** https://dlmf.nist.gov/15.2"
   ]
  }
 ],
 "metadata": {
  "hide_input": false,
  "kernelspec": {
   "display_name": "Python 3 (ipykernel)",
   "language": "python",
   "name": "python3"
  },
  "language_info": {
   "codemirror_mode": {
    "name": "ipython",
    "version": 3
   },
   "file_extension": ".py",
   "mimetype": "text/x-python",
   "name": "python",
   "nbconvert_exporter": "python",
   "pygments_lexer": "ipython3",
   "version": "3.11.10"
  },
  "varInspector": {
   "cols": {
    "lenName": 16,
    "lenType": 16,
    "lenVar": 40
   },
   "kernels_config": {
    "python": {
     "delete_cmd_postfix": "",
     "delete_cmd_prefix": "del ",
     "library": "var_list.py",
     "varRefreshCmd": "print(var_dic_list())"
    },
    "r": {
     "delete_cmd_postfix": ") ",
     "delete_cmd_prefix": "rm(",
     "library": "var_list.r",
     "varRefreshCmd": "cat(var_dic_list()) "
    }
   },
   "types_to_exclude": [
    "module",
    "function",
    "builtin_function_or_method",
    "instance",
    "_Feature"
   ],
   "window_display": false
  }
 },
 "nbformat": 4,
 "nbformat_minor": 4
}
