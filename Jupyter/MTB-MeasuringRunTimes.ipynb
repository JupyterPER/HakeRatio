{
 "cells": [
  {
   "attachments": {},
   "cell_type": "markdown",
   "id": "5ceee560-d111-4b1a-ae6b-a1ff09291dfd",
   "metadata": {
    "execution": {
     "iopub.execute_input": "2024-11-06T12:15:00.677339Z",
     "iopub.status.busy": "2024-11-06T12:15:00.677131Z",
     "iopub.status.idle": "2024-11-06T12:15:01.598938Z",
     "shell.execute_reply": "2024-11-06T12:15:01.597731Z",
     "shell.execute_reply.started": "2024-11-06T12:15:00.677302Z"
    }
   },
   "source": [
    "**Authors:** Jozef Hanč, Martina Hančová <br> *[Faculty of Science](https://www.upjs.sk/en/faculty-of-science/?prefferedLang=EN), P. J. Šafárik University in Košice, Slovakia* <br> emails: [jozef.hanc@upjs.sk](mailto:jozef.hanc@upjs.sk)\n",
    "***\n",
    "\n",
    "# <font color = brown, size=6> Measuring runtime in MATLAB </font>\n",
    "\n",
    "<font size=5> Computational tools: </font>  **<font size=5>MATLAB</font>** \n",
    "\n",
    "code `time_it.m` \n",
    "\n",
    "---\n",
    "\n",
    "\n"
   ]
  },
  {
   "cell_type": "markdown",
   "id": "3bb42896-1546-4847-bb28-361618f4c649",
   "metadata": {},
   "source": [
    "### Example - Characteristic function of $X_1$\n",
    "$\\varphi_{X_1}(t_1)$\n",
    "\n",
    "Random variable $ X_1 \\sim N(a, 1), a = 1.5 $:\n",
    "- CF: $ \\varphi_{X_1}(t) = e^{i a t - \\frac{t^2}{2}}$"
   ]
  },
  {
   "cell_type": "code",
   "execution_count": 1,
   "id": "52267944-0b37-4a25-8b16-bc8fe357f642",
   "metadata": {
    "execution": {
     "iopub.execute_input": "2024-11-14T21:25:04.830642Z",
     "iopub.status.busy": "2024-11-14T21:25:04.827635Z",
     "iopub.status.idle": "2024-11-14T21:25:05.572445Z",
     "shell.execute_reply": "2024-11-14T21:25:05.572445Z",
     "shell.execute_reply.started": "2024-11-14T21:25:04.830642Z"
    }
   },
   "outputs": [],
   "source": [
    "% characteristic function of X1 ~ N(a,1)\n",
    "a = 1.5;\n",
    "cf1 = @(t1) exp(1i * a * t1 - t1.^2 / 2);"
   ]
  },
  {
   "cell_type": "markdown",
   "id": "5e2a1ff6-c792-453c-a420-2a57c3ee69f5",
   "metadata": {},
   "source": [
    "# Measuring runtime\n",
    "\n",
    "To measure runtime in MATLAB, you can use two primary built-in methods: `timeit` and `tic/toc`."
   ]
  },
  {
   "cell_type": "markdown",
   "id": "3d4466de-f9a5-48b7-a051-b56f1f7aa2d1",
   "metadata": {
    "execution": {
     "iopub.execute_input": "2024-11-13T22:05:54.731322Z",
     "iopub.status.busy": "2024-11-13T22:05:54.731322Z",
     "iopub.status.idle": "2024-11-13T22:05:55.127498Z",
     "shell.execute_reply": "2024-11-13T22:05:55.127498Z",
     "shell.execute_reply.started": "2024-11-13T22:05:54.731322Z"
    }
   },
   "source": [
    "### Matlab built-in `tic/toc`\n",
    "- `tic/toc`: Use for quick, single timing of code blocks. It's less precise due to potential system noise and runtime variability but convenient for exploratory timing."
   ]
  },
  {
   "cell_type": "code",
   "execution_count": 2,
   "id": "bc3abe08-32df-4b53-9ce2-0c1abc076e85",
   "metadata": {
    "execution": {
     "iopub.execute_input": "2024-11-14T21:25:08.506735Z",
     "iopub.status.busy": "2024-11-14T21:25:08.506735Z",
     "iopub.status.idle": "2024-11-14T21:25:08.903970Z",
     "shell.execute_reply": "2024-11-14T21:25:08.903970Z",
     "shell.execute_reply.started": "2024-11-14T21:25:08.506735Z"
    }
   },
   "outputs": [
    {
     "data": {
      "text/html": [
       "<html><body><pre>runtime = 0.0027</pre></body></html>"
      ],
      "text/plain": [
       "runtime = 0.0027"
      ]
     },
     "execution_count": 2,
     "metadata": {},
     "output_type": "execute_result"
    }
   ],
   "source": [
    "tic;\n",
    "t1 = linspace(-4.5, 7, 10000);\n",
    "cft = cf1(t1);\n",
    "runtime = toc"
   ]
  },
  {
   "cell_type": "markdown",
   "id": "f70c81d3-ac3a-4472-b8b2-94d73c499b8e",
   "metadata": {},
   "source": [
    "### Matlab built-in function `timeit`\n",
    "- `timeit`: Use for precise benchmarking, as it averages multiple timings, ensuring reliability by reducing variability and excluding setup overhead. MATLAB doesn't provide an exact number of iterations for each timing because it adapts dynamically based on the function's characteristics. "
   ]
  },
  {
   "cell_type": "code",
   "execution_count": 3,
   "id": "472e9e7f-6433-4d75-8594-59159ade364a",
   "metadata": {
    "execution": {
     "iopub.execute_input": "2024-11-14T21:25:15.826863Z",
     "iopub.status.busy": "2024-11-14T21:25:15.826863Z",
     "iopub.status.idle": "2024-11-14T21:25:16.949073Z",
     "shell.execute_reply": "2024-11-14T21:25:16.949073Z",
     "shell.execute_reply.started": "2024-11-14T21:25:15.826863Z"
    }
   },
   "outputs": [
    {
     "data": {
      "text/html": [
       "<html><body><pre>runtime = 5.4809e-05</pre></body></html>"
      ],
      "text/plain": [
       "runtime = 5.4809e-05"
      ]
     },
     "execution_count": 3,
     "metadata": {},
     "output_type": "execute_result"
    }
   ],
   "source": [
    "t1 = linspace(-4.5, 7, 10000);\n",
    "runtime = timeit(@() cf1(t1));\n",
    "runtime"
   ]
  },
  {
   "cell_type": "markdown",
   "id": "3e8d7124-237a-42d7-8365-16451ed638a7",
   "metadata": {},
   "source": [
    "### Our custom Matlab function `time_it`\n",
    "- `time_it.m`: Combines the flexibility of timing both functions and inline code snippets. Allows control over repetitions and loops, giving detailed statistics (average, best, worst, standard deviation, CV)."
   ]
  },
  {
   "cell_type": "code",
   "execution_count": 4,
   "id": "3da9e35b-012c-47bc-a656-8617416291ac",
   "metadata": {
    "execution": {
     "iopub.execute_input": "2024-11-14T21:25:20.678631Z",
     "iopub.status.busy": "2024-11-14T21:25:20.678631Z",
     "iopub.status.idle": "2024-11-14T21:25:21.056989Z",
     "shell.execute_reply": "2024-11-14T21:25:21.056989Z",
     "shell.execute_reply.started": "2024-11-14T21:25:20.678631Z"
    }
   },
   "outputs": [],
   "source": [
    "% Example Usage\n",
    "% Define input\n",
    "t1_values = linspace(-4.5, 7, 10000);\n",
    "\n",
    "% Set the options for time_it\n",
    "options.r = 10000; % Set the number of runs\n",
    "options.n = 3;  % Set the number of loops  per run\n",
    "options.func_args = {t1_values}; % Arguments to be passed to the function"
   ]
  },
  {
   "cell_type": "markdown",
   "id": "42c78c81-63a5-4489-872d-b3e0eab3a79d",
   "metadata": {},
   "source": [
    "### measuring runtime of a function"
   ]
  },
  {
   "cell_type": "code",
   "execution_count": 5,
   "id": "49ca3ed2-3678-4c62-b1bc-7eb72c2345f7",
   "metadata": {
    "execution": {
     "iopub.execute_input": "2024-11-14T21:25:28.637202Z",
     "iopub.status.busy": "2024-11-14T21:25:28.637202Z",
     "iopub.status.idle": "2024-11-14T21:25:30.578664Z",
     "shell.execute_reply": "2024-11-14T21:25:30.578664Z",
     "shell.execute_reply.started": "2024-11-14T21:25:28.637202Z"
    }
   },
   "outputs": [
    {
     "name": "stdout",
     "output_type": "stream",
     "text": [
      "5.15e-05 s ± 8.95e-06 s (17% of mean) per loop (mean ± std. dev. of 10000 runs, 3 loops each)\n"
     ]
    }
   ],
   "source": [
    "% Measure the runtime of the function using time_it with options\n",
    "runtime = time_it(cf1, options);\n",
    "\n",
    "% Access and display the timing results\n",
    "disp(runtime.output)"
   ]
  },
  {
   "cell_type": "code",
   "execution_count": 6,
   "id": "0f3fa83b-7d9f-42b7-84e3-4fc07ada510d",
   "metadata": {
    "execution": {
     "iopub.execute_input": "2024-11-14T21:25:37.601556Z",
     "iopub.status.busy": "2024-11-14T21:25:37.601556Z",
     "iopub.status.idle": "2024-11-14T21:25:37.995581Z",
     "shell.execute_reply": "2024-11-14T21:25:37.995581Z",
     "shell.execute_reply.started": "2024-11-14T21:25:37.601556Z"
    }
   },
   "outputs": [
    {
     "name": "stdout",
     "output_type": "stream",
     "text": [
      "     output: '5.15e-05 s ± 8.95e-06 s (17% of mean) per loop (mean ± std. dev. of 10000 runs, 3 loops each)'\n",
      "    allruns: [0.0015 0.0012 1.8670e-04 1.8000e-04 2.7430e-04 2.1660e-04 1.5120e-04 1.5540e-04 1.4920e-04 1.5890e-04 1.5000e-04 1.5020e-04 1.5260e-04 2.0710e-04 ... ] (1x10000 double)\n",
      "    average: 5.1516e-05\n",
      "       best: 3.9833e-05\n",
      "      worst: 5.0740e-04\n",
      "      stdev: 8.9482e-06\n",
      "         cv: '17.37%'\n",
      "\n"
     ]
    }
   ],
   "source": [
    "% complete results\n",
    "disp(runtime)"
   ]
  },
  {
   "cell_type": "markdown",
   "id": "269a9970-01dd-42db-b543-c9fd0e3f2025",
   "metadata": {},
   "source": [
    "### measuring runtime of a code snippet"
   ]
  },
  {
   "cell_type": "code",
   "execution_count": 7,
   "id": "40b0bc82-878d-45ee-aed2-629f8d009e03",
   "metadata": {
    "execution": {
     "iopub.execute_input": "2024-11-14T21:25:44.185388Z",
     "iopub.status.busy": "2024-11-14T21:25:44.185388Z",
     "iopub.status.idle": "2024-11-14T21:25:44.553292Z",
     "shell.execute_reply": "2024-11-14T21:25:44.553292Z",
     "shell.execute_reply.started": "2024-11-14T21:25:44.185388Z"
    }
   },
   "outputs": [],
   "source": [
    "% Define input values\n",
    "a = 1.5;\n",
    "cf1 = @(t1) exp(1i * a * t1 - t1.^2 / 2);\n",
    "t1_values = linspace(-4.5, 7, 10000);"
   ]
  },
  {
   "cell_type": "code",
   "execution_count": 8,
   "id": "f4f3414a-b657-47ca-9691-bec6c10a7c5c",
   "metadata": {
    "execution": {
     "iopub.execute_input": "2024-11-14T21:25:45.368157Z",
     "iopub.status.busy": "2024-11-14T21:25:45.368157Z",
     "iopub.status.idle": "2024-11-14T21:25:45.741465Z",
     "shell.execute_reply": "2024-11-14T21:25:45.741465Z",
     "shell.execute_reply.started": "2024-11-14T21:25:45.368157Z"
    }
   },
   "outputs": [],
   "source": [
    "code = 'a = 1.5; cf1 = @(t1) exp(1i * a * t1 - t1.^2 / 2); t1_values = linspace(-4.5, 7, 10000);';"
   ]
  },
  {
   "cell_type": "code",
   "execution_count": 9,
   "id": "c4fa082d-9fc7-453f-acd3-62e86e5db741",
   "metadata": {
    "execution": {
     "iopub.execute_input": "2024-11-14T21:25:47.587286Z",
     "iopub.status.busy": "2024-11-14T21:25:47.586550Z",
     "iopub.status.idle": "2024-11-14T21:25:48.782652Z",
     "shell.execute_reply": "2024-11-14T21:25:48.782652Z",
     "shell.execute_reply.started": "2024-11-14T21:25:47.587286Z"
    }
   },
   "outputs": [
    {
     "name": "stdout",
     "output_type": "stream",
     "text": [
      "2.70e-05 s ± 1.09e-05 s (40% of mean) per loop (mean ± std. dev. of 10000 runs, 3 loops each)\n"
     ]
    }
   ],
   "source": [
    "% Code snippet to measure (as a string)\n",
    "code = 'a = 1.5; cf1 = @(t1) exp(1i * a * t1 - t1.^2 / 2); t1_values = linspace(-4.5, 7, 10000);';\n",
    "\n",
    "% Define options for timing\n",
    "options = struct('r', 10000, 'n', 3); % Adjust repetitions and loops as needed\n",
    "\n",
    "% Measure runtime using the updated time_it function\n",
    "runtime = time_it(code, options);\n",
    "\n",
    "% Display the runtime output\n",
    "disp(runtime.output);"
   ]
  },
  {
   "cell_type": "code",
   "execution_count": 10,
   "id": "75c6734d-92f2-4667-867b-54f9b24fd62e",
   "metadata": {
    "execution": {
     "iopub.execute_input": "2024-11-14T21:25:49.783736Z",
     "iopub.status.busy": "2024-11-14T21:25:49.783736Z",
     "iopub.status.idle": "2024-11-14T21:25:50.155344Z",
     "shell.execute_reply": "2024-11-14T21:25:50.155344Z",
     "shell.execute_reply.started": "2024-11-14T21:25:49.783736Z"
    }
   },
   "outputs": [
    {
     "name": "stdout",
     "output_type": "stream",
     "text": [
      "     output: '2.70e-05 s ± 1.09e-05 s (40% of mean) per loop (mean ± std. dev. of 10000 runs, 3 loops each)'\n",
      "    allruns: [0.0019 0.0017 1.1380e-04 9.4700e-05 1.6170e-04 9.6200e-05 7.4100e-05 9.6600e-05 7.4500e-05 7.6200e-05 7.4000e-05 7.5300e-05 7.6400e-05 6.7400e-05 ... ] (1x10000 double)\n",
      "    average: 2.7003e-05\n",
      "       best: 2.1033e-05\n",
      "      worst: 6.3517e-04\n",
      "      stdev: 1.0894e-05\n",
      "         cv: '40.34%'\n",
      "\n"
     ]
    }
   ],
   "source": [
    "disp(runtime)"
   ]
  },
  {
   "attachments": {},
   "cell_type": "markdown",
   "id": "840dc808-f7b1-4a0d-a766-a38dc0f5a9c8",
   "metadata": {},
   "source": [
    "## MATLAB code `time_it.m`"
   ]
  },
  {
   "cell_type": "code",
   "execution_count": 11,
   "id": "82e9998b-e4d4-493f-82f7-a2ecbb8eb088",
   "metadata": {
    "execution": {
     "iopub.execute_input": "2024-11-13T22:22:34.903810Z",
     "iopub.status.busy": "2024-11-13T22:22:34.903810Z",
     "iopub.status.idle": "2024-11-13T22:22:35.290043Z",
     "shell.execute_reply": "2024-11-13T22:22:35.290043Z",
     "shell.execute_reply.started": "2024-11-13T22:22:34.903810Z"
    }
   },
   "outputs": [],
   "source": [
    "function runtime = time_it(code_input, options)\n",
    "    % time_it - Measure the runtime of a function or code snippet.\n",
    "    % The function is the simple equivalent of Python's %timeit.\n",
    "    %\n",
    "    % Usage:\n",
    "    % runtime = time_it(code_input, options)\n",
    "    %\n",
    "    % Input:\n",
    "    % - code_input: A function handle for the function to be measured or a string with code to be executed.\n",
    "    % - options: A structure with optional fields:\n",
    "    %   - r: Number of repetitions (default = 3)\n",
    "    %   - n: Number of loops per repetition (default = 1000)\n",
    "    %   - func_args: Cell array of arguments to be passed to the function (default = {})\n",
    "    %\n",
    "    % Output:\n",
    "    % - runtime: A structure containing the timing statistics including allruns,\n",
    "    %   average, best, worst, standard deviation (stdev), and coefficient of variation (cv_percent).\n",
    "    %\n",
    "    % 2024 (c) Hanc, Hancova (jozef.hanc@gmail.com)\n",
    "    % Ver.: 11-November-2024 \n",
    "\n",
    "    % Check if at least one argument is provided\n",
    "    if nargin < 1\n",
    "        error('time_it:InsufficientInput', 'The code input must be provided as the argument.');\n",
    "    end\n",
    "\n",
    "    % Set default values for options\n",
    "    if nargin < 2, options = struct(); end\n",
    "\n",
    "    if ~isfield(options, 'r')\n",
    "        options.r = 3; % Default number of repetitions\n",
    "    end\n",
    "\n",
    "    if ~isfield(options, 'n')\n",
    "        options.n = 1000; % Default number of loops per repetition\n",
    "    end\n",
    "\n",
    "    if ~isfield(options, 'func_args')\n",
    "        options.func_args = {}; % Default arguments for the function\n",
    "    end\n",
    "\n",
    "    % Extract options\n",
    "    r = options.r;\n",
    "    n = options.n;\n",
    "    func_args = options.func_args;\n",
    "\n",
    "    % Preallocate array to store the time taken for each repetition\n",
    "    allruns = zeros(1, r);\n",
    "\n",
    "    % Determine if the input is a function handle or a string of code\n",
    "    if isa(code_input, 'function_handle')\n",
    "        % Execute the provided function handle r times, each time executing it n times\n",
    "        for i = 1:r\n",
    "            tic;\n",
    "            for j = 1:n\n",
    "                code_input(func_args{:}); % Call the function handle with its arguments (if any)\n",
    "            end\n",
    "            allruns(i) = toc;\n",
    "        end\n",
    "    elseif ischar(code_input) || isstring(code_input)\n",
    "        % Execute the provided code snippet r times, each time executing it n times\n",
    "        for i = 1:r\n",
    "            tic;\n",
    "            for j = 1:n\n",
    "                evalin('base', code_input); % Evaluate the code snippet in the base workspace\n",
    "            end\n",
    "            allruns(i) = toc;\n",
    "        end\n",
    "    else\n",
    "        error('time_it:InvalidInput', 'The code input must be either a function handle or a string of code.');\n",
    "    end\n",
    "\n",
    "    % Calculate per-loop times\n",
    "    per_loop_times = allruns / n;\n",
    "\n",
    "    % Calculate summary characteristics\n",
    "    mean_time = mean(per_loop_times);\n",
    "    std_time = std(per_loop_times);\n",
    "    best_time = min(per_loop_times);\n",
    "    worst_time = max(per_loop_times);\n",
    "\n",
    "    % the coefficient of variation (cv) in %\n",
    "    if mean_time ~= 0\n",
    "        cv = (std_time / mean_time) * 100;\n",
    "    else\n",
    "        cv = NaN; % Handle division by zero if the average is zero\n",
    "    end\n",
    "\n",
    "    % Store timing results in a structure based on per-loop times\n",
    "    runtime.output = sprintf('%.2e s ± %.2e s (%.2g%% of mean) per loop (mean ± std. dev. of %d runs, %d loops each)', mean_time, std_time, cv, r, n);\n",
    "    runtime.allruns = allruns;\n",
    "    runtime.average = mean_time;\n",
    "    runtime.best = best_time;\n",
    "    runtime.worst = worst_time;\n",
    "    runtime.stdev = std_time;\n",
    "    runtime.cv = sprintf('%.2f%%', cv);\n",
    "end\n",
    "\n",
    "% Original code for executing strings without 'evalin':\n",
    "% elseif ischar(code_input) || isstring(code_input)\n",
    "%     % Execute the provided code snippet r times, each time executing it n times\n",
    "%     for i = 1:r\n",
    "%         tic;\n",
    "%         for j = 1:n\n",
    "%             eval(code_input); % Evaluate the code snippet\n",
    "%         end\n",
    "%         allruns(i) = toc;\n",
    "%     end\n"
   ]
  }
 ],
 "metadata": {
  "kernelspec": {
   "display_name": "MATLAB Kernel",
   "language": "matlab",
   "name": "jupyter_matlab_kernel"
  },
  "language_info": {
   "file_extension": ".m",
   "mimetype": "text/x-matlab",
   "name": "matlab"
  }
 },
 "nbformat": 4,
 "nbformat_minor": 5
}
