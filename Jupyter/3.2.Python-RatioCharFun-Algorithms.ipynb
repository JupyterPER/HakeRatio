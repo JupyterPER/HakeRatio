{
 "cells": [
  {
   "cell_type": "markdown",
   "id": "50ff616b-6399-472f-bfe6-221fa23a670d",
   "metadata": {
    "execution": {
     "iopub.execute_input": "2024-11-06T12:15:00.677339Z",
     "iopub.status.busy": "2024-11-06T12:15:00.677131Z",
     "iopub.status.idle": "2024-11-06T12:15:01.598938Z",
     "shell.execute_reply": "2024-11-06T12:15:01.597731Z",
     "shell.execute_reply.started": "2024-11-06T12:15:00.677302Z"
    }
   },
   "source": [
    "# Numerical inversion of ratio: Broda-Kan Approach\n",
    "\n",
    "## Python+Numba (Algorithms)"
   ]
  },
  {
   "cell_type": "markdown",
   "id": "0071d1ef-7b7d-4c23-8db9-07493b656fdb",
   "metadata": {},
   "source": [
    "**Section 3.2:** Inversion formula for ratio $T$ of independent RVs $X_1,X_2$\n",
    "$$\n",
    "f_T(x) = \\frac{1}{\\pi^2} \\int_0^{+\\infty} \\int_{-\\infty}^{+\\infty} \\Re\\left\\{\\frac{\\varphi_{X_1}(t_1)}{t_2} \\varphi_{X_2}^{\\prime}(-t_2 - x t_1)\\right\\} d t_1 d t_2.\n",
    "$$\n",
    "\n",
    "**Ref.** Hanč J., Hančová M., Borovský D., Probability distributions and calculations for Hake’s ratio statistics in measuring effect size, \n",
    "*preprint submitted to Statistical Papers*"
   ]
  },
  {
   "cell_type": "markdown",
   "id": "aaa4da32-6bb7-4f7c-a3de-0178a8031120",
   "metadata": {},
   "source": [
    "# Hake ratio as an example\n",
    "\n",
    "For ratio of independent normal variables:  $T = X_1/X_2$\n",
    "\n",
    "- Numerator $ X_1 \\sim N(a, 1) $:\n",
    "- Denominator $ X_2 \\sim N(b, 1) $:"
   ]
  },
  {
   "cell_type": "markdown",
   "id": "2867615e-ae9d-46d1-a009-a2b2fa0d1a53",
   "metadata": {},
   "source": [
    "## INTEGRAND for integration"
   ]
  },
  {
   "cell_type": "markdown",
   "id": "3bb42896-1546-4847-bb28-361618f4c649",
   "metadata": {},
   "source": [
    "### CF of $X_1$\n",
    "$\\varphi_{X_1}(t_1)$\n",
    "\n",
    "**Hake ratio** - For ratio of indepedent normal variables in $T = X_1/X_2$\n",
    "\n",
    "Numerator $ X_1 \\sim N(a, 1), a = 1.5 $:\n",
    "- CF: $ \\varphi_{X_1}(t) = e^{i a t - \\frac{t^2}{2}}$\n",
    "\n",
    "Bivariate ratio CF of $X_1$\n",
    "- CF$_d$: $ \\dfrac{\\varphi_{X_1}(t_1)}{t_2}$ "
   ]
  },
  {
   "cell_type": "code",
   "execution_count": 1,
   "id": "69048b28-c417-425c-aa28-9ba9169f6ff5",
   "metadata": {
    "execution": {
     "iopub.execute_input": "2024-11-17T16:49:16.985807Z",
     "iopub.status.busy": "2024-11-17T16:49:16.985807Z",
     "iopub.status.idle": "2024-11-17T16:49:16.988992Z",
     "shell.execute_reply": "2024-11-17T16:49:16.988591Z",
     "shell.execute_reply.started": "2024-11-17T16:49:16.985807Z"
    }
   },
   "outputs": [],
   "source": [
    "# characteristic function of X1 ~ N(a,1)\n",
    "a = 1.5\n",
    "cf1 = lambda t1: np.exp(1j * a * t1 - t1**2 / 2)"
   ]
  },
  {
   "cell_type": "code",
   "execution_count": 2,
   "id": "5e8e2ea8-238e-47d8-8853-2fb811dc19fb",
   "metadata": {
    "execution": {
     "iopub.execute_input": "2024-11-17T16:49:18.075280Z",
     "iopub.status.busy": "2024-11-17T16:49:18.075280Z",
     "iopub.status.idle": "2024-11-17T16:49:18.077840Z",
     "shell.execute_reply": "2024-11-17T16:49:18.077840Z",
     "shell.execute_reply.started": "2024-11-17T16:49:18.075280Z"
    }
   },
   "outputs": [],
   "source": [
    "# bivariate cf1 divided by t2\n",
    "cf1_d = lambda t: cf1(t[:,0]) / t[:,1]"
   ]
  },
  {
   "cell_type": "code",
   "execution_count": 3,
   "id": "a9e8168b-ffce-49eb-b180-fcfc6a2dfbfe",
   "metadata": {
    "execution": {
     "iopub.execute_input": "2024-11-17T16:49:18.986178Z",
     "iopub.status.busy": "2024-11-17T16:49:18.986178Z",
     "iopub.status.idle": "2024-11-17T16:49:19.600623Z",
     "shell.execute_reply": "2024-11-17T16:49:19.600623Z",
     "shell.execute_reply.started": "2024-11-17T16:49:18.986178Z"
    }
   },
   "outputs": [],
   "source": [
    "# numba versions of cf1 and cf1_d\n",
    "from numba import njit, jit, vectorize, float64, prange\n",
    "\n",
    "@njit(fastmath=True)\n",
    "def cf1n(t1, a=1.5):\n",
    "    return np.exp(1j * a * t1 - t1**2 / 2)\n",
    "\n",
    "# Numba version of cf1_d\n",
    "@njit(fastmath=True)\n",
    "def cf1n_d(t, a=1.5):\n",
    "    return np.exp(1j * a * t[:, 0] - t[:, 0]**2 / 2) / t[:, 1]"
   ]
  },
  {
   "cell_type": "markdown",
   "id": "b2b05c42-5e2c-412c-82e6-07b604f638fd",
   "metadata": {},
   "source": [
    "### Derivative of CF of $X_2$\n",
    "$ \\varphi_{X_2}'(t_2)$"
   ]
  },
  {
   "cell_type": "markdown",
   "id": "f3c798b4-46f0-4881-aab1-c728564443b3",
   "metadata": {},
   "source": [
    "**Hake ratio** - For ratio of indepedent normal variables in $T = X_1/X_2$\n",
    "\n",
    "Denominator $ X_2 \\sim N(b, 1) $, $ b = 1 $\\:\n",
    "- CF: $ \\varphi_{X_2}(t) = e^{i b t - \\frac{t^2}{2}}$\n",
    "- CF derivative: $\\varphi_{X_2}'(t) = \\left( i b - t \\right) e^{i  bt - \\frac{t^2}{2}}$"
   ]
  },
  {
   "cell_type": "code",
   "execution_count": 4,
   "id": "66d108a8-5b28-47d4-b91f-4b3f5e810071",
   "metadata": {
    "execution": {
     "iopub.execute_input": "2024-11-17T16:49:24.312232Z",
     "iopub.status.busy": "2024-11-17T16:49:24.312232Z",
     "iopub.status.idle": "2024-11-17T16:49:24.314898Z",
     "shell.execute_reply": "2024-11-17T16:49:24.314898Z",
     "shell.execute_reply.started": "2024-11-17T16:49:24.312232Z"
    }
   },
   "outputs": [],
   "source": [
    "# derivative of characteristic function of X2\n",
    "b = 1\n",
    "cf2 = lambda t2: np.exp(1j * b * t2 - t2**2 / 2)\n",
    "cf2_dif = lambda t2: (1j * b - t2) * np.exp(1j * b * t2 - t2**2 / 2)"
   ]
  },
  {
   "cell_type": "code",
   "execution_count": 5,
   "id": "12aad1c8-0457-4510-8389-a1aa24d824a3",
   "metadata": {
    "execution": {
     "iopub.execute_input": "2024-11-17T16:49:25.377057Z",
     "iopub.status.busy": "2024-11-17T16:49:25.377057Z",
     "iopub.status.idle": "2024-11-17T16:49:25.380329Z",
     "shell.execute_reply": "2024-11-17T16:49:25.380329Z",
     "shell.execute_reply.started": "2024-11-17T16:49:25.377057Z"
    }
   },
   "outputs": [],
   "source": [
    "# Numba versions of cf2 and cf2_dif functions\n",
    "@njit(fastmath=True)\n",
    "def cf2n(t2, b=1):\n",
    "    return np.exp(1j * b * t2 - t2**2 / 2)\n",
    "\n",
    "@njit(fastmath=True)\n",
    "def cf2n_dif(t2, b=1):\n",
    "    return (1j * b - t2) * np.exp(1j * b * t2 - t2**2 / 2)"
   ]
  },
  {
   "cell_type": "code",
   "execution_count": 6,
   "id": "b16d4fc0",
   "metadata": {
    "execution": {
     "iopub.execute_input": "2024-11-17T16:49:26.717407Z",
     "iopub.status.busy": "2024-11-17T16:49:26.717407Z",
     "iopub.status.idle": "2024-11-17T16:49:26.721356Z",
     "shell.execute_reply": "2024-11-17T16:49:26.720932Z",
     "shell.execute_reply.started": "2024-11-17T16:49:26.717407Z"
    }
   },
   "outputs": [],
   "source": [
    "# Numerical derivative of X2 using finite differences\n",
    "h = 1e-5\n",
    "cf2_dif_num = lambda x: (cf2(x + h) - cf2(x - h)) / (2*h)\n",
    "cf2_dif_num2 = lambda x: (4/3 * (cf2(x + h) - cf2(x - h)) / (2*h)) - (1/3 * (cf2(x + 2*h) - cf2(x - 2*h)) / (4*h))"
   ]
  },
  {
   "cell_type": "code",
   "execution_count": 7,
   "id": "10964cb1",
   "metadata": {
    "execution": {
     "iopub.execute_input": "2024-11-17T16:49:27.298901Z",
     "iopub.status.busy": "2024-11-17T16:49:27.298901Z",
     "iopub.status.idle": "2024-11-17T16:49:27.305333Z",
     "shell.execute_reply": "2024-11-17T16:49:27.305333Z",
     "shell.execute_reply.started": "2024-11-17T16:49:27.298901Z"
    }
   },
   "outputs": [],
   "source": [
    "# Numba version of the numerical derivative functions using finite differences\n",
    "@njit(fastmath=True)\n",
    "def cf2n_dif_num(x, h=1e-5, b=1):\n",
    "    return (cf2n(x + h, b) - cf2n(x - h, b)) / (2 * h)\n",
    "\n",
    "@njit(fastmath=True)\n",
    "def cf2n_dif_num2(x, h=1e-5, b=1):\n",
    "    return (4/3 * (cf2n(x + h, b) - cf2n(x - h, b)) / (2 * h)) - (1/3 * (cf2n(x + 2*h, b) - cf2n(x - 2*h, b)) / (4 * h))"
   ]
  },
  {
   "cell_type": "markdown",
   "id": "0f9505b8-4ee9-494c-adff-be4058151b32",
   "metadata": {},
   "source": [
    "**Note: Accurate numerical derivative**  \n",
    "*Midpoint approximation*\n",
    "$$\n",
    "q^{\\prime}(x) = \\frac{q(x+h) - q(x-h)}{2h} + O(h^2).\n",
    "$$\n",
    "*Richardson extrapolation*\n",
    "$$\n",
    "q^{\\prime}(x) = \\frac{4}{3} \\frac{q(x+h) - q(x-h)}{2 h} - \\frac{1}{3} \\frac{q(x+2 h) - q(x-2 h)}{4 h} + O\\left(h^4\\right).\n",
    "$$"
   ]
  },
  {
   "cell_type": "markdown",
   "id": "ec5b3764-74e9-46a1-a2b1-0e6a87663c8f",
   "metadata": {},
   "source": [
    "# 2D Integration"
   ]
  },
  {
   "cell_type": "markdown",
   "id": "d85ddd08-7b1b-4948-b9e8-4ef01ed46522",
   "metadata": {},
   "source": [
    "**Section 3.2:** Inversion formula for ratio $T$ of independent RVs $X_1,X_2$\n",
    "$$\n",
    "f_T(x) \\equiv f(x_1, x_2 = 1) = \\frac{1}{\\pi^2} \\int_{-\\infty}^{+\\infty} \\int_0^{+\\infty} \\Re\\left\\{\\varphi_{X_2}^{\\prime}(- x_1 t_1 - x_2 t_2)\\,\\frac{\\varphi_{X_1}(t_1)}{t_2} \\right\\} d t_2 d t_1.\n",
    "$$"
   ]
  },
  {
   "attachments": {},
   "cell_type": "markdown",
   "id": "35295830-f89b-4d8a-8345-3d01b014183c",
   "metadata": {},
   "source": [
    "Numerical quadrature (according to Mijanović et al 2023)\n",
    "$$\n",
    "f\\left(x_1, x_2\\right)\\approx\\frac{1}{\\pi^2} h_1 h_2 \\sum_{v_2=-N}^{N} \\sum_{v_1=0}^{N}  \\Re\\left\\{ \\varphi_{X_2}^{\\prime}(- x_1 b_1 - x_2 b_2) \\frac{\\varphi_{X_1}(b_1)}{b_2}\\right\\}$$\n",
    "\n",
    "$$b_1=h_1\\left(v_1+0.5\\right), b_2=h_2\\left(v_2+0.5\\right)$$\n",
    "\n",
    "**Refs.**\n",
    "- Mijanović, Andjela, Božidar V. Popović, and Viktor Witkovský. 2023. “A Numerical Inversion of the Bivariate Characteristic Function.” Applied Mathematics and Computation 443:127807. https://doi.org/10.1016/j.amc.2022.127807.\n",
    "\n",
    "- Original Matlab code for bivariate cfs  \n",
    "https://github.com/witkovsky/CharFunTool/blob/master/CF_InvAlgorithms/cf2Dist2D.m\n",
    "\n"
   ]
  },
  {
   "cell_type": "markdown",
   "id": "7bd74cb4-1821-483a-aacb-0d037d785d2e",
   "metadata": {
    "execution": {
     "iopub.execute_input": "2024-11-06T13:20:43.652720Z",
     "iopub.status.busy": "2024-11-06T13:20:43.652383Z",
     "iopub.status.idle": "2024-11-06T13:20:43.784050Z",
     "shell.execute_reply": "2024-11-06T13:20:43.783577Z",
     "shell.execute_reply.started": "2024-11-06T13:20:43.652683Z"
    }
   },
   "source": [
    "## INPUT PARAMETERS for integration"
   ]
  },
  {
   "cell_type": "code",
   "execution_count": 8,
   "id": "c902e3a6-e47f-4321-9855-2c9820bce7ba",
   "metadata": {
    "execution": {
     "iopub.execute_input": "2024-11-17T16:49:36.748974Z",
     "iopub.status.busy": "2024-11-17T16:49:36.748974Z",
     "iopub.status.idle": "2024-11-17T16:49:36.751737Z",
     "shell.execute_reply": "2024-11-17T16:49:36.751737Z",
     "shell.execute_reply.started": "2024-11-17T16:49:36.748974Z"
    }
   },
   "outputs": [],
   "source": [
    "# Numpy auxiliary functions\n",
    "\n",
    "# Lambda function to create an array of integers from v1 to v2 inclusive\n",
    "s = lambda v1, v2: np.arange(v1, v2 + 1)\n",
    "\n",
    "# Import specific numpy functionalities\n",
    "from numpy import array as v, pi as pi"
   ]
  },
  {
   "cell_type": "code",
   "execution_count": 9,
   "id": "96d55b72",
   "metadata": {
    "execution": {
     "iopub.execute_input": "2024-11-17T16:49:37.972756Z",
     "iopub.status.busy": "2024-11-17T16:49:37.972756Z",
     "iopub.status.idle": "2024-11-17T16:49:37.977507Z",
     "shell.execute_reply": "2024-11-17T16:49:37.977296Z",
     "shell.execute_reply.started": "2024-11-17T16:49:37.972756Z"
    }
   },
   "outputs": [],
   "source": [
    "# parameters for boundaries\n",
    "SixSigmaRule = 6\n",
    "tolDiff = 1e-6\n",
    "# accuracy for cf functions\n",
    "cftTol = 1e-14\n",
    "# tunnig constant for more exact results\n",
    "k = 3"
   ]
  },
  {
   "cell_type": "markdown",
   "id": "df0bd8b7-c534-4973-88c9-326fadd58b59",
   "metadata": {
    "execution": {
     "iopub.execute_input": "2024-11-06T13:21:38.148479Z",
     "iopub.status.busy": "2024-11-06T13:21:38.148301Z",
     "iopub.status.idle": "2024-11-06T13:21:38.284932Z",
     "shell.execute_reply": "2024-11-06T13:21:38.282897Z",
     "shell.execute_reply.started": "2024-11-06T13:21:38.148465Z"
    }
   },
   "source": [
    "## BOUNDARIES for integral\n",
    "\n",
    "The mean and standard deviation of the random vector $X=\\left(X_1, X_2\\right)$ from the given marginal CFs using the higher-order methods for approximating the derivatives. In particular, we use the following estimates as Mijanović et al, 2023:\n",
    "\n",
    "$$\n",
    "\\begin{aligned}\n",
    "& \\operatorname{mean}\\left(X_1\\right)=\\left(\\frac{8 \\Im(\\mathrm{cf} 1(\\delta))}{5 \\delta}-\\frac{2 \\Im(\\mathrm{cf} 1(2 \\delta))}{5 \\delta}+\\frac{8 \\Im(\\mathrm{cf} 1(3 \\delta))}{105 \\delta}-\\frac{2 \\Im(\\mathrm{cf} 1(4 \\delta))}{280 \\delta}\\right), \\\\\n",
    "& \\operatorname{mo}_2\\left(X_1\\right)=\\left(\\frac{205}{72 \\delta^2}-\\frac{16 \\Re(\\mathrm{cf} 1(\\delta))}{5 \\delta^2}+\\frac{2 \\Re(\\mathrm{cf} 1(2 \\delta))}{5 \\delta^2}-\\frac{16 \\Re(\\mathrm{cf} 1(3 \\delta))}{315 \\delta^2}+\\frac{2 \\Re(\\mathrm{cf} 1(4 \\delta))}{560 \\delta^2}\\right), \\\\\n",
    "& \\operatorname{std}\\left(X_1\\right)=\\sqrt{\\operatorname{mo}_2\\left(X_1\\right)-\\text { mean }^2\\left(X_1\\right)}\n",
    "\\end{aligned}\n",
    "$$\n",
    "\n",
    "where $\\delta$ is chosen tolerance for numerical differentiation (as a default value we use $\\delta=10^{-4}$ ) and $\\mathrm{mo}_2$ denotes the estimate of the second moment. Similarly, calculate mean $\\left(X_2\\right)$ and $\\operatorname{std}\\left(X_1\\right)$ so that then mean $(X)=$ $\\left[\\operatorname{mean}\\left(X_1\\right)\\right.$, mean $\\left.\\left(X_2\\right)\\right]$ and $\\operatorname{std}(X)=\\left[\\operatorname{std}\\left(X_1\\right), \\operatorname{std}\\left(X_2\\right)\\right]$."
   ]
  },
  {
   "cell_type": "code",
   "execution_count": 10,
   "id": "a27d0172-ee0f-4cdf-92c9-3bcd2e725ff5",
   "metadata": {
    "execution": {
     "iopub.execute_input": "2024-11-17T16:49:41.849405Z",
     "iopub.status.busy": "2024-11-17T16:49:41.849405Z",
     "iopub.status.idle": "2024-11-17T16:49:41.853346Z",
     "shell.execute_reply": "2024-11-17T16:49:41.853346Z",
     "shell.execute_reply.started": "2024-11-17T16:49:41.849405Z"
    }
   },
   "outputs": [],
   "source": [
    "# auxiliary functions for estimates of moments\n",
    "cft1 = cf1(tolDiff*s(1,4))\n",
    "cftRe1 = np.real(cft1)\n",
    "cftIm1 = np.imag(cft1)\n",
    "cft2 = cf2(tolDiff*s(1,4))\n",
    "cftRe2 = np.real(cft2)\n",
    "cftIm2 = np.imag(cft2)"
   ]
  },
  {
   "cell_type": "code",
   "execution_count": 11,
   "id": "7d6bc016",
   "metadata": {
    "execution": {
     "iopub.execute_input": "2024-11-17T16:49:43.389979Z",
     "iopub.status.busy": "2024-11-17T16:49:43.388980Z",
     "iopub.status.idle": "2024-11-17T16:49:43.395576Z",
     "shell.execute_reply": "2024-11-17T16:49:43.395576Z",
     "shell.execute_reply.started": "2024-11-17T16:49:43.389979Z"
    }
   },
   "outputs": [],
   "source": [
    "# first moments \n",
    "xMean = np.zeros(2)\n",
    "xMean[0] = (8*cftIm1[0]/5 - 2*cftIm1[1]/5 + 8*cftIm1[2]/105 - 2*cftIm1[3]/280) / tolDiff\n",
    "xMean[1] = (8*cftIm2[0]/5 - 2*cftIm2[1]/5 + 8*cftIm2[2]/105 - 2*cftIm2[3]/280) / tolDiff\n",
    "\n",
    "xM2 = np.zeros(2)\n",
    "xM2[0] = (205/72 - 16*cftRe1[0]/5 + 2*cftRe1[1]/5 - 16*cftRe1[2]/315 + 2*cftRe1[3]/560) / tolDiff**2\n",
    "xStd = np.zeros(2)\n",
    "xStd[0] = np.sqrt(xM2[0] - xMean[0]**2)\n",
    "xM2[1] = (205/72 - 16*cftRe2[0]/5 + 2*cftRe2[1]/5 - 16*cftRe2[2]/315 + 2*cftRe2[3]/560) / tolDiff**2\n",
    "xStd[1] = np.sqrt(xM2[1] - xMean[1]**2)"
   ]
  },
  {
   "cell_type": "code",
   "execution_count": 12,
   "id": "9b077329",
   "metadata": {
    "execution": {
     "iopub.execute_input": "2024-11-17T16:49:45.058143Z",
     "iopub.status.busy": "2024-11-17T16:49:45.058143Z",
     "iopub.status.idle": "2024-11-17T16:49:45.065433Z",
     "shell.execute_reply": "2024-11-17T16:49:45.065433Z",
     "shell.execute_reply.started": "2024-11-17T16:49:45.058143Z"
    }
   },
   "outputs": [
    {
     "data": {
      "text/plain": [
       "(array([-4.50058963, -5.00131779]),\n",
       " array([7.50058963, 7.00131779]),\n",
       " array([12.00117926, 12.00263557]))"
      ]
     },
     "execution_count": 12,
     "metadata": {},
     "output_type": "execute_result"
    }
   ],
   "source": [
    "# boundaries and range\n",
    "xMin = xMean - SixSigmaRule * xStd\n",
    "xMax = xMean + SixSigmaRule * xStd\n",
    "Range = xMax - xMin\n",
    "\n",
    "xMin, xMax, Range"
   ]
  },
  {
   "cell_type": "markdown",
   "id": "48e8e976-dbbe-4a43-a6a7-f058b8a43f8b",
   "metadata": {
    "execution": {
     "iopub.execute_input": "2024-11-10T17:11:53.254490Z",
     "iopub.status.busy": "2024-11-10T17:11:53.254321Z",
     "iopub.status.idle": "2024-11-10T17:11:53.381299Z",
     "shell.execute_reply": "2024-11-10T17:11:53.380435Z",
     "shell.execute_reply.started": "2024-11-10T17:11:53.254477Z"
    }
   },
   "source": [
    "# Calculating the quadrature sum\n",
    "\n",
    "$$\n",
    "f\\left(x_1, x_2=1\\right)\\approx\\frac{1}{\\pi^2} h_1 h_2 \\sum_{v_2=-N}^{N} \\sum_{v_1=0}^{N}  \\Re\\left\\{ \\varphi_{X_2}^{\\prime}(- x_1 b_1 - x_2 b_2) \\frac{\\varphi_{X_1}(b_1)}{b_2}\\right\\}$$\n",
    "\n",
    "$$b_1=h_1\\left(v_1+0.5\\right), b_2=h_2\\left(v_2+0.5\\right)$$"
   ]
  },
  {
   "cell_type": "code",
   "execution_count": 13,
   "id": "f9d7c2ca-2d4c-4458-88a7-fbb11156f3fc",
   "metadata": {
    "execution": {
     "iopub.execute_input": "2024-11-17T16:49:47.844900Z",
     "iopub.status.busy": "2024-11-17T16:49:47.844900Z",
     "iopub.status.idle": "2024-11-17T16:49:47.847998Z",
     "shell.execute_reply": "2024-11-17T16:49:47.847998Z",
     "shell.execute_reply.started": "2024-11-17T16:49:47.844900Z"
    }
   },
   "outputs": [],
   "source": [
    "# set of values x for pdf\n",
    "xN = 1000\n",
    "x1 = np.linspace(xMin[0], xMax[0], xN)\n",
    "x2 = np.ones(xN)\n",
    "x = np.column_stack((x1, x2))"
   ]
  },
  {
   "cell_type": "code",
   "execution_count": 14,
   "id": "0a75b127-e391-463b-9f8c-52cc2859fd8a",
   "metadata": {
    "execution": {
     "iopub.execute_input": "2024-11-17T16:49:49.139899Z",
     "iopub.status.busy": "2024-11-17T16:49:49.139899Z",
     "iopub.status.idle": "2024-11-17T16:49:49.142855Z",
     "shell.execute_reply": "2024-11-17T16:49:49.142855Z",
     "shell.execute_reply.started": "2024-11-17T16:49:49.139899Z"
    }
   },
   "outputs": [],
   "source": [
    "# parameters for sum\n",
    "N = 2**8  # Set large N to improve the precision, e.g. N = 2^10\n",
    "dt = 2 * pi / (k*Range)\n",
    "t1 = (0.5 + s(-N, N)) * dt[0]\n",
    "t2 = (0.5 + s(0, N)) * dt[1]\n",
    "c = dt[0] * dt[1] / pi**2"
   ]
  },
  {
   "cell_type": "code",
   "execution_count": 15,
   "id": "2bc20ea4-b43c-447a-9d67-9f49cd067db7",
   "metadata": {
    "execution": {
     "iopub.execute_input": "2024-11-17T16:49:50.532430Z",
     "iopub.status.busy": "2024-11-17T16:49:50.532430Z",
     "iopub.status.idle": "2024-11-17T16:49:50.535004Z",
     "shell.execute_reply": "2024-11-17T16:49:50.534927Z",
     "shell.execute_reply.started": "2024-11-17T16:49:50.532430Z"
    }
   },
   "outputs": [],
   "source": [
    "# Initialize the dictionary to store performance data for methods\n",
    "rt = dict()\n",
    "from time import time"
   ]
  },
  {
   "cell_type": "markdown",
   "id": "dda4f8fc-c14f-4e37-a7cd-093e91382168",
   "metadata": {},
   "source": [
    "# Algorithm 1 - via loops"
   ]
  },
  {
   "cell_type": "code",
   "execution_count": 16,
   "id": "ccdec391-41b9-4a29-8a85-395a017e8407",
   "metadata": {
    "execution": {
     "iopub.execute_input": "2024-11-17T16:49:58.976657Z",
     "iopub.status.busy": "2024-11-17T16:49:58.976657Z",
     "iopub.status.idle": "2024-11-17T16:49:58.980176Z",
     "shell.execute_reply": "2024-11-17T16:49:58.980176Z",
     "shell.execute_reply.started": "2024-11-17T16:49:58.976657Z"
    }
   },
   "outputs": [],
   "source": [
    "Run=False"
   ]
  },
  {
   "cell_type": "code",
   "execution_count": 17,
   "id": "2389aaf2-f6d2-40cc-b05d-dd2285982fe4",
   "metadata": {
    "execution": {
     "iopub.execute_input": "2024-11-17T16:50:00.037737Z",
     "iopub.status.busy": "2024-11-17T16:50:00.037737Z",
     "iopub.status.idle": "2024-11-17T16:50:00.041388Z",
     "shell.execute_reply": "2024-11-17T16:50:00.041388Z",
     "shell.execute_reply.started": "2024-11-17T16:50:00.037737Z"
    }
   },
   "outputs": [],
   "source": [
    "if Run:\n",
    "    tic = time()\n",
    "    # Initialize an array to hold the PDF values\n",
    "    pdf = []  # Preallocate PDF list\n",
    "    \n",
    "    # Loop through each value of x = x1\n",
    "    for xi in x1:\n",
    "        S = 0  # Initialize summation variable\n",
    "        # Loop through each value of b1 = t1\n",
    "        for T1 in t1:\n",
    "            # Loop through each value of b2 = t2\n",
    "            for T2 in t2:\n",
    "                cval = cf1(T1) / T2\n",
    "                if abs(cval)>cftTol:\n",
    "                    # calculate sum\n",
    "                    S += cval * cf2_dif(-T2-xi*T1)\n",
    "        # PDF value for current xi\n",
    "        pdf += [c * S.real]\n",
    "    \n",
    "    # Ensure ratio PDF values are non-negative\n",
    "    Rpdf_1 = np.maximum(0, pdf)\n",
    "    toc = time()-tic"
   ]
  },
  {
   "cell_type": "code",
   "execution_count": 18,
   "id": "a3826154-cc0b-46f7-9a7c-32dccaa19a2f",
   "metadata": {
    "execution": {
     "iopub.execute_input": "2024-11-17T16:50:02.225255Z",
     "iopub.status.busy": "2024-11-17T16:50:02.224165Z",
     "iopub.status.idle": "2024-11-17T16:50:02.227639Z",
     "shell.execute_reply": "2024-11-17T16:50:02.227639Z",
     "shell.execute_reply.started": "2024-11-17T16:50:02.225255Z"
    }
   },
   "outputs": [],
   "source": [
    "rt['loops no vect'] = 155 # toc"
   ]
  },
  {
   "cell_type": "markdown",
   "id": "a9adbcb5-30e4-45c3-a9f3-a82d377d670b",
   "metadata": {},
   "source": [
    "## Numba paralellization"
   ]
  },
  {
   "cell_type": "code",
   "execution_count": 19,
   "id": "1cdfd9b7-6654-4386-9263-8a5378ebe0c4",
   "metadata": {
    "execution": {
     "iopub.execute_input": "2024-11-17T16:50:06.780342Z",
     "iopub.status.busy": "2024-11-17T16:50:06.780342Z",
     "iopub.status.idle": "2024-11-17T16:50:06.784392Z",
     "shell.execute_reply": "2024-11-17T16:50:06.784275Z",
     "shell.execute_reply.started": "2024-11-17T16:50:06.780342Z"
    }
   },
   "outputs": [],
   "source": [
    "# Numba fast version\n",
    "@njit(fastmath=True)\n",
    "def numba_pdf_fast_no_numpy(x1, t1, t2, c):\n",
    "    pdf = np.empty(len(x1), dtype=np.float64)\n",
    "    for i in range(len(x1)):\n",
    "        xi = x1[i]\n",
    "        S = 0.0\n",
    "        for T1 in t1:\n",
    "            for T2 in t2:\n",
    "                cval = cf1n(T1) / T2\n",
    "                if abs(cval)>cftTol:\n",
    "                    S += cval* cf2n_dif(-T2 - xi * T1)\n",
    "        pdf[i] = c * S.real\n",
    "    return pdf"
   ]
  },
  {
   "cell_type": "code",
   "execution_count": 20,
   "id": "980368c7-01d9-4438-9bd6-4adae2974e3e",
   "metadata": {
    "execution": {
     "iopub.execute_input": "2024-11-17T16:50:10.161083Z",
     "iopub.status.busy": "2024-11-17T16:50:10.159513Z",
     "iopub.status.idle": "2024-11-17T16:50:23.461247Z",
     "shell.execute_reply": "2024-11-17T16:50:23.461247Z",
     "shell.execute_reply.started": "2024-11-17T16:50:10.161083Z"
    }
   },
   "outputs": [
    {
     "name": "stdout",
     "output_type": "stream",
     "text": [
      "1.33 s ± 367 ms per loop (mean ± std. dev. of 10 runs, 1 loop each)\n"
     ]
    }
   ],
   "source": [
    "# measuring runtime\n",
    "rt['fastmath loops no vect'] = runtime('''\n",
    "pdfn = numba_pdf_fast_no_numpy(x1, t1, t2, c)\n",
    "Rpdfn_1n = np.maximum(0, pdfn)\n",
    "''',\n",
    "r=10,n=1).average"
   ]
  },
  {
   "cell_type": "code",
   "execution_count": 21,
   "id": "e419f373-510a-491a-9e5e-686f3cd8e9f8",
   "metadata": {
    "execution": {
     "iopub.execute_input": "2024-11-17T16:50:23.462251Z",
     "iopub.status.busy": "2024-11-17T16:50:23.462251Z",
     "iopub.status.idle": "2024-11-17T16:50:24.170985Z",
     "shell.execute_reply": "2024-11-17T16:50:24.170985Z",
     "shell.execute_reply.started": "2024-11-17T16:50:23.462251Z"
    }
   },
   "outputs": [],
   "source": [
    "# Numba parallelized version\n",
    "@njit(parallel=True, fastmath=True)\n",
    "def numba_pdf_parallel_no_numpy(x1, t1, t2, c):\n",
    "    pdf = np.empty(len(x1), dtype=np.float64)\n",
    "    for i in prange(len(x1)):\n",
    "        xi = x1[i]\n",
    "        S = 0.0\n",
    "        for T1 in t1:\n",
    "            for T2 in t2:\n",
    "                cval = cf1n(T1) / T2\n",
    "                if abs(cval)>cftTol:\n",
    "                    S += cval* cf2n_dif(-T2 - xi * T1)\n",
    "        pdf[i] = c * S.real\n",
    "    return pdf\n",
    "\n",
    "pdfn = numba_pdf_parallel_no_numpy(x1, t1, t2, c)\n",
    "Rpdfn_1n = np.maximum(0, pdfn)"
   ]
  },
  {
   "cell_type": "code",
   "execution_count": 22,
   "id": "f83664d2-c585-4c20-871f-b810db9d5a83",
   "metadata": {
    "execution": {
     "iopub.execute_input": "2024-11-16T21:29:35.374438Z",
     "iopub.status.busy": "2024-11-16T21:29:35.373427Z",
     "iopub.status.idle": "2024-11-16T21:29:37.781286Z",
     "shell.execute_reply": "2024-11-16T21:29:37.780765Z",
     "shell.execute_reply.started": "2024-11-16T21:29:35.374438Z"
    }
   },
   "outputs": [
    {
     "name": "stdout",
     "output_type": "stream",
     "text": [
      "120 ms ± 4.28 ms per loop (mean ± std. dev. of 10 runs, 2 loops each)\n"
     ]
    }
   ],
   "source": [
    "rt['par loops no vect']= runtime('''\n",
    "pdfn = numba_pdf_parallel_no_numpy(x1, t1, t2, c)\n",
    "Rpdfn_1n = np.maximum(0, pdfn)\n",
    "''',\n",
    "r=10,n=2).average"
   ]
  },
  {
   "cell_type": "code",
   "execution_count": 23,
   "id": "4416464c-7674-4064-be5c-23c6356de023",
   "metadata": {
    "execution": {
     "iopub.execute_input": "2024-11-16T21:29:37.781872Z",
     "iopub.status.busy": "2024-11-16T21:29:37.781872Z",
     "iopub.status.idle": "2024-11-16T21:29:38.432435Z",
     "shell.execute_reply": "2024-11-16T21:29:38.432435Z",
     "shell.execute_reply.started": "2024-11-16T21:29:37.781872Z"
    }
   },
   "outputs": [],
   "source": [
    "# Numba parallelized version\n",
    "@njit(parallel=True, fastmath=True)\n",
    "def numba_pdf_parallel_numDer_no_numpy(x1, t1, t2, c):\n",
    "    pdf = np.empty(len(x1), dtype=np.float64)\n",
    "    for i in prange(len(x1)):\n",
    "        xi = x1[i]\n",
    "        S = 0.0\n",
    "        for T1 in t1:\n",
    "            for T2 in t2:\n",
    "                cval = cf1n(T1) / T2\n",
    "                if abs(cval)>cftTol:\n",
    "                    S += cval* cf2n_dif_num2(-T2 - xi * T1)\n",
    "        pdf[i] = c * S.real\n",
    "    return pdf\n",
    "\n",
    "pdfnn = numba_pdf_parallel_numDer_no_numpy(x1, t1, t2, c)\n",
    "Rpdfn_1nn = np.maximum(0, pdfnn)"
   ]
  },
  {
   "cell_type": "code",
   "execution_count": 24,
   "id": "a902b0ac-8304-478f-bc9d-6a83188720b5",
   "metadata": {
    "execution": {
     "iopub.execute_input": "2024-11-16T21:29:38.433450Z",
     "iopub.status.busy": "2024-11-16T21:29:38.433450Z",
     "iopub.status.idle": "2024-11-16T21:29:43.849528Z",
     "shell.execute_reply": "2024-11-16T21:29:43.849528Z",
     "shell.execute_reply.started": "2024-11-16T21:29:38.433450Z"
    }
   },
   "outputs": [
    {
     "name": "stdout",
     "output_type": "stream",
     "text": [
      "271 ms ± 24.4 ms per loop (mean ± std. dev. of 10 runs, 2 loops each)\n"
     ]
    }
   ],
   "source": [
    "rt['par loops numDerExact no vect']= runtime('''\n",
    "pdfnn = numba_pdf_parallel_numDer_no_numpy(x1, t1, t2, c)\n",
    "Rpdfn_1nn = np.maximum(0, pdfnn)\n",
    "''',\n",
    "r=10,n=2).average"
   ]
  },
  {
   "cell_type": "code",
   "execution_count": 25,
   "id": "d921313c-7802-4e5a-af1a-01d86d448972",
   "metadata": {
    "execution": {
     "iopub.execute_input": "2024-11-16T21:29:43.850006Z",
     "iopub.status.busy": "2024-11-16T21:29:43.850006Z",
     "iopub.status.idle": "2024-11-16T21:29:43.858864Z",
     "shell.execute_reply": "2024-11-16T21:29:43.858864Z",
     "shell.execute_reply.started": "2024-11-16T21:29:43.850006Z"
    }
   },
   "outputs": [
    {
     "data": {
      "text/html": [
       "<div>\n",
       "<style scoped>\n",
       "    .dataframe tbody tr th:only-of-type {\n",
       "        vertical-align: middle;\n",
       "    }\n",
       "\n",
       "    .dataframe tbody tr th {\n",
       "        vertical-align: top;\n",
       "    }\n",
       "\n",
       "    .dataframe thead th {\n",
       "        text-align: right;\n",
       "    }\n",
       "</style>\n",
       "<table border=\"1\" class=\"dataframe\">\n",
       "  <thead>\n",
       "    <tr style=\"text-align: right;\">\n",
       "      <th></th>\n",
       "      <th>runtime(s)</th>\n",
       "      <th>rtPerPoint</th>\n",
       "      <th>accel</th>\n",
       "    </tr>\n",
       "  </thead>\n",
       "  <tbody>\n",
       "    <tr>\n",
       "      <th>loops no vect</th>\n",
       "      <td>155.000000</td>\n",
       "      <td>0.155000</td>\n",
       "      <td>1.0</td>\n",
       "    </tr>\n",
       "    <tr>\n",
       "      <th>fastmath loops no vect</th>\n",
       "      <td>1.234664</td>\n",
       "      <td>0.001235</td>\n",
       "      <td>126.0</td>\n",
       "    </tr>\n",
       "    <tr>\n",
       "      <th>par loops no vect</th>\n",
       "      <td>0.120145</td>\n",
       "      <td>0.000120</td>\n",
       "      <td>1290.0</td>\n",
       "    </tr>\n",
       "    <tr>\n",
       "      <th>par loops numDerExact no vect</th>\n",
       "      <td>0.270594</td>\n",
       "      <td>0.000271</td>\n",
       "      <td>573.0</td>\n",
       "    </tr>\n",
       "  </tbody>\n",
       "</table>\n",
       "</div>"
      ],
      "text/plain": [
       "                               runtime(s)  rtPerPoint   accel\n",
       "loops no vect                  155.000000    0.155000     1.0\n",
       "fastmath loops no vect           1.234664    0.001235   126.0\n",
       "par loops no vect                0.120145    0.000120  1290.0\n",
       "par loops numDerExact no vect    0.270594    0.000271   573.0"
      ]
     },
     "execution_count": 25,
     "metadata": {},
     "output_type": "execute_result"
    }
   ],
   "source": [
    "# acceleration\n",
    "drt = DF(rt,colname='runtime(s)')\n",
    "drt['rtPerPoint'] = drt['runtime(s)']/xN\n",
    "drt['accel'] = np.round(drt.iloc[0,0]/drt['runtime(s)'])\n",
    "drt"
   ]
  },
  {
   "cell_type": "markdown",
   "id": "7ee9454e-856f-4f10-976f-353ac1aa3ea7",
   "metadata": {},
   "source": [
    "# Algorithm 2 - vectorization for sum"
   ]
  },
  {
   "cell_type": "code",
   "execution_count": 26,
   "id": "1710dd4d",
   "metadata": {
    "execution": {
     "iopub.execute_input": "2024-11-16T21:29:43.859879Z",
     "iopub.status.busy": "2024-11-16T21:29:43.858864Z",
     "iopub.status.idle": "2024-11-16T21:29:43.863047Z",
     "shell.execute_reply": "2024-11-16T21:29:43.863047Z",
     "shell.execute_reply.started": "2024-11-16T21:29:43.859879Z"
    }
   },
   "outputs": [],
   "source": [
    "from time import time\n",
    "if Run:\n",
    "    tic = time()\n",
    "    # Vectorizes the nested loops over T1 and T2 using numpy operations for efficiency\n",
    "    \n",
    "    # Initialize an array to hold the PDF values\n",
    "    S = np.empty(len(x1), dtype=np.complex128)\n",
    "    T1, T2 = np.meshgrid(t1, t2, indexing='ij')\n",
    "    \n",
    "    # Loop through each value of x = x1\n",
    "    for i in range(len(x1)):\n",
    "        xi = x1[i]\n",
    "        S[i] = np.sum(cf1(T1) / T2 * cf2_dif(-T2 - xi * T1))\n",
    "        \n",
    "    # Ensure ratio PDF values are non-negative\n",
    "    pdf = c * S.real\n",
    "    Rpdf_2 = np.maximum(0, pdf)\n",
    "    toc = time()-tic"
   ]
  },
  {
   "cell_type": "code",
   "execution_count": 27,
   "id": "55448511-89c8-4e52-8475-d21d1ae1b91e",
   "metadata": {
    "execution": {
     "iopub.execute_input": "2024-11-16T21:29:43.864066Z",
     "iopub.status.busy": "2024-11-16T21:29:43.864066Z",
     "iopub.status.idle": "2024-11-16T21:29:43.867939Z",
     "shell.execute_reply": "2024-11-16T21:29:43.866919Z",
     "shell.execute_reply.started": "2024-11-16T21:29:43.864066Z"
    }
   },
   "outputs": [],
   "source": [
    "rt['vect intSum'] = 16.43 # toc"
   ]
  },
  {
   "cell_type": "markdown",
   "id": "0226dde4-39cf-4d75-8148-fac94ae02362",
   "metadata": {},
   "source": [
    "## Numba parallelization"
   ]
  },
  {
   "cell_type": "code",
   "execution_count": 28,
   "id": "9000dec9-c2fe-41c2-bfb1-52e842c18b70",
   "metadata": {
    "execution": {
     "iopub.execute_input": "2024-11-16T21:29:43.868934Z",
     "iopub.status.busy": "2024-11-16T21:29:43.867939Z",
     "iopub.status.idle": "2024-11-16T21:29:43.872392Z",
     "shell.execute_reply": "2024-11-16T21:29:43.872392Z",
     "shell.execute_reply.started": "2024-11-16T21:29:43.868934Z"
    }
   },
   "outputs": [
    {
     "name": "stdout",
     "output_type": "stream",
     "text": [
      "Number of logical CPUs: 12\n"
     ]
    }
   ],
   "source": [
    "import psutil\n",
    "Nc = psutil.cpu_count(logical=False)\n",
    "print(f\"Number of logical CPUs: {Nc}\")"
   ]
  },
  {
   "cell_type": "code",
   "execution_count": 29,
   "id": "c8547126-bd92-45d2-80d5-522e09fb082a",
   "metadata": {
    "execution": {
     "iopub.execute_input": "2024-11-16T21:29:43.872392Z",
     "iopub.status.busy": "2024-11-16T21:29:43.872392Z",
     "iopub.status.idle": "2024-11-16T21:29:45.827284Z",
     "shell.execute_reply": "2024-11-16T21:29:45.827284Z",
     "shell.execute_reply.started": "2024-11-16T21:29:43.872392Z"
    }
   },
   "outputs": [],
   "source": [
    "# The code applies Numba to parallelize the computation of PDF values over x1 more efficiently\n",
    "T1, T2 = np.meshgrid(t1, t2, indexing='ij')\n",
    "\n",
    "def numba_pdf(cf1,cf2_dif):\n",
    "    # wrapper for cf1, cf2_dif\n",
    "    @njit(parallel=True, fastmath=True)\n",
    "    def pdf(x1,T1,T2):\n",
    "        S = np.empty(len(x1), dtype=np.complex128)\n",
    "        for i in prange(len(x1)):\n",
    "            xi = x1[i]\n",
    "            S[i] = np.sum(cf1(T1) / T2 * cf2_dif(-T2 - xi * T1))\n",
    "        return c*S.real\n",
    "    return pdf\n",
    "\n",
    "pdfn = numba_pdf(cf1n, cf2n_dif)\n",
    "# Ensure ratio PDF values are non-negative\n",
    "Rpdfn_2n = np.maximum(0, pdfn(x1,T1,T2))"
   ]
  },
  {
   "cell_type": "code",
   "execution_count": 30,
   "id": "5b9563d4-be46-4d77-bb23-794609a59539",
   "metadata": {
    "execution": {
     "iopub.execute_input": "2024-11-16T21:29:45.828296Z",
     "iopub.status.busy": "2024-11-16T21:29:45.827284Z",
     "iopub.status.idle": "2024-11-16T21:30:00.247930Z",
     "shell.execute_reply": "2024-11-16T21:30:00.247930Z",
     "shell.execute_reply.started": "2024-11-16T21:29:45.828296Z"
    }
   },
   "outputs": [
    {
     "name": "stdout",
     "output_type": "stream",
     "text": [
      "721 ms ± 40.9 ms per loop (mean ± std. dev. of 10 runs, 2 loops each)\n"
     ]
    }
   ],
   "source": [
    "rt['par vect intSum'] = runtime('''\n",
    "Rpdfn_2n = np.maximum(0, pdfn(x1,T1,T2))\n",
    "''', r=10,n=2).average"
   ]
  },
  {
   "cell_type": "code",
   "execution_count": 31,
   "id": "080196fb-0d1c-4fb7-8d67-df33352627bf",
   "metadata": {
    "execution": {
     "iopub.execute_input": "2024-11-16T21:30:00.248980Z",
     "iopub.status.busy": "2024-11-16T21:30:00.248980Z",
     "iopub.status.idle": "2024-11-16T21:30:00.259043Z",
     "shell.execute_reply": "2024-11-16T21:30:00.259043Z",
     "shell.execute_reply.started": "2024-11-16T21:30:00.248980Z"
    }
   },
   "outputs": [
    {
     "data": {
      "text/html": [
       "<div>\n",
       "<style scoped>\n",
       "    .dataframe tbody tr th:only-of-type {\n",
       "        vertical-align: middle;\n",
       "    }\n",
       "\n",
       "    .dataframe tbody tr th {\n",
       "        vertical-align: top;\n",
       "    }\n",
       "\n",
       "    .dataframe thead th {\n",
       "        text-align: right;\n",
       "    }\n",
       "</style>\n",
       "<table border=\"1\" class=\"dataframe\">\n",
       "  <thead>\n",
       "    <tr style=\"text-align: right;\">\n",
       "      <th></th>\n",
       "      <th>runtime(s)</th>\n",
       "      <th>rtPerPoint</th>\n",
       "      <th>accel</th>\n",
       "    </tr>\n",
       "  </thead>\n",
       "  <tbody>\n",
       "    <tr>\n",
       "      <th>loops no vect</th>\n",
       "      <td>155.000000</td>\n",
       "      <td>0.155000</td>\n",
       "      <td>1.0</td>\n",
       "    </tr>\n",
       "    <tr>\n",
       "      <th>fastmath loops no vect</th>\n",
       "      <td>1.234664</td>\n",
       "      <td>0.001235</td>\n",
       "      <td>126.0</td>\n",
       "    </tr>\n",
       "    <tr>\n",
       "      <th>par loops no vect</th>\n",
       "      <td>0.120145</td>\n",
       "      <td>0.000120</td>\n",
       "      <td>1290.0</td>\n",
       "    </tr>\n",
       "    <tr>\n",
       "      <th>par loops numDerExact no vect</th>\n",
       "      <td>0.270594</td>\n",
       "      <td>0.000271</td>\n",
       "      <td>573.0</td>\n",
       "    </tr>\n",
       "    <tr>\n",
       "      <th>vect intSum</th>\n",
       "      <td>16.430000</td>\n",
       "      <td>0.016430</td>\n",
       "      <td>9.0</td>\n",
       "    </tr>\n",
       "    <tr>\n",
       "      <th>par vect intSum</th>\n",
       "      <td>0.720793</td>\n",
       "      <td>0.000721</td>\n",
       "      <td>215.0</td>\n",
       "    </tr>\n",
       "  </tbody>\n",
       "</table>\n",
       "</div>"
      ],
      "text/plain": [
       "                               runtime(s)  rtPerPoint   accel\n",
       "loops no vect                  155.000000    0.155000     1.0\n",
       "fastmath loops no vect           1.234664    0.001235   126.0\n",
       "par loops no vect                0.120145    0.000120  1290.0\n",
       "par loops numDerExact no vect    0.270594    0.000271   573.0\n",
       "vect intSum                     16.430000    0.016430     9.0\n",
       "par vect intSum                  0.720793    0.000721   215.0"
      ]
     },
     "execution_count": 31,
     "metadata": {},
     "output_type": "execute_result"
    }
   ],
   "source": [
    "# acceleration\n",
    "drt = DF(rt,colname='runtime(s)')\n",
    "drt['rtPerPoint'] = drt['runtime(s)']/xN\n",
    "drt['accel'] = np.round(drt.iloc[0,0]/drt['runtime(s)'])\n",
    "drt"
   ]
  },
  {
   "cell_type": "markdown",
   "id": "e011730a-9a5e-4872-b815-cc77864b633e",
   "metadata": {},
   "source": [
    "# Algorithm 3 - complete vectorization for $f(x)$"
   ]
  },
  {
   "cell_type": "markdown",
   "id": "437681b7-d180-4a91-90b9-bdd733049cdd",
   "metadata": {
    "execution": {
     "iopub.execute_input": "2024-11-15T20:41:42.328466Z",
     "iopub.status.busy": "2024-11-15T20:41:42.327460Z",
     "iopub.status.idle": "2024-11-15T20:41:44.239058Z",
     "shell.execute_reply": "2024-11-15T20:41:44.239058Z",
     "shell.execute_reply.started": "2024-11-15T20:41:42.328466Z"
    }
   },
   "source": [
    "## A - Vectorized version for f(x)"
   ]
  },
  {
   "cell_type": "code",
   "execution_count": 32,
   "id": "1f8ebdc2-bf08-444e-b836-e37da741c969",
   "metadata": {
    "execution": {
     "iopub.execute_input": "2024-11-16T21:30:00.260548Z",
     "iopub.status.busy": "2024-11-16T21:30:00.260548Z",
     "iopub.status.idle": "2024-11-16T21:30:08.060973Z",
     "shell.execute_reply": "2024-11-16T21:30:08.060973Z",
     "shell.execute_reply.started": "2024-11-16T21:30:00.260548Z"
    }
   },
   "outputs": [],
   "source": [
    "# A vectorized version for f(x)\n",
    "tic = time()\n",
    "# Create meshgrid for t1 and t2\n",
    "T1, T2 = np.meshgrid(t1, t2)   \n",
    "t = np.column_stack((T1.ravel(), T2.ravel()))  # vector of all pairs t1,t2\n",
    "\n",
    "# Integrand terms\n",
    "CF2_dif = cf2_dif(-x @ t.T)\n",
    "CF1_d = cf1_d(t)\n",
    "\n",
    "# Ratio pdf \n",
    "pdf = c * np.real(CF2_dif @ CF1_d)\n",
    "Rpdf_3A = np.maximum(0, pdf)\n",
    "toc = time()-tic"
   ]
  },
  {
   "cell_type": "code",
   "execution_count": 33,
   "id": "ea3bf6d0-45ac-49d9-9524-46d0cc42ff11",
   "metadata": {
    "execution": {
     "iopub.execute_input": "2024-11-16T21:30:08.061815Z",
     "iopub.status.busy": "2024-11-16T21:30:08.061815Z",
     "iopub.status.idle": "2024-11-16T21:30:08.064911Z",
     "shell.execute_reply": "2024-11-16T21:30:08.064911Z",
     "shell.execute_reply.started": "2024-11-16T21:30:08.061815Z"
    }
   },
   "outputs": [],
   "source": [
    "rt['vect pdf'] = toc "
   ]
  },
  {
   "cell_type": "markdown",
   "id": "941bdb8b-e833-4e3b-a491-af68352b609d",
   "metadata": {},
   "source": [
    "### An - Numba vectorized version for f(x)"
   ]
  },
  {
   "cell_type": "code",
   "execution_count": 34,
   "id": "d0f31fc1-5917-475f-a400-9fb3585e7f76",
   "metadata": {
    "execution": {
     "iopub.execute_input": "2024-11-16T21:30:08.065917Z",
     "iopub.status.busy": "2024-11-16T21:30:08.065917Z",
     "iopub.status.idle": "2024-11-16T21:30:11.981010Z",
     "shell.execute_reply": "2024-11-16T21:30:11.981010Z",
     "shell.execute_reply.started": "2024-11-16T21:30:08.065917Z"
    }
   },
   "outputs": [],
   "source": [
    "# B - Optimized vectorized version for f(x)\n",
    "tic = time()\n",
    "# Create meshgrid for t1 and t2\n",
    "T1, T2 = np.meshgrid(t1, t2)   \n",
    "t = np.column_stack((T1.ravel(), T2.ravel()))  # vector of all pairs t1,t2\n",
    "\n",
    "# Integrand terms\n",
    "CF2_dif = cf2n_dif(-x @ t.T)\n",
    "CF1_d = cf1n_d(t)\n",
    "\n",
    "# Ratio pdf \n",
    "pdf = c * np.real(CF2_dif @ CF1_d)\n",
    "Rpdf_3An = np.maximum(0, pdf)\n",
    "toc = time()-tic"
   ]
  },
  {
   "cell_type": "code",
   "execution_count": 35,
   "id": "104d8720-10ac-465a-91a2-66222edabcb2",
   "metadata": {
    "execution": {
     "iopub.execute_input": "2024-11-16T21:30:11.982022Z",
     "iopub.status.busy": "2024-11-16T21:30:11.982022Z",
     "iopub.status.idle": "2024-11-16T21:30:11.985145Z",
     "shell.execute_reply": "2024-11-16T21:30:11.984631Z",
     "shell.execute_reply.started": "2024-11-16T21:30:11.982022Z"
    }
   },
   "outputs": [],
   "source": [
    "rt['fastmath vect pdf'] = toc "
   ]
  },
  {
   "cell_type": "markdown",
   "id": "f7914819-afdc-426a-8754-4229e17c9538",
   "metadata": {},
   "source": [
    "## B - Optimized vectorized version for f(x)\n"
   ]
  },
  {
   "cell_type": "code",
   "execution_count": 36,
   "id": "dca58f16-51e2-452d-9903-ce0720b26cc9",
   "metadata": {
    "execution": {
     "iopub.execute_input": "2024-11-16T21:30:11.985145Z",
     "iopub.status.busy": "2024-11-16T21:30:11.985145Z",
     "iopub.status.idle": "2024-11-16T21:30:13.555829Z",
     "shell.execute_reply": "2024-11-16T21:30:13.555829Z",
     "shell.execute_reply.started": "2024-11-16T21:30:11.985145Z"
    }
   },
   "outputs": [],
   "source": [
    "# B- Optimized vectorized version for f(x)\n",
    "tic = time()\n",
    "# Create meshgrid for t1 and t2\n",
    "T1, T2 = np.meshgrid(t1, t2)   \n",
    "t = np.column_stack((T1.ravel(), T2.ravel()))  # vector of all pairs t1,t2\n",
    "\n",
    "# Integrand term 1\n",
    "CF1_d = cf1_d(t)\n",
    "# optimization\n",
    "id = np.abs(CF1_d) > cftTol\n",
    "CF1_d = CF1_d[id]\n",
    "t = t[id, :]\n",
    "# Integrand term 2\n",
    "CF2_dif = cf2_dif(-x @ t.T)\n",
    "\n",
    "# Ratio pdf \n",
    "pdf = c * np.real(CF2_dif @ CF1_d)\n",
    "Rpdf_3B = np.maximum(0, pdf)\n",
    "toc = time()-tic"
   ]
  },
  {
   "cell_type": "code",
   "execution_count": 37,
   "id": "c2a9bead-a76b-4a24-b979-c03973ac4ed4",
   "metadata": {
    "execution": {
     "iopub.execute_input": "2024-11-16T21:30:13.556867Z",
     "iopub.status.busy": "2024-11-16T21:30:13.556867Z",
     "iopub.status.idle": "2024-11-16T21:30:13.559684Z",
     "shell.execute_reply": "2024-11-16T21:30:13.559684Z",
     "shell.execute_reply.started": "2024-11-16T21:30:13.556867Z"
    }
   },
   "outputs": [],
   "source": [
    "rt['opt vect pdf'] = toc "
   ]
  },
  {
   "cell_type": "markdown",
   "id": "8604e4e3-e077-40c4-b45c-060c1fd4ac3d",
   "metadata": {},
   "source": [
    "### Bn - Numba Optimized vectorized version for f(x)"
   ]
  },
  {
   "cell_type": "code",
   "execution_count": 38,
   "id": "7b9b5454-f17f-499b-9d9e-237092d8b705",
   "metadata": {
    "execution": {
     "iopub.execute_input": "2024-11-16T21:30:13.560690Z",
     "iopub.status.busy": "2024-11-16T21:30:13.560690Z",
     "iopub.status.idle": "2024-11-16T21:30:14.064387Z",
     "shell.execute_reply": "2024-11-16T21:30:14.064157Z",
     "shell.execute_reply.started": "2024-11-16T21:30:13.560690Z"
    }
   },
   "outputs": [],
   "source": [
    "# B- Numba Optimized vectorized version for f(x)\n",
    "tic = time()\n",
    "# Create meshgrid for t1 and t2\n",
    "T1, T2 = np.meshgrid(t1, t2)   \n",
    "t = np.column_stack((T1.ravel(), T2.ravel()))  # vector of all pairs t1,t2\n",
    "\n",
    "# Integrand term 1\n",
    "CF1_d = cf1n_d(t)\n",
    "# optimization\n",
    "id = np.abs(CF1_d) > cftTol\n",
    "CF1_d = CF1_d[id]\n",
    "t = t[id, :]\n",
    "# Integrand term 2\n",
    "CF2_dif = cf2n_dif(-x @ t.T)\n",
    "\n",
    "# Ratio pdf \n",
    "pdf = c * np.real(CF2_dif @ CF1_d)\n",
    "Rpdf_3Bn = np.maximum(0, pdf)\n",
    "toc = time()-tic"
   ]
  },
  {
   "cell_type": "code",
   "execution_count": 39,
   "id": "4c5aa000-60a8-4c02-a2c5-5c7b7dc83a8f",
   "metadata": {
    "execution": {
     "iopub.execute_input": "2024-11-16T21:30:14.064387Z",
     "iopub.status.busy": "2024-11-16T21:30:14.064387Z",
     "iopub.status.idle": "2024-11-16T21:30:14.067223Z",
     "shell.execute_reply": "2024-11-16T21:30:14.067223Z",
     "shell.execute_reply.started": "2024-11-16T21:30:14.064387Z"
    }
   },
   "outputs": [],
   "source": [
    "rt['fastmath opt vect pdf'] = toc"
   ]
  },
  {
   "cell_type": "markdown",
   "id": "c5567a80",
   "metadata": {},
   "source": [
    "## C - Optimized vectorized version for f(x) using numeric derivative\n"
   ]
  },
  {
   "cell_type": "code",
   "execution_count": 40,
   "id": "15ad1694-0960-416c-9418-fb09502dde52",
   "metadata": {
    "execution": {
     "iopub.execute_input": "2024-11-16T21:30:14.068229Z",
     "iopub.status.busy": "2024-11-16T21:30:14.068229Z",
     "iopub.status.idle": "2024-11-16T21:30:16.899578Z",
     "shell.execute_reply": "2024-11-16T21:30:16.899220Z",
     "shell.execute_reply.started": "2024-11-16T21:30:14.068229Z"
    }
   },
   "outputs": [],
   "source": [
    "#  C - Optimized vectorized version for f(x) using numeric derivative\n",
    "tic = time()\n",
    "# Create meshgrid for t1 and t2\n",
    "T1, T2 = np.meshgrid(t1, t2)   \n",
    "t = np.column_stack((T1.ravel(), T2.ravel()))  # vector of all pairs t1,t2\n",
    "\n",
    "# Integrand term 1\n",
    "CF1_d = cf1_d(t)\n",
    "# optimization\n",
    "id = np.abs(CF1_d) > cftTol\n",
    "CF1_d = CF1_d[id]\n",
    "t = t[id, :]\n",
    "# Integrand term 2\n",
    "CF2_dif = cf2_dif_num(-x @ t.T)\n",
    "\n",
    "# Ratio pdf \n",
    "pdf = c * np.real(CF2_dif @ CF1_d)\n",
    "Rpdf_3C = np.maximum(0, pdf)\n",
    "toc = time()-tic"
   ]
  },
  {
   "cell_type": "code",
   "execution_count": 41,
   "id": "291e7c21-9916-4cf2-9b46-5ab5a6d25958",
   "metadata": {
    "execution": {
     "iopub.execute_input": "2024-11-16T21:30:16.899578Z",
     "iopub.status.busy": "2024-11-16T21:30:16.899578Z",
     "iopub.status.idle": "2024-11-16T21:30:16.902982Z",
     "shell.execute_reply": "2024-11-16T21:30:16.902982Z",
     "shell.execute_reply.started": "2024-11-16T21:30:16.899578Z"
    }
   },
   "outputs": [],
   "source": [
    "rt['opt vect pdf numDer'] = toc"
   ]
  },
  {
   "cell_type": "markdown",
   "id": "530e94a9-a14e-4b82-9e14-c708f1699275",
   "metadata": {},
   "source": [
    "### Cn - Numba Optimized vectorized version for f(x) using numeric derivative"
   ]
  },
  {
   "cell_type": "code",
   "execution_count": 42,
   "id": "587e5b24-b9a8-4a51-881a-cd4f8111b51e",
   "metadata": {
    "execution": {
     "iopub.execute_input": "2024-11-16T21:30:16.903986Z",
     "iopub.status.busy": "2024-11-16T21:30:16.903986Z",
     "iopub.status.idle": "2024-11-16T21:30:18.335461Z",
     "shell.execute_reply": "2024-11-16T21:30:18.335461Z",
     "shell.execute_reply.started": "2024-11-16T21:30:16.903986Z"
    }
   },
   "outputs": [],
   "source": [
    "#  C - Numba optimized vectorized version for f(x) using numeric derivative\n",
    "tic = time()\n",
    "# Create meshgrid for t1 and t2\n",
    "T1, T2 = np.meshgrid(t1, t2)   \n",
    "t = np.column_stack((T1.ravel(), T2.ravel()))  # vector of all pairs t1,t2\n",
    "\n",
    "# Integrand term 1\n",
    "CF1_d = cf1n_d(t)\n",
    "# optimization\n",
    "id = np.abs(CF1_d) > cftTol\n",
    "CF1_d = CF1_d[id]\n",
    "t = t[id, :]\n",
    "# Integrand term 2\n",
    "CF2_dif = cf2n_dif_num(-x @ t.T)\n",
    "\n",
    "# Ratio pdf \n",
    "pdf = c * np.real(CF2_dif @ CF1_d)\n",
    "Rpdf_3Cn = np.maximum(0, pdf)\n",
    "toc = time()-tic"
   ]
  },
  {
   "cell_type": "code",
   "execution_count": 43,
   "id": "b27796e0-494c-4144-8018-642d6d85051e",
   "metadata": {
    "execution": {
     "iopub.execute_input": "2024-11-16T21:30:18.336478Z",
     "iopub.status.busy": "2024-11-16T21:30:18.336478Z",
     "iopub.status.idle": "2024-11-16T21:30:18.339839Z",
     "shell.execute_reply": "2024-11-16T21:30:18.339341Z",
     "shell.execute_reply.started": "2024-11-16T21:30:18.336478Z"
    }
   },
   "outputs": [],
   "source": [
    "rt['fastmath opt vect pdf numDer'] = toc"
   ]
  },
  {
   "cell_type": "markdown",
   "id": "85da8b62-b4c8-4b5f-9033-80152e7d06f0",
   "metadata": {},
   "source": [
    "## D - Optimized vectorized version for f(x) using more exact numeric derivative\n"
   ]
  },
  {
   "cell_type": "code",
   "execution_count": 44,
   "id": "20416678-835b-48cf-8c17-50dd56004de8",
   "metadata": {
    "execution": {
     "iopub.execute_input": "2024-11-16T21:30:18.340355Z",
     "iopub.status.busy": "2024-11-16T21:30:18.340355Z",
     "iopub.status.idle": "2024-11-16T21:30:24.230977Z",
     "shell.execute_reply": "2024-11-16T21:30:24.230977Z",
     "shell.execute_reply.started": "2024-11-16T21:30:18.340355Z"
    }
   },
   "outputs": [],
   "source": [
    "# D - Optimized vectorized version for f(x) using exact numeric derivative\n",
    "tic = time()\n",
    "# Create meshgrid for t1 and t2\n",
    "T1, T2 = np.meshgrid(t1, t2)   \n",
    "t = np.column_stack((T1.ravel(), T2.ravel()))  # vector of all pairs t1,t2\n",
    "\n",
    "# Integrand term 1\n",
    "CF1_d = cf1_d(t)\n",
    "# optimization\n",
    "id = np.abs(CF1_d) > cftTol\n",
    "CF1_d = CF1_d[id]\n",
    "t = t[id, :]\n",
    "# Integrand term 2\n",
    "CF2_dif = cf2_dif_num2(-x @ t.T)\n",
    "\n",
    "# Ratio pdf \n",
    "pdf = c * np.real(CF2_dif @ CF1_d)\n",
    "Rpdf_3D = np.maximum(0, pdf)\n",
    "toc = time()-tic"
   ]
  },
  {
   "cell_type": "code",
   "execution_count": 45,
   "id": "61e91f82-1b43-4363-ba4c-588e6f52b311",
   "metadata": {
    "execution": {
     "iopub.execute_input": "2024-11-16T21:30:24.230977Z",
     "iopub.status.busy": "2024-11-16T21:30:24.230977Z",
     "iopub.status.idle": "2024-11-16T21:30:24.236334Z",
     "shell.execute_reply": "2024-11-16T21:30:24.235071Z",
     "shell.execute_reply.started": "2024-11-16T21:30:24.230977Z"
    }
   },
   "outputs": [],
   "source": [
    "rt['opt vect pdf numDerExact'] = toc"
   ]
  },
  {
   "cell_type": "markdown",
   "id": "60305b95-dc34-4319-90a5-c55420d68d85",
   "metadata": {},
   "source": [
    "### Dn - Optimized vectorized version for f(x) using more exact numeric derivative"
   ]
  },
  {
   "cell_type": "code",
   "execution_count": 46,
   "id": "64c47d30-6b6c-4bb7-98c0-3b7636889e44",
   "metadata": {
    "execution": {
     "iopub.execute_input": "2024-11-16T21:30:24.237612Z",
     "iopub.status.busy": "2024-11-16T21:30:24.237256Z",
     "iopub.status.idle": "2024-11-16T21:30:26.567076Z",
     "shell.execute_reply": "2024-11-16T21:30:26.567076Z",
     "shell.execute_reply.started": "2024-11-16T21:30:24.237612Z"
    }
   },
   "outputs": [],
   "source": [
    "# % D - NUmba Optimized vectorized version for f(x) using exact numeric derivative\n",
    "tic = time()\n",
    "# Create meshgrid for t1 and t2\n",
    "T1, T2 = np.meshgrid(t1, t2)   \n",
    "t = np.column_stack((T1.ravel(), T2.ravel()))  # vector of all pairs t1,t2\n",
    "\n",
    "# Integrand term 1\n",
    "CF1_d = cf1n_d(t)\n",
    "# optimization\n",
    "id = np.abs(CF1_d) > cftTol\n",
    "CF1_d = CF1_d[id]\n",
    "t = t[id, :]\n",
    "# Integrand term 2\n",
    "CF2_dif = cf2n_dif_num2(-x @ t.T)\n",
    "\n",
    "# Ratio pdf \n",
    "pdf = c * np.real(CF2_dif @ CF1_d)\n",
    "Rpdf_3Dn = np.maximum(0, pdf)\n",
    "toc = time()-tic"
   ]
  },
  {
   "cell_type": "code",
   "execution_count": 47,
   "id": "de7eed1b-fa87-4797-9e9b-7621ec7256eb",
   "metadata": {
    "execution": {
     "iopub.execute_input": "2024-11-16T21:30:26.567076Z",
     "iopub.status.busy": "2024-11-16T21:30:26.567076Z",
     "iopub.status.idle": "2024-11-16T21:30:26.570712Z",
     "shell.execute_reply": "2024-11-16T21:30:26.570712Z",
     "shell.execute_reply.started": "2024-11-16T21:30:26.567076Z"
    }
   },
   "outputs": [],
   "source": [
    "rt['par opt vect pdf numDerExact'] = toc"
   ]
  },
  {
   "cell_type": "code",
   "execution_count": 48,
   "id": "eea2a7b2-a430-42df-8fb7-406fb44617ff",
   "metadata": {
    "execution": {
     "iopub.execute_input": "2024-11-16T21:30:26.571419Z",
     "iopub.status.busy": "2024-11-16T21:30:26.571419Z",
     "iopub.status.idle": "2024-11-16T21:30:26.580523Z",
     "shell.execute_reply": "2024-11-16T21:30:26.580523Z",
     "shell.execute_reply.started": "2024-11-16T21:30:26.571419Z"
    }
   },
   "outputs": [
    {
     "data": {
      "text/html": [
       "<div>\n",
       "<style scoped>\n",
       "    .dataframe tbody tr th:only-of-type {\n",
       "        vertical-align: middle;\n",
       "    }\n",
       "\n",
       "    .dataframe tbody tr th {\n",
       "        vertical-align: top;\n",
       "    }\n",
       "\n",
       "    .dataframe thead th {\n",
       "        text-align: right;\n",
       "    }\n",
       "</style>\n",
       "<table border=\"1\" class=\"dataframe\">\n",
       "  <thead>\n",
       "    <tr style=\"text-align: right;\">\n",
       "      <th></th>\n",
       "      <th>runtime(s)</th>\n",
       "      <th>rtPerPoint</th>\n",
       "      <th>accel</th>\n",
       "    </tr>\n",
       "  </thead>\n",
       "  <tbody>\n",
       "    <tr>\n",
       "      <th>loops no vect</th>\n",
       "      <td>155.000000</td>\n",
       "      <td>0.155000</td>\n",
       "      <td>1.0</td>\n",
       "    </tr>\n",
       "    <tr>\n",
       "      <th>fastmath loops no vect</th>\n",
       "      <td>1.234664</td>\n",
       "      <td>0.001235</td>\n",
       "      <td>126.0</td>\n",
       "    </tr>\n",
       "    <tr>\n",
       "      <th>par loops no vect</th>\n",
       "      <td>0.120145</td>\n",
       "      <td>0.000120</td>\n",
       "      <td>1290.0</td>\n",
       "    </tr>\n",
       "    <tr>\n",
       "      <th>par loops numDerExact no vect</th>\n",
       "      <td>0.270594</td>\n",
       "      <td>0.000271</td>\n",
       "      <td>573.0</td>\n",
       "    </tr>\n",
       "    <tr>\n",
       "      <th>vect intSum</th>\n",
       "      <td>16.430000</td>\n",
       "      <td>0.016430</td>\n",
       "      <td>9.0</td>\n",
       "    </tr>\n",
       "    <tr>\n",
       "      <th>par vect intSum</th>\n",
       "      <td>0.720793</td>\n",
       "      <td>0.000721</td>\n",
       "      <td>215.0</td>\n",
       "    </tr>\n",
       "    <tr>\n",
       "      <th>vect pdf</th>\n",
       "      <td>7.797164</td>\n",
       "      <td>0.007797</td>\n",
       "      <td>20.0</td>\n",
       "    </tr>\n",
       "    <tr>\n",
       "      <th>fastmath vect pdf</th>\n",
       "      <td>3.910994</td>\n",
       "      <td>0.003911</td>\n",
       "      <td>40.0</td>\n",
       "    </tr>\n",
       "    <tr>\n",
       "      <th>opt vect pdf</th>\n",
       "      <td>1.567220</td>\n",
       "      <td>0.001567</td>\n",
       "      <td>99.0</td>\n",
       "    </tr>\n",
       "    <tr>\n",
       "      <th>fastmath opt vect pdf</th>\n",
       "      <td>0.500126</td>\n",
       "      <td>0.000500</td>\n",
       "      <td>310.0</td>\n",
       "    </tr>\n",
       "    <tr>\n",
       "      <th>opt vect pdf numDer</th>\n",
       "      <td>2.826654</td>\n",
       "      <td>0.002827</td>\n",
       "      <td>55.0</td>\n",
       "    </tr>\n",
       "    <tr>\n",
       "      <th>fastmath opt vect pdf numDer</th>\n",
       "      <td>1.427228</td>\n",
       "      <td>0.001427</td>\n",
       "      <td>109.0</td>\n",
       "    </tr>\n",
       "    <tr>\n",
       "      <th>opt vect pdf numDerExact</th>\n",
       "      <td>5.886503</td>\n",
       "      <td>0.005887</td>\n",
       "      <td>26.0</td>\n",
       "    </tr>\n",
       "    <tr>\n",
       "      <th>par opt vect pdf numDerExact</th>\n",
       "      <td>2.326668</td>\n",
       "      <td>0.002327</td>\n",
       "      <td>67.0</td>\n",
       "    </tr>\n",
       "  </tbody>\n",
       "</table>\n",
       "</div>"
      ],
      "text/plain": [
       "                               runtime(s)  rtPerPoint   accel\n",
       "loops no vect                  155.000000    0.155000     1.0\n",
       "fastmath loops no vect           1.234664    0.001235   126.0\n",
       "par loops no vect                0.120145    0.000120  1290.0\n",
       "par loops numDerExact no vect    0.270594    0.000271   573.0\n",
       "vect intSum                     16.430000    0.016430     9.0\n",
       "par vect intSum                  0.720793    0.000721   215.0\n",
       "vect pdf                         7.797164    0.007797    20.0\n",
       "fastmath vect pdf                3.910994    0.003911    40.0\n",
       "opt vect pdf                     1.567220    0.001567    99.0\n",
       "fastmath opt vect pdf            0.500126    0.000500   310.0\n",
       "opt vect pdf numDer              2.826654    0.002827    55.0\n",
       "fastmath opt vect pdf numDer     1.427228    0.001427   109.0\n",
       "opt vect pdf numDerExact         5.886503    0.005887    26.0\n",
       "par opt vect pdf numDerExact     2.326668    0.002327    67.0"
      ]
     },
     "execution_count": 48,
     "metadata": {},
     "output_type": "execute_result"
    }
   ],
   "source": [
    "# acceleration\n",
    "drt = DF(rt,colname='runtime(s)')\n",
    "drt['rtPerPoint'] = drt['runtime(s)']/xN\n",
    "drt['accel'] = np.round(drt.iloc[0,0]/drt['runtime(s)'])\n",
    "drt"
   ]
  },
  {
   "cell_type": "markdown",
   "id": "d2e666a2-5a7f-4df7-85c9-65ce8cf7fee5",
   "metadata": {},
   "source": [
    "# Plots"
   ]
  },
  {
   "cell_type": "markdown",
   "id": "7f60a3e2-7600-4514-808a-a98e186e0c5f",
   "metadata": {},
   "source": [
    "## Analytic form of PDF\n",
    "Pham-Gia 2007\n",
    "- Pham-Gia, T., Turkkan, N., & Marchand, E. (2007). Density of the Ratio of Two Normal Random Variables and Applications. Communications in Statistics - Theory and Methods, 35(9), 1569–1591. https://doi.org/10.1080/03610920600683689\n",
    "\n",
    "$$\n",
    "f_T(t) = \\frac{\\exp\\left(-\\frac{a^2 + b^2}{2}\\right)}{\\pi (1 + t^2)}{}_1F_1\\left(\\begin{array}{c}\n",
    "1 \\\\\n",
    "1 / 2\n",
    "\\end{array}; \\frac{q^2}{2}\\right), \\quad q = \\frac{b + a t}{\\sqrt{1 + t^2}}\n",
    "$$\n"
   ]
  },
  {
   "cell_type": "code",
   "execution_count": 49,
   "id": "16e3296c-79e7-4686-8dfa-9e920868ee93",
   "metadata": {
    "execution": {
     "iopub.execute_input": "2024-11-16T21:30:26.580523Z",
     "iopub.status.busy": "2024-11-16T21:30:26.580523Z",
     "iopub.status.idle": "2024-11-16T21:30:26.594489Z",
     "shell.execute_reply": "2024-11-16T21:30:26.594157Z",
     "shell.execute_reply.started": "2024-11-16T21:30:26.580523Z"
    }
   },
   "outputs": [
    {
     "data": {
      "text/plain": [
       "3.9319711356445857"
      ]
     },
     "execution_count": 49,
     "metadata": {},
     "output_type": "execute_result"
    }
   ],
   "source": [
    "from scipy.special import hyp1f1\n",
    "hyp1f1(a,b,1)"
   ]
  },
  {
   "cell_type": "code",
   "execution_count": 50,
   "id": "f1952551-fa0a-4a63-b763-e8be62f97345",
   "metadata": {
    "execution": {
     "iopub.execute_input": "2024-11-16T21:30:26.594489Z",
     "iopub.status.busy": "2024-11-16T21:30:26.594489Z",
     "iopub.status.idle": "2024-11-16T21:30:26.601584Z",
     "shell.execute_reply": "2024-11-16T21:30:26.601584Z",
     "shell.execute_reply.started": "2024-11-16T21:30:26.594489Z"
    }
   },
   "outputs": [],
   "source": [
    "# Define the function f_T for specific values\n",
    "f_k = lambda t, a=a, b=b: np.exp(-(a**2 + b**2) / 2) / (np.pi * (1 + t**2))\n",
    "q =  lambda t,  a=a, b=b: (b + a * t) / np.sqrt(1 + t**2)\n",
    "\n",
    "# Analytic version of PDF for f_T \n",
    "fT = lambda t: f_k(t)* hyp1f1(1,1/2,q(t)**2/2)\n",
    "\n",
    "# Values of the function f_T for plot\n",
    "t_values = np.linspace(xMin[1], xMax[1], xN)\n",
    "fT_values = fT(t_values)"
   ]
  },
  {
   "cell_type": "code",
   "execution_count": 51,
   "id": "2386398b-e22a-465e-84cb-f6d2d41bf6f9",
   "metadata": {
    "execution": {
     "iopub.execute_input": "2024-11-16T21:30:26.601584Z",
     "iopub.status.busy": "2024-11-16T21:30:26.601584Z",
     "iopub.status.idle": "2024-11-16T21:30:26.782255Z",
     "shell.execute_reply": "2024-11-16T21:30:26.782255Z",
     "shell.execute_reply.started": "2024-11-16T21:30:26.601584Z"
    }
   },
   "outputs": [
    {
     "data": {
      "image/png": "[encoded data removed]",
      "text/plain": [
       "<Figure size 640x480 with 1 Axes>"
      ]
     },
     "metadata": {},
     "output_type": "display_data"
    }
   ],
   "source": [
    "# plot of fT\n",
    "plt.figure()\n",
    "plt.plot(t_values, fT_values, 'r', linewidth=1.5)\n",
    "plt.xlim([xMin[0], xMax[0]])  # plot in 3 sigma range\n",
    "plt.xlabel('$t$')\n",
    "plt.ylabel('$f_T(t)$')\n",
    "plt.title('Plot of analytic PDF $f_T$')\n",
    "plt.grid(True)\n",
    "plt.legend(['analytic $f_T(t)$']);"
   ]
  },
  {
   "cell_type": "markdown",
   "id": "332090b9-a216-4392-8582-7dcc803c65a6",
   "metadata": {},
   "source": [
    "## Plots from numerical inversions"
   ]
  },
  {
   "cell_type": "code",
   "execution_count": 52,
   "id": "74ae0f34-3c9d-4bd6-90a4-8840e24e8cd5",
   "metadata": {
    "execution": {
     "iopub.execute_input": "2024-11-16T21:30:26.783259Z",
     "iopub.status.busy": "2024-11-16T21:30:26.783259Z",
     "iopub.status.idle": "2024-11-16T21:30:26.881119Z",
     "shell.execute_reply": "2024-11-16T21:30:26.881119Z",
     "shell.execute_reply.started": "2024-11-16T21:30:26.783259Z"
    }
   },
   "outputs": [
    {
     "data": {
      "image/png": "[encoded data removed]",
      "text/plain": [
       "<Figure size 640x480 with 1 Axes>"
      ]
     },
     "metadata": {},
     "output_type": "display_data"
    }
   ],
   "source": [
    "# RPDF1 vs Analytic\n",
    "plt.figure()\n",
    "plt.plot(t_values, fT_values, 'r', linewidth=2)\n",
    "plt.plot(x1, Rpdfn_1n, 'b', linewidth=1)\n",
    "plt.xlim([xMin[0], xMax[0]])  # plot in sigma range\n",
    "plt.grid(True)\n",
    "plt.title('Analytic PDF vs. Num Inv PDF - loop Alg1')\n",
    "plt.xlabel('$x$')\n",
    "plt.ylabel('pdf')\n",
    "plt.legend(['$f_T(t)$', 'Rpdf$_1$']);"
   ]
  },
  {
   "cell_type": "code",
   "execution_count": 53,
   "id": "5c2d77f5-7c7a-484d-9157-54c04e28f8d3",
   "metadata": {
    "execution": {
     "iopub.execute_input": "2024-11-16T21:30:26.882345Z",
     "iopub.status.busy": "2024-11-16T21:30:26.881119Z",
     "iopub.status.idle": "2024-11-16T21:30:26.980196Z",
     "shell.execute_reply": "2024-11-16T21:30:26.980196Z",
     "shell.execute_reply.started": "2024-11-16T21:30:26.881119Z"
    }
   },
   "outputs": [
    {
     "data": {
      "image/png": "[encoded data removed]",
      "text/plain": [
       "<Figure size 640x480 with 1 Axes>"
      ]
     },
     "metadata": {},
     "output_type": "display_data"
    }
   ],
   "source": [
    "# RPDF2 vs Analytic\n",
    "plt.figure()\n",
    "plt.plot(t_values, fT_values, 'r', linewidth=2)\n",
    "plt.plot(x1, Rpdfn_2n, 'b', linewidth=1)\n",
    "plt.xlim([xMin[0], xMax[0]])  # plot in sigma range\n",
    "plt.grid(True)\n",
    "plt.title('Analytic PDF vs. Num Inv PDF - vectorized sum Alg2')\n",
    "plt.xlabel('$x$')\n",
    "plt.ylabel('pdf')\n",
    "plt.legend(['$f_T(t)$', 'Rpdf$_2$']);"
   ]
  },
  {
   "cell_type": "code",
   "execution_count": 54,
   "id": "4280b725-908f-4794-aa5a-a7867d56d2fa",
   "metadata": {
    "execution": {
     "iopub.execute_input": "2024-11-16T21:30:26.981189Z",
     "iopub.status.busy": "2024-11-16T21:30:26.981189Z",
     "iopub.status.idle": "2024-11-16T21:30:27.082050Z",
     "shell.execute_reply": "2024-11-16T21:30:27.082050Z",
     "shell.execute_reply.started": "2024-11-16T21:30:26.981189Z"
    }
   },
   "outputs": [
    {
     "data": {
      "image/png": "[encoded data removed]",
      "text/plain": [
       "<Figure size 640x480 with 1 Axes>"
      ]
     },
     "metadata": {},
     "output_type": "display_data"
    }
   ],
   "source": [
    "# RPDF2 vs Analytic\n",
    "plt.figure()\n",
    "plt.plot(t_values, fT_values, 'r', linewidth=2)\n",
    "plt.plot(x1, Rpdf_3An, 'b', linewidth=1)\n",
    "plt.xlim([xMin[0], xMax[0]]) # plot in  sigma range\n",
    "plt.grid(True)\n",
    "plt.title('Analytic PDF vs. Num Inv PDF - vectorized pdf Alg3')\n",
    "plt.xlabel('$x$')\n",
    "plt.ylabel('pdf')\n",
    "plt.legend(['$f_T(t)$', 'Rpdf$_2$']);"
   ]
  },
  {
   "cell_type": "code",
   "execution_count": 55,
   "id": "9cb5c855-ac63-4dc6-b3b0-56c34b0136dc",
   "metadata": {
    "execution": {
     "iopub.execute_input": "2024-11-16T21:30:27.082898Z",
     "iopub.status.busy": "2024-11-16T21:30:27.082898Z",
     "iopub.status.idle": "2024-11-16T21:30:27.181654Z",
     "shell.execute_reply": "2024-11-16T21:30:27.181654Z",
     "shell.execute_reply.started": "2024-11-16T21:30:27.082898Z"
    }
   },
   "outputs": [
    {
     "data": {
      "image/png": "[encoded data removed]",
      "text/plain": [
       "<Figure size 640x480 with 1 Axes>"
      ]
     },
     "metadata": {},
     "output_type": "display_data"
    }
   ],
   "source": [
    "# RPDF3D vs Analytic\n",
    "plt.figure()\n",
    "plt.plot(t_values, fT_values, 'r', linewidth=2)\n",
    "plt.plot(x1, Rpdf_3Dn, 'b', linewidth=1)\n",
    "plt.xlim([xMin[0], xMax[0]]) # plot in  sigma range\n",
    "plt.grid(True)\n",
    "plt.title('Analytic PDF vs. Num Inv PDF - numeric dif Alg3D')\n",
    "plt.xlabel('$x$')\n",
    "plt.ylabel('pdf')\n",
    "plt.legend(['$f_T(t)$', 'Rpdf$_3D$']);"
   ]
  },
  {
   "cell_type": "markdown",
   "id": "ec439ca2-989e-4adc-b81f-2a6d2a3a2ef0",
   "metadata": {},
   "source": [
    "# SAVING results"
   ]
  },
  {
   "cell_type": "code",
   "execution_count": 56,
   "id": "21fc5058-40ad-4af0-b80e-d2042576f7f5",
   "metadata": {
    "execution": {
     "iopub.execute_input": "2024-11-16T21:30:27.182197Z",
     "iopub.status.busy": "2024-11-16T21:30:27.182197Z",
     "iopub.status.idle": "2024-11-16T21:30:27.198801Z",
     "shell.execute_reply": "2024-11-16T21:30:27.198801Z",
     "shell.execute_reply.started": "2024-11-16T21:30:27.182197Z"
    }
   },
   "outputs": [],
   "source": [
    "# setting folder for a xlsx file\n",
    "folderPath = 'd:/Dropbox/00 Jupyter/00 Matematika/Probastat/data/MathematicaMATLAB/'\n",
    "\n",
    "# Get the current date and time in a suitable format (e.g., YYYY-MM-DD-HH-MM-SS)\n",
    "from datetime import datetime\n",
    "currentDateTime = datetime.now().strftime('%Y_%m-%d-%H_%M_%S')\n",
    "\n",
    "# Create the filename with N and date-time\n",
    "fileName = f'Python-perfStats-N{xN}-{currentDateTime}.xlsx'\n",
    "drt.to_excel(fileName)"
   ]
  }
 ],
 "metadata": {
  "kernelspec": {
   "display_name": "Python 3 (ipykernel)",
   "language": "python",
   "name": "python3"
  },
  "language_info": {
   "codemirror_mode": {
    "name": "ipython",
    "version": 3
   },
   "file_extension": ".py",
   "mimetype": "text/x-python",
   "name": "python",
   "nbconvert_exporter": "python",
   "pygments_lexer": "ipython3",
   "version": "3.11.10"
  }
 },
 "nbformat": 4,
 "nbformat_minor": 5
}
