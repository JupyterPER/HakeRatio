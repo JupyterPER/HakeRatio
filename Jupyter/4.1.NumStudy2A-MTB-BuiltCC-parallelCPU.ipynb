{
 "cells": [
  {
   "attachments": {},
   "cell_type": "markdown",
   "id": "3b12c33f-6b21-482a-9f5a-7ac6da449572",
   "metadata": {
    "execution": {
     "iopub.execute_input": "2024-11-06T12:15:00.677339Z",
     "iopub.status.busy": "2024-11-06T12:15:00.677131Z",
     "iopub.status.idle": "2024-11-06T12:15:01.598938Z",
     "shell.execute_reply": "2024-11-06T12:15:01.597731Z",
     "shell.execute_reply.started": "2024-11-06T12:15:00.677302Z"
    }
   },
   "source": [
    "**Authors:** Jozef Hanč, Martina Hančová <br> *[Faculty of Science](https://www.upjs.sk/en/faculty-of-science/?prefferedLang=EN), P. J. Šafárik University in Košice, Slovakia* <br> emails: [jozef.hanc@upjs.sk](mailto:jozef.hanc@upjs.sk)\n",
    "***\n",
    "\n",
    "# <font color = brown, size=6> Numerical inversion of ratio (Broda-Kan Approach) </font>\n",
    "\n",
    "# <font color = brown>Numerical study - built-in integrator <br> with Cheb.interpolation\n",
    "\n",
    "<font size=5> Computational tools: </font>  **<font size=5>MATLAB (CPU parallelization</font>** \n",
    "\n",
    "code `cf_Ratio_BKB.m` \n",
    "\n",
    "---"
   ]
  },
  {
   "cell_type": "markdown",
   "id": "49e6f868-ca30-4d51-97e4-1db177425e4c",
   "metadata": {},
   "source": [
    "**Section 3.2:** Broda-Kan inversion formula for ratio $T$ of independent RVs $X_1,X_2$\n",
    "$$\n",
    "f_T(x) = \\frac{1}{\\pi^2} \\int_0^{+\\infty} \\int_{-\\infty}^{+\\infty} \\Re\\left\\{\\frac{\\varphi_{X_1}(t_1)}{t_2} \\varphi_{X_2}^{\\prime}(-t_2 - x t_1)\\right\\} d t_1 d t_2.\n",
    "$$\n",
    "\n",
    "**Ref.** Hanč J., Hančová M., Borovský D., Probability distributions and calculations for Hake’s ratio statistics in measuring effect size, \n",
    "*preprint submitted to Statistical Papers*"
   ]
  },
  {
   "attachments": {},
   "cell_type": "markdown",
   "id": "9a2e6e25-a3cd-4751-953f-77795d88a06d",
   "metadata": {},
   "source": [
    "---\n",
    "\n",
    "`cf_Ratio_BKB.m` calculates **BK** formula for the **ratio** PDF as the iterated integration via the **B**uilt-in 1D integrator (integral}\n",
    "$$\n",
    "f_T(x) = \\frac{1}{\\pi^2}  \\int_{-\\infty}^{+\\infty}  \\Re\\left\\{ \\varphi_{X_1}(t_1)\\int_0^{+\\infty} \n",
    "\\frac{\\varphi_{X_2}'(-t_2 - x t_1)}{t_2} d t_2 \\right\\} d t_1\n",
    "$$\n",
    "\n",
    "---"
   ]
  },
  {
   "attachments": {},
   "cell_type": "markdown",
   "id": "828a75c6-ab2e-420f-9544-f0dc811cf1ea",
   "metadata": {},
   "source": [
    "# Numerical study - Hake ratio\n",
    "\n",
    "For ratio of independent normal variables:  $T = X_1/X_2$\n",
    "\n",
    "Numerator $ X_1 \\sim N(a, 1), a = 1.5 $:\n",
    "- CF: $ \\varphi_{X_1}(t) = e^{i a t - \\frac{t^2}{2}}$\n",
    "\n",
    "Denominator $ X_2 \\sim N(b, 1) $, $ b = 1 $\\:\n",
    "- CF: $ \\varphi_{X_2}(t) = e^{i b t - \\frac{t^2}{2}}$\n"
   ]
  },
  {
   "cell_type": "code",
   "execution_count": 1,
   "id": "eb676bd4-5134-46d9-bd73-e14ed04da60f",
   "metadata": {
    "execution": {
     "iopub.execute_input": "2024-11-17T16:22:06.051515Z",
     "iopub.status.busy": "2024-11-17T16:22:06.051515Z",
     "iopub.status.idle": "2024-11-17T16:22:06.769415Z",
     "shell.execute_reply": "2024-11-17T16:22:06.768883Z",
     "shell.execute_reply.started": "2024-11-17T16:22:06.051515Z"
    }
   },
   "outputs": [],
   "source": [
    "% characteristic function of X1 ~ N(a,1)\n",
    "a = 1.5;\n",
    "cf1 = @(t1) exp(1i * a * t1 - t1.^2 / 2);\n",
    "\n",
    "% characteristic function of X2 ~ N(b,1) and its derivative\n",
    "b = 1;\n",
    "cf2 = @(t2) exp(1i * b* t2 - t2.^2 / 2);\n",
    "cf2_dif = @(t2) (1i*b - t2) .* exp(1i * b* t2 - t2.^2 / 2);"
   ]
  },
  {
   "cell_type": "markdown",
   "id": "f64d721e-49be-4155-840d-6e8e6267cdce",
   "metadata": {},
   "source": [
    "# Set of points x for PDF"
   ]
  },
  {
   "cell_type": "code",
   "execution_count": 2,
   "id": "f628c42a-5101-4e68-b526-604b1f1625dc",
   "metadata": {
    "execution": {
     "iopub.execute_input": "2024-11-17T16:22:17.841764Z",
     "iopub.status.busy": "2024-11-17T16:22:17.841764Z",
     "iopub.status.idle": "2024-11-17T16:22:18.278220Z",
     "shell.execute_reply": "2024-11-17T16:22:18.278220Z",
     "shell.execute_reply.started": "2024-11-17T16:22:17.841764Z"
    }
   },
   "outputs": [
    {
     "name": "stdout",
     "output_type": "stream",
     "text": [
      "Data for 10 points:\n",
      "  -4.500000000000000\n",
      "  -3.166666666666667\n",
      "  -1.833333333333333\n",
      "  -0.500000000000000\n",
      "   0.833333333333333\n",
      "   2.166666666666667\n",
      "   3.500000000000000\n",
      "   4.833333333333333\n",
      "   6.166666666666667\n",
      "   7.500000000000000\n",
      "\n",
      "   0.010857191405375\n",
      "   0.016964082520186\n",
      "   0.027195141188685\n",
      "   0.052692510471108\n",
      "   0.363983717833685\n",
      "   0.122015600892843\n",
      "   0.045362568404555\n",
      "   0.022301977251817\n",
      "   0.013014648811622\n",
      "   0.008464408087941\n",
      "\n"
     ]
    }
   ],
   "source": [
    "% Reading pre-calculated quadrupole precision values of x and PDF\n",
    "n = 4; % Number of iterations\n",
    "dataFolder = \"D:\\Dropbox\\00 Jupyter\\00 Matematika\\Probastat\\data\\MathematicaMATLAB\\data\\\";\n",
    "\n",
    "% Loop to read data for 10^(n+1) points\n",
    "for k = 1:n\n",
    "    % Create the key as a string\n",
    "    key = num2str(10^k);\n",
    "    \n",
    "    % Construct file paths\n",
    "    xFilePath = sprintf('%sxvalues%d.txt', dataFolder, 10^k);\n",
    "    sageQPFilePath = sprintf('%sSage_QPpdf%d.txt', dataFolder, 10^k);\n",
    "    \n",
    "    % Read the text files\n",
    "    dx(key) = load(xFilePath, '-ascii'); % Using `-ascii` to read numerical text files\n",
    "    dsageQP(key) = load(sageQPFilePath, '-ascii');\n",
    "end\n",
    "\n",
    "% Access data from dx or dsageQP using the key\n",
    "format long;\n",
    "disp('Data for 10 points:');\n",
    "disp(dx('10')); % Accessing the data for the key '10', corresponding to k=0\n",
    "disp(dsageQP('10')); % Accessing the data for the key '10', corresponding to k=0\n",
    "format short; % Set back to default short format"
   ]
  },
  {
   "cell_type": "code",
   "execution_count": 3,
   "id": "87b351b4-04dc-4502-8588-971de9321dcc",
   "metadata": {
    "execution": {
     "iopub.execute_input": "2024-11-17T16:22:19.496353Z",
     "iopub.status.busy": "2024-11-17T16:22:19.496353Z",
     "iopub.status.idle": "2024-11-17T16:22:19.867611Z",
     "shell.execute_reply": "2024-11-17T16:22:19.867435Z",
     "shell.execute_reply.started": "2024-11-17T16:22:19.496353Z"
    }
   },
   "outputs": [],
   "source": [
    "% set of points x\n",
    "xN = 1000;\n",
    "x = dx(num2str(xN));\n",
    "SagePDF = dsageQP(num2str(xN));"
   ]
  },
  {
   "cell_type": "markdown",
   "id": "2ac01f0f-9458-4d3f-84e9-5a892ec499da",
   "metadata": {},
   "source": [
    "# PDF via the built-in 1D integrator\n",
    "code `cf_Ratio_BKB.m` "
   ]
  },
  {
   "cell_type": "markdown",
   "id": "f068f041-8f19-4f1d-a900-b2da68f8b3f1",
   "metadata": {},
   "source": [
    "#### measuring runtime"
   ]
  },
  {
   "cell_type": "code",
   "execution_count": 4,
   "id": "2bfccb35-77b3-4d2e-baa9-67739fcf3789",
   "metadata": {
    "execution": {
     "iopub.execute_input": "2024-11-17T16:22:23.299437Z",
     "iopub.status.busy": "2024-11-17T16:22:23.299437Z",
     "iopub.status.idle": "2024-11-17T16:22:23.668646Z",
     "shell.execute_reply": "2024-11-17T16:22:23.668646Z",
     "shell.execute_reply.started": "2024-11-17T16:22:23.299437Z"
    }
   },
   "outputs": [],
   "source": [
    "% Initialize the structure to store performance data for methods\n",
    "performance.method = {}; % method of calculation\n",
    "performance.rt = []; % runtime\n",
    "performance.rtPerPoint = []; % runtime per point\n",
    "performance.acceleration = []; % acceleration\n",
    "performance.error = []; % max error"
   ]
  },
  {
   "cell_type": "markdown",
   "id": "ac933137-d4d0-418f-8927-3a1aa43294ab",
   "metadata": {
    "execution": {
     "iopub.execute_input": "2024-11-15T10:45:58.563331Z",
     "iopub.status.busy": "2024-11-15T10:45:58.563331Z",
     "iopub.status.idle": "2024-11-15T10:45:58.926561Z",
     "shell.execute_reply": "2024-11-15T10:45:58.926561Z",
     "shell.execute_reply.started": "2024-11-15T10:45:58.563331Z"
    }
   },
   "source": [
    "## BKB Cheb infinity lims + symb.der cf2"
   ]
  },
  {
   "cell_type": "markdown",
   "id": "4e1de9db-671c-4139-b69b-82efc62368ee",
   "metadata": {},
   "source": [
    "### illustrative example"
   ]
  },
  {
   "cell_type": "code",
   "execution_count": 5,
   "id": "673b8784-d168-4a62-8416-e726eb6b12ce",
   "metadata": {
    "execution": {
     "iopub.execute_input": "2024-11-17T16:22:25.746601Z",
     "iopub.status.busy": "2024-11-17T16:22:25.746601Z",
     "iopub.status.idle": "2024-11-17T16:22:26.118293Z",
     "shell.execute_reply": "2024-11-17T16:22:26.118293Z",
     "shell.execute_reply.started": "2024-11-17T16:22:25.746601Z"
    }
   },
   "outputs": [],
   "source": [
    "% setting options\n",
    "clear options;\n",
    "options.isPlot = true;\n",
    "options.InfinityLimits = true;\n",
    "options.isInterp = true;\n",
    "options.parallelCPU = true;"
   ]
  },
  {
   "cell_type": "code",
   "execution_count": 6,
   "id": "9bb4ff31",
   "metadata": {
    "execution": {
     "iopub.execute_input": "2024-11-17T16:22:26.872796Z",
     "iopub.status.busy": "2024-11-17T16:22:26.872796Z",
     "iopub.status.idle": "2024-11-17T16:22:28.656135Z",
     "shell.execute_reply": "2024-11-17T16:22:28.656135Z",
     "shell.execute_reply.started": "2024-11-17T16:22:26.872796Z"
    }
   },
   "outputs": [
    {
     "data": {
      "image/png": "[encoded data removed]"
     },
     "execution_count": 6,
     "metadata": {},
     "output_type": "execute_result"
    },
    {
     "name": "stdout",
     "output_type": "stream",
     "text": [
      "         Description: 'PDF of ratio X1/X2 from the char. functions'\n",
      "     inversionMethod: 'Broda-Kan'\n",
      "    quadratureMethod: 'Built-in 1D numerical integration with Chebyshev interpolation https://www.mathworks.com/help/matlab/ref/integral.html'\n",
      "          methodAbbr: 'BKB:CC129:Infs:NumDer:parCPU:1e-03'\n",
      "        parallelCPUs: 8\n",
      "                 cf1: @(t1)exp(1i*a*t1-t1.^2/2)\n",
      "                 cf2: @(t2)exp(1i*b*t2-t2.^2/2)\n",
      "      cf2derSymbolic: []\n",
      "                  xN: 129\n",
      "                   x: [-4.5008 -4.4989 -4.4935 -4.4845 -4.4719 -4.4556 -4.4358 -4.4124 -4.3855 -4.3550 -4.3209 -4.2834 -4.2424 -4.1979 -4.1500 -4.0987 -4.0440 -3.9859 ... ] (1x129 double)\n",
      "                 pdf: [0.0109 0.0109 0.0109 0.0109 0.0110 0.0110 0.0111 0.0112 0.0113 0.0114 0.0115 0.0116 0.0118 0.0119 0.0121 0.0123 0.0126 0.0128 0.0131 0.0133 0.0137 ... ] (1x129 double)\n",
      "                 PDF: @(x1new)InterpPDF(x1new,x1,Rpdf)\n",
      "              t1_min: -Inf\n",
      "              t1_max: Inf\n",
      "              t2_min: 1.0000e-15\n",
      "              t2_max: Inf\n",
      "                rtol: 1.0000e-03\n",
      "             options: [1x1 struct]\n",
      "             runtime: 1.1721\n",
      "     runtimePerPoint: 0.0091\n",
      "\n"
     ]
    }
   ],
   "source": [
    "% num inversion of ratio\n",
    "[result, Rpdf] = cf_Ratio_BKB(cf1, cf2, [], options);\n",
    "disp(result)"
   ]
  },
  {
   "cell_type": "code",
   "execution_count": 7,
   "id": "e7fd6820-6158-4ece-870b-5da9f198dca4",
   "metadata": {
    "execution": {
     "iopub.execute_input": "2024-11-17T16:22:30.177432Z",
     "iopub.status.busy": "2024-11-17T16:22:30.176433Z",
     "iopub.status.idle": "2024-11-17T16:22:30.552682Z",
     "shell.execute_reply": "2024-11-17T16:22:30.552682Z",
     "shell.execute_reply.started": "2024-11-17T16:22:30.177432Z"
    }
   },
   "outputs": [
    {
     "name": "stdout",
     "output_type": "stream",
     "text": [
      "   5.2683e-08\n",
      "\n"
     ]
    }
   ],
   "source": [
    "%calculation Chebyshev interpolation\n",
    "runtime = result.runtime;\n",
    "result.xN = length(x);\n",
    "\n",
    "timeVal = tic;\n",
    "Rpdfc = result.PDF(x);\n",
    "tictoc = toc(timeVal);\n",
    "\n",
    "result.runtime = runtime + tictoc;\n",
    "result.error = max(abs(Rpdfc-SagePDF));\n",
    "disp(result.error)"
   ]
  },
  {
   "cell_type": "code",
   "execution_count": 8,
   "id": "843f13c5-f1a1-4791-ac6f-17f174aaf3eb",
   "metadata": {
    "execution": {
     "iopub.execute_input": "2024-11-17T16:22:32.557625Z",
     "iopub.status.busy": "2024-11-17T16:22:32.557625Z",
     "iopub.status.idle": "2024-11-17T16:22:33.213466Z",
     "shell.execute_reply": "2024-11-17T16:22:33.212949Z",
     "shell.execute_reply.started": "2024-11-17T16:22:32.557625Z"
    }
   },
   "outputs": [
    {
     "data": {
      "image/png": "[encoded data removed]"
     },
     "execution_count": 8,
     "metadata": {},
     "output_type": "execute_result"
    }
   ],
   "source": [
    "%PDF from Cheb interpolation vs. from Cheb points\n",
    "figure\n",
    "plot(x, Rpdfc, 'r', 'LineWidth', 1);\n",
    "xlim([min(x) max(x)]) % plot in  sigma range\n",
    "grid on;\n",
    "title('PDF from Cheb. interpolation')\n",
    "xlabel('x')\n",
    "ylabel('pdf')   \n",
    "legend('Rpdf_{CC}');"
   ]
  },
  {
   "cell_type": "markdown",
   "id": "c7ca84bd-f204-4e1e-9d0e-829f79932c14",
   "metadata": {},
   "source": [
    "### Num experiments rtol: $1e-3,1e-4,..., 1e-15$\n",
    " "
   ]
  },
  {
   "cell_type": "code",
   "execution_count": 9,
   "id": "913f4784-5ab4-491b-8f22-5e82ce139387",
   "metadata": {
    "execution": {
     "iopub.execute_input": "2024-11-17T16:22:35.106393Z",
     "iopub.status.busy": "2024-11-17T16:22:35.106393Z",
     "iopub.status.idle": "2024-11-17T16:22:35.483044Z",
     "shell.execute_reply": "2024-11-17T16:22:35.483044Z",
     "shell.execute_reply.started": "2024-11-17T16:22:35.106393Z"
    }
   },
   "outputs": [],
   "source": [
    "% setting options\n",
    "clear options;\n",
    "options.isPlot = false;\n",
    "options.InfinityLimits = true;\n",
    "options.isInterp = true;\n",
    "options.parallelCPU = true;"
   ]
  },
  {
   "cell_type": "code",
   "execution_count": 10,
   "id": "c0ebbc54-7c69-478e-aa44-a0cb0bb1dda0",
   "metadata": {
    "execution": {
     "iopub.execute_input": "2024-11-17T16:22:42.359063Z",
     "iopub.status.busy": "2024-11-17T16:22:42.359063Z",
     "iopub.status.idle": "2024-11-17T16:22:42.735753Z",
     "shell.execute_reply": "2024-11-17T16:22:42.735753Z",
     "shell.execute_reply.started": "2024-11-17T16:22:42.359063Z"
    }
   },
   "outputs": [],
   "source": [
    "% Initialize the structure to store performance data for methods\n",
    "performance.method = {}; % method of calculation\n",
    "performance.rt = []; % runtime\n",
    "performance.rtPerPoint = []; % runtime per point\n",
    "performance.acceleration = []; % acceleration\n",
    "performance.error = []; % max error"
   ]
  },
  {
   "cell_type": "code",
   "execution_count": 11,
   "id": "5a6e1088-4974-404a-bff2-793c02c4fdfb",
   "metadata": {
    "execution": {
     "iopub.execute_input": "2024-11-17T16:22:54.366929Z",
     "iopub.status.busy": "2024-11-17T16:22:54.366929Z",
     "iopub.status.idle": "2024-11-17T16:22:54.741537Z",
     "shell.execute_reply": "2024-11-17T16:22:54.741537Z",
     "shell.execute_reply.started": "2024-11-17T16:22:54.366929Z"
    }
   },
   "outputs": [],
   "source": [
    "%initialization of variable for rtol\n",
    "n = 2; run = false;\n",
    "% options.rtol = 10^(-n);"
   ]
  },
  {
   "cell_type": "code",
   "execution_count": 12,
   "id": "6ade8672-7662-4676-8d5c-5e75439d6548",
   "metadata": {
    "execution": {
     "iopub.execute_input": "2024-11-17T16:22:58.354223Z",
     "iopub.status.busy": "2024-11-17T16:22:58.354223Z",
     "iopub.status.idle": "2024-11-17T16:22:59.921145Z",
     "shell.execute_reply": "2024-11-17T16:22:59.921145Z",
     "shell.execute_reply.started": "2024-11-17T16:22:58.354223Z"
    }
   },
   "outputs": [
    {
     "name": "stdout",
     "output_type": "stream",
     "text": [
      "Experiment: xN = 1000, eps = 10^-3\n",
      "xN = 1000, BKB:CC129:Infs:NumDer:parCPU:1e-03, eps = 10^-3\n",
      "                            Performance statistics        \n",
      "                    ______________________________________\n",
      "\n",
      "    method          {'BKB:CC129:Infs:NumDer:parCPU:1e-03'}\n",
      "    rt              {'[1.17e+00]'                        }\n",
      "    rtPerPoint      {'[1.17e-03]'                        }\n",
      "    acceleration    {'[1.00e+00]'                        }\n",
      "    error           {'[5.27e-08]'                        }\n",
      "\n",
      "Experiment runtime = 1.17 s\n"
     ]
    }
   ],
   "source": [
    "% numerical experiments via rtol:1e-3,1e-4,..., 1e-15\n",
    "%timeValTot = tic;\n",
    "n = n+1;\n",
    "%for n=nmin:nmax \n",
    "fprintf('Experiment: xN = %d, eps = 10^-%d\\n', xN, n);\n",
    "\n",
    "% relative tol\n",
    "options.rtol = 10^(-n);\n",
    "\n",
    "% num inversion of ratio - Chebyshev interpolant\n",
    "[result, Rpdf] = cf_Ratio_BKB(cf1, cf2, [], options);\n",
    "\n",
    "runtime = result.runtime;\n",
    "timeVal = tic;\n",
    "\n",
    "%calculation Chebyshev interpolation\n",
    "Rpdfc = result.PDF(x);\n",
    "\n",
    "tictoc = toc(timeVal);\n",
    "result.runtime = runtime + tictoc;\n",
    "result.error = max(abs(Rpdfc-SagePDF));\n",
    "result.xN = xN;\n",
    "\n",
    "fprintf('xN = %d, %s, eps = 10^-%d\\n', xN, result.methodAbbr, n);\n",
    "% measuring time\n",
    "% simple tic-toc method \n",
    "% Update the performance structure and display the result\n",
    "display = true;\n",
    "%if n==nmax, display = true;end\n",
    "performance = update_PerfStats(result, performance, display);\n",
    "%end\n",
    "\n",
    "% tictocTot = toc(timeValTot);\n",
    "fprintf('Experiment runtime = %.2f s\\n', result.runtime);\n",
    "% fprintf('%s\\n', repmat('*', 1, 25));"
   ]
  },
  {
   "cell_type": "code",
   "execution_count": 13,
   "id": "729dfe9b-f6bd-47ab-9051-43ed89a53e33",
   "metadata": {
    "execution": {
     "iopub.execute_input": "2024-11-17T16:23:09.977637Z",
     "iopub.status.busy": "2024-11-17T16:23:09.976637Z",
     "iopub.status.idle": "2024-11-17T16:23:11.650309Z",
     "shell.execute_reply": "2024-11-17T16:23:11.650309Z",
     "shell.execute_reply.started": "2024-11-17T16:23:09.976637Z"
    }
   },
   "outputs": [
    {
     "name": "stdout",
     "output_type": "stream",
     "text": [
      "Experiment: xN = 1000, eps = 10^-4\n",
      "xN = 1000, BKB:CC129:Infs:NumDer:parCPU:1e-04, eps = 10^-4\n",
      "                                               Performance statistics                           \n",
      "                    ____________________________________________________________________________\n",
      "\n",
      "    method          {'[BKB:CC129:Infs:NumDer:parCPU:1e-03, BKB:CC129:Infs:NumDer:parCPU:1e-04]'}\n",
      "    rt              {'[1.17e+00 1.29e+00]'                                                     }\n",
      "    rtPerPoint      {'[1.17e-03 1.29e-03]'                                                     }\n",
      "    acceleration    {'[1.00e+00 9.12e-01]'                                                     }\n",
      "    error           {'[5.27e-08 1.11e-08]'                                                     }\n",
      "\n",
      "Experiment runtime = 1.29 s\n"
     ]
    }
   ],
   "source": [
    "% numerical experiments via rtol:1e-3,1e-4,..., 1e-15\n",
    "%timeValTot = tic;\n",
    "n = n+1;\n",
    "%for n=nmin:nmax \n",
    "fprintf('Experiment: xN = %d, eps = 10^-%d\\n', xN, n);\n",
    "\n",
    "% relative tol\n",
    "options.rtol = 10^(-n);\n",
    "\n",
    "% num inversion of ratio - Chebyshev interpolant\n",
    "[result, Rpdf] = cf_Ratio_BKB(cf1, cf2, [], options);\n",
    "\n",
    "runtime = result.runtime;\n",
    "timeVal = tic;\n",
    "\n",
    "%calculation Chebyshev interpolation\n",
    "Rpdfc = result.PDF(x);\n",
    "\n",
    "tictoc = toc(timeVal);\n",
    "result.runtime = runtime + tictoc;\n",
    "result.error = max(abs(Rpdfc-SagePDF));\n",
    "result.xN = xN;\n",
    "\n",
    "fprintf('xN = %d, %s, eps = 10^-%d\\n', xN, result.methodAbbr, n);\n",
    "% measuring time\n",
    "% simple tic-toc method \n",
    "% Update the performance structure and display the result\n",
    "display = true;\n",
    "%if n==nmax, display = true;end\n",
    "performance = update_PerfStats(result, performance, display);\n",
    "%end\n",
    "\n",
    "% tictocTot = toc(timeValTot);\n",
    "fprintf('Experiment runtime = %.2f s\\n', result.runtime);\n",
    "% fprintf('%s\\n', repmat('*', 1, 25));"
   ]
  },
  {
   "cell_type": "code",
   "execution_count": 14,
   "id": "7cdbc5ea-8f05-48c4-a90f-306b692e4382",
   "metadata": {
    "execution": {
     "iopub.execute_input": "2024-11-17T16:23:17.097135Z",
     "iopub.status.busy": "2024-11-17T16:23:17.097135Z",
     "iopub.status.idle": "2024-11-17T16:23:19.013130Z",
     "shell.execute_reply": "2024-11-17T16:23:19.013000Z",
     "shell.execute_reply.started": "2024-11-17T16:23:17.097135Z"
    }
   },
   "outputs": [
    {
     "name": "stdout",
     "output_type": "stream",
     "text": [
      "Experiment: xN = 1000, eps = 10^-5\n",
      "xN = 1000, BKB:CC129:Infs:NumDer:parCPU:1e-05, eps = 10^-5\n",
      "                                                                 Performance statistics                                             \n",
      "                    ________________________________________________________________________________________________________________\n",
      "\n",
      "    method          {'[BKB:CC129:Infs:NumDer:parCPU:1e-03, BKB:CC129:Infs:NumDer:parCPU:1e-04, BKB:CC129:Infs:NumDer:parCPU:1e-05]'}\n",
      "    rt              {'[1.17e+00 1.29e+00 1.53e+00]'                                                                                }\n",
      "    rtPerPoint      {'[1.17e-03 1.29e-03 1.53e-03]'                                                                                }\n",
      "    acceleration    {'[1.00e+00 9.12e-01 7.69e-01]'                                                                                }\n",
      "    error           {'[5.27e-08 1.11e-08 7.36e-09]'                                                                                }\n",
      "\n",
      "Experiment runtime = 1.53 s\n"
     ]
    }
   ],
   "source": [
    "% numerical experiments via rtol:1e-3,1e-4,..., 1e-15\n",
    "%timeValTot = tic;\n",
    "n = n+1;\n",
    "%for n=nmin:nmax \n",
    "fprintf('Experiment: xN = %d, eps = 10^-%d\\n', xN, n);\n",
    "\n",
    "% relative tol\n",
    "options.rtol = 10^(-n);\n",
    "\n",
    "% num inversion of ratio - Chebyshev interpolant\n",
    "[result, Rpdf] = cf_Ratio_BKB(cf1, cf2, [], options);\n",
    "\n",
    "runtime = result.runtime;\n",
    "timeVal = tic;\n",
    "\n",
    "%calculation Chebyshev interpolation\n",
    "Rpdfc = result.PDF(x);\n",
    "\n",
    "tictoc = toc(timeVal);\n",
    "result.runtime = runtime + tictoc;\n",
    "result.error = max(abs(Rpdfc-SagePDF));\n",
    "result.xN = xN;\n",
    "\n",
    "fprintf('xN = %d, %s, eps = 10^-%d\\n', xN, result.methodAbbr, n);\n",
    "% measuring time\n",
    "% simple tic-toc method \n",
    "% Update the performance structure and display the result\n",
    "display = true;\n",
    "%if n==nmax, display = true;end\n",
    "performance = update_PerfStats(result, performance, display);\n",
    "%end\n",
    "\n",
    "% tictocTot = toc(timeValTot);\n",
    "fprintf('Experiment runtime = %.2f s\\n', result.runtime);\n",
    "% fprintf('%s\\n', repmat('*', 1, 25));"
   ]
  },
  {
   "cell_type": "code",
   "execution_count": 15,
   "id": "4fa8b0f5-944c-414d-9f56-35ed8fda6df5",
   "metadata": {
    "execution": {
     "iopub.execute_input": "2024-11-17T16:23:24.041881Z",
     "iopub.status.busy": "2024-11-17T16:23:24.041881Z",
     "iopub.status.idle": "2024-11-17T16:23:26.340695Z",
     "shell.execute_reply": "2024-11-17T16:23:26.340695Z",
     "shell.execute_reply.started": "2024-11-17T16:23:24.041881Z"
    }
   },
   "outputs": [
    {
     "name": "stdout",
     "output_type": "stream",
     "text": [
      "Experiment: xN = 1000, eps = 10^-6\n",
      "xN = 1000, BKB:CC129:Infs:NumDer:parCPU:1e-06, eps = 10^-6\n",
      "                                                                                   Performance statistics                                                               \n",
      "                    ____________________________________________________________________________________________________________________________________________________\n",
      "\n",
      "    method          {'[BKB:CC129:Infs:NumDer:parCPU:1e-03, BKB:CC129:Infs:NumDer:parCPU:1e-04, BKB:CC129:Infs:NumDer:parCPU:1e-05, BKB:CC129:Infs:NumDer:parCPU:1e-06]'}\n",
      "    rt              {'[1.17e+00 1.29e+00 1.53e+00 1.92e+00]'                                                                                                           }\n",
      "    rtPerPoint      {'[1.17e-03 1.29e-03 1.53e-03 1.92e-03]'                                                                                                           }\n",
      "    acceleration    {'[1.00e+00 9.12e-01 7.69e-01 6.11e-01]'                                                                                                           }\n",
      "    error           {'[5.27e-08 1.11e-08 7.36e-09 5.00e-09]'                                                                                                           }\n",
      "\n",
      "Experiment runtime = 1.92 s\n"
     ]
    }
   ],
   "source": [
    "% numerical experiments via rtol:1e-3,1e-4,..., 1e-15\n",
    "%timeValTot = tic;\n",
    "n = n+1;\n",
    "%for n=nmin:nmax \n",
    "fprintf('Experiment: xN = %d, eps = 10^-%d\\n', xN, n);\n",
    "\n",
    "% relative tol\n",
    "options.rtol = 10^(-n);\n",
    "\n",
    "% num inversion of ratio - Chebyshev interpolant\n",
    "[result, Rpdf] = cf_Ratio_BKB(cf1, cf2, [], options);\n",
    "\n",
    "runtime = result.runtime;\n",
    "timeVal = tic;\n",
    "\n",
    "%calculation Chebyshev interpolation\n",
    "Rpdfc = result.PDF(x);\n",
    "\n",
    "tictoc = toc(timeVal);\n",
    "result.runtime = runtime + tictoc;\n",
    "result.error = max(abs(Rpdfc-SagePDF));\n",
    "result.xN = xN;\n",
    "\n",
    "fprintf('xN = %d, %s, eps = 10^-%d\\n', xN, result.methodAbbr, n);\n",
    "% measuring time\n",
    "% simple tic-toc method \n",
    "% Update the performance structure and display the result\n",
    "display = true;\n",
    "%if n==nmax, display = true;end\n",
    "performance = update_PerfStats(result, performance, display);\n",
    "%end\n",
    "\n",
    "% tictocTot = toc(timeValTot);\n",
    "fprintf('Experiment runtime = %.2f s\\n', result.runtime);\n",
    "% fprintf('%s\\n', repmat('*', 1, 25));"
   ]
  },
  {
   "cell_type": "code",
   "execution_count": 16,
   "id": "3bd4fd22-3b1a-4c86-91c7-38aa11c3232e",
   "metadata": {
    "execution": {
     "iopub.execute_input": "2024-11-17T16:23:35.382249Z",
     "iopub.status.busy": "2024-11-17T16:23:35.382249Z",
     "iopub.status.idle": "2024-11-17T16:23:39.589690Z",
     "shell.execute_reply": "2024-11-17T16:23:39.589407Z",
     "shell.execute_reply.started": "2024-11-17T16:23:35.382249Z"
    }
   },
   "outputs": [
    {
     "name": "stdout",
     "output_type": "stream",
     "text": [
      "Experiment: xN = 1000, eps = 10^-7\n",
      "xN = 1000, BKB:CC129:Infs:NumDer:parCPU:1e-07, eps = 10^-7\n",
      "                                                                                                     Performance statistics                                                                                 \n",
      "                    ________________________________________________________________________________________________________________________________________________________________________________________\n",
      "\n",
      "    method          {'[BKB:CC129:Infs:NumDer:parCPU:1e-03, BKB:CC129:Infs:NumDer:parCPU:1e-04, BKB:CC129:Infs:NumDer:parCPU:1e-05, BKB:CC129:Infs:NumDer:parCPU:1e-06, BKB:CC129:Infs:NumDer:parCPU:1e-07]'}\n",
      "    rt              {'[1.17e+00 1.29e+00 1.53e+00 1.92e+00 3.80e+00]'                                                                                                                                      }\n",
      "    rtPerPoint      {'[1.17e-03 1.29e-03 1.53e-03 1.92e-03 3.80e-03]'                                                                                                                                      }\n",
      "    acceleration    {'[1.00e+00 9.12e-01 7.69e-01 6.11e-01 3.09e-01]'                                                                                                                                      }\n",
      "    error           {'[5.27e-08 1.11e-08 7.36e-09 5.00e-09 4.96e-09]'                                                                                                                                      }\n",
      "\n",
      "Experiment runtime = 3.80 s\n"
     ]
    }
   ],
   "source": [
    "% numerical experiments via rtol:1e-3,1e-4,..., 1e-15\n",
    "%timeValTot = tic;\n",
    "n = n+1;\n",
    "%for n=nmin:nmax \n",
    "fprintf('Experiment: xN = %d, eps = 10^-%d\\n', xN, n);\n",
    "\n",
    "% relative tol\n",
    "options.rtol = 10^(-n);\n",
    "\n",
    "% num inversion of ratio - Chebyshev interpolant\n",
    "[result, Rpdf] = cf_Ratio_BKB(cf1, cf2, [], options);\n",
    "\n",
    "runtime = result.runtime;\n",
    "timeVal = tic;\n",
    "\n",
    "%calculation Chebyshev interpolation\n",
    "Rpdfc = result.PDF(x);\n",
    "\n",
    "tictoc = toc(timeVal);\n",
    "result.runtime = runtime + tictoc;\n",
    "result.error = max(abs(Rpdfc-SagePDF));\n",
    "result.xN = xN;\n",
    "\n",
    "fprintf('xN = %d, %s, eps = 10^-%d\\n', xN, result.methodAbbr, n);\n",
    "% measuring time\n",
    "% simple tic-toc method \n",
    "% Update the performance structure and display the result\n",
    "display = true;\n",
    "%if n==nmax, display = true;end\n",
    "performance = update_PerfStats(result, performance, display);\n",
    "%end\n",
    "\n",
    "% tictocTot = toc(timeValTot);\n",
    "fprintf('Experiment runtime = %.2f s\\n', result.runtime);\n",
    "% fprintf('%s\\n', repmat('*', 1, 25));"
   ]
  },
  {
   "cell_type": "code",
   "execution_count": 17,
   "id": "80f636f0-776a-42c5-9926-2d75699497a7",
   "metadata": {
    "execution": {
     "iopub.execute_input": "2024-11-17T16:23:49.384580Z",
     "iopub.status.busy": "2024-11-17T16:23:49.384580Z",
     "iopub.status.idle": "2024-11-17T16:24:06.148381Z",
     "shell.execute_reply": "2024-11-17T16:24:06.148381Z",
     "shell.execute_reply.started": "2024-11-17T16:23:49.384580Z"
    }
   },
   "outputs": [
    {
     "name": "stdout",
     "output_type": "stream",
     "text": [
      "Experiment: xN = 1000, eps = 10^-8\n",
      "xN = 1000, BKB:CC129:Infs:NumDer:parCPU:1e-08, eps = 10^-8\n",
      "                                                                                                                       Performance statistics                                                                                                   \n",
      "                    ____________________________________________________________________________________________________________________________________________________________________________________________________________________________\n",
      "\n",
      "    method          {'[BKB:CC129:Infs:NumDer:parCPU:1e-03, BKB:CC129:Infs:NumDer:parCPU:1e-04, BKB:CC129:Infs:NumDer:parCPU:1e-05, BKB:CC129:Infs:NumDer:parCPU:1e-06, BKB:CC129:Infs:NumDer:parCPU:1e-07, BKB:CC129:Infs:NumDer:parCPU:1e-08]'}\n",
      "    rt              {'[1.17e+00 1.29e+00 1.53e+00 1.92e+00 3.80e+00 1.64e+01]'                                                                                                                                                                 }\n",
      "    rtPerPoint      {'[1.17e-03 1.29e-03 1.53e-03 1.92e-03 3.80e-03 1.64e-02]'                                                                                                                                                                 }\n",
      "    acceleration    {'[1.00e+00 9.12e-01 7.69e-01 6.11e-01 3.09e-01 7.17e-02]'                                                                                                                                                                 }\n",
      "    error           {'[5.27e-08 1.11e-08 7.36e-09 5.00e-09 4.96e-09 4.96e-09]'                                                                                                                                                                 }\n",
      "\n",
      "Experiment runtime = 16.38 s\n"
     ]
    }
   ],
   "source": [
    "% numerical experiments via rtol:1e-3,1e-4,..., 1e-15\n",
    "%timeValTot = tic;\n",
    "n = n+1;\n",
    "%for n=nmin:nmax \n",
    "fprintf('Experiment: xN = %d, eps = 10^-%d\\n', xN, n);\n",
    "\n",
    "% relative tol\n",
    "options.rtol = 10^(-n);\n",
    "\n",
    "% num inversion of ratio - Chebyshev interpolant\n",
    "[result, Rpdf] = cf_Ratio_BKB(cf1, cf2, [], options);\n",
    "\n",
    "runtime = result.runtime;\n",
    "timeVal = tic;\n",
    "\n",
    "%calculation Chebyshev interpolation\n",
    "Rpdfc = result.PDF(x);\n",
    "\n",
    "tictoc = toc(timeVal);\n",
    "result.runtime = runtime + tictoc;\n",
    "result.error = max(abs(Rpdfc-SagePDF));\n",
    "result.xN = xN;\n",
    "\n",
    "fprintf('xN = %d, %s, eps = 10^-%d\\n', xN, result.methodAbbr, n);\n",
    "% measuring time\n",
    "% simple tic-toc method \n",
    "% Update the performance structure and display the result\n",
    "display = true;\n",
    "%if n==nmax, display = true;end\n",
    "performance = update_PerfStats(result, performance, display);\n",
    "%end\n",
    "\n",
    "% tictocTot = toc(timeValTot);\n",
    "fprintf('Experiment runtime = %.2f s\\n', result.runtime);\n",
    "% fprintf('%s\\n', repmat('*', 1, 25));"
   ]
  },
  {
   "cell_type": "code",
   "execution_count": 18,
   "id": "4992ac73-1610-40d2-a0d1-f79c389e5570",
   "metadata": {
    "execution": {
     "iopub.execute_input": "2024-11-17T16:24:28.530923Z",
     "iopub.status.busy": "2024-11-17T16:24:28.530923Z",
     "iopub.status.idle": "2024-11-17T16:29:10.099176Z",
     "shell.execute_reply": "2024-11-17T16:29:10.099028Z",
     "shell.execute_reply.started": "2024-11-17T16:24:28.530923Z"
    }
   },
   "outputs": [
    {
     "name": "stdout",
     "output_type": "stream",
     "text": [
      "Experiment: xN = 1000, eps = 10^-9\n",
      "xN = 1000, BKB:CC129:Infs:NumDer:parCPU:1e-09, eps = 10^-9\n",
      "                                                                                                                                         Performance statistics                                                                                                                     \n",
      "                    ________________________________________________________________________________________________________________________________________________________________________________________________________________________________________________________________\n",
      "\n",
      "    method          {'[BKB:CC129:Infs:NumDer:parCPU:1e-03, BKB:CC129:Infs:NumDer:parCPU:1e-04, BKB:CC129:Infs:NumDer:parCPU:1e-05, BKB:CC129:Infs:NumDer:parCPU:1e-06, BKB:CC129:Infs:NumDer:parCPU:1e-07, BKB:CC129:Infs:NumDer:parCPU:1e-08, BKB:CC129:Infs:NumDer:parCPU:1e-09]'}\n",
      "    rt              {'[1.17e+00 1.29e+00 1.53e+00 1.92e+00 3.80e+00 1.64e+01 2.81e+02]'                                                                                                                                                                                            }\n",
      "    rtPerPoint      {'[1.17e-03 1.29e-03 1.53e-03 1.92e-03 3.80e-03 1.64e-02 2.81e-01]'                                                                                                                                                                                            }\n",
      "    acceleration    {'[1.00e+00 9.12e-01 7.69e-01 6.11e-01 3.09e-01 7.17e-02 4.18e-03]'                                                                                                                                                                                            }\n",
      "    error           {'[5.27e-08 1.11e-08 7.36e-09 5.00e-09 4.96e-09 4.96e-09 4.96e-09]'                                                                                                                                                                                            }\n",
      "\n",
      "Experiment runtime = 281.15 s\n"
     ]
    }
   ],
   "source": [
    "% numerical experiments via rtol:1e-3,1e-4,..., 1e-15\n",
    "%timeValTot = tic;\n",
    "n = n+1;\n",
    "%for n=nmin:nmax \n",
    "fprintf('Experiment: xN = %d, eps = 10^-%d\\n', xN, n);\n",
    "\n",
    "% relative tol\n",
    "options.rtol = 10^(-n);\n",
    "\n",
    "% num inversion of ratio - Chebyshev interpolant\n",
    "[result, Rpdf] = cf_Ratio_BKB(cf1, cf2, [], options);\n",
    "\n",
    "runtime = result.runtime;\n",
    "timeVal = tic;\n",
    "\n",
    "%calculation Chebyshev interpolation\n",
    "Rpdfc = result.PDF(x);\n",
    "\n",
    "tictoc = toc(timeVal);\n",
    "result.runtime = runtime + tictoc;\n",
    "result.error = max(abs(Rpdfc-SagePDF));\n",
    "result.xN = xN;\n",
    "\n",
    "fprintf('xN = %d, %s, eps = 10^-%d\\n', xN, result.methodAbbr, n);\n",
    "% measuring time\n",
    "% simple tic-toc method \n",
    "% Update the performance structure and display the result\n",
    "display = true;\n",
    "%if n==nmax, display = true;end\n",
    "performance = update_PerfStats(result, performance, display);\n",
    "%end\n",
    "\n",
    "% tictocTot = toc(timeValTot);\n",
    "fprintf('Experiment runtime = %.2f s\\n', result.runtime);\n",
    "% fprintf('%s\\n', repmat('*', 1, 25));"
   ]
  },
  {
   "cell_type": "markdown",
   "id": "24638644-c2d8-4c92-b11e-4cce51dcb923",
   "metadata": {},
   "source": [
    "from 1e-5 accuracy does not increase.  \n",
    "**Runtime for 1e-10 is more than 5 min, one point rt is more then 0.33 s**"
   ]
  },
  {
   "cell_type": "markdown",
   "id": "23819794-dbf9-43dc-a811-785f529515fe",
   "metadata": {},
   "source": [
    "### Num experiments Chebyshev nodes 2^k+1: k=3,...10\n",
    " "
   ]
  },
  {
   "cell_type": "code",
   "execution_count": 19,
   "id": "5ea8af26",
   "metadata": {
    "execution": {
     "iopub.execute_input": "2024-11-17T16:29:32.210582Z",
     "iopub.status.busy": "2024-11-17T16:29:32.210582Z",
     "iopub.status.idle": "2024-11-17T16:29:32.586133Z",
     "shell.execute_reply": "2024-11-17T16:29:32.586133Z",
     "shell.execute_reply.started": "2024-11-17T16:29:32.210582Z"
    }
   },
   "outputs": [],
   "source": [
    "% setting options\n",
    "clear options;\n",
    "options.isPlot = false;\n",
    "options.InfinityLimits = true;\n",
    "options.isInterp = true;\n",
    "options.parallelCPU = true;"
   ]
  },
  {
   "cell_type": "code",
   "execution_count": 20,
   "id": "7995aea3",
   "metadata": {
    "execution": {
     "iopub.execute_input": "2024-11-17T16:29:33.730311Z",
     "iopub.status.busy": "2024-11-17T16:29:33.730311Z",
     "iopub.status.idle": "2024-11-17T16:29:34.090931Z",
     "shell.execute_reply": "2024-11-17T16:29:34.090931Z",
     "shell.execute_reply.started": "2024-11-17T16:29:33.730311Z"
    }
   },
   "outputs": [],
   "source": [
    "% Initialize the structure to store performance data for methods\n",
    "performance.method = {}; % method of calculation\n",
    "performance.rt = []; % runtime\n",
    "performance.rtPerPoint = []; % runtime per point\n",
    "performance.acceleration = []; % acceleration\n",
    "performance.error = []; % max error"
   ]
  },
  {
   "cell_type": "code",
   "execution_count": 21,
   "id": "c67fc204",
   "metadata": {
    "execution": {
     "iopub.execute_input": "2024-11-17T16:29:35.888621Z",
     "iopub.status.busy": "2024-11-17T16:29:35.888621Z",
     "iopub.status.idle": "2024-11-17T16:29:36.273678Z",
     "shell.execute_reply": "2024-11-17T16:29:36.273678Z",
     "shell.execute_reply.started": "2024-11-17T16:29:35.888621Z"
    }
   },
   "outputs": [],
   "source": [
    "%initialization of variable for rtol\n",
    "k = 2; \n",
    "% options.chebyPts = 2^k+1;"
   ]
  },
  {
   "cell_type": "code",
   "execution_count": 22,
   "id": "56f0eb98-9c05-40b9-986f-3c3225ebd803",
   "metadata": {
    "execution": {
     "iopub.execute_input": "2024-11-17T16:29:37.389826Z",
     "iopub.status.busy": "2024-11-17T16:29:37.389826Z",
     "iopub.status.idle": "2024-11-17T16:29:37.764521Z",
     "shell.execute_reply": "2024-11-17T16:29:37.764521Z",
     "shell.execute_reply.started": "2024-11-17T16:29:37.389826Z"
    }
   },
   "outputs": [
    {
     "data": {
      "text/html": [
       "<html><body><pre>xN = 1000</pre></body></html>"
      ],
      "text/plain": [
       "xN = 1000"
      ]
     },
     "execution_count": 22,
     "metadata": {},
     "output_type": "execute_result"
    }
   ],
   "source": [
    "xN"
   ]
  },
  {
   "cell_type": "code",
   "execution_count": 23,
   "id": "e663c793-33c9-434c-a469-20d7b7dbd302",
   "metadata": {
    "execution": {
     "iopub.execute_input": "2024-11-17T16:29:44.893617Z",
     "iopub.status.busy": "2024-11-17T16:29:44.893617Z",
     "iopub.status.idle": "2024-11-17T16:29:45.440340Z",
     "shell.execute_reply": "2024-11-17T16:29:45.439965Z",
     "shell.execute_reply.started": "2024-11-17T16:29:44.893617Z"
    }
   },
   "outputs": [
    {
     "name": "stdout",
     "output_type": "stream",
     "text": [
      "Experiment: xN = 1000, chebPts = 2^3 + 1\n",
      "xN = 1000, BKB:CC9:Infs:NumDer:parCPU:1e-03, chebPts = 2^3 + 1\n",
      "                           Performance statistics       \n",
      "                    ____________________________________\n",
      "\n",
      "    method          {'BKB:CC9:Infs:NumDer:parCPU:1e-03'}\n",
      "    rt              {'[1.59e-01]'                      }\n",
      "    rtPerPoint      {'[1.59e-04]'                      }\n",
      "    acceleration    {'[1.00e+00]'                      }\n",
      "    error           {'[1.82e-01]'                      }\n",
      "\n",
      "Experiment runtime = 0.16 s\n"
     ]
    }
   ],
   "source": [
    "% numerical experiments\n",
    "%timeValTot = tic;\n",
    "k = k+1;\n",
    "%for n=nmin:nmax \n",
    "fprintf('Experiment: xN = %d, chebPts = 2^%d + 1\\n', xN, k);\n",
    "\n",
    "% relative tol\n",
    "options.chebyPts = 2^k+1;\n",
    "\n",
    "% num inversion of ratio - Chebyshev interpolant\n",
    "[result, Rpdf] = cf_Ratio_BKB(cf1, cf2, [], options);\n",
    "\n",
    "runtime = result.runtime;\n",
    "timeVal = tic;\n",
    "\n",
    "%calculation Chebyshev interpolation\n",
    "Rpdfc = result.PDF(x);\n",
    "\n",
    "tictoc = toc(timeVal);\n",
    "result.runtime = runtime + tictoc;\n",
    "result.error = max(abs(Rpdfc-SagePDF));\n",
    "result.xN = xN;\n",
    "\n",
    "\n",
    "fprintf('xN = %d, %s, chebPts = 2^%d + 1\\n', xN, result.methodAbbr, k);\n",
    "% measuring time\n",
    "% simple tic-toc method \n",
    "% Update the performance structure and display the result\n",
    "display = true;\n",
    "%if n==nmax, display = true;end\n",
    "performance = update_PerfStats(result, performance, display);\n",
    "%end\n",
    "\n",
    "% tictocTot = toc(timeValTot);\n",
    "fprintf('Experiment runtime = %.2f s\\n', result.runtime);\n",
    "% fprintf('%s\\n', repmat('*', 1, 25));\n",
    "%disp(result);"
   ]
  },
  {
   "cell_type": "code",
   "execution_count": 24,
   "id": "aabd5d66-184e-4f83-a8e9-67ceb5562491",
   "metadata": {
    "execution": {
     "iopub.execute_input": "2024-11-17T16:29:53.180619Z",
     "iopub.status.busy": "2024-11-17T16:29:53.180619Z",
     "iopub.status.idle": "2024-11-17T16:29:53.780691Z",
     "shell.execute_reply": "2024-11-17T16:29:53.780290Z",
     "shell.execute_reply.started": "2024-11-17T16:29:53.180619Z"
    }
   },
   "outputs": [
    {
     "name": "stdout",
     "output_type": "stream",
     "text": [
      "Experiment: xN = 1000, chebPts = 2^4 + 1\n",
      "xN = 1000, BKB:CC17:Infs:NumDer:parCPU:1e-03, chebPts = 2^4 + 1\n",
      "                                             Performance statistics                          \n",
      "                    _________________________________________________________________________\n",
      "\n",
      "    method          {'[BKB:CC9:Infs:NumDer:parCPU:1e-03, BKB:CC17:Infs:NumDer:parCPU:1e-03]'}\n",
      "    rt              {'[1.59e-01 2.18e-01]'                                                  }\n",
      "    rtPerPoint      {'[1.59e-04 2.18e-04]'                                                  }\n",
      "    acceleration    {'[1.00e+00 7.33e-01]'                                                  }\n",
      "    error           {'[1.82e-01 8.24e-02]'                                                  }\n",
      "\n",
      "Experiment runtime = 0.22 s\n"
     ]
    }
   ],
   "source": [
    "% numerical experiments\n",
    "%timeValTot = tic;\n",
    "k = k+1;\n",
    "%for n=nmin:nmax \n",
    "fprintf('Experiment: xN = %d, chebPts = 2^%d + 1\\n', xN, k);\n",
    "\n",
    "% relative tol\n",
    "options.chebyPts = 2^k+1;\n",
    "\n",
    "% num inversion of ratio - Chebyshev interpolant\n",
    "[result, Rpdf] = cf_Ratio_BKB(cf1, cf2, [], options);\n",
    "\n",
    "runtime = result.runtime;\n",
    "timeVal = tic;\n",
    "\n",
    "%calculation Chebyshev interpolation\n",
    "Rpdfc = result.PDF(x);\n",
    "\n",
    "tictoc = toc(timeVal);\n",
    "result.runtime = runtime + tictoc;\n",
    "result.error = max(abs(Rpdfc-SagePDF));\n",
    "result.xN = xN;\n",
    "\n",
    "\n",
    "fprintf('xN = %d, %s, chebPts = 2^%d + 1\\n', xN, result.methodAbbr, k);\n",
    "% measuring time\n",
    "% simple tic-toc method \n",
    "% Update the performance structure and display the result\n",
    "display = true;\n",
    "%if n==nmax, display = true;end\n",
    "performance = update_PerfStats(result, performance, display);\n",
    "%end\n",
    "\n",
    "% tictocTot = toc(timeValTot);\n",
    "fprintf('Experiment runtime = %.2f s\\n', result.runtime);\n",
    "% fprintf('%s\\n', repmat('*', 1, 25));\n",
    "%disp(result);"
   ]
  },
  {
   "cell_type": "code",
   "execution_count": 25,
   "id": "f9e8dd3f-e330-4f80-9ba3-e6cb0ae9cec4",
   "metadata": {
    "execution": {
     "iopub.execute_input": "2024-11-17T16:29:57.225911Z",
     "iopub.status.busy": "2024-11-17T16:29:57.225911Z",
     "iopub.status.idle": "2024-11-17T16:29:57.968842Z",
     "shell.execute_reply": "2024-11-17T16:29:57.968559Z",
     "shell.execute_reply.started": "2024-11-17T16:29:57.225911Z"
    }
   },
   "outputs": [
    {
     "name": "stdout",
     "output_type": "stream",
     "text": [
      "Experiment: xN = 1000, chebPts = 2^5 + 1\n",
      "xN = 1000, BKB:CC33:Infs:NumDer:parCPU:1e-03, chebPts = 2^5 + 1\n",
      "                                                               Performance statistics                                           \n",
      "                    ____________________________________________________________________________________________________________\n",
      "\n",
      "    method          {'[BKB:CC9:Infs:NumDer:parCPU:1e-03, BKB:CC17:Infs:NumDer:parCPU:1e-03, BKB:CC33:Infs:NumDer:parCPU:1e-03]'}\n",
      "    rt              {'[1.59e-01 2.18e-01 3.44e-01]'                                                                            }\n",
      "    rtPerPoint      {'[1.59e-04 2.18e-04 3.44e-04]'                                                                            }\n",
      "    acceleration    {'[1.00e+00 7.33e-01 4.63e-01]'                                                                            }\n",
      "    error           {'[1.82e-01 8.24e-02 1.10e-02]'                                                                            }\n",
      "\n",
      "Experiment runtime = 0.34 s\n"
     ]
    }
   ],
   "source": [
    "% numerical experiments\n",
    "%timeValTot = tic;\n",
    "k = k+1;\n",
    "%for n=nmin:nmax \n",
    "fprintf('Experiment: xN = %d, chebPts = 2^%d + 1\\n', xN, k);\n",
    "\n",
    "% relative tol\n",
    "options.chebyPts = 2^k+1;\n",
    "\n",
    "% num inversion of ratio - Chebyshev interpolant\n",
    "[result, Rpdf] = cf_Ratio_BKB(cf1, cf2, [], options);\n",
    "\n",
    "runtime = result.runtime;\n",
    "timeVal = tic;\n",
    "\n",
    "%calculation Chebyshev interpolation\n",
    "Rpdfc = result.PDF(x);\n",
    "\n",
    "tictoc = toc(timeVal);\n",
    "result.runtime = runtime + tictoc;\n",
    "result.error = max(abs(Rpdfc-SagePDF));\n",
    "result.xN = xN;\n",
    "\n",
    "\n",
    "fprintf('xN = %d, %s, chebPts = 2^%d + 1\\n', xN, result.methodAbbr, k);\n",
    "% measuring time\n",
    "% simple tic-toc method \n",
    "% Update the performance structure and display the result\n",
    "display = true;\n",
    "%if n==nmax, display = true;end\n",
    "performance = update_PerfStats(result, performance, display);\n",
    "%end\n",
    "\n",
    "% tictocTot = toc(timeValTot);\n",
    "fprintf('Experiment runtime = %.2f s\\n', result.runtime);\n",
    "% fprintf('%s\\n', repmat('*', 1, 25));\n",
    "%disp(result);"
   ]
  },
  {
   "cell_type": "code",
   "execution_count": 26,
   "id": "c0830f0a-8bff-499d-b59e-899694b42c66",
   "metadata": {
    "execution": {
     "iopub.execute_input": "2024-11-17T16:30:03.421759Z",
     "iopub.status.busy": "2024-11-17T16:30:03.421759Z",
     "iopub.status.idle": "2024-11-17T16:30:04.423791Z",
     "shell.execute_reply": "2024-11-17T16:30:04.423791Z",
     "shell.execute_reply.started": "2024-11-17T16:30:03.421759Z"
    }
   },
   "outputs": [
    {
     "name": "stdout",
     "output_type": "stream",
     "text": [
      "Experiment: xN = 1000, chebPts = 2^6 + 1\n",
      "xN = 1000, BKB:CC65:Infs:NumDer:parCPU:1e-03, chebPts = 2^6 + 1\n",
      "                                                                                Performance statistics                                                             \n",
      "                    _______________________________________________________________________________________________________________________________________________\n",
      "\n",
      "    method          {'[BKB:CC9:Infs:NumDer:parCPU:1e-03, BKB:CC17:Infs:NumDer:parCPU:1e-03, BKB:CC33:Infs:NumDer:parCPU:1e-03, BKB:CC65:Infs:NumDer:parCPU:1e-03]'}\n",
      "    rt              {'[1.59e-01 2.18e-01 3.44e-01 6.10e-01]'                                                                                                      }\n",
      "    rtPerPoint      {'[1.59e-04 2.18e-04 3.44e-04 6.10e-04]'                                                                                                      }\n",
      "    acceleration    {'[1.00e+00 7.33e-01 4.63e-01 2.61e-01]'                                                                                                      }\n",
      "    error           {'[1.82e-01 8.24e-02 1.10e-02 1.04e-04]'                                                                                                      }\n",
      "\n",
      "Experiment runtime = 0.61 s\n"
     ]
    }
   ],
   "source": [
    "% numerical experiments\n",
    "%timeValTot = tic;\n",
    "k = k+1;\n",
    "%for n=nmin:nmax \n",
    "fprintf('Experiment: xN = %d, chebPts = 2^%d + 1\\n', xN, k);\n",
    "\n",
    "% relative tol\n",
    "options.chebyPts = 2^k+1;\n",
    "\n",
    "% num inversion of ratio - Chebyshev interpolant\n",
    "[result, Rpdf] = cf_Ratio_BKB(cf1, cf2, [], options);\n",
    "\n",
    "runtime = result.runtime;\n",
    "timeVal = tic;\n",
    "\n",
    "%calculation Chebyshev interpolation\n",
    "Rpdfc = result.PDF(x);\n",
    "\n",
    "tictoc = toc(timeVal);\n",
    "result.runtime = runtime + tictoc;\n",
    "result.error = max(abs(Rpdfc-SagePDF));\n",
    "result.xN = xN;\n",
    "\n",
    "\n",
    "fprintf('xN = %d, %s, chebPts = 2^%d + 1\\n', xN, result.methodAbbr, k);\n",
    "% measuring time\n",
    "% simple tic-toc method \n",
    "% Update the performance structure and display the result\n",
    "display = true;\n",
    "%if n==nmax, display = true;end\n",
    "performance = update_PerfStats(result, performance, display);\n",
    "%end\n",
    "\n",
    "% tictocTot = toc(timeValTot);\n",
    "fprintf('Experiment runtime = %.2f s\\n', result.runtime);\n",
    "% fprintf('%s\\n', repmat('*', 1, 25));\n",
    "%disp(result);"
   ]
  },
  {
   "cell_type": "code",
   "execution_count": 27,
   "id": "b46dabc1-efef-4d08-8b3b-e71ab09630e4",
   "metadata": {
    "execution": {
     "iopub.execute_input": "2024-11-17T16:30:12.811027Z",
     "iopub.status.busy": "2024-11-17T16:30:12.811027Z",
     "iopub.status.idle": "2024-11-17T16:30:14.348134Z",
     "shell.execute_reply": "2024-11-17T16:30:14.348134Z",
     "shell.execute_reply.started": "2024-11-17T16:30:12.811027Z"
    }
   },
   "outputs": [
    {
     "name": "stdout",
     "output_type": "stream",
     "text": [
      "Experiment: xN = 1000, chebPts = 2^7 + 1\n",
      "xN = 1000, BKB:CC129:Infs:NumDer:parCPU:1e-03, chebPts = 2^7 + 1\n",
      "                                                                                                  Performance statistics                                                                               \n",
      "                    ___________________________________________________________________________________________________________________________________________________________________________________\n",
      "\n",
      "    method          {'[BKB:CC9:Infs:NumDer:parCPU:1e-03, BKB:CC17:Infs:NumDer:parCPU:1e-03, BKB:CC33:Infs:NumDer:parCPU:1e-03, BKB:CC65:Infs:NumDer:parCPU:1e-03, BKB:CC129:Infs:NumDer:parCPU:1e-03]'}\n",
      "    rt              {'[1.59e-01 2.18e-01 3.44e-01 6.10e-01 1.15e+00]'                                                                                                                                 }\n",
      "    rtPerPoint      {'[1.59e-04 2.18e-04 3.44e-04 6.10e-04 1.15e-03]'                                                                                                                                 }\n",
      "    acceleration    {'[1.00e+00 7.33e-01 4.63e-01 2.61e-01 1.39e-01]'                                                                                                                                 }\n",
      "    error           {'[1.82e-01 8.24e-02 1.10e-02 1.04e-04 5.27e-08]'                                                                                                                                 }\n",
      "\n",
      "Experiment runtime = 1.15 s\n"
     ]
    }
   ],
   "source": [
    "% numerical experiments\n",
    "%timeValTot = tic;\n",
    "k = k+1;\n",
    "%for n=nmin:nmax \n",
    "fprintf('Experiment: xN = %d, chebPts = 2^%d + 1\\n', xN, k);\n",
    "\n",
    "% relative tol\n",
    "options.chebyPts = 2^k+1;\n",
    "\n",
    "% num inversion of ratio - Chebyshev interpolant\n",
    "[result, Rpdf] = cf_Ratio_BKB(cf1, cf2, [], options);\n",
    "\n",
    "runtime = result.runtime;\n",
    "timeVal = tic;\n",
    "\n",
    "%calculation Chebyshev interpolation\n",
    "Rpdfc = result.PDF(x);\n",
    "\n",
    "tictoc = toc(timeVal);\n",
    "result.runtime = runtime + tictoc;\n",
    "result.error = max(abs(Rpdfc-SagePDF));\n",
    "result.xN = xN;\n",
    "\n",
    "\n",
    "fprintf('xN = %d, %s, chebPts = 2^%d + 1\\n', xN, result.methodAbbr, k);\n",
    "% measuring time\n",
    "% simple tic-toc method \n",
    "% Update the performance structure and display the result\n",
    "display = true;\n",
    "%if n==nmax, display = true;end\n",
    "performance = update_PerfStats(result, performance, display);\n",
    "%end\n",
    "\n",
    "% tictocTot = toc(timeValTot);\n",
    "fprintf('Experiment runtime = %.2f s\\n', result.runtime);\n",
    "% fprintf('%s\\n', repmat('*', 1, 25));\n",
    "%disp(result);"
   ]
  },
  {
   "cell_type": "code",
   "execution_count": 28,
   "id": "69b365fc-08ab-4f82-a5b0-a84d5cf733ed",
   "metadata": {
    "execution": {
     "iopub.execute_input": "2024-11-17T16:30:18.964411Z",
     "iopub.status.busy": "2024-11-17T16:30:18.964411Z",
     "iopub.status.idle": "2024-11-17T16:30:21.549344Z",
     "shell.execute_reply": "2024-11-17T16:30:21.549344Z",
     "shell.execute_reply.started": "2024-11-17T16:30:18.964411Z"
    }
   },
   "outputs": [
    {
     "name": "stdout",
     "output_type": "stream",
     "text": [
      "Experiment: xN = 1000, chebPts = 2^8 + 1\n",
      "xN = 1000, BKB:CC257:Infs:NumDer:parCPU:1e-03, chebPts = 2^8 + 1\n",
      "                                                                                                                    Performance statistics                                                                                                 \n",
      "                    _______________________________________________________________________________________________________________________________________________________________________________________________________________________\n",
      "\n",
      "    method          {'[BKB:CC9:Infs:NumDer:parCPU:1e-03, BKB:CC17:Infs:NumDer:parCPU:1e-03, BKB:CC33:Infs:NumDer:parCPU:1e-03, BKB:CC65:Infs:NumDer:parCPU:1e-03, BKB:CC129:Infs:NumDer:parCPU:1e-03, BKB:CC257:Infs:NumDer:parCPU:1e-03]'}\n",
      "    rt              {'[1.59e-01 2.18e-01 3.44e-01 6.10e-01 1.15e+00 2.19e+00]'                                                                                                                                                            }\n",
      "    rtPerPoint      {'[1.59e-04 2.18e-04 3.44e-04 6.10e-04 1.15e-03 2.19e-03]'                                                                                                                                                            }\n",
      "    acceleration    {'[1.00e+00 7.33e-01 4.63e-01 2.61e-01 1.39e-01 7.29e-02]'                                                                                                                                                            }\n",
      "    error           {'[1.82e-01 8.24e-02 1.10e-02 1.04e-04 5.27e-08 5.63e-08]'                                                                                                                                                            }\n",
      "\n",
      "Experiment runtime = 2.19 s\n"
     ]
    }
   ],
   "source": [
    "% numerical experiments\n",
    "%timeValTot = tic;\n",
    "k = k+1;\n",
    "%for n=nmin:nmax \n",
    "fprintf('Experiment: xN = %d, chebPts = 2^%d + 1\\n', xN, k);\n",
    "\n",
    "% relative tol\n",
    "options.chebyPts = 2^k+1;\n",
    "\n",
    "% num inversion of ratio - Chebyshev interpolant\n",
    "[result, Rpdf] = cf_Ratio_BKB(cf1, cf2, [], options);\n",
    "\n",
    "runtime = result.runtime;\n",
    "timeVal = tic;\n",
    "\n",
    "%calculation Chebyshev interpolation\n",
    "Rpdfc = result.PDF(x);\n",
    "\n",
    "tictoc = toc(timeVal);\n",
    "result.runtime = runtime + tictoc;\n",
    "result.error = max(abs(Rpdfc-SagePDF));\n",
    "result.xN = xN;\n",
    "\n",
    "\n",
    "fprintf('xN = %d, %s, chebPts = 2^%d + 1\\n', xN, result.methodAbbr, k);\n",
    "% measuring time\n",
    "% simple tic-toc method \n",
    "% Update the performance structure and display the result\n",
    "display = true;\n",
    "%if n==nmax, display = true;end\n",
    "performance = update_PerfStats(result, performance, display);\n",
    "%end\n",
    "\n",
    "% tictocTot = toc(timeValTot);\n",
    "fprintf('Experiment runtime = %.2f s\\n', result.runtime);\n",
    "% fprintf('%s\\n', repmat('*', 1, 25));\n",
    "%disp(result);"
   ]
  },
  {
   "cell_type": "code",
   "execution_count": 29,
   "id": "a3e5be86-8287-479b-a138-28e4dd48d5f0",
   "metadata": {
    "execution": {
     "iopub.execute_input": "2024-11-17T16:30:27.060914Z",
     "iopub.status.busy": "2024-11-17T16:30:27.060914Z",
     "iopub.status.idle": "2024-11-17T16:30:31.708512Z",
     "shell.execute_reply": "2024-11-17T16:30:31.708512Z",
     "shell.execute_reply.started": "2024-11-17T16:30:27.060914Z"
    }
   },
   "outputs": [
    {
     "name": "stdout",
     "output_type": "stream",
     "text": [
      "Experiment: xN = 1000, chebPts = 2^9 + 1\n",
      "xN = 1000, BKB:CC513:Infs:NumDer:parCPU:1e-03, chebPts = 2^9 + 1\n",
      "                                                                                                                                      Performance statistics                                                                                                                   \n",
      "                    ___________________________________________________________________________________________________________________________________________________________________________________________________________________________________________________________\n",
      "\n",
      "    method          {'[BKB:CC9:Infs:NumDer:parCPU:1e-03, BKB:CC17:Infs:NumDer:parCPU:1e-03, BKB:CC33:Infs:NumDer:parCPU:1e-03, BKB:CC65:Infs:NumDer:parCPU:1e-03, BKB:CC129:Infs:NumDer:parCPU:1e-03, BKB:CC257:Infs:NumDer:parCPU:1e-03, BKB:CC513:Infs:NumDer:parCPU:1e-03]'}\n",
      "    rt              {'[1.59e-01 2.18e-01 3.44e-01 6.10e-01 1.15e+00 2.19e+00 4.24e+00]'                                                                                                                                                                                       }\n",
      "    rtPerPoint      {'[1.59e-04 2.18e-04 3.44e-04 6.10e-04 1.15e-03 2.19e-03 4.24e-03]'                                                                                                                                                                                       }\n",
      "    acceleration    {'[1.00e+00 7.33e-01 4.63e-01 2.61e-01 1.39e-01 7.29e-02 3.76e-02]'                                                                                                                                                                                       }\n",
      "    error           {'[1.82e-01 8.24e-02 1.10e-02 1.04e-04 5.27e-08 5.63e-08 5.85e-08]'                                                                                                                                                                                       }\n",
      "\n",
      "Experiment runtime = 4.24 s\n"
     ]
    }
   ],
   "source": [
    "% numerical experiments\n",
    "%timeValTot = tic;\n",
    "k = k+1;\n",
    "%for n=nmin:nmax \n",
    "fprintf('Experiment: xN = %d, chebPts = 2^%d + 1\\n', xN, k);\n",
    "\n",
    "% relative tol\n",
    "options.chebyPts = 2^k+1;\n",
    "\n",
    "% num inversion of ratio - Chebyshev interpolant\n",
    "[result, Rpdf] = cf_Ratio_BKB(cf1, cf2, [], options);\n",
    "\n",
    "runtime = result.runtime;\n",
    "timeVal = tic;\n",
    "\n",
    "%calculation Chebyshev interpolation\n",
    "Rpdfc = result.PDF(x);\n",
    "\n",
    "tictoc = toc(timeVal);\n",
    "result.runtime = runtime + tictoc;\n",
    "result.error = max(abs(Rpdfc-SagePDF));\n",
    "result.xN = xN;\n",
    "\n",
    "\n",
    "fprintf('xN = %d, %s, chebPts = 2^%d + 1\\n', xN, result.methodAbbr, k);\n",
    "% measuring time\n",
    "% simple tic-toc method \n",
    "% Update the performance structure and display the result\n",
    "display = true;\n",
    "%if n==nmax, display = true;end\n",
    "performance = update_PerfStats(result, performance, display);\n",
    "%end\n",
    "\n",
    "% tictocTot = toc(timeValTot);\n",
    "fprintf('Experiment runtime = %.2f s\\n', result.runtime);\n",
    "% fprintf('%s\\n', repmat('*', 1, 25));\n",
    "%disp(result);"
   ]
  },
  {
   "cell_type": "code",
   "execution_count": 30,
   "id": "537f5d35-ed8b-41af-a152-b3a7ecc60c82",
   "metadata": {
    "execution": {
     "iopub.execute_input": "2024-11-17T16:30:37.283111Z",
     "iopub.status.busy": "2024-11-17T16:30:37.283111Z",
     "iopub.status.idle": "2024-11-17T16:30:46.243224Z",
     "shell.execute_reply": "2024-11-17T16:30:46.243158Z",
     "shell.execute_reply.started": "2024-11-17T16:30:37.283111Z"
    }
   },
   "outputs": [
    {
     "name": "stdout",
     "output_type": "stream",
     "text": [
      "Experiment: xN = 1000, chebPts = 2^10 + 1\n",
      "xN = 1000, BKB:CC1025:Infs:NumDer:parCPU:1e-03, chebPts = 2^10 + 1\n",
      "                                                                                                                                                         Performance statistics                                                                                                                                     \n",
      "                    ________________________________________________________________________________________________________________________________________________________________________________________________________________________________________________________________________________________________\n",
      "\n",
      "    method          {'[BKB:CC9:Infs:NumDer:parCPU:1e-03, BKB:CC17:Infs:NumDer:parCPU:1e-03, BKB:CC33:Infs:NumDer:parCPU:1e-03, BKB:CC65:Infs:NumDer:parCPU:1e-03, BKB:CC129:Infs:NumDer:parCPU:1e-03, BKB:CC257:Infs:NumDer:parCPU:1e-03, BKB:CC513:Infs:NumDer:parCPU:1e-03, BKB:CC1025:Infs:NumDer:parCPU:1e-03]'}\n",
      "    rt              {'[1.59e-01 2.18e-01 3.44e-01 6.10e-01 1.15e+00 2.19e+00 4.24e+00 8.57e+00]'                                                                                                                                                                                                                   }\n",
      "    rtPerPoint      {'[1.59e-04 2.18e-04 3.44e-04 6.10e-04 1.15e-03 2.19e-03 4.24e-03 8.57e-03]'                                                                                                                                                                                                                   }\n",
      "    acceleration    {'[1.00e+00 7.33e-01 4.63e-01 2.61e-01 1.39e-01 7.29e-02 3.76e-02 1.86e-02]'                                                                                                                                                                                                                   }\n",
      "    error           {'[1.82e-01 8.24e-02 1.10e-02 1.04e-04 5.27e-08 5.63e-08 5.85e-08 6.25e-08]'                                                                                                                                                                                                                   }\n",
      "\n",
      "Experiment runtime = 8.57 s\n"
     ]
    }
   ],
   "source": [
    "% numerical experiments\n",
    "%timeValTot = tic;\n",
    "k = k+1;\n",
    "%for n=nmin:nmax \n",
    "fprintf('Experiment: xN = %d, chebPts = 2^%d + 1\\n', xN, k);\n",
    "\n",
    "% relative tol\n",
    "options.chebyPts = 2^k+1;\n",
    "\n",
    "% num inversion of ratio - Chebyshev interpolant\n",
    "[result, Rpdf] = cf_Ratio_BKB(cf1, cf2, [], options);\n",
    "\n",
    "runtime = result.runtime;\n",
    "timeVal = tic;\n",
    "\n",
    "%calculation Chebyshev interpolation\n",
    "Rpdfc = result.PDF(x);\n",
    "\n",
    "tictoc = toc(timeVal);\n",
    "result.runtime = runtime + tictoc;\n",
    "result.error = max(abs(Rpdfc-SagePDF));\n",
    "result.xN = xN;\n",
    "\n",
    "\n",
    "fprintf('xN = %d, %s, chebPts = 2^%d + 1\\n', xN, result.methodAbbr, k);\n",
    "% measuring time\n",
    "% simple tic-toc method \n",
    "% Update the performance structure and display the result\n",
    "display = true;\n",
    "%if n==nmax, display = true;end\n",
    "performance = update_PerfStats(result, performance, display);\n",
    "%end\n",
    "\n",
    "% tictocTot = toc(timeValTot);\n",
    "fprintf('Experiment runtime = %.2f s\\n', result.runtime);\n",
    "% fprintf('%s\\n', repmat('*', 1, 25));\n",
    "%disp(result);"
   ]
  },
  {
   "cell_type": "code",
   "execution_count": 31,
   "id": "938aeca6-f883-4473-bea6-349fc7221169",
   "metadata": {
    "execution": {
     "iopub.execute_input": "2024-11-17T16:31:19.827135Z",
     "iopub.status.busy": "2024-11-17T16:31:19.827135Z",
     "iopub.status.idle": "2024-11-17T16:31:37.575706Z",
     "shell.execute_reply": "2024-11-17T16:31:37.575706Z",
     "shell.execute_reply.started": "2024-11-17T16:31:19.827135Z"
    }
   },
   "outputs": [
    {
     "name": "stdout",
     "output_type": "stream",
     "text": [
      "Experiment: xN = 1000, chebPts = 2^11 + 1\n",
      "xN = 1000, BKB:CC2049:Infs:NumDer:parCPU:1e-03, chebPts = 2^11 + 1\n",
      "                                                                                                                                                                           Performance statistics                                                                                                                                                        \n",
      "                    _____________________________________________________________________________________________________________________________________________________________________________________________________________________________________________________________________________________________________________________________________\n",
      "\n",
      "    method          {'[BKB:CC9:Infs:NumDer:parCPU:1e-03, BKB:CC17:Infs:NumDer:parCPU:1e-03, BKB:CC33:Infs:NumDer:parCPU:1e-03, BKB:CC65:Infs:NumDer:parCPU:1e-03, BKB:CC129:Infs:NumDer:parCPU:1e-03, BKB:CC257:Infs:NumDer:parCPU:1e-03, BKB:CC513:Infs:NumDer:parCPU:1e-03, BKB:CC1025:Infs:NumDer:parCPU:1e-03, BKB:CC2049:Infs:NumDer:parCPU:1e-03]'}\n",
      "    rt              {'[1.59e-01 2.18e-01 3.44e-01 6.10e-01 1.15e+00 2.19e+00 4.24e+00 8.57e+00 1.73e+01]'                                                                                                                                                                                                                                               }\n",
      "    rtPerPoint      {'[1.59e-04 2.18e-04 3.44e-04 6.10e-04 1.15e-03 2.19e-03 4.24e-03 8.57e-03 1.73e-02]'                                                                                                                                                                                                                                               }\n",
      "    acceleration    {'[1.00e+00 7.33e-01 4.63e-01 2.61e-01 1.39e-01 7.29e-02 3.76e-02 1.86e-02 9.19e-03]'                                                                                                                                                                                                                                               }\n",
      "    error           {'[1.82e-01 8.24e-02 1.10e-02 1.04e-04 5.27e-08 5.63e-08 5.85e-08 6.25e-08 6.37e-08]'                                                                                                                                                                                                                                               }\n",
      "\n",
      "Experiment runtime = 17.35 s\n"
     ]
    }
   ],
   "source": [
    "% numerical experiments\n",
    "%timeValTot = tic;\n",
    "k = k+1;\n",
    "%for n=nmin:nmax \n",
    "fprintf('Experiment: xN = %d, chebPts = 2^%d + 1\\n', xN, k);\n",
    "\n",
    "% relative tol\n",
    "options.chebyPts = 2^k+1;\n",
    "\n",
    "% num inversion of ratio - Chebyshev interpolant\n",
    "[result, Rpdf] = cf_Ratio_BKB(cf1, cf2, [], options);\n",
    "\n",
    "runtime = result.runtime;\n",
    "timeVal = tic;\n",
    "\n",
    "%calculation Chebyshev interpolation\n",
    "Rpdfc = result.PDF(x);\n",
    "\n",
    "tictoc = toc(timeVal);\n",
    "result.runtime = runtime + tictoc;\n",
    "result.error = max(abs(Rpdfc-SagePDF));\n",
    "result.xN = xN;\n",
    "\n",
    "\n",
    "fprintf('xN = %d, %s, chebPts = 2^%d + 1\\n', xN, result.methodAbbr, k);\n",
    "% measuring time\n",
    "% simple tic-toc method \n",
    "% Update the performance structure and display the result\n",
    "display = true;\n",
    "%if n==nmax, display = true;end\n",
    "performance = update_PerfStats(result, performance, display);\n",
    "%end\n",
    "\n",
    "% tictocTot = toc(timeValTot);\n",
    "fprintf('Experiment runtime = %.2f s\\n', result.runtime);\n",
    "% fprintf('%s\\n', repmat('*', 1, 25));\n",
    "%disp(result);"
   ]
  },
  {
   "cell_type": "code",
   "execution_count": 32,
   "id": "50383277-4d24-4d8f-8495-aedb3401a209",
   "metadata": {
    "execution": {
     "iopub.execute_input": "2024-11-17T16:31:53.383377Z",
     "iopub.status.busy": "2024-11-17T16:31:53.383377Z",
     "iopub.status.idle": "2024-11-17T16:32:27.187861Z",
     "shell.execute_reply": "2024-11-17T16:32:27.187470Z",
     "shell.execute_reply.started": "2024-11-17T16:31:53.383377Z"
    }
   },
   "outputs": [
    {
     "name": "stdout",
     "output_type": "stream",
     "text": [
      "Experiment: xN = 1000, chebPts = 2^12 + 1\n",
      "xN = 1000, BKB:CC4097:Infs:NumDer:parCPU:1e-03, chebPts = 2^12 + 1\n",
      "                                                                                                                                                                                              Performance statistics                                                                                                                                                                          \n",
      "                    __________________________________________________________________________________________________________________________________________________________________________________________________________________________________________________________________________________________________________________________________________________________________________\n",
      "\n",
      "    method          {'[BKB:CC9:Infs:NumDer:parCPU:1e-03, BKB:CC17:Infs:NumDer:parCPU:1e-03, BKB:CC33:Infs:NumDer:parCPU:1e-03, BKB:CC65:Infs:NumDer:parCPU:1e-03, BKB:CC129:Infs:NumDer:parCPU:1e-03, BKB:CC257:Infs:NumDer:parCPU:1e-03, BKB:CC513:Infs:NumDer:parCPU:1e-03, BKB:CC1025:Infs:NumDer:parCPU:1e-03, BKB:CC2049:Infs:NumDer:parCPU:1e-03, BKB:CC4097:Infs:NumDer:parCPU:1e-03]'}\n",
      "    rt              {'[1.59e-01 2.18e-01 3.44e-01 6.10e-01 1.15e+00 2.19e+00 4.24e+00 8.57e+00 1.73e+01 3.34e+01]'                                                                                                                                                                                                                                                                           }\n",
      "    rtPerPoint      {'[1.59e-04 2.18e-04 3.44e-04 6.10e-04 1.15e-03 2.19e-03 4.24e-03 8.57e-03 1.73e-02 3.34e-02]'                                                                                                                                                                                                                                                                           }\n",
      "    acceleration    {'[1.00e+00 7.33e-01 4.63e-01 2.61e-01 1.39e-01 7.29e-02 3.76e-02 1.86e-02 9.19e-03 4.77e-03]'                                                                                                                                                                                                                                                                           }\n",
      "    error           {'[1.82e-01 8.24e-02 1.10e-02 1.04e-04 5.27e-08 5.63e-08 5.85e-08 6.25e-08 6.37e-08 5.85e-08]'                                                                                                                                                                                                                                                                           }\n",
      "\n",
      "Experiment runtime = 33.42 s\n"
     ]
    }
   ],
   "source": [
    "% numerical experiments\n",
    "%timeValTot = tic;\n",
    "k = k+1;\n",
    "%for n=nmin:nmax \n",
    "fprintf('Experiment: xN = %d, chebPts = 2^%d + 1\\n', xN, k);\n",
    "\n",
    "% relative tol\n",
    "options.chebyPts = 2^k+1;\n",
    "\n",
    "% num inversion of ratio - Chebyshev interpolant\n",
    "[result, Rpdf] = cf_Ratio_BKB(cf1, cf2, [], options);\n",
    "\n",
    "runtime = result.runtime;\n",
    "timeVal = tic;\n",
    "\n",
    "%calculation Chebyshev interpolation\n",
    "Rpdfc = result.PDF(x);\n",
    "\n",
    "tictoc = toc(timeVal);\n",
    "result.runtime = runtime + tictoc;\n",
    "result.error = max(abs(Rpdfc-SagePDF));\n",
    "result.xN = xN;\n",
    "\n",
    "\n",
    "fprintf('xN = %d, %s, chebPts = 2^%d + 1\\n', xN, result.methodAbbr, k);\n",
    "% measuring time\n",
    "% simple tic-toc method \n",
    "% Update the performance structure and display the result\n",
    "display = true;\n",
    "%if n==nmax, display = true;end\n",
    "performance = update_PerfStats(result, performance, display);\n",
    "%end\n",
    "\n",
    "% tictocTot = toc(timeValTot);\n",
    "fprintf('Experiment runtime = %.2f s\\n', result.runtime);\n",
    "% fprintf('%s\\n', repmat('*', 1, 25));\n",
    "%disp(result);"
   ]
  },
  {
   "cell_type": "code",
   "execution_count": 34,
   "id": "9c908738-1552-4075-bbe8-911e3de14ccb",
   "metadata": {
    "execution": {
     "iopub.execute_input": "2024-11-17T16:33:56.921233Z",
     "iopub.status.busy": "2024-11-17T16:33:56.921233Z",
     "iopub.status.idle": "2024-11-17T16:36:12.737338Z",
     "shell.execute_reply": "2024-11-17T16:36:12.737338Z",
     "shell.execute_reply.started": "2024-11-17T16:33:56.921233Z"
    }
   },
   "outputs": [
    {
     "name": "stdout",
     "output_type": "stream",
     "text": [
      "Experiment: xN = 1000, chebPts = 2^14 + 1\n",
      "xN = 1000, BKB:CC16385:Infs:NumDer:parCPU:1e-03, chebPts = 2^14 + 1\n",
      "                                                                                                                                                                                                                                   Performance statistics                                                                                                                                                                                                                \n",
      "                    _____________________________________________________________________________________________________________________________________________________________________________________________________________________________________________________________________________________________________________________________________________________________________________________________________________________________________________________\n",
      "\n",
      "    method          {'[BKB:CC9:Infs:NumDer:parCPU:1e-03, BKB:CC17:Infs:NumDer:parCPU:1e-03, BKB:CC33:Infs:NumDer:parCPU:1e-03, BKB:CC65:Infs:NumDer:parCPU:1e-03, BKB:CC129:Infs:NumDer:parCPU:1e-03, BKB:CC257:Infs:NumDer:parCPU:1e-03, BKB:CC513:Infs:NumDer:parCPU:1e-03, BKB:CC1025:Infs:NumDer:parCPU:1e-03, BKB:CC2049:Infs:NumDer:parCPU:1e-03, BKB:CC4097:Infs:NumDer:parCPU:1e-03, BKB:CC8193:Infs:NumDer:parCPU:1e-03, BKB:CC16385:Infs:NumDer:parCPU:1e-03]'}\n",
      "    rt              {'[1.59e-01 2.18e-01 3.44e-01 6.10e-01 1.15e+00 2.19e+00 4.24e+00 8.57e+00 1.73e+01 3.34e+01 6.69e+01 1.35e+02]'                                                                                                                                                                                                                                                                                                                                    }\n",
      "    rtPerPoint      {'[1.59e-04 2.18e-04 3.44e-04 6.10e-04 1.15e-03 2.19e-03 4.24e-03 8.57e-03 1.73e-02 3.34e-02 6.69e-02 1.35e-01]'                                                                                                                                                                                                                                                                                                                                    }\n",
      "    acceleration    {'[1.00e+00 7.33e-01 4.63e-01 2.61e-01 1.39e-01 7.29e-02 3.76e-02 1.86e-02 9.19e-03 4.77e-03 2.38e-03 1.18e-03]'                                                                                                                                                                                                                                                                                                                                    }\n",
      "    error           {'[1.82e-01 8.24e-02 1.10e-02 1.04e-04 5.27e-08 5.63e-08 5.85e-08 6.25e-08 6.37e-08 5.85e-08 6.37e-08 5.92e-08]'                                                                                                                                                                                                                                                                                                                                    }\n",
      "\n",
      "Experiment runtime = 135.42 s\n"
     ]
    }
   ],
   "source": [
    "% numerical experiments\n",
    "%timeValTot = tic;\n",
    "k = k+1;\n",
    "%for n=nmin:nmax \n",
    "fprintf('Experiment: xN = %d, chebPts = 2^%d + 1\\n', xN, k);\n",
    "\n",
    "% relative tol\n",
    "options.chebyPts = 2^k+1;\n",
    "\n",
    "% num inversion of ratio - Chebyshev interpolant\n",
    "[result, Rpdf] = cf_Ratio_BKB(cf1, cf2, [], options);\n",
    "\n",
    "runtime = result.runtime;\n",
    "timeVal = tic;\n",
    "\n",
    "%calculation Chebyshev interpolation\n",
    "Rpdfc = result.PDF(x);\n",
    "\n",
    "tictoc = toc(timeVal);\n",
    "result.runtime = runtime + tictoc;\n",
    "result.error = max(abs(Rpdfc-SagePDF));\n",
    "result.xN = xN;\n",
    "\n",
    "\n",
    "fprintf('xN = %d, %s, chebPts = 2^%d + 1\\n', xN, result.methodAbbr, k);\n",
    "% measuring time\n",
    "% simple tic-toc method \n",
    "% Update the performance structure and display the result\n",
    "display = true;\n",
    "%if n==nmax, display = true;end\n",
    "performance = update_PerfStats(result, performance, display);\n",
    "%end\n",
    "\n",
    "% tictocTot = toc(timeValTot);\n",
    "fprintf('Experiment runtime = %.2f s\\n', result.runtime);\n",
    "% fprintf('%s\\n', repmat('*', 1, 25));\n",
    "%disp(result);"
   ]
  },
  {
   "cell_type": "code",
   "execution_count": 35,
   "id": "2cfcaaa4-7bcf-40a8-901a-c913c8d64a86",
   "metadata": {
    "execution": {
     "iopub.execute_input": "2024-11-17T16:36:38.973414Z",
     "iopub.status.busy": "2024-11-17T16:36:38.973414Z",
     "iopub.status.idle": "2024-11-17T16:41:12.917041Z",
     "shell.execute_reply": "2024-11-17T16:41:12.917041Z",
     "shell.execute_reply.started": "2024-11-17T16:36:38.973414Z"
    }
   },
   "outputs": [
    {
     "name": "stdout",
     "output_type": "stream",
     "text": [
      "Experiment: xN = 1000, chebPts = 2^15 + 1\n",
      "xN = 1000, BKB:CC32769:Infs:NumDer:parCPU:1e-03, chebPts = 2^15 + 1\n",
      "                                                                                                                                                                                                                                                      Performance statistics                                                                                                                                                                                                                                   \n",
      "                    ___________________________________________________________________________________________________________________________________________________________________________________________________________________________________________________________________________________________________________________________________________________________________________________________________________________________________________________________________________________________\n",
      "\n",
      "    method          {'[BKB:CC9:Infs:NumDer:parCPU:1e-03, BKB:CC17:Infs:NumDer:parCPU:1e-03, BKB:CC33:Infs:NumDer:parCPU:1e-03, BKB:CC65:Infs:NumDer:parCPU:1e-03, BKB:CC129:Infs:NumDer:parCPU:1e-03, BKB:CC257:Infs:NumDer:parCPU:1e-03, BKB:CC513:Infs:NumDer:parCPU:1e-03, BKB:CC1025:Infs:NumDer:parCPU:1e-03, BKB:CC2049:Infs:NumDer:parCPU:1e-03, BKB:CC4097:Infs:NumDer:parCPU:1e-03, BKB:CC8193:Infs:NumDer:parCPU:1e-03, BKB:CC16385:Infs:NumDer:parCPU:1e-03, BKB:CC32769:Infs:NumDer:parCPU:1e-03]'}\n",
      "    rt              {'[1.59e-01 2.18e-01 3.44e-01 6.10e-01 1.15e+00 2.19e+00 4.24e+00 8.57e+00 1.73e+01 3.34e+01 6.69e+01 1.35e+02 2.74e+02]'                                                                                                                                                                                                                                                                                                                                                                 }\n",
      "    rtPerPoint      {'[1.59e-04 2.18e-04 3.44e-04 6.10e-04 1.15e-03 2.19e-03 4.24e-03 8.57e-03 1.73e-02 3.34e-02 6.69e-02 1.35e-01 2.74e-01]'                                                                                                                                                                                                                                                                                                                                                                 }\n",
      "    acceleration    {'[1.00e+00 7.33e-01 4.63e-01 2.61e-01 1.39e-01 7.29e-02 3.76e-02 1.86e-02 9.19e-03 4.77e-03 2.38e-03 1.18e-03 5.83e-04]'                                                                                                                                                                                                                                                                                                                                                                 }\n",
      "    error           {'[1.82e-01 8.24e-02 1.10e-02 1.04e-04 5.27e-08 5.63e-08 5.85e-08 6.25e-08 6.37e-08 5.85e-08 6.37e-08 5.92e-08 6.08e-08]'                                                                                                                                                                                                                                                                                                                                                                 }\n",
      "\n",
      "Experiment runtime = 273.53 s\n"
     ]
    }
   ],
   "source": [
    "% numerical experiments\n",
    "%timeValTot = tic;\n",
    "k = k+1;\n",
    "%for n=nmin:nmax \n",
    "fprintf('Experiment: xN = %d, chebPts = 2^%d + 1\\n', xN, k);\n",
    "\n",
    "% relative tol\n",
    "options.chebyPts = 2^k+1;\n",
    "\n",
    "% num inversion of ratio - Chebyshev interpolant\n",
    "[result, Rpdf] = cf_Ratio_BKB(cf1, cf2, [], options);\n",
    "\n",
    "runtime = result.runtime;\n",
    "timeVal = tic;\n",
    "\n",
    "%calculation Chebyshev interpolation\n",
    "Rpdfc = result.PDF(x);\n",
    "\n",
    "tictoc = toc(timeVal);\n",
    "result.runtime = runtime + tictoc;\n",
    "result.error = max(abs(Rpdfc-SagePDF));\n",
    "result.xN = xN;\n",
    "\n",
    "\n",
    "fprintf('xN = %d, %s, chebPts = 2^%d + 1\\n', xN, result.methodAbbr, k);\n",
    "% measuring time\n",
    "% simple tic-toc method \n",
    "% Update the performance structure and display the result\n",
    "display = true;\n",
    "%if n==nmax, display = true;end\n",
    "performance = update_PerfStats(result, performance, display);\n",
    "%end\n",
    "\n",
    "% tictocTot = toc(timeValTot);\n",
    "fprintf('Experiment runtime = %.2f s\\n', result.runtime);\n",
    "% fprintf('%s\\n', repmat('*', 1, 25));\n",
    "%disp(result);"
   ]
  },
  {
   "cell_type": "markdown",
   "id": "37a378b0-19fa-424c-81bb-5bdff0236981",
   "metadata": {},
   "source": [
    "### rtol = 1e-4"
   ]
  },
  {
   "cell_type": "code",
   "execution_count": 36,
   "id": "cf3fad3c-81ac-498d-abc2-2bd4d5e05603",
   "metadata": {
    "execution": {
     "iopub.execute_input": "2024-11-17T16:42:15.983025Z",
     "iopub.status.busy": "2024-11-17T16:42:15.983025Z",
     "iopub.status.idle": "2024-11-17T16:42:16.362781Z",
     "shell.execute_reply": "2024-11-17T16:42:16.362781Z",
     "shell.execute_reply.started": "2024-11-17T16:42:15.983025Z"
    }
   },
   "outputs": [],
   "source": [
    "k = 6;\n",
    "options.rtol = 1e-4;"
   ]
  },
  {
   "cell_type": "code",
   "execution_count": 37,
   "id": "6679d1d8-9dbb-4b9f-8a99-58f422aac3ca",
   "metadata": {
    "execution": {
     "iopub.execute_input": "2024-11-17T16:42:21.811439Z",
     "iopub.status.busy": "2024-11-17T16:42:21.811439Z",
     "iopub.status.idle": "2024-11-17T16:42:23.479895Z",
     "shell.execute_reply": "2024-11-17T16:42:23.479895Z",
     "shell.execute_reply.started": "2024-11-17T16:42:21.811439Z"
    }
   },
   "outputs": [
    {
     "name": "stdout",
     "output_type": "stream",
     "text": [
      "Experiment: xN = 1000, chebPts = 2^7 + 1\n",
      "xN = 1000, BKB:CC129:Infs:NumDer:parCPU:1e-04, chebPts = 2^7 + 1\n",
      "                                                                                                                                                                                                                                                                        Performance statistics                                                                                                                                                                                                                                                     \n",
      "                    _______________________________________________________________________________________________________________________________________________________________________________________________________________________________________________________________________________________________________________________________________________________________________________________________________________________________________________________________________________________________________________________________\n",
      "\n",
      "    method          {'[BKB:CC9:Infs:NumDer:parCPU:1e-03, BKB:CC17:Infs:NumDer:parCPU:1e-03, BKB:CC33:Infs:NumDer:parCPU:1e-03, BKB:CC65:Infs:NumDer:parCPU:1e-03, BKB:CC129:Infs:NumDer:parCPU:1e-03, BKB:CC257:Infs:NumDer:parCPU:1e-03, BKB:CC513:Infs:NumDer:parCPU:1e-03, BKB:CC1025:Infs:NumDer:parCPU:1e-03, BKB:CC2049:Infs:NumDer:parCPU:1e-03, BKB:CC4097:Infs:NumDer:parCPU:1e-03, BKB:CC8193:Infs:NumDer:parCPU:1e-03, BKB:CC16385:Infs:NumDer:parCPU:1e-03, BKB:CC32769:Infs:NumDer:parCPU:1e-03, BKB:CC129:Infs:NumDer:parCPU:1e-04]'}\n",
      "    rt              {'[1.59e-01 2.18e-01 3.44e-01 6.10e-01 1.15e+00 2.19e+00 4.24e+00 8.57e+00 1.73e+01 3.34e+01 6.69e+01 1.35e+02 2.74e+02 1.27e+00]'                                                                                                                                                                                                                                                                                                                                                                                            }\n",
      "    rtPerPoint      {'[1.59e-04 2.18e-04 3.44e-04 6.10e-04 1.15e-03 2.19e-03 4.24e-03 8.57e-03 1.73e-02 3.34e-02 6.69e-02 1.35e-01 2.74e-01 1.27e-03]'                                                                                                                                                                                                                                                                                                                                                                                            }\n",
      "    acceleration    {'[1.00e+00 7.33e-01 4.63e-01 2.61e-01 1.39e-01 7.29e-02 3.76e-02 1.86e-02 9.19e-03 4.77e-03 2.38e-03 1.18e-03 5.83e-04 1.25e-01]'                                                                                                                                                                                                                                                                                                                                                                                            }\n",
      "    error           {'[1.82e-01 8.24e-02 1.10e-02 1.04e-04 5.27e-08 5.63e-08 5.85e-08 6.25e-08 6.37e-08 5.85e-08 6.37e-08 5.92e-08 6.08e-08 1.11e-08]'                                                                                                                                                                                                                                                                                                                                                                                            }\n",
      "\n",
      "Experiment runtime = 1.27 s\n"
     ]
    }
   ],
   "source": [
    "% numerical experiments\n",
    "%timeValTot = tic;\n",
    "k = k+1;\n",
    "%for n=nmin:nmax \n",
    "fprintf('Experiment: xN = %d, chebPts = 2^%d + 1\\n', xN, k);\n",
    "\n",
    "% relative tol\n",
    "options.chebyPts = 2^k+1;\n",
    "\n",
    "% num inversion of ratio - Chebyshev interpolant\n",
    "[result, Rpdf] = cf_Ratio_BKB(cf1, cf2, [], options);\n",
    "\n",
    "runtime = result.runtime;\n",
    "timeVal = tic;\n",
    "\n",
    "%calculation Chebyshev interpolation\n",
    "Rpdfc = result.PDF(x);\n",
    "\n",
    "tictoc = toc(timeVal);\n",
    "result.runtime = runtime + tictoc;\n",
    "result.error = max(abs(Rpdfc-SagePDF));\n",
    "result.xN = xN;\n",
    "\n",
    "\n",
    "fprintf('xN = %d, %s, chebPts = 2^%d + 1\\n', xN, result.methodAbbr, k);\n",
    "% measuring time\n",
    "% simple tic-toc method \n",
    "% Update the performance structure and display the result\n",
    "display = true;\n",
    "%if n==nmax, display = true;end\n",
    "performance = update_PerfStats(result, performance, display);\n",
    "%end\n",
    "\n",
    "% tictocTot = toc(timeValTot);\n",
    "fprintf('Experiment runtime = %.2f s\\n', result.runtime);\n",
    "% fprintf('%s\\n', repmat('*', 1, 25));\n",
    "%disp(result);"
   ]
  },
  {
   "cell_type": "code",
   "execution_count": 38,
   "id": "ad7d25e1-f2c6-4652-90bd-5efa64721f26",
   "metadata": {
    "execution": {
     "iopub.execute_input": "2024-11-17T16:42:34.057864Z",
     "iopub.status.busy": "2024-11-17T16:42:34.057864Z",
     "iopub.status.idle": "2024-11-17T16:42:36.909075Z",
     "shell.execute_reply": "2024-11-17T16:42:36.909075Z",
     "shell.execute_reply.started": "2024-11-17T16:42:34.057864Z"
    }
   },
   "outputs": [
    {
     "name": "stdout",
     "output_type": "stream",
     "text": [
      "Experiment: xN = 1000, chebPts = 2^8 + 1\n",
      "xN = 1000, BKB:CC257:Infs:NumDer:parCPU:1e-04, chebPts = 2^8 + 1\n",
      "                                                                                                                                                                                                                                                                                          Performance statistics                                                                                                                                                                                                                                                                       \n",
      "                    ___________________________________________________________________________________________________________________________________________________________________________________________________________________________________________________________________________________________________________________________________________________________________________________________________________________________________________________________________________________________________________________________________________________________________\n",
      "\n",
      "    method          {'[BKB:CC9:Infs:NumDer:parCPU:1e-03, BKB:CC17:Infs:NumDer:parCPU:1e-03, BKB:CC33:Infs:NumDer:parCPU:1e-03, BKB:CC65:Infs:NumDer:parCPU:1e-03, BKB:CC129:Infs:NumDer:parCPU:1e-03, BKB:CC257:Infs:NumDer:parCPU:1e-03, BKB:CC513:Infs:NumDer:parCPU:1e-03, BKB:CC1025:Infs:NumDer:parCPU:1e-03, BKB:CC2049:Infs:NumDer:parCPU:1e-03, BKB:CC4097:Infs:NumDer:parCPU:1e-03, BKB:CC8193:Infs:NumDer:parCPU:1e-03, BKB:CC16385:Infs:NumDer:parCPU:1e-03, BKB:CC32769:Infs:NumDer:parCPU:1e-03, BKB:CC129:Infs:NumDer:parCPU:1e-04, BKB:CC257:Infs:NumDer:parCPU:1e-04]'}\n",
      "    rt              {'[1.59e-01 2.18e-01 3.44e-01 6.10e-01 1.15e+00 2.19e+00 4.24e+00 8.57e+00 1.73e+01 3.34e+01 6.69e+01 1.35e+02 2.74e+02 1.27e+00 2.45e+00]'                                                                                                                                                                                                                                                                                                                                                                                                                       }\n",
      "    rtPerPoint      {'[1.59e-04 2.18e-04 3.44e-04 6.10e-04 1.15e-03 2.19e-03 4.24e-03 8.57e-03 1.73e-02 3.34e-02 6.69e-02 1.35e-01 2.74e-01 1.27e-03 2.45e-03]'                                                                                                                                                                                                                                                                                                                                                                                                                       }\n",
      "    acceleration    {'[1.00e+00 7.33e-01 4.63e-01 2.61e-01 1.39e-01 7.29e-02 3.76e-02 1.86e-02 9.19e-03 4.77e-03 2.38e-03 1.18e-03 5.83e-04 1.25e-01 6.50e-02]'                                                                                                                                                                                                                                                                                                                                                                                                                       }\n",
      "    error           {'[1.82e-01 8.24e-02 1.10e-02 1.04e-04 5.27e-08 5.63e-08 5.85e-08 6.25e-08 6.37e-08 5.85e-08 6.37e-08 5.92e-08 6.08e-08 1.11e-08 6.77e-09]'                                                                                                                                                                                                                                                                                                                                                                                                                       }\n",
      "\n",
      "Experiment runtime = 2.45 s\n"
     ]
    }
   ],
   "source": [
    "% numerical experiments\n",
    "%timeValTot = tic;\n",
    "k = k+1;\n",
    "%for n=nmin:nmax \n",
    "fprintf('Experiment: xN = %d, chebPts = 2^%d + 1\\n', xN, k);\n",
    "\n",
    "% relative tol\n",
    "options.chebyPts = 2^k+1;\n",
    "\n",
    "% num inversion of ratio - Chebyshev interpolant\n",
    "[result, Rpdf] = cf_Ratio_BKB(cf1, cf2, [], options);\n",
    "\n",
    "runtime = result.runtime;\n",
    "timeVal = tic;\n",
    "\n",
    "%calculation Chebyshev interpolation\n",
    "Rpdfc = result.PDF(x);\n",
    "\n",
    "tictoc = toc(timeVal);\n",
    "result.runtime = runtime + tictoc;\n",
    "result.error = max(abs(Rpdfc-SagePDF));\n",
    "result.xN = xN;\n",
    "\n",
    "\n",
    "fprintf('xN = %d, %s, chebPts = 2^%d + 1\\n', xN, result.methodAbbr, k);\n",
    "% measuring time\n",
    "% simple tic-toc method \n",
    "% Update the performance structure and display the result\n",
    "display = true;\n",
    "%if n==nmax, display = true;end\n",
    "performance = update_PerfStats(result, performance, display);\n",
    "%end\n",
    "\n",
    "% tictocTot = toc(timeValTot);\n",
    "fprintf('Experiment runtime = %.2f s\\n', result.runtime);\n",
    "% fprintf('%s\\n', repmat('*', 1, 25));\n",
    "%disp(result);"
   ]
  },
  {
   "cell_type": "code",
   "execution_count": 39,
   "id": "d368f0f3-c5d1-4229-b340-7fd96dac73d7",
   "metadata": {
    "execution": {
     "iopub.execute_input": "2024-11-17T16:42:45.194961Z",
     "iopub.status.busy": "2024-11-17T16:42:45.194961Z",
     "iopub.status.idle": "2024-11-17T16:42:50.351510Z",
     "shell.execute_reply": "2024-11-17T16:42:50.351510Z",
     "shell.execute_reply.started": "2024-11-17T16:42:45.194961Z"
    }
   },
   "outputs": [
    {
     "name": "stdout",
     "output_type": "stream",
     "text": [
      "Experiment: xN = 1000, chebPts = 2^9 + 1\n",
      "xN = 1000, BKB:CC513:Infs:NumDer:parCPU:1e-04, chebPts = 2^9 + 1\n",
      "                                                                                                                                                                                                                                                                                                            Performance statistics                                                                                                                                                                                                                                                                                         \n",
      "                    _______________________________________________________________________________________________________________________________________________________________________________________________________________________________________________________________________________________________________________________________________________________________________________________________________________________________________________________________________________________________________________________________________________________________________________________________________\n",
      "\n",
      "    method          {'[BKB:CC9:Infs:NumDer:parCPU:1e-03, BKB:CC17:Infs:NumDer:parCPU:1e-03, BKB:CC33:Infs:NumDer:parCPU:1e-03, BKB:CC65:Infs:NumDer:parCPU:1e-03, BKB:CC129:Infs:NumDer:parCPU:1e-03, BKB:CC257:Infs:NumDer:parCPU:1e-03, BKB:CC513:Infs:NumDer:parCPU:1e-03, BKB:CC1025:Infs:NumDer:parCPU:1e-03, BKB:CC2049:Infs:NumDer:parCPU:1e-03, BKB:CC4097:Infs:NumDer:parCPU:1e-03, BKB:CC8193:Infs:NumDer:parCPU:1e-03, BKB:CC16385:Infs:NumDer:parCPU:1e-03, BKB:CC32769:Infs:NumDer:parCPU:1e-03, BKB:CC129:Infs:NumDer:parCPU:1e-04, BKB:CC257:Infs:NumDer:parCPU:1e-04, BKB:CC513:Infs:NumDer:parCPU:1e-04]'}\n",
      "    rt              {'[1.59e-01 2.18e-01 3.44e-01 6.10e-01 1.15e+00 2.19e+00 4.24e+00 8.57e+00 1.73e+01 3.34e+01 6.69e+01 1.35e+02 2.74e+02 1.27e+00 2.45e+00 4.77e+00]'                                                                                                                                                                                                                                                                                                                                                                                                                                                  }\n",
      "    rtPerPoint      {'[1.59e-04 2.18e-04 3.44e-04 6.10e-04 1.15e-03 2.19e-03 4.24e-03 8.57e-03 1.73e-02 3.34e-02 6.69e-02 1.35e-01 2.74e-01 1.27e-03 2.45e-03 4.77e-03]'                                                                                                                                                                                                                                                                                                                                                                                                                                                  }\n",
      "    acceleration    {'[1.00e+00 7.33e-01 4.63e-01 2.61e-01 1.39e-01 7.29e-02 3.76e-02 1.86e-02 9.19e-03 4.77e-03 2.38e-03 1.18e-03 5.83e-04 1.25e-01 6.50e-02 3.34e-02]'                                                                                                                                                                                                                                                                                                                                                                                                                                                  }\n",
      "    error           {'[1.82e-01 8.24e-02 1.10e-02 1.04e-04 5.27e-08 5.63e-08 5.85e-08 6.25e-08 6.37e-08 5.85e-08 6.37e-08 5.92e-08 6.08e-08 1.11e-08 6.77e-09 1.24e-08]'                                                                                                                                                                                                                                                                                                                                                                                                                                                  }\n",
      "\n",
      "Experiment runtime = 4.77 s\n"
     ]
    }
   ],
   "source": [
    "% numerical experiments\n",
    "%timeValTot = tic;\n",
    "k = k+1;\n",
    "%for n=nmin:nmax \n",
    "fprintf('Experiment: xN = %d, chebPts = 2^%d + 1\\n', xN, k);\n",
    "\n",
    "% relative tol\n",
    "options.chebyPts = 2^k+1;\n",
    "\n",
    "% num inversion of ratio - Chebyshev interpolant\n",
    "[result, Rpdf] = cf_Ratio_BKB(cf1, cf2, [], options);\n",
    "\n",
    "runtime = result.runtime;\n",
    "timeVal = tic;\n",
    "\n",
    "%calculation Chebyshev interpolation\n",
    "Rpdfc = result.PDF(x);\n",
    "\n",
    "tictoc = toc(timeVal);\n",
    "result.runtime = runtime + tictoc;\n",
    "result.error = max(abs(Rpdfc-SagePDF));\n",
    "result.xN = xN;\n",
    "\n",
    "\n",
    "fprintf('xN = %d, %s, chebPts = 2^%d + 1\\n', xN, result.methodAbbr, k);\n",
    "% measuring time\n",
    "% simple tic-toc method \n",
    "% Update the performance structure and display the result\n",
    "display = true;\n",
    "%if n==nmax, display = true;end\n",
    "performance = update_PerfStats(result, performance, display);\n",
    "%end\n",
    "\n",
    "% tictocTot = toc(timeValTot);\n",
    "fprintf('Experiment runtime = %.2f s\\n', result.runtime);\n",
    "% fprintf('%s\\n', repmat('*', 1, 25));\n",
    "%disp(result);"
   ]
  },
  {
   "cell_type": "code",
   "execution_count": 40,
   "id": "e7943869-135d-4ec7-8092-2a2fdd7765ba",
   "metadata": {
    "execution": {
     "iopub.execute_input": "2024-11-17T16:43:20.840969Z",
     "iopub.status.busy": "2024-11-17T16:43:20.840969Z",
     "iopub.status.idle": "2024-11-17T16:43:30.562748Z",
     "shell.execute_reply": "2024-11-17T16:43:30.562748Z",
     "shell.execute_reply.started": "2024-11-17T16:43:20.840969Z"
    }
   },
   "outputs": [
    {
     "name": "stdout",
     "output_type": "stream",
     "text": [
      "Experiment: xN = 1000, chebPts = 2^10 + 1\n",
      "xN = 1000, BKB:CC1025:Infs:NumDer:parCPU:1e-04, chebPts = 2^10 + 1\n",
      "                                                                                                                                                                                                                                                                                                                               Performance statistics                                                                                                                                                                                                                                                                                                           \n",
      "                    ____________________________________________________________________________________________________________________________________________________________________________________________________________________________________________________________________________________________________________________________________________________________________________________________________________________________________________________________________________________________________________________________________________________________________________________________________________________________________________\n",
      "\n",
      "    method          {'[BKB:CC9:Infs:NumDer:parCPU:1e-03, BKB:CC17:Infs:NumDer:parCPU:1e-03, BKB:CC33:Infs:NumDer:parCPU:1e-03, BKB:CC65:Infs:NumDer:parCPU:1e-03, BKB:CC129:Infs:NumDer:parCPU:1e-03, BKB:CC257:Infs:NumDer:parCPU:1e-03, BKB:CC513:Infs:NumDer:parCPU:1e-03, BKB:CC1025:Infs:NumDer:parCPU:1e-03, BKB:CC2049:Infs:NumDer:parCPU:1e-03, BKB:CC4097:Infs:NumDer:parCPU:1e-03, BKB:CC8193:Infs:NumDer:parCPU:1e-03, BKB:CC16385:Infs:NumDer:parCPU:1e-03, BKB:CC32769:Infs:NumDer:parCPU:1e-03, BKB:CC129:Infs:NumDer:parCPU:1e-04, BKB:CC257:Infs:NumDer:parCPU:1e-04, BKB:CC513:Infs:NumDer:parCPU:1e-04, BKB:CC1025:Infs:NumDer:parCPU:1e-04]'}\n",
      "    rt              {'[1.59e-01 2.18e-01 3.44e-01 6.10e-01 1.15e+00 2.19e+00 4.24e+00 8.57e+00 1.73e+01 3.34e+01 6.69e+01 1.35e+02 2.74e+02 1.27e+00 2.45e+00 4.77e+00 9.32e+00]'                                                                                                                                                                                                                                                                                                                                                                                                                                                                              }\n",
      "    rtPerPoint      {'[1.59e-04 2.18e-04 3.44e-04 6.10e-04 1.15e-03 2.19e-03 4.24e-03 8.57e-03 1.73e-02 3.34e-02 6.69e-02 1.35e-01 2.74e-01 1.27e-03 2.45e-03 4.77e-03 9.32e-03]'                                                                                                                                                                                                                                                                                                                                                                                                                                                                              }\n",
      "    acceleration    {'[1.00e+00 7.33e-01 4.63e-01 2.61e-01 1.39e-01 7.29e-02 3.76e-02 1.86e-02 9.19e-03 4.77e-03 2.38e-03 1.18e-03 5.83e-04 1.25e-01 6.50e-02 3.34e-02 1.71e-02]'                                                                                                                                                                                                                                                                                                                                                                                                                                                                              }\n",
      "    error           {'[1.82e-01 8.24e-02 1.10e-02 1.04e-04 5.27e-08 5.63e-08 5.85e-08 6.25e-08 6.37e-08 5.85e-08 6.37e-08 5.92e-08 6.08e-08 1.11e-08 6.77e-09 1.24e-08 1.19e-08]'                                                                                                                                                                                                                                                                                                                                                                                                                                                                              }\n",
      "\n",
      "Experiment runtime = 9.32 s\n"
     ]
    }
   ],
   "source": [
    "% numerical experiments\n",
    "%timeValTot = tic;\n",
    "k = k+1;\n",
    "%for n=nmin:nmax \n",
    "fprintf('Experiment: xN = %d, chebPts = 2^%d + 1\\n', xN, k);\n",
    "\n",
    "% relative tol\n",
    "options.chebyPts = 2^k+1;\n",
    "\n",
    "% num inversion of ratio - Chebyshev interpolant\n",
    "[result, Rpdf] = cf_Ratio_BKB(cf1, cf2, [], options);\n",
    "\n",
    "runtime = result.runtime;\n",
    "timeVal = tic;\n",
    "\n",
    "%calculation Chebyshev interpolation\n",
    "Rpdfc = result.PDF(x);\n",
    "\n",
    "tictoc = toc(timeVal);\n",
    "result.runtime = runtime + tictoc;\n",
    "result.error = max(abs(Rpdfc-SagePDF));\n",
    "result.xN = xN;\n",
    "\n",
    "\n",
    "fprintf('xN = %d, %s, chebPts = 2^%d + 1\\n', xN, result.methodAbbr, k);\n",
    "% measuring time\n",
    "% simple tic-toc method \n",
    "% Update the performance structure and display the result\n",
    "display = true;\n",
    "%if n==nmax, display = true;end\n",
    "performance = update_PerfStats(result, performance, display);\n",
    "%end\n",
    "\n",
    "% tictocTot = toc(timeValTot);\n",
    "fprintf('Experiment runtime = %.2f s\\n', result.runtime);\n",
    "% fprintf('%s\\n', repmat('*', 1, 25));\n",
    "%disp(result);"
   ]
  },
  {
   "cell_type": "markdown",
   "id": "685ab013-2a93-437e-9f75-9a90dc576539",
   "metadata": {},
   "source": [
    "# SAVING results"
   ]
  },
  {
   "cell_type": "code",
   "execution_count": 41,
   "id": "c4c2d320-8061-4973-a4de-ab875ceb7f16",
   "metadata": {
    "execution": {
     "iopub.execute_input": "2024-11-17T16:43:37.998737Z",
     "iopub.status.busy": "2024-11-17T16:43:37.998737Z",
     "iopub.status.idle": "2024-11-17T16:43:38.384081Z",
     "shell.execute_reply": "2024-11-17T16:43:38.384081Z",
     "shell.execute_reply.started": "2024-11-17T16:43:37.998737Z"
    }
   },
   "outputs": [
    {
     "data": {
      "text/html": [
       "<html><body><pre>filePath = 'd:\\Dropbox\\00 Jupyter\\00 Matematika\\Probastat\\data\\MathematicaMATLAB\\MTB-perfStats-BKB-CC-N1000-2024_11-17-17_43_38.xlsx'</pre></body></html>"
      ],
      "text/plain": [
       "filePath = 'd:\\Dropbox\\00 Jupyter\\00 Matematika\\Probastat\\data\\MathematicaMATLAB\\MTB-perfStats-BKB-CC-N1000-2024_11-17-17_43_38.xlsx'"
      ]
     },
     "execution_count": 41,
     "metadata": {},
     "output_type": "execute_result"
    }
   ],
   "source": [
    "% setting folder for a xlsx file\n",
    "pwd;\n",
    "folderPath = 'd:\\Dropbox\\00 Jupyter\\00 Matematika\\Probastat\\data\\MathematicaMATLAB\\';\n",
    "\n",
    "% Get the current date and time in a suitable format (e.g., YYYY-MM-DD-HH-MM-SS)\n",
    "currentDateTime = datestr(now, 'yyyy_mm-dd-HH_MM_SS');\n",
    "\n",
    "% Create the filename with N and date-time\n",
    "fileName = sprintf('MTB-perfStats-BKB-CC-N%d-%s.xlsx', N, currentDateTime);\n",
    "\n",
    "% Convert performance data structure to a table\n",
    "perfTable = struct2table(performance);\n",
    "filePath = fullfile(folderPath, fileName)\n",
    "\n",
    "% Save as an Excel file\n",
    "writetable(perfTable,filePath);"
   ]
  }
 ],
 "metadata": {
  "kernelspec": {
   "display_name": "MATLAB Kernel",
   "language": "matlab",
   "name": "jupyter_matlab_kernel"
  },
  "language_info": {
   "file_extension": ".m",
   "mimetype": "text/x-matlab",
   "name": "matlab"
  }
 },
 "nbformat": 4,
 "nbformat_minor": 5
}
