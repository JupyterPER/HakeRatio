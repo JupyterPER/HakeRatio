{
 "cells": [
  {
   "cell_type": "markdown",
   "metadata": {},
   "source": [
    "**Authors:** Jozef Hanč, Martina Hančová  <br> *[Faculty of Science](https://www.upjs.sk/en/faculty-of-science/?prefferedLang=EN), P. J. Šafárik University in Košice, Slovakia* <br> emails: [jozef.hanc@upjs.sk](mailto:jozef.hanc@upjs.sk)\n",
    "***\n",
    "\n",
    "# <font color = brown, size=6> Marsaglia (Pham-Gia) analytical form of Hake ratio PDF\n",
    "</font>\n",
    "\n",
    "<font size=5> Computational tools: </font>  **<font size=5>SageMath</font>**  \n",
    "\n",
    "---"
   ]
  },
  {
   "cell_type": "markdown",
   "metadata": {},
   "source": [
    "#### Sec. 2.2, preprint\n",
    "**Theorem 3** (Marsaglia (2006); Pham-Gia et al. (2007)).  \n",
    "For $W=X_1 / X_2$, there are constants $r$ and $s$ such that:  \n",
    "$r(W-s)$ is distributed as $T=\\frac{a+V_1}{b+V_2}$,  \n",
    "$W$ is distributed as $\\frac{1}{r} T+s$, where $s=\\frac{\\sigma_1}{\\sigma_2} \\rho, r=\\frac{\\sigma_1}{\\sigma_2} \\sqrt{1-\\rho^2}$  \n",
    "\n",
    "$$\n",
    "\\begin{gathered}\n",
    "f_W(w)=\\frac{1}{\\frac{\\sigma_1}{\\sigma_2} \\sqrt{1-\\rho^2}} f_T\\left(\\frac{w-\\rho \\frac{\\sigma_1}{\\sigma_2}}{\\frac{\\sigma_1}{\\sigma_2} \\sqrt{1-\\rho^2}}\\right), \\\\\n",
    "\\left(V_1, V_2\\right) \\sim \\mathcal{B N}(0,0 ; 1,1,0), b=\\frac{\\mu_2}{\\sigma_2} \\geq 0, a= \\pm \\frac{\\mu_1 / \\sigma_1-\\rho \\mu_2 / \\sigma_2}{\\sqrt{1-\\rho^2}} \\geq 0, \\\\\n",
    "f_T(t)=\\frac{1}{\\exp \\left(\\frac{a^2+b^2}{2}\\right) \\pi\\left(1+t^2\\right)}{ }_1 F_1\\left(\\begin{array}{c}\n",
    "1 \\\\\n",
    "1 / 2\n",
    "\\end{array}; \\frac{(a t+b)^2}{2\\left(1+t^2\\right)}\\right),\n",
    "\\end{gathered}\n",
    "$$\n",
    "\n",
    "where ${ }_1 F_1\\left(\\begin{array}{l}\\alpha \\\\ \\beta\\end{array} ; z\\right)$ is Kummer's confluent hypergeometric function.\n",
    "\n",
    "**Refs.**\n",
    "- Hanč J., Hančová M., Borovský D., Probability distributions and calculations for Hake’s ratio statistics in measuring effect size, \n",
    "*preprint submitted to Statistical Papers*\n",
    "- Marsaglia, George. 2006. “Ratios of Normal Variables.” Journal of Statistical Software 16 (4). https://doi.org/10.18637/jss.v016.i04.\n",
    "- Pham-Gia, T., N. Turkkan, and E. Marchand. 2007. “Density of the Ratio of Two Normal Random Variables and Applications.” Communications in Statistics - Theory and Methods 35 (9): 1569–91. https://doi.org/10.1080/03610920600683689."
   ]
  },
  {
   "cell_type": "code",
   "execution_count": 1,
   "metadata": {
    "execution": {
     "iopub.execute_input": "2024-11-10T20:07:29.267530Z",
     "iopub.status.busy": "2024-11-10T20:07:29.266798Z",
     "iopub.status.idle": "2024-11-10T20:07:30.570789Z",
     "shell.execute_reply": "2024-11-10T20:07:30.569862Z",
     "shell.execute_reply.started": "2024-11-10T20:07:29.267495Z"
    }
   },
   "outputs": [],
   "source": [
    "# variables\n",
    "a, b, t, q = var('a,b,t,q')\n",
    "\n",
    "# Given that q = (b + a*t) / sqrt(1 + t^2) is the upper boundary from 0 to q,\n",
    "# the following condition must also hold\n",
    "assume(b + a*t > 0)"
   ]
  },
  {
   "cell_type": "code",
   "execution_count": 2,
   "metadata": {
    "execution": {
     "iopub.execute_input": "2024-11-10T20:07:30.575031Z",
     "iopub.status.busy": "2024-11-10T20:07:30.574003Z",
     "iopub.status.idle": "2024-11-10T20:07:31.034537Z",
     "shell.execute_reply": "2024-11-10T20:07:31.033901Z",
     "shell.execute_reply.started": "2024-11-10T20:07:30.574997Z"
    }
   },
   "outputs": [
    {
     "data": {
      "text/html": [
       "<html>\\(\\displaystyle \\frac{e^{\\left(-\\frac{1}{2} \\, a^{2} - \\frac{1}{2} \\, b^{2}\\right)} M\\left(1, \\frac{1}{2}, \\frac{{\\left(a t + b\\right)}^{2}}{2 \\, {\\left(t^{2} + 1\\right)}}\\right)}{\\pi {\\left(t^{2} + 1\\right)}}\\)</html>"
      ],
      "text/latex": [
       "$\\displaystyle \\frac{e^{\\left(-\\frac{1}{2} \\, a^{2} - \\frac{1}{2} \\, b^{2}\\right)} M\\left(1, \\frac{1}{2}, \\frac{{\\left(a t + b\\right)}^{2}}{2 \\, {\\left(t^{2} + 1\\right)}}\\right)}{\\pi {\\left(t^{2} + 1\\right)}}$"
      ],
      "text/plain": [
       "e^(-1/2*a^2 - 1/2*b^2)*hypergeometric_M(1, 1/2, 1/2*(a*t + b)^2/(t^2 + 1))/(pi*(t^2 + 1))"
      ]
     },
     "metadata": {},
     "output_type": "display_data"
    }
   ],
   "source": [
    "# Individual terms for f_T according to Thm 3\n",
    "f_k(t) = exp(-(a^2+b^2)/2)/(pi*(1+t^2))\n",
    "q = (b + a*t)/sqrt(1+t^2)\n",
    "M(a,b,z) = hypergeometric_M(a,b,z)\n",
    "# definition of f_T\n",
    "f_T(t) = f_k(t)*M(1,1/2, q^2/2)\n",
    "show(f_T(t))"
   ]
  },
  {
   "cell_type": "code",
   "execution_count": 3,
   "metadata": {
    "execution": {
     "iopub.execute_input": "2024-11-10T20:07:31.036906Z",
     "iopub.status.busy": "2024-11-10T20:07:31.036208Z",
     "iopub.status.idle": "2024-11-10T20:07:31.579981Z",
     "shell.execute_reply": "2024-11-10T20:07:31.579045Z",
     "shell.execute_reply.started": "2024-11-10T20:07:31.036878Z"
    }
   },
   "outputs": [
    {
     "data": {
      "text/html": [
       "<html>\\(\\displaystyle \\frac{\\sqrt{\\pi} {\\left(i \\, a t + i \\, b\\right)} \\operatorname{erf}\\left(\\frac{\\sqrt{2} {\\left(i \\, a t + i \\, b\\right)}}{2 \\, \\sqrt{-t^{2} - 1}}\\right) e^{\\left(\\frac{a^{2} t^{2} + 2 \\, a b t + b^{2}}{2 \\, {\\left(t^{2} + 1\\right)}}\\right)} + \\sqrt{2} \\sqrt{-t^{2} - 1}}{{\\left(\\sqrt{2} \\pi t^{2} e^{\\left(\\frac{1}{2} \\, a^{2} + \\frac{1}{2} \\, b^{2}\\right)} + \\sqrt{2} \\pi e^{\\left(\\frac{1}{2} \\, a^{2} + \\frac{1}{2} \\, b^{2}\\right)}\\right)} \\sqrt{-t^{2} - 1}}\\)</html>"
      ],
      "text/latex": [
       "$\\displaystyle \\frac{\\sqrt{\\pi} {\\left(i \\, a t + i \\, b\\right)} \\operatorname{erf}\\left(\\frac{\\sqrt{2} {\\left(i \\, a t + i \\, b\\right)}}{2 \\, \\sqrt{-t^{2} - 1}}\\right) e^{\\left(\\frac{a^{2} t^{2} + 2 \\, a b t + b^{2}}{2 \\, {\\left(t^{2} + 1\\right)}}\\right)} + \\sqrt{2} \\sqrt{-t^{2} - 1}}{{\\left(\\sqrt{2} \\pi t^{2} e^{\\left(\\frac{1}{2} \\, a^{2} + \\frac{1}{2} \\, b^{2}\\right)} + \\sqrt{2} \\pi e^{\\left(\\frac{1}{2} \\, a^{2} + \\frac{1}{2} \\, b^{2}\\right)}\\right)} \\sqrt{-t^{2} - 1}}$"
      ],
      "text/plain": [
       "(sqrt(pi)*(I*a*t + I*b)*erf(1/2*sqrt(2)*(I*a*t + I*b)/sqrt(-t^2 - 1))*e^(1/2*(a^2*t^2 + 2*a*b*t + b^2)/(t^2 + 1)) + sqrt(2)*sqrt(-t^2 - 1))/((sqrt(2)*pi*t^2*e^(1/2*a^2 + 1/2*b^2) + sqrt(2)*pi*e^(1/2*a^2 + 1/2*b^2))*sqrt(-t^2 - 1))"
      ]
     },
     "metadata": {},
     "output_type": "display_data"
    }
   ],
   "source": [
    "# another form of pdf\n",
    "show(f_T(t).simplify_hypergeometric().canonicalize_radical())"
   ]
  },
  {
   "cell_type": "markdown",
   "metadata": {},
   "source": [
    "# Plot for specific values"
   ]
  },
  {
   "cell_type": "code",
   "execution_count": 4,
   "metadata": {
    "execution": {
     "iopub.execute_input": "2024-11-10T20:07:31.581435Z",
     "iopub.status.busy": "2024-11-10T20:07:31.580871Z",
     "iopub.status.idle": "2024-11-10T20:07:31.592035Z",
     "shell.execute_reply": "2024-11-10T20:07:31.591093Z",
     "shell.execute_reply.started": "2024-11-10T20:07:31.581411Z"
    }
   },
   "outputs": [
    {
     "data": {
      "text/html": [
       "<html>\\(\\displaystyle t \\ {\\mapsto}\\ \\frac{e^{\\left(-\\frac{13}{8}\\right)} M\\left(1, \\frac{1}{2}, \\frac{{\\left(3 \\, t + 2\\right)}^{2}}{8 \\, {\\left(t^{2} + 1\\right)}}\\right)}{\\pi {\\left(t^{2} + 1\\right)}}\\)</html>"
      ],
      "text/latex": [
       "$\\displaystyle t \\ {\\mapsto}\\ \\frac{e^{\\left(-\\frac{13}{8}\\right)} M\\left(1, \\frac{1}{2}, \\frac{{\\left(3 \\, t + 2\\right)}^{2}}{8 \\, {\\left(t^{2} + 1\\right)}}\\right)}{\\pi {\\left(t^{2} + 1\\right)}}$"
      ],
      "text/plain": [
       "t |--> e^(-13/8)*hypergeometric_M(1, 1/2, 1/8*(3*t + 2)^2/(t^2 + 1))/(pi*(t^2 + 1))"
      ]
     },
     "metadata": {},
     "output_type": "display_data"
    }
   ],
   "source": [
    "# specific values from the preprint\n",
    "a_val, b_val = 3/2, 1\n",
    "values = [a == a_val, b == b_val]\n",
    "fT(t) = f_T(t).subs(values)\n",
    "fT.show()"
   ]
  },
  {
   "cell_type": "code",
   "execution_count": 5,
   "metadata": {
    "execution": {
     "iopub.execute_input": "2024-11-10T20:07:31.593153Z",
     "iopub.status.busy": "2024-11-10T20:07:31.592561Z",
     "iopub.status.idle": "2024-11-10T20:07:32.579574Z",
     "shell.execute_reply": "2024-11-10T20:07:32.578407Z",
     "shell.execute_reply.started": "2024-11-10T20:07:31.593128Z"
    }
   },
   "outputs": [],
   "source": [
    "# Layout of the plots\n",
    "import matplotlib.pyplot as plt\n",
    "plt.style.use('seaborn-v0_8-whitegrid')\n",
    "\n",
    "# Parameters for the graph\n",
    "color = 'blue'\n",
    "graphTitle = f'Density function of the ratio: ${str(values).replace('==','=')}$'\n",
    "legendTitle = 'PDF of $T$'\n",
    "xmin, xmax = -4.5, 7.5\n",
    "gf = plot([], figsize=(8, 5), title=graphTitle, frame=True)"
   ]
  },
  {
   "cell_type": "code",
   "execution_count": 6,
   "metadata": {
    "execution": {
     "iopub.execute_input": "2024-11-10T20:07:32.581188Z",
     "iopub.status.busy": "2024-11-10T20:07:32.580398Z",
     "iopub.status.idle": "2024-11-10T20:07:33.882267Z",
     "shell.execute_reply": "2024-11-10T20:07:33.880273Z",
     "shell.execute_reply.started": "2024-11-10T20:07:32.581145Z"
    }
   },
   "outputs": [
    {
     "data": {
      "image/png": "[encoded data removed]",
      "text/plain": [
       "Graphics object consisting of 1 graphics primitive"
      ]
     },
     "execution_count": 6,
     "metadata": {},
     "output_type": "execute_result"
    }
   ],
   "source": [
    "# plot of fT\n",
    "gf+= plot(fT(t), (t, xmin, xmax), color='blue',legend_label=legendTitle)\n",
    "gf"
   ]
  }
 ],
 "metadata": {
  "hide_input": false,
  "kernelspec": {
   "display_name": "Python 3 (ipykernel)",
   "language": "python",
   "name": "python3"
  },
  "language_info": {
   "codemirror_mode": {
    "name": "ipython",
    "version": 3
   },
   "file_extension": ".py",
   "mimetype": "text/x-python",
   "name": "python",
   "nbconvert_exporter": "python",
   "pygments_lexer": "ipython3",
   "version": "3.12.6"
  },
  "varInspector": {
   "cols": {
    "lenName": 16,
    "lenType": 16,
    "lenVar": 40
   },
   "kernels_config": {
    "python": {
     "delete_cmd_postfix": "",
     "delete_cmd_prefix": "del ",
     "library": "var_list.py",
     "varRefreshCmd": "print(var_dic_list())"
    },
    "r": {
     "delete_cmd_postfix": ") ",
     "delete_cmd_prefix": "rm(",
     "library": "var_list.r",
     "varRefreshCmd": "cat(var_dic_list()) "
    }
   },
   "types_to_exclude": [
    "module",
    "function",
    "builtin_function_or_method",
    "instance",
    "_Feature"
   ],
   "window_display": false
  }
 },
 "nbformat": 4,
 "nbformat_minor": 4
}
