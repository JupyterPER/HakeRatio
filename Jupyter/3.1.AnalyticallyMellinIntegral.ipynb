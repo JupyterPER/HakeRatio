{
 "cells": [
  {
   "attachments": {},
   "cell_type": "markdown",
   "id": "96517745-c2af-4f49-b638-d716bca3057b",
   "metadata": {},
   "source": [
    "**Authors:** Jozef Hanč, Martina Hančová  <br> *[Faculty of Science](https://www.upjs.sk/en/faculty-of-science/?prefferedLang=EN), P. J. Šafárik University in Košice, Slovakia* <br> emails: [jozef.hanc@upjs.sk](mailto:jozef.hanc@upjs.sk)\n",
    "***\n",
    "\n",
    "# <font color = brown, size=6> Mellin convolution integral of Hake ratio - analytically \n",
    "</font>\n",
    "\n",
    "<font size=5> Computational tools: </font>  **<font size=5>SageMath</font>**  \n",
    "\n",
    "---\n"
   ]
  },
  {
   "cell_type": "markdown",
   "id": "01bd965a-5a48-4b5b-a9a6-58bb686b80e8",
   "metadata": {},
   "source": [
    "***\n",
    "#### Mellin integral transform and Invetion Theorem\n",
    "\n",
    "$$\n",
    "\\mathcal{M}_s\\left\\{f(x)\\right\\}\\equiv\\int_0^{\\infty} x^{s-1} f(x) d x\n",
    "$$ \n",
    "\n",
    "$$\n",
    "f(x)=\\frac{1}{2 \\pi i} \\int_{c-i \\infty}^{c+i \\infty} x^{-s} \\mathcal{M}_s\\left\\{f(x)\\right\\}d s .\n",
    "$$\n",
    "\n",
    "\n",
    "Although that Mellin transform is defined on non-negative real\n",
    "numbers, the approach can be extended to the whole real line. \n",
    "\n",
    "***\n",
    "#### Mellin convolution integral (Epstein)\n",
    "\n",
    "If $X$ and $Y$ are independent random variables with continuous pdf's $f(x)$ and $g(x)$, then the pdf's of the random variables $XY, X/Y$ are expressible as:\n",
    "\n",
    "$$\\begin{aligned} \n",
    "& (f \\odot g)(t)=\\int_{-\\infty}^{+\\infty} f(x) g\\left(\\frac{t}{x}\\right) \\frac{1}{|x|} d x, \\\\ \n",
    "& (f \\oslash g)(t)=\\int_{-\\infty}^{+\\infty} f(x t) g(x)|x| d x=\\int_{-\\infty}^{+\\infty} f(x) g\\left(\\frac{x}{t}\\right) \\frac{|x|}{t^2} d x .\n",
    "\\end{aligned}$$\n",
    "***\n",
    "**Proof of the analytic form of the integral**\n",
    "\n",
    "We'll compute each convolution expression for T = (a+X)/(b+Y) ratio of i.r.v's using the probability density functions (PDFs) of two normal distributions $a+X \\sim N(a, 1)$ and $b+Y \\sim N(b, 1)$.\n",
    "\n",
    "- $f(x) = \\frac{1}{\\sqrt{2\\pi}} e^{-\\frac{(x-a)^2}{2}}$\n",
    "- $g(x) = \\frac{1}{\\sqrt{2\\pi}} e^{-\\frac{(x-b)^2}{2}}$\n",
    "\n",
    "Substituting pdfs into the Mellin convolution, we get:\n",
    "\n",
    "$$\n",
    "(f \\oslash g)(t) = \\frac{1}{2\\pi} \\int_{-\\infty}^{\\infty} e^{-\\frac{(xt-a)^2 + (x-b)^2}{2}} |x| \\, dx\n",
    "$$\n",
    "\n",
    "\n",
    "$$\n",
    "(f \\oslash g)(t) = \\frac{1}{2\\pi t^2} \\int_{-\\infty}^{+\\infty} e^{-\\frac{(x-a)^2 + \\left(\\frac{x}{t}-b\\right)^2}{2}} |x| \\, dx\n",
    "$$\n",
    "\n",
    "Substitution  $x=\\dfrac{\\sqrt{2} y}{\\sqrt{1+t^2}}$ into the first expression\n",
    "\n",
    "$$\n",
    "(f \\oslash g)(t)  = \\frac{1}{\\pi\\left(1+t^2\\right)} e^{-\\frac{1}{2}\\left(a^2+b^2\\right)} \\int_{-\\infty}^{\\infty} e^{-y^2+\\frac{at+b}{\\sqrt{t^2+1}}\\sqrt{2}y} \\cdot|y| \\, dy\n",
    "$$\n",
    "\n",
    "$$\n",
    "(f \\oslash g)(t)  = \\frac{1}{\\pi\\left(1+t^2\\right)} e^{-\\frac{1}{2}\\left(a^2+b^2\\right)} \\int_{-\\infty}^{\\infty} e^{-y^2+\\sqrt{2}qy} \\cdot|y| \\, dy \\qquad q = \\frac{at+b}{\\sqrt{t^2+1}}\n",
    "$$\n",
    "\n",
    "Splitting the integral at zero and using Mellin transform \n",
    "\n",
    "\n",
    "$$\n",
    "(f \\oslash g)(t)  = \\frac{1}{\\pi\\left(1+t^2\\right)} e^{-\\frac{1}{2}\\left(a^2+b^2\\right)} \n",
    "\\left(\\mathcal{M}_2\\left\\{e^{-y^2+\\sqrt{2}qy}\\right\\} + \\mathcal{M}_2\\left\\{e^{-y^2-\\sqrt{2}qy}\\right\\}\\right)\n",
    "$$\n",
    "\n",
    "***\n",
    "There are two integral expresions for the Mellin transform\n",
    "\n",
    "$$\\mathcal{M}_2\\left\\{e^{-y^2\\pm\\sqrt{2}qy}\\right\\} \\equiv \\int_0^{\\infty} x^{2-1} e^{-x^2 \\pm \\sqrt{2} q x} d x = \\frac{1}{2} \\pm \\frac{q}{2\\sqrt{2}} \\sqrt{\\pi} e^{\\frac{q^2}{2}} \\left(1 \\mp \\operatorname{erf}\\left(\\frac{q}{\\sqrt{2}}\\right)\\right) $$\n",
    "\n",
    "$$ \\mathcal{M}_2\\left\\{e^{-y^2\\pm\\sqrt{2}qy}\\right\\}  = \\frac{1}{2} \\operatorname{exp}\\left(\\frac{q^2}{4}\\right) \\cdot D_{-2}[\\mp q] = H_{-2}\\left( \\pm \\frac{q}{\\sqrt{2}}\\right)$$\n",
    "\n",
    "$D_\\nu$ is parabolic cylinder function and $H_\\nu$ Hermite function\n",
    "\n",
    "***\n",
    "Using the relation\n",
    "$$H_{-2}\\left(\\frac{q}{\\sqrt{2}}\\right)+H_{-2}\\left(-\\frac{q}{\\sqrt{2}}\\right)={}_{1} F_{1}\\left(\\begin{matrix} {1} \\\\ {1/2}\\end{matrix}\\, ; \\frac{q^2}{2}\\right)$$\n",
    "\n",
    "we obtain the desired result:\n",
    "\n",
    "$$\n",
    "f_T(t) = \\frac{\\exp\\left(-\\frac{a^2 + b^2}{2}\\right)}{\\pi (1 + t^2)}{}_1F_1\\left(\\begin{array}{c}\n",
    "1 \\\\\n",
    "1 / 2\n",
    "\\end{array}; \\frac{(b + a t)^2}{2(1 + t^2)}\\right)\n",
    "$$\n"
   ]
  },
  {
   "cell_type": "markdown",
   "id": "cfea2977-80f2-469e-905c-78a18a1c583b",
   "metadata": {},
   "source": [
    "## CAS proof"
   ]
  },
  {
   "cell_type": "code",
   "execution_count": 1,
   "id": "eecb8ea2-60e4-40a3-bb49-0274338f3e5b",
   "metadata": {
    "execution": {
     "iopub.execute_input": "2024-11-18T07:22:31.519437Z",
     "iopub.status.busy": "2024-11-18T07:22:31.518672Z",
     "iopub.status.idle": "2024-11-18T07:22:31.553176Z",
     "shell.execute_reply": "2024-11-18T07:22:31.548717Z",
     "shell.execute_reply.started": "2024-11-18T07:22:31.519393Z"
    }
   },
   "outputs": [],
   "source": [
    "%display latex #plain"
   ]
  },
  {
   "cell_type": "code",
   "execution_count": 2,
   "id": "99a0341f-65bd-42d0-8f63-e2da6283a5f7",
   "metadata": {
    "execution": {
     "iopub.execute_input": "2024-11-18T07:22:31.566433Z",
     "iopub.status.busy": "2024-11-18T07:22:31.565472Z",
     "iopub.status.idle": "2024-11-18T07:22:33.769566Z",
     "shell.execute_reply": "2024-11-18T07:22:33.768718Z",
     "shell.execute_reply.started": "2024-11-18T07:22:31.566366Z"
    }
   },
   "outputs": [
    {
     "data": {
      "text/html": [
       "<html>\\(\\displaystyle \\frac{e^{\\left(-\\frac{1}{2} \\, a^{2} - \\frac{1}{2} \\, b^{2}\\right)}}{\\pi {\\left(t^{2} + 1\\right)}}\\)</html>"
      ],
      "text/latex": [
       "$\\displaystyle \\frac{e^{\\left(-\\frac{1}{2} \\, a^{2} - \\frac{1}{2} \\, b^{2}\\right)}}{\\pi {\\left(t^{2} + 1\\right)}}$"
      ],
      "text/plain": [
       "e^(-1/2*a^2 - 1/2*b^2)/(pi*(t^2 + 1))"
      ]
     },
     "execution_count": 2,
     "metadata": {},
     "output_type": "execute_result"
    }
   ],
   "source": [
    "x, t, C = var('x,t,C', domain='real')\n",
    "a, b = var('a,b', domain='positive')\n",
    "C = 1/(pi*(t^2+1)*exp((a^2+b^2)/2))\n",
    "C"
   ]
  },
  {
   "cell_type": "code",
   "execution_count": 3,
   "id": "4884ca36-90ac-45a0-8286-037189b8ed37",
   "metadata": {
    "execution": {
     "iopub.execute_input": "2024-11-18T07:22:33.773733Z",
     "iopub.status.busy": "2024-11-18T07:22:33.773081Z",
     "iopub.status.idle": "2024-11-18T07:22:33.790127Z",
     "shell.execute_reply": "2024-11-18T07:22:33.787868Z",
     "shell.execute_reply.started": "2024-11-18T07:22:33.773702Z"
    },
    "scrolled": true
   },
   "outputs": [
    {
     "data": {
      "text/html": [
       "<html>\\(\\displaystyle \\int_{-\\infty}^{+\\infty} {\\left| x \\right|} e^{\\left(\\sqrt{2} q x - x^{2}\\right)}\\,{d x}\\)</html>"
      ],
      "text/latex": [
       "$\\displaystyle \\int_{-\\infty}^{+\\infty} {\\left| x \\right|} e^{\\left(\\sqrt{2} q x - x^{2}\\right)}\\,{d x}$"
      ],
      "text/plain": [
       "integrate(abs(x)*e^(sqrt(2)*q*x - x^2), x, -Infinity, +Infinity)"
      ]
     },
     "execution_count": 3,
     "metadata": {},
     "output_type": "execute_result"
    }
   ],
   "source": [
    "q = var('q', domain='positive')\n",
    "integral(exp(-x^2+sqrt(2)*q*x)*abs(x),x,-oo,oo, hold=True)"
   ]
  },
  {
   "cell_type": "code",
   "execution_count": 4,
   "id": "f25bf4ed-e3ed-4d5c-82d0-648e1cf52e6b",
   "metadata": {
    "collapsed": true,
    "execution": {
     "iopub.execute_input": "2024-11-18T07:22:33.791704Z",
     "iopub.status.busy": "2024-11-18T07:22:33.790955Z",
     "iopub.status.idle": "2024-11-18T07:22:34.350372Z",
     "shell.execute_reply": "2024-11-18T07:22:34.349399Z",
     "shell.execute_reply.started": "2024-11-18T07:22:33.791669Z"
    },
    "jupyter": {
     "outputs_hidden": true
    },
    "scrolled": true
   },
   "outputs": [
    {
     "name": "stderr",
     "output_type": "stream",
     "text": [
      "Warning, integration of abs or sign assumes constant sign by intervals (correct if the argument is real):\n",
      "Check [abs(sageVARx)]\n",
      "No checks were made for singular points of antiderivative (-sageVARq*sqrt(pi)*erf(-sageVARq*exp(ln(2)/2)/2)*exp(ln(2)/2)*exp(sageVARq^2*exp(ln(2)/2)^2/4)+2)/4*sign(sageVARx)+1/2*(-sign(sageVARx)*exp(-sageVARx^2+sageVARq*sageVARx*exp(1/2*ln(2)))+1/2*sqrt(pi)*sageVARq*erf(-1/2*sageVARq*exp(1/2*ln(2))+sageVARx)*sign(sageVARx)*exp(1/2*ln(2))*exp(1/4*sageVARq^2*exp(1/2*ln(2))^2)) for definite integration in [-infinity,+infinity]\n"
     ]
    }
   ],
   "source": [
    "IMel = integral(exp(-x^2+sqrt(2)*q*x)*abs(x),x,-oo,oo).canonicalize_radical().expand()"
   ]
  },
  {
   "cell_type": "code",
   "execution_count": 5,
   "id": "1ce00c31-7ee4-48d4-9fa6-d767f629096c",
   "metadata": {
    "execution": {
     "iopub.execute_input": "2024-11-18T07:22:34.352018Z",
     "iopub.status.busy": "2024-11-18T07:22:34.351147Z",
     "iopub.status.idle": "2024-11-18T07:22:34.364373Z",
     "shell.execute_reply": "2024-11-18T07:22:34.363151Z",
     "shell.execute_reply.started": "2024-11-18T07:22:34.351989Z"
    },
    "jupyter": {
     "source_hidden": true
    }
   },
   "outputs": [
    {
     "data": {
      "text/html": [
       "<html>\\(\\displaystyle \\frac{1}{2} \\, \\sqrt{2} \\sqrt{\\pi} q \\operatorname{erf}\\left(\\frac{1}{2} \\, \\sqrt{2} q\\right) e^{\\left(\\frac{1}{2} \\, q^{2}\\right)} + 1\\)</html>"
      ],
      "text/latex": [
       "$\\displaystyle \\frac{1}{2} \\, \\sqrt{2} \\sqrt{\\pi} q \\operatorname{erf}\\left(\\frac{1}{2} \\, \\sqrt{2} q\\right) e^{\\left(\\frac{1}{2} \\, q^{2}\\right)} + 1$"
      ],
      "text/plain": [
       "1/2*sqrt(2)*sqrt(pi)*q*erf(1/2*sqrt(2)*q)*e^(1/2*q^2) + 1"
      ]
     },
     "execution_count": 5,
     "metadata": {},
     "output_type": "execute_result"
    }
   ],
   "source": [
    "IMel"
   ]
  },
  {
   "cell_type": "markdown",
   "id": "bdd36bac-7767-4ecc-8bc9-b81db22d137f",
   "metadata": {},
   "source": [
    "# Equivalence to known analytic forms"
   ]
  },
  {
   "cell_type": "markdown",
   "id": "5d6dfe5e-b66e-4d80-b2f0-30d892b81b91",
   "metadata": {},
   "source": [
    "## AF - Marsaglia 2006\n",
    "- Marsaglia, George. 2006. “Ratios of Normal Variables.” Journal of Statistical Software 16 (4). https://doi.org/10.18637/jss.v016.i04.\n",
    "\n",
    "\n",
    "$$\n",
    "f_T(t) = \\frac{\\exp\\left(-\\frac{a^2 + b^2}{2}\\right)}{\\pi (1 + t^2)}\\left( 1 + q \\exp\\left(\\frac{q^2}{2}\\right) \\int_0^q \\exp\\left(-\\frac{x^2}{2}\\right) \\, dx \\right), \\quad q = \\frac{b + a t}{\\sqrt{1 + t^2}}\n",
    "$$"
   ]
  },
  {
   "cell_type": "code",
   "execution_count": 6,
   "id": "cef20077-7e65-4863-b75c-6062ab370136",
   "metadata": {
    "execution": {
     "iopub.execute_input": "2024-11-18T07:22:34.366399Z",
     "iopub.status.busy": "2024-11-18T07:22:34.365540Z",
     "iopub.status.idle": "2024-11-18T07:22:34.390483Z",
     "shell.execute_reply": "2024-11-18T07:22:34.388700Z",
     "shell.execute_reply.started": "2024-11-18T07:22:34.366352Z"
    }
   },
   "outputs": [
    {
     "data": {
      "text/html": [
       "<html>\\(\\displaystyle q e^{\\left(\\frac{1}{2} \\, q^{2}\\right)} \\int_{0}^{q} e^{\\left(-\\frac{1}{2} \\, x^{2}\\right)}\\,{d x} + 1\\)</html>"
      ],
      "text/latex": [
       "$\\displaystyle q e^{\\left(\\frac{1}{2} \\, q^{2}\\right)} \\int_{0}^{q} e^{\\left(-\\frac{1}{2} \\, x^{2}\\right)}\\,{d x} + 1$"
      ],
      "text/plain": [
       "q*e^(1/2*q^2)*integrate(e^(-1/2*x^2), x, 0, q) + 1"
      ]
     },
     "execution_count": 6,
     "metadata": {},
     "output_type": "execute_result"
    }
   ],
   "source": [
    "1 + q * exp(1/2 * q^2) * integral(exp(-1/2 * x^2), x, 0, q, hold=True)"
   ]
  },
  {
   "cell_type": "code",
   "execution_count": 7,
   "id": "ebdba710-594e-44f0-98d5-bf1c7637424e",
   "metadata": {
    "execution": {
     "iopub.execute_input": "2024-11-18T07:22:34.392683Z",
     "iopub.status.busy": "2024-11-18T07:22:34.391806Z",
     "iopub.status.idle": "2024-11-18T07:22:34.431003Z",
     "shell.execute_reply": "2024-11-18T07:22:34.428348Z",
     "shell.execute_reply.started": "2024-11-18T07:22:34.392626Z"
    }
   },
   "outputs": [
    {
     "data": {
      "text/html": [
       "<html>\\(\\displaystyle \\frac{1}{2} \\, \\sqrt{2} \\sqrt{\\pi} q \\operatorname{erf}\\left(\\frac{1}{2} \\, \\sqrt{2} q\\right) e^{\\left(\\frac{1}{2} \\, q^{2}\\right)} + 1\\)</html>"
      ],
      "text/latex": [
       "$\\displaystyle \\frac{1}{2} \\, \\sqrt{2} \\sqrt{\\pi} q \\operatorname{erf}\\left(\\frac{1}{2} \\, \\sqrt{2} q\\right) e^{\\left(\\frac{1}{2} \\, q^{2}\\right)} + 1$"
      ],
      "text/plain": [
       "1/2*sqrt(2)*sqrt(pi)*q*erf(1/2*sqrt(2)*q)*e^(1/2*q^2) + 1"
      ]
     },
     "execution_count": 7,
     "metadata": {},
     "output_type": "execute_result"
    }
   ],
   "source": [
    "IMars = 1 + q * exp(1/2 * q^2) * integral(exp(-1/2 * x^2), x, 0, q)\n",
    "IMars"
   ]
  },
  {
   "cell_type": "code",
   "execution_count": 8,
   "id": "1646a8e7-ab01-460f-8ead-f4c50d2e5e4c",
   "metadata": {
    "execution": {
     "iopub.execute_input": "2024-11-18T07:22:34.434799Z",
     "iopub.status.busy": "2024-11-18T07:22:34.432285Z",
     "iopub.status.idle": "2024-11-18T07:22:34.445383Z",
     "shell.execute_reply": "2024-11-18T07:22:34.444416Z",
     "shell.execute_reply.started": "2024-11-18T07:22:34.434750Z"
    }
   },
   "outputs": [
    {
     "data": {
      "text/html": [
       "<html>\\(\\displaystyle 0\\)</html>"
      ],
      "text/latex": [
       "$\\displaystyle 0$"
      ],
      "text/plain": [
       "0"
      ]
     },
     "execution_count": 8,
     "metadata": {},
     "output_type": "execute_result"
    }
   ],
   "source": [
    "IMars - IMel"
   ]
  },
  {
   "cell_type": "markdown",
   "id": "7f60a3e2-7600-4514-808a-a98e186e0c5f",
   "metadata": {},
   "source": [
    "## AF - Pham-Gia 2007\n",
    "Pham-Gia 2007\n",
    "- Pham-Gia, T., Turkkan, N., & Marchand, E. (2007). Density of the Ratio of Two Normal Random Variables and Applications. Communications in Statistics - Theory and Methods, 35(9), 1569–1591. https://doi.org/10.1080/03610920600683689\n",
    "\n",
    "$$\\left( 1 + q \\exp\\left(\\frac{q^2}{2}\\right) \\int_0^q \\exp\\left(-\\frac{x^2}{2}\\right) \\, dx \\right)= {}_1F_1\\left(\\begin{array}{c}\n",
    "1 \\\\\n",
    "1 / 2\n",
    "\\end{array}; \\frac{q^2}{2}\\right)$$\n",
    "\n",
    "$$\n",
    "f_T(t) = \\frac{\\exp\\left(-\\frac{a^2 + b^2}{2}\\right)}{\\pi (1 + t^2)}{}_1F_1\\left(\\begin{array}{c}\n",
    "1 \\\\\n",
    "1 / 2\n",
    "\\end{array}; \\frac{q^2}{2}\\right), \\quad q = \\frac{b + a t}{\\sqrt{1 + t^2}}\n",
    "$$\n"
   ]
  },
  {
   "cell_type": "code",
   "execution_count": 9,
   "id": "1041f79d-cf1f-4575-8308-5b156f6718eb",
   "metadata": {
    "execution": {
     "iopub.execute_input": "2024-11-18T07:22:34.449271Z",
     "iopub.status.busy": "2024-11-18T07:22:34.447055Z",
     "iopub.status.idle": "2024-11-18T07:22:34.457048Z",
     "shell.execute_reply": "2024-11-18T07:22:34.456072Z",
     "shell.execute_reply.started": "2024-11-18T07:22:34.449168Z"
    }
   },
   "outputs": [],
   "source": [
    "M(a,b,z) = hypergeometric_M(a,b,z)"
   ]
  },
  {
   "cell_type": "code",
   "execution_count": 10,
   "id": "0367b238-351f-4f2d-93bc-7439028e0e5a",
   "metadata": {
    "execution": {
     "iopub.execute_input": "2024-11-18T07:22:34.458284Z",
     "iopub.status.busy": "2024-11-18T07:22:34.457640Z",
     "iopub.status.idle": "2024-11-18T07:22:34.478803Z",
     "shell.execute_reply": "2024-11-18T07:22:34.477045Z",
     "shell.execute_reply.started": "2024-11-18T07:22:34.458251Z"
    }
   },
   "outputs": [
    {
     "data": {
      "text/html": [
       "<html>\\(\\displaystyle \\,_1F_1\\left(\\begin{matrix} 1 \\\\ \\frac{1}{2} \\end{matrix} ; \\frac{1}{2} \\, q^{2} \\right)\\)</html>"
      ],
      "text/latex": [
       "$\\displaystyle \\,_1F_1\\left(\\begin{matrix} 1 \\\\ \\frac{1}{2} \\end{matrix} ; \\frac{1}{2} \\, q^{2} \\right)$"
      ],
      "text/plain": [
       "hypergeometric((1,), (1/2,), 1/2*q^2)"
      ]
     },
     "execution_count": 10,
     "metadata": {},
     "output_type": "execute_result"
    }
   ],
   "source": [
    "M(1,1/2, q^2/2).generalized()"
   ]
  },
  {
   "cell_type": "code",
   "execution_count": 11,
   "id": "2dc9c767-0f8b-4ed2-b4e1-cbd32cfcb24a",
   "metadata": {
    "execution": {
     "iopub.execute_input": "2024-11-18T07:22:34.480202Z",
     "iopub.status.busy": "2024-11-18T07:22:34.479616Z",
     "iopub.status.idle": "2024-11-18T07:22:34.618315Z",
     "shell.execute_reply": "2024-11-18T07:22:34.614552Z",
     "shell.execute_reply.started": "2024-11-18T07:22:34.480174Z"
    }
   },
   "outputs": [
    {
     "data": {
      "text/html": [
       "<html>\\(\\displaystyle \\frac{1}{2} \\, \\sqrt{2} \\sqrt{\\pi} q \\operatorname{erf}\\left(\\frac{1}{2} \\, \\sqrt{2} q\\right) e^{\\left(\\frac{1}{2} \\, q^{2}\\right)} + 1\\)</html>"
      ],
      "text/latex": [
       "$\\displaystyle \\frac{1}{2} \\, \\sqrt{2} \\sqrt{\\pi} q \\operatorname{erf}\\left(\\frac{1}{2} \\, \\sqrt{2} q\\right) e^{\\left(\\frac{1}{2} \\, q^{2}\\right)} + 1$"
      ],
      "text/plain": [
       "1/2*sqrt(2)*sqrt(pi)*q*erf(1/2*sqrt(2)*q)*e^(1/2*q^2) + 1"
      ]
     },
     "execution_count": 11,
     "metadata": {},
     "output_type": "execute_result"
    }
   ],
   "source": [
    "IPham = M(1,1/2, q^2/2).simplify_hypergeometric().canonicalize_radical().expand()\n",
    "IPham"
   ]
  },
  {
   "cell_type": "code",
   "execution_count": 12,
   "id": "bbc8a336-8b2e-40de-8201-a2b4d1d6d5e2",
   "metadata": {
    "execution": {
     "iopub.execute_input": "2024-11-18T07:22:34.619720Z",
     "iopub.status.busy": "2024-11-18T07:22:34.619107Z",
     "iopub.status.idle": "2024-11-18T07:22:34.630524Z",
     "shell.execute_reply": "2024-11-18T07:22:34.626952Z",
     "shell.execute_reply.started": "2024-11-18T07:22:34.619690Z"
    }
   },
   "outputs": [
    {
     "data": {
      "text/html": [
       "<html>\\(\\displaystyle 0\\)</html>"
      ],
      "text/latex": [
       "$\\displaystyle 0$"
      ],
      "text/plain": [
       "0"
      ]
     },
     "execution_count": 12,
     "metadata": {},
     "output_type": "execute_result"
    }
   ],
   "source": [
    "IPham - IMel"
   ]
  },
  {
   "cell_type": "code",
   "execution_count": 13,
   "id": "efd0a379-bcf7-43dd-af5d-06315013fdef",
   "metadata": {
    "execution": {
     "iopub.execute_input": "2024-11-18T07:22:34.632605Z",
     "iopub.status.busy": "2024-11-18T07:22:34.631799Z",
     "iopub.status.idle": "2024-11-18T07:22:34.716708Z",
     "shell.execute_reply": "2024-11-18T07:22:34.715565Z",
     "shell.execute_reply.started": "2024-11-18T07:22:34.632568Z"
    }
   },
   "outputs": [
    {
     "data": {
      "text/html": [
       "<html>\\(\\displaystyle 0\\)</html>"
      ],
      "text/latex": [
       "$\\displaystyle 0$"
      ],
      "text/plain": [
       "0"
      ]
     },
     "execution_count": 13,
     "metadata": {},
     "output_type": "execute_result"
    }
   ],
   "source": [
    "(M(1,1/2, q^2/2) - IMel).simplify_hypergeometric().canonicalize_radical()"
   ]
  }
 ],
 "metadata": {
  "kernelspec": {
   "display_name": "SageMath 10.4",
   "language": "sage",
   "name": "sagemath"
  },
  "language_info": {
   "codemirror_mode": {
    "name": "ipython",
    "version": 3
   },
   "file_extension": ".py",
   "mimetype": "text/x-python",
   "name": "python",
   "nbconvert_exporter": "python",
   "pygments_lexer": "ipython3",
   "version": "3.12.6"
  }
 },
 "nbformat": 4,
 "nbformat_minor": 5
}
